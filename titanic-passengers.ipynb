{
 "cells": [
  {
   "cell_type": "code",
   "execution_count": 1,
   "id": "3ed7a34b",
   "metadata": {
    "_cell_guid": "b1076dfc-b9ad-4769-8c92-a6c4dae69d19",
    "_uuid": "8f2839f25d086af736a60e9eeb907d3b93b6e0e5",
    "execution": {
     "iopub.execute_input": "2022-06-24T01:52:18.572026Z",
     "iopub.status.busy": "2022-06-24T01:52:18.571200Z",
     "iopub.status.idle": "2022-06-24T01:52:19.667750Z",
     "shell.execute_reply": "2022-06-24T01:52:19.666937Z"
    },
    "papermill": {
     "duration": 1.116619,
     "end_time": "2022-06-24T01:52:19.670165",
     "exception": false,
     "start_time": "2022-06-24T01:52:18.553546",
     "status": "completed"
    },
    "tags": []
   },
   "outputs": [
    {
     "name": "stdout",
     "output_type": "stream",
     "text": [
      "/kaggle/input/titanic/train.csv\n",
      "/kaggle/input/titanic/test.csv\n",
      "/kaggle/input/titanic/gender_submission.csv\n"
     ]
    }
   ],
   "source": [
    "import numpy as np # linear algebra\n",
    "import pandas as pd # data processing, CSV file I/O (e.g. pd.read_csv)\n",
    "import matplotlib.pyplot as plt\n",
    "import seaborn as sns\n",
    "\n",
    "import os\n",
    "for dirname, _, filenames in os.walk('/kaggle/input'):\n",
    "    for filename in filenames:\n",
    "        print(os.path.join(dirname, filename))"
   ]
  },
  {
   "cell_type": "code",
   "execution_count": 2,
   "id": "55b825a3",
   "metadata": {
    "execution": {
     "iopub.execute_input": "2022-06-24T01:52:19.700438Z",
     "iopub.status.busy": "2022-06-24T01:52:19.700043Z",
     "iopub.status.idle": "2022-06-24T01:52:19.742157Z",
     "shell.execute_reply": "2022-06-24T01:52:19.741505Z"
    },
    "papermill": {
     "duration": 0.059339,
     "end_time": "2022-06-24T01:52:19.743898",
     "exception": false,
     "start_time": "2022-06-24T01:52:19.684559",
     "status": "completed"
    },
    "tags": []
   },
   "outputs": [
    {
     "data": {
      "text/html": [
       "<div>\n",
       "<style scoped>\n",
       "    .dataframe tbody tr th:only-of-type {\n",
       "        vertical-align: middle;\n",
       "    }\n",
       "\n",
       "    .dataframe tbody tr th {\n",
       "        vertical-align: top;\n",
       "    }\n",
       "\n",
       "    .dataframe thead th {\n",
       "        text-align: right;\n",
       "    }\n",
       "</style>\n",
       "<table border=\"1\" class=\"dataframe\">\n",
       "  <thead>\n",
       "    <tr style=\"text-align: right;\">\n",
       "      <th></th>\n",
       "      <th>PassengerId</th>\n",
       "      <th>Survived</th>\n",
       "      <th>Pclass</th>\n",
       "      <th>Name</th>\n",
       "      <th>Sex</th>\n",
       "      <th>Age</th>\n",
       "      <th>SibSp</th>\n",
       "      <th>Parch</th>\n",
       "      <th>Ticket</th>\n",
       "      <th>Fare</th>\n",
       "      <th>Cabin</th>\n",
       "      <th>Embarked</th>\n",
       "    </tr>\n",
       "  </thead>\n",
       "  <tbody>\n",
       "    <tr>\n",
       "      <th>0</th>\n",
       "      <td>1</td>\n",
       "      <td>0</td>\n",
       "      <td>3</td>\n",
       "      <td>Braund, Mr. Owen Harris</td>\n",
       "      <td>male</td>\n",
       "      <td>22.0</td>\n",
       "      <td>1</td>\n",
       "      <td>0</td>\n",
       "      <td>A/5 21171</td>\n",
       "      <td>7.2500</td>\n",
       "      <td>NaN</td>\n",
       "      <td>S</td>\n",
       "    </tr>\n",
       "    <tr>\n",
       "      <th>1</th>\n",
       "      <td>2</td>\n",
       "      <td>1</td>\n",
       "      <td>1</td>\n",
       "      <td>Cumings, Mrs. John Bradley (Florence Briggs Th...</td>\n",
       "      <td>female</td>\n",
       "      <td>38.0</td>\n",
       "      <td>1</td>\n",
       "      <td>0</td>\n",
       "      <td>PC 17599</td>\n",
       "      <td>71.2833</td>\n",
       "      <td>C85</td>\n",
       "      <td>C</td>\n",
       "    </tr>\n",
       "    <tr>\n",
       "      <th>2</th>\n",
       "      <td>3</td>\n",
       "      <td>1</td>\n",
       "      <td>3</td>\n",
       "      <td>Heikkinen, Miss. Laina</td>\n",
       "      <td>female</td>\n",
       "      <td>26.0</td>\n",
       "      <td>0</td>\n",
       "      <td>0</td>\n",
       "      <td>STON/O2. 3101282</td>\n",
       "      <td>7.9250</td>\n",
       "      <td>NaN</td>\n",
       "      <td>S</td>\n",
       "    </tr>\n",
       "    <tr>\n",
       "      <th>3</th>\n",
       "      <td>4</td>\n",
       "      <td>1</td>\n",
       "      <td>1</td>\n",
       "      <td>Futrelle, Mrs. Jacques Heath (Lily May Peel)</td>\n",
       "      <td>female</td>\n",
       "      <td>35.0</td>\n",
       "      <td>1</td>\n",
       "      <td>0</td>\n",
       "      <td>113803</td>\n",
       "      <td>53.1000</td>\n",
       "      <td>C123</td>\n",
       "      <td>S</td>\n",
       "    </tr>\n",
       "    <tr>\n",
       "      <th>4</th>\n",
       "      <td>5</td>\n",
       "      <td>0</td>\n",
       "      <td>3</td>\n",
       "      <td>Allen, Mr. William Henry</td>\n",
       "      <td>male</td>\n",
       "      <td>35.0</td>\n",
       "      <td>0</td>\n",
       "      <td>0</td>\n",
       "      <td>373450</td>\n",
       "      <td>8.0500</td>\n",
       "      <td>NaN</td>\n",
       "      <td>S</td>\n",
       "    </tr>\n",
       "    <tr>\n",
       "      <th>...</th>\n",
       "      <td>...</td>\n",
       "      <td>...</td>\n",
       "      <td>...</td>\n",
       "      <td>...</td>\n",
       "      <td>...</td>\n",
       "      <td>...</td>\n",
       "      <td>...</td>\n",
       "      <td>...</td>\n",
       "      <td>...</td>\n",
       "      <td>...</td>\n",
       "      <td>...</td>\n",
       "      <td>...</td>\n",
       "    </tr>\n",
       "    <tr>\n",
       "      <th>886</th>\n",
       "      <td>887</td>\n",
       "      <td>0</td>\n",
       "      <td>2</td>\n",
       "      <td>Montvila, Rev. Juozas</td>\n",
       "      <td>male</td>\n",
       "      <td>27.0</td>\n",
       "      <td>0</td>\n",
       "      <td>0</td>\n",
       "      <td>211536</td>\n",
       "      <td>13.0000</td>\n",
       "      <td>NaN</td>\n",
       "      <td>S</td>\n",
       "    </tr>\n",
       "    <tr>\n",
       "      <th>887</th>\n",
       "      <td>888</td>\n",
       "      <td>1</td>\n",
       "      <td>1</td>\n",
       "      <td>Graham, Miss. Margaret Edith</td>\n",
       "      <td>female</td>\n",
       "      <td>19.0</td>\n",
       "      <td>0</td>\n",
       "      <td>0</td>\n",
       "      <td>112053</td>\n",
       "      <td>30.0000</td>\n",
       "      <td>B42</td>\n",
       "      <td>S</td>\n",
       "    </tr>\n",
       "    <tr>\n",
       "      <th>888</th>\n",
       "      <td>889</td>\n",
       "      <td>0</td>\n",
       "      <td>3</td>\n",
       "      <td>Johnston, Miss. Catherine Helen \"Carrie\"</td>\n",
       "      <td>female</td>\n",
       "      <td>NaN</td>\n",
       "      <td>1</td>\n",
       "      <td>2</td>\n",
       "      <td>W./C. 6607</td>\n",
       "      <td>23.4500</td>\n",
       "      <td>NaN</td>\n",
       "      <td>S</td>\n",
       "    </tr>\n",
       "    <tr>\n",
       "      <th>889</th>\n",
       "      <td>890</td>\n",
       "      <td>1</td>\n",
       "      <td>1</td>\n",
       "      <td>Behr, Mr. Karl Howell</td>\n",
       "      <td>male</td>\n",
       "      <td>26.0</td>\n",
       "      <td>0</td>\n",
       "      <td>0</td>\n",
       "      <td>111369</td>\n",
       "      <td>30.0000</td>\n",
       "      <td>C148</td>\n",
       "      <td>C</td>\n",
       "    </tr>\n",
       "    <tr>\n",
       "      <th>890</th>\n",
       "      <td>891</td>\n",
       "      <td>0</td>\n",
       "      <td>3</td>\n",
       "      <td>Dooley, Mr. Patrick</td>\n",
       "      <td>male</td>\n",
       "      <td>32.0</td>\n",
       "      <td>0</td>\n",
       "      <td>0</td>\n",
       "      <td>370376</td>\n",
       "      <td>7.7500</td>\n",
       "      <td>NaN</td>\n",
       "      <td>Q</td>\n",
       "    </tr>\n",
       "  </tbody>\n",
       "</table>\n",
       "<p>891 rows × 12 columns</p>\n",
       "</div>"
      ],
      "text/plain": [
       "     PassengerId  Survived  Pclass  \\\n",
       "0              1         0       3   \n",
       "1              2         1       1   \n",
       "2              3         1       3   \n",
       "3              4         1       1   \n",
       "4              5         0       3   \n",
       "..           ...       ...     ...   \n",
       "886          887         0       2   \n",
       "887          888         1       1   \n",
       "888          889         0       3   \n",
       "889          890         1       1   \n",
       "890          891         0       3   \n",
       "\n",
       "                                                  Name     Sex   Age  SibSp  \\\n",
       "0                              Braund, Mr. Owen Harris    male  22.0      1   \n",
       "1    Cumings, Mrs. John Bradley (Florence Briggs Th...  female  38.0      1   \n",
       "2                               Heikkinen, Miss. Laina  female  26.0      0   \n",
       "3         Futrelle, Mrs. Jacques Heath (Lily May Peel)  female  35.0      1   \n",
       "4                             Allen, Mr. William Henry    male  35.0      0   \n",
       "..                                                 ...     ...   ...    ...   \n",
       "886                              Montvila, Rev. Juozas    male  27.0      0   \n",
       "887                       Graham, Miss. Margaret Edith  female  19.0      0   \n",
       "888           Johnston, Miss. Catherine Helen \"Carrie\"  female   NaN      1   \n",
       "889                              Behr, Mr. Karl Howell    male  26.0      0   \n",
       "890                                Dooley, Mr. Patrick    male  32.0      0   \n",
       "\n",
       "     Parch            Ticket     Fare Cabin Embarked  \n",
       "0        0         A/5 21171   7.2500   NaN        S  \n",
       "1        0          PC 17599  71.2833   C85        C  \n",
       "2        0  STON/O2. 3101282   7.9250   NaN        S  \n",
       "3        0            113803  53.1000  C123        S  \n",
       "4        0            373450   8.0500   NaN        S  \n",
       "..     ...               ...      ...   ...      ...  \n",
       "886      0            211536  13.0000   NaN        S  \n",
       "887      0            112053  30.0000   B42        S  \n",
       "888      2        W./C. 6607  23.4500   NaN        S  \n",
       "889      0            111369  30.0000  C148        C  \n",
       "890      0            370376   7.7500   NaN        Q  \n",
       "\n",
       "[891 rows x 12 columns]"
      ]
     },
     "execution_count": 2,
     "metadata": {},
     "output_type": "execute_result"
    }
   ],
   "source": [
    "raw_train = pd.read_csv(\"/kaggle/input/titanic/train.csv\")\n",
    "raw_train"
   ]
  },
  {
   "cell_type": "code",
   "execution_count": 3,
   "id": "feddc42b",
   "metadata": {
    "execution": {
     "iopub.execute_input": "2022-06-24T01:52:19.775724Z",
     "iopub.status.busy": "2022-06-24T01:52:19.774896Z",
     "iopub.status.idle": "2022-06-24T01:52:19.801083Z",
     "shell.execute_reply": "2022-06-24T01:52:19.800324Z"
    },
    "papermill": {
     "duration": 0.044341,
     "end_time": "2022-06-24T01:52:19.802832",
     "exception": false,
     "start_time": "2022-06-24T01:52:19.758491",
     "status": "completed"
    },
    "tags": []
   },
   "outputs": [
    {
     "data": {
      "text/html": [
       "<div>\n",
       "<style scoped>\n",
       "    .dataframe tbody tr th:only-of-type {\n",
       "        vertical-align: middle;\n",
       "    }\n",
       "\n",
       "    .dataframe tbody tr th {\n",
       "        vertical-align: top;\n",
       "    }\n",
       "\n",
       "    .dataframe thead th {\n",
       "        text-align: right;\n",
       "    }\n",
       "</style>\n",
       "<table border=\"1\" class=\"dataframe\">\n",
       "  <thead>\n",
       "    <tr style=\"text-align: right;\">\n",
       "      <th></th>\n",
       "      <th>PassengerId</th>\n",
       "      <th>Pclass</th>\n",
       "      <th>Name</th>\n",
       "      <th>Sex</th>\n",
       "      <th>Age</th>\n",
       "      <th>SibSp</th>\n",
       "      <th>Parch</th>\n",
       "      <th>Ticket</th>\n",
       "      <th>Fare</th>\n",
       "      <th>Cabin</th>\n",
       "      <th>Embarked</th>\n",
       "    </tr>\n",
       "  </thead>\n",
       "  <tbody>\n",
       "    <tr>\n",
       "      <th>0</th>\n",
       "      <td>892</td>\n",
       "      <td>3</td>\n",
       "      <td>Kelly, Mr. James</td>\n",
       "      <td>male</td>\n",
       "      <td>34.5</td>\n",
       "      <td>0</td>\n",
       "      <td>0</td>\n",
       "      <td>330911</td>\n",
       "      <td>7.8292</td>\n",
       "      <td>NaN</td>\n",
       "      <td>Q</td>\n",
       "    </tr>\n",
       "    <tr>\n",
       "      <th>1</th>\n",
       "      <td>893</td>\n",
       "      <td>3</td>\n",
       "      <td>Wilkes, Mrs. James (Ellen Needs)</td>\n",
       "      <td>female</td>\n",
       "      <td>47.0</td>\n",
       "      <td>1</td>\n",
       "      <td>0</td>\n",
       "      <td>363272</td>\n",
       "      <td>7.0000</td>\n",
       "      <td>NaN</td>\n",
       "      <td>S</td>\n",
       "    </tr>\n",
       "    <tr>\n",
       "      <th>2</th>\n",
       "      <td>894</td>\n",
       "      <td>2</td>\n",
       "      <td>Myles, Mr. Thomas Francis</td>\n",
       "      <td>male</td>\n",
       "      <td>62.0</td>\n",
       "      <td>0</td>\n",
       "      <td>0</td>\n",
       "      <td>240276</td>\n",
       "      <td>9.6875</td>\n",
       "      <td>NaN</td>\n",
       "      <td>Q</td>\n",
       "    </tr>\n",
       "    <tr>\n",
       "      <th>3</th>\n",
       "      <td>895</td>\n",
       "      <td>3</td>\n",
       "      <td>Wirz, Mr. Albert</td>\n",
       "      <td>male</td>\n",
       "      <td>27.0</td>\n",
       "      <td>0</td>\n",
       "      <td>0</td>\n",
       "      <td>315154</td>\n",
       "      <td>8.6625</td>\n",
       "      <td>NaN</td>\n",
       "      <td>S</td>\n",
       "    </tr>\n",
       "    <tr>\n",
       "      <th>4</th>\n",
       "      <td>896</td>\n",
       "      <td>3</td>\n",
       "      <td>Hirvonen, Mrs. Alexander (Helga E Lindqvist)</td>\n",
       "      <td>female</td>\n",
       "      <td>22.0</td>\n",
       "      <td>1</td>\n",
       "      <td>1</td>\n",
       "      <td>3101298</td>\n",
       "      <td>12.2875</td>\n",
       "      <td>NaN</td>\n",
       "      <td>S</td>\n",
       "    </tr>\n",
       "    <tr>\n",
       "      <th>...</th>\n",
       "      <td>...</td>\n",
       "      <td>...</td>\n",
       "      <td>...</td>\n",
       "      <td>...</td>\n",
       "      <td>...</td>\n",
       "      <td>...</td>\n",
       "      <td>...</td>\n",
       "      <td>...</td>\n",
       "      <td>...</td>\n",
       "      <td>...</td>\n",
       "      <td>...</td>\n",
       "    </tr>\n",
       "    <tr>\n",
       "      <th>413</th>\n",
       "      <td>1305</td>\n",
       "      <td>3</td>\n",
       "      <td>Spector, Mr. Woolf</td>\n",
       "      <td>male</td>\n",
       "      <td>NaN</td>\n",
       "      <td>0</td>\n",
       "      <td>0</td>\n",
       "      <td>A.5. 3236</td>\n",
       "      <td>8.0500</td>\n",
       "      <td>NaN</td>\n",
       "      <td>S</td>\n",
       "    </tr>\n",
       "    <tr>\n",
       "      <th>414</th>\n",
       "      <td>1306</td>\n",
       "      <td>1</td>\n",
       "      <td>Oliva y Ocana, Dona. Fermina</td>\n",
       "      <td>female</td>\n",
       "      <td>39.0</td>\n",
       "      <td>0</td>\n",
       "      <td>0</td>\n",
       "      <td>PC 17758</td>\n",
       "      <td>108.9000</td>\n",
       "      <td>C105</td>\n",
       "      <td>C</td>\n",
       "    </tr>\n",
       "    <tr>\n",
       "      <th>415</th>\n",
       "      <td>1307</td>\n",
       "      <td>3</td>\n",
       "      <td>Saether, Mr. Simon Sivertsen</td>\n",
       "      <td>male</td>\n",
       "      <td>38.5</td>\n",
       "      <td>0</td>\n",
       "      <td>0</td>\n",
       "      <td>SOTON/O.Q. 3101262</td>\n",
       "      <td>7.2500</td>\n",
       "      <td>NaN</td>\n",
       "      <td>S</td>\n",
       "    </tr>\n",
       "    <tr>\n",
       "      <th>416</th>\n",
       "      <td>1308</td>\n",
       "      <td>3</td>\n",
       "      <td>Ware, Mr. Frederick</td>\n",
       "      <td>male</td>\n",
       "      <td>NaN</td>\n",
       "      <td>0</td>\n",
       "      <td>0</td>\n",
       "      <td>359309</td>\n",
       "      <td>8.0500</td>\n",
       "      <td>NaN</td>\n",
       "      <td>S</td>\n",
       "    </tr>\n",
       "    <tr>\n",
       "      <th>417</th>\n",
       "      <td>1309</td>\n",
       "      <td>3</td>\n",
       "      <td>Peter, Master. Michael J</td>\n",
       "      <td>male</td>\n",
       "      <td>NaN</td>\n",
       "      <td>1</td>\n",
       "      <td>1</td>\n",
       "      <td>2668</td>\n",
       "      <td>22.3583</td>\n",
       "      <td>NaN</td>\n",
       "      <td>C</td>\n",
       "    </tr>\n",
       "  </tbody>\n",
       "</table>\n",
       "<p>418 rows × 11 columns</p>\n",
       "</div>"
      ],
      "text/plain": [
       "     PassengerId  Pclass                                          Name  \\\n",
       "0            892       3                              Kelly, Mr. James   \n",
       "1            893       3              Wilkes, Mrs. James (Ellen Needs)   \n",
       "2            894       2                     Myles, Mr. Thomas Francis   \n",
       "3            895       3                              Wirz, Mr. Albert   \n",
       "4            896       3  Hirvonen, Mrs. Alexander (Helga E Lindqvist)   \n",
       "..           ...     ...                                           ...   \n",
       "413         1305       3                            Spector, Mr. Woolf   \n",
       "414         1306       1                  Oliva y Ocana, Dona. Fermina   \n",
       "415         1307       3                  Saether, Mr. Simon Sivertsen   \n",
       "416         1308       3                           Ware, Mr. Frederick   \n",
       "417         1309       3                      Peter, Master. Michael J   \n",
       "\n",
       "        Sex   Age  SibSp  Parch              Ticket      Fare Cabin Embarked  \n",
       "0      male  34.5      0      0              330911    7.8292   NaN        Q  \n",
       "1    female  47.0      1      0              363272    7.0000   NaN        S  \n",
       "2      male  62.0      0      0              240276    9.6875   NaN        Q  \n",
       "3      male  27.0      0      0              315154    8.6625   NaN        S  \n",
       "4    female  22.0      1      1             3101298   12.2875   NaN        S  \n",
       "..      ...   ...    ...    ...                 ...       ...   ...      ...  \n",
       "413    male   NaN      0      0           A.5. 3236    8.0500   NaN        S  \n",
       "414  female  39.0      0      0            PC 17758  108.9000  C105        C  \n",
       "415    male  38.5      0      0  SOTON/O.Q. 3101262    7.2500   NaN        S  \n",
       "416    male   NaN      0      0              359309    8.0500   NaN        S  \n",
       "417    male   NaN      1      1                2668   22.3583   NaN        C  \n",
       "\n",
       "[418 rows x 11 columns]"
      ]
     },
     "execution_count": 3,
     "metadata": {},
     "output_type": "execute_result"
    }
   ],
   "source": [
    "raw_test = pd.read_csv(\"/kaggle/input/titanic/test.csv\")\n",
    "raw_test"
   ]
  },
  {
   "cell_type": "markdown",
   "id": "ce84e668",
   "metadata": {
    "papermill": {
     "duration": 0.01514,
     "end_time": "2022-06-24T01:52:19.833283",
     "exception": false,
     "start_time": "2022-06-24T01:52:19.818143",
     "status": "completed"
    },
    "tags": []
   },
   "source": [
    "# Eksplorasi Data"
   ]
  },
  {
   "cell_type": "code",
   "execution_count": 4,
   "id": "db962fb2",
   "metadata": {
    "execution": {
     "iopub.execute_input": "2022-06-24T01:52:19.864443Z",
     "iopub.status.busy": "2022-06-24T01:52:19.863629Z",
     "iopub.status.idle": "2022-06-24T01:52:19.870554Z",
     "shell.execute_reply": "2022-06-24T01:52:19.869986Z"
    },
    "papermill": {
     "duration": 0.024426,
     "end_time": "2022-06-24T01:52:19.872280",
     "exception": false,
     "start_time": "2022-06-24T01:52:19.847854",
     "status": "completed"
    },
    "tags": []
   },
   "outputs": [
    {
     "data": {
      "text/plain": [
       "PassengerId      int64\n",
       "Survived         int64\n",
       "Pclass           int64\n",
       "Name            object\n",
       "Sex             object\n",
       "Age            float64\n",
       "SibSp            int64\n",
       "Parch            int64\n",
       "Ticket          object\n",
       "Fare           float64\n",
       "Cabin           object\n",
       "Embarked        object\n",
       "dtype: object"
      ]
     },
     "execution_count": 4,
     "metadata": {},
     "output_type": "execute_result"
    }
   ],
   "source": [
    "raw_train.dtypes"
   ]
  },
  {
   "cell_type": "code",
   "execution_count": 5,
   "id": "25db8bd8",
   "metadata": {
    "execution": {
     "iopub.execute_input": "2022-06-24T01:52:19.903940Z",
     "iopub.status.busy": "2022-06-24T01:52:19.903331Z",
     "iopub.status.idle": "2022-06-24T01:52:19.939142Z",
     "shell.execute_reply": "2022-06-24T01:52:19.938507Z"
    },
    "papermill": {
     "duration": 0.053627,
     "end_time": "2022-06-24T01:52:19.940897",
     "exception": false,
     "start_time": "2022-06-24T01:52:19.887270",
     "status": "completed"
    },
    "tags": []
   },
   "outputs": [
    {
     "data": {
      "text/html": [
       "<div>\n",
       "<style scoped>\n",
       "    .dataframe tbody tr th:only-of-type {\n",
       "        vertical-align: middle;\n",
       "    }\n",
       "\n",
       "    .dataframe tbody tr th {\n",
       "        vertical-align: top;\n",
       "    }\n",
       "\n",
       "    .dataframe thead th {\n",
       "        text-align: right;\n",
       "    }\n",
       "</style>\n",
       "<table border=\"1\" class=\"dataframe\">\n",
       "  <thead>\n",
       "    <tr style=\"text-align: right;\">\n",
       "      <th></th>\n",
       "      <th>PassengerId</th>\n",
       "      <th>Survived</th>\n",
       "      <th>Pclass</th>\n",
       "      <th>Age</th>\n",
       "      <th>SibSp</th>\n",
       "      <th>Parch</th>\n",
       "      <th>Fare</th>\n",
       "    </tr>\n",
       "  </thead>\n",
       "  <tbody>\n",
       "    <tr>\n",
       "      <th>count</th>\n",
       "      <td>891.000000</td>\n",
       "      <td>891.000000</td>\n",
       "      <td>891.000000</td>\n",
       "      <td>714.000000</td>\n",
       "      <td>891.000000</td>\n",
       "      <td>891.000000</td>\n",
       "      <td>891.000000</td>\n",
       "    </tr>\n",
       "    <tr>\n",
       "      <th>mean</th>\n",
       "      <td>446.000000</td>\n",
       "      <td>0.383838</td>\n",
       "      <td>2.308642</td>\n",
       "      <td>29.699118</td>\n",
       "      <td>0.523008</td>\n",
       "      <td>0.381594</td>\n",
       "      <td>32.204208</td>\n",
       "    </tr>\n",
       "    <tr>\n",
       "      <th>std</th>\n",
       "      <td>257.353842</td>\n",
       "      <td>0.486592</td>\n",
       "      <td>0.836071</td>\n",
       "      <td>14.526497</td>\n",
       "      <td>1.102743</td>\n",
       "      <td>0.806057</td>\n",
       "      <td>49.693429</td>\n",
       "    </tr>\n",
       "    <tr>\n",
       "      <th>min</th>\n",
       "      <td>1.000000</td>\n",
       "      <td>0.000000</td>\n",
       "      <td>1.000000</td>\n",
       "      <td>0.420000</td>\n",
       "      <td>0.000000</td>\n",
       "      <td>0.000000</td>\n",
       "      <td>0.000000</td>\n",
       "    </tr>\n",
       "    <tr>\n",
       "      <th>25%</th>\n",
       "      <td>223.500000</td>\n",
       "      <td>0.000000</td>\n",
       "      <td>2.000000</td>\n",
       "      <td>20.125000</td>\n",
       "      <td>0.000000</td>\n",
       "      <td>0.000000</td>\n",
       "      <td>7.910400</td>\n",
       "    </tr>\n",
       "    <tr>\n",
       "      <th>50%</th>\n",
       "      <td>446.000000</td>\n",
       "      <td>0.000000</td>\n",
       "      <td>3.000000</td>\n",
       "      <td>28.000000</td>\n",
       "      <td>0.000000</td>\n",
       "      <td>0.000000</td>\n",
       "      <td>14.454200</td>\n",
       "    </tr>\n",
       "    <tr>\n",
       "      <th>75%</th>\n",
       "      <td>668.500000</td>\n",
       "      <td>1.000000</td>\n",
       "      <td>3.000000</td>\n",
       "      <td>38.000000</td>\n",
       "      <td>1.000000</td>\n",
       "      <td>0.000000</td>\n",
       "      <td>31.000000</td>\n",
       "    </tr>\n",
       "    <tr>\n",
       "      <th>max</th>\n",
       "      <td>891.000000</td>\n",
       "      <td>1.000000</td>\n",
       "      <td>3.000000</td>\n",
       "      <td>80.000000</td>\n",
       "      <td>8.000000</td>\n",
       "      <td>6.000000</td>\n",
       "      <td>512.329200</td>\n",
       "    </tr>\n",
       "  </tbody>\n",
       "</table>\n",
       "</div>"
      ],
      "text/plain": [
       "       PassengerId    Survived      Pclass         Age       SibSp  \\\n",
       "count   891.000000  891.000000  891.000000  714.000000  891.000000   \n",
       "mean    446.000000    0.383838    2.308642   29.699118    0.523008   \n",
       "std     257.353842    0.486592    0.836071   14.526497    1.102743   \n",
       "min       1.000000    0.000000    1.000000    0.420000    0.000000   \n",
       "25%     223.500000    0.000000    2.000000   20.125000    0.000000   \n",
       "50%     446.000000    0.000000    3.000000   28.000000    0.000000   \n",
       "75%     668.500000    1.000000    3.000000   38.000000    1.000000   \n",
       "max     891.000000    1.000000    3.000000   80.000000    8.000000   \n",
       "\n",
       "            Parch        Fare  \n",
       "count  891.000000  891.000000  \n",
       "mean     0.381594   32.204208  \n",
       "std      0.806057   49.693429  \n",
       "min      0.000000    0.000000  \n",
       "25%      0.000000    7.910400  \n",
       "50%      0.000000   14.454200  \n",
       "75%      0.000000   31.000000  \n",
       "max      6.000000  512.329200  "
      ]
     },
     "execution_count": 5,
     "metadata": {},
     "output_type": "execute_result"
    }
   ],
   "source": [
    "raw_train.describe()"
   ]
  },
  {
   "cell_type": "code",
   "execution_count": 6,
   "id": "39c16d13",
   "metadata": {
    "execution": {
     "iopub.execute_input": "2022-06-24T01:52:19.972919Z",
     "iopub.status.busy": "2022-06-24T01:52:19.972375Z",
     "iopub.status.idle": "2022-06-24T01:52:19.991159Z",
     "shell.execute_reply": "2022-06-24T01:52:19.990231Z"
    },
    "papermill": {
     "duration": 0.037196,
     "end_time": "2022-06-24T01:52:19.993264",
     "exception": false,
     "start_time": "2022-06-24T01:52:19.956068",
     "status": "completed"
    },
    "tags": []
   },
   "outputs": [
    {
     "data": {
      "text/html": [
       "<div>\n",
       "<style scoped>\n",
       "    .dataframe tbody tr th:only-of-type {\n",
       "        vertical-align: middle;\n",
       "    }\n",
       "\n",
       "    .dataframe tbody tr th {\n",
       "        vertical-align: top;\n",
       "    }\n",
       "\n",
       "    .dataframe thead th {\n",
       "        text-align: right;\n",
       "    }\n",
       "</style>\n",
       "<table border=\"1\" class=\"dataframe\">\n",
       "  <thead>\n",
       "    <tr style=\"text-align: right;\">\n",
       "      <th></th>\n",
       "      <th>Name</th>\n",
       "      <th>Sex</th>\n",
       "      <th>Ticket</th>\n",
       "      <th>Cabin</th>\n",
       "      <th>Embarked</th>\n",
       "    </tr>\n",
       "  </thead>\n",
       "  <tbody>\n",
       "    <tr>\n",
       "      <th>count</th>\n",
       "      <td>891</td>\n",
       "      <td>891</td>\n",
       "      <td>891</td>\n",
       "      <td>204</td>\n",
       "      <td>889</td>\n",
       "    </tr>\n",
       "    <tr>\n",
       "      <th>unique</th>\n",
       "      <td>891</td>\n",
       "      <td>2</td>\n",
       "      <td>681</td>\n",
       "      <td>147</td>\n",
       "      <td>3</td>\n",
       "    </tr>\n",
       "    <tr>\n",
       "      <th>top</th>\n",
       "      <td>Braund, Mr. Owen Harris</td>\n",
       "      <td>male</td>\n",
       "      <td>347082</td>\n",
       "      <td>B96 B98</td>\n",
       "      <td>S</td>\n",
       "    </tr>\n",
       "    <tr>\n",
       "      <th>freq</th>\n",
       "      <td>1</td>\n",
       "      <td>577</td>\n",
       "      <td>7</td>\n",
       "      <td>4</td>\n",
       "      <td>644</td>\n",
       "    </tr>\n",
       "  </tbody>\n",
       "</table>\n",
       "</div>"
      ],
      "text/plain": [
       "                           Name   Sex  Ticket    Cabin Embarked\n",
       "count                       891   891     891      204      889\n",
       "unique                      891     2     681      147        3\n",
       "top     Braund, Mr. Owen Harris  male  347082  B96 B98        S\n",
       "freq                          1   577       7        4      644"
      ]
     },
     "execution_count": 6,
     "metadata": {},
     "output_type": "execute_result"
    }
   ],
   "source": [
    "raw_train.describe(include='object')"
   ]
  },
  {
   "cell_type": "code",
   "execution_count": 7,
   "id": "f97a8dab",
   "metadata": {
    "execution": {
     "iopub.execute_input": "2022-06-24T01:52:20.025968Z",
     "iopub.status.busy": "2022-06-24T01:52:20.025102Z",
     "iopub.status.idle": "2022-06-24T01:52:20.032383Z",
     "shell.execute_reply": "2022-06-24T01:52:20.031458Z"
    },
    "papermill": {
     "duration": 0.025564,
     "end_time": "2022-06-24T01:52:20.034486",
     "exception": false,
     "start_time": "2022-06-24T01:52:20.008922",
     "status": "completed"
    },
    "tags": []
   },
   "outputs": [
    {
     "data": {
      "text/plain": [
       "PassengerId      int64\n",
       "Pclass           int64\n",
       "Name            object\n",
       "Sex             object\n",
       "Age            float64\n",
       "SibSp            int64\n",
       "Parch            int64\n",
       "Ticket          object\n",
       "Fare           float64\n",
       "Cabin           object\n",
       "Embarked        object\n",
       "dtype: object"
      ]
     },
     "execution_count": 7,
     "metadata": {},
     "output_type": "execute_result"
    }
   ],
   "source": [
    "raw_test.dtypes"
   ]
  },
  {
   "cell_type": "code",
   "execution_count": 8,
   "id": "ac8e3539",
   "metadata": {
    "execution": {
     "iopub.execute_input": "2022-06-24T01:52:20.067243Z",
     "iopub.status.busy": "2022-06-24T01:52:20.066851Z",
     "iopub.status.idle": "2022-06-24T01:52:20.091481Z",
     "shell.execute_reply": "2022-06-24T01:52:20.090496Z"
    },
    "papermill": {
     "duration": 0.043813,
     "end_time": "2022-06-24T01:52:20.093663",
     "exception": false,
     "start_time": "2022-06-24T01:52:20.049850",
     "status": "completed"
    },
    "tags": []
   },
   "outputs": [
    {
     "data": {
      "text/html": [
       "<div>\n",
       "<style scoped>\n",
       "    .dataframe tbody tr th:only-of-type {\n",
       "        vertical-align: middle;\n",
       "    }\n",
       "\n",
       "    .dataframe tbody tr th {\n",
       "        vertical-align: top;\n",
       "    }\n",
       "\n",
       "    .dataframe thead th {\n",
       "        text-align: right;\n",
       "    }\n",
       "</style>\n",
       "<table border=\"1\" class=\"dataframe\">\n",
       "  <thead>\n",
       "    <tr style=\"text-align: right;\">\n",
       "      <th></th>\n",
       "      <th>PassengerId</th>\n",
       "      <th>Pclass</th>\n",
       "      <th>Age</th>\n",
       "      <th>SibSp</th>\n",
       "      <th>Parch</th>\n",
       "      <th>Fare</th>\n",
       "    </tr>\n",
       "  </thead>\n",
       "  <tbody>\n",
       "    <tr>\n",
       "      <th>count</th>\n",
       "      <td>418.000000</td>\n",
       "      <td>418.000000</td>\n",
       "      <td>332.000000</td>\n",
       "      <td>418.000000</td>\n",
       "      <td>418.000000</td>\n",
       "      <td>417.000000</td>\n",
       "    </tr>\n",
       "    <tr>\n",
       "      <th>mean</th>\n",
       "      <td>1100.500000</td>\n",
       "      <td>2.265550</td>\n",
       "      <td>30.272590</td>\n",
       "      <td>0.447368</td>\n",
       "      <td>0.392344</td>\n",
       "      <td>35.627188</td>\n",
       "    </tr>\n",
       "    <tr>\n",
       "      <th>std</th>\n",
       "      <td>120.810458</td>\n",
       "      <td>0.841838</td>\n",
       "      <td>14.181209</td>\n",
       "      <td>0.896760</td>\n",
       "      <td>0.981429</td>\n",
       "      <td>55.907576</td>\n",
       "    </tr>\n",
       "    <tr>\n",
       "      <th>min</th>\n",
       "      <td>892.000000</td>\n",
       "      <td>1.000000</td>\n",
       "      <td>0.170000</td>\n",
       "      <td>0.000000</td>\n",
       "      <td>0.000000</td>\n",
       "      <td>0.000000</td>\n",
       "    </tr>\n",
       "    <tr>\n",
       "      <th>25%</th>\n",
       "      <td>996.250000</td>\n",
       "      <td>1.000000</td>\n",
       "      <td>21.000000</td>\n",
       "      <td>0.000000</td>\n",
       "      <td>0.000000</td>\n",
       "      <td>7.895800</td>\n",
       "    </tr>\n",
       "    <tr>\n",
       "      <th>50%</th>\n",
       "      <td>1100.500000</td>\n",
       "      <td>3.000000</td>\n",
       "      <td>27.000000</td>\n",
       "      <td>0.000000</td>\n",
       "      <td>0.000000</td>\n",
       "      <td>14.454200</td>\n",
       "    </tr>\n",
       "    <tr>\n",
       "      <th>75%</th>\n",
       "      <td>1204.750000</td>\n",
       "      <td>3.000000</td>\n",
       "      <td>39.000000</td>\n",
       "      <td>1.000000</td>\n",
       "      <td>0.000000</td>\n",
       "      <td>31.500000</td>\n",
       "    </tr>\n",
       "    <tr>\n",
       "      <th>max</th>\n",
       "      <td>1309.000000</td>\n",
       "      <td>3.000000</td>\n",
       "      <td>76.000000</td>\n",
       "      <td>8.000000</td>\n",
       "      <td>9.000000</td>\n",
       "      <td>512.329200</td>\n",
       "    </tr>\n",
       "  </tbody>\n",
       "</table>\n",
       "</div>"
      ],
      "text/plain": [
       "       PassengerId      Pclass         Age       SibSp       Parch        Fare\n",
       "count   418.000000  418.000000  332.000000  418.000000  418.000000  417.000000\n",
       "mean   1100.500000    2.265550   30.272590    0.447368    0.392344   35.627188\n",
       "std     120.810458    0.841838   14.181209    0.896760    0.981429   55.907576\n",
       "min     892.000000    1.000000    0.170000    0.000000    0.000000    0.000000\n",
       "25%     996.250000    1.000000   21.000000    0.000000    0.000000    7.895800\n",
       "50%    1100.500000    3.000000   27.000000    0.000000    0.000000   14.454200\n",
       "75%    1204.750000    3.000000   39.000000    1.000000    0.000000   31.500000\n",
       "max    1309.000000    3.000000   76.000000    8.000000    9.000000  512.329200"
      ]
     },
     "execution_count": 8,
     "metadata": {},
     "output_type": "execute_result"
    }
   ],
   "source": [
    "raw_test.describe()"
   ]
  },
  {
   "cell_type": "code",
   "execution_count": 9,
   "id": "f56fc64c",
   "metadata": {
    "execution": {
     "iopub.execute_input": "2022-06-24T01:52:20.126789Z",
     "iopub.status.busy": "2022-06-24T01:52:20.126135Z",
     "iopub.status.idle": "2022-06-24T01:52:20.145050Z",
     "shell.execute_reply": "2022-06-24T01:52:20.144167Z"
    },
    "papermill": {
     "duration": 0.03728,
     "end_time": "2022-06-24T01:52:20.146968",
     "exception": false,
     "start_time": "2022-06-24T01:52:20.109688",
     "status": "completed"
    },
    "tags": []
   },
   "outputs": [
    {
     "data": {
      "text/html": [
       "<div>\n",
       "<style scoped>\n",
       "    .dataframe tbody tr th:only-of-type {\n",
       "        vertical-align: middle;\n",
       "    }\n",
       "\n",
       "    .dataframe tbody tr th {\n",
       "        vertical-align: top;\n",
       "    }\n",
       "\n",
       "    .dataframe thead th {\n",
       "        text-align: right;\n",
       "    }\n",
       "</style>\n",
       "<table border=\"1\" class=\"dataframe\">\n",
       "  <thead>\n",
       "    <tr style=\"text-align: right;\">\n",
       "      <th></th>\n",
       "      <th>Name</th>\n",
       "      <th>Sex</th>\n",
       "      <th>Ticket</th>\n",
       "      <th>Cabin</th>\n",
       "      <th>Embarked</th>\n",
       "    </tr>\n",
       "  </thead>\n",
       "  <tbody>\n",
       "    <tr>\n",
       "      <th>count</th>\n",
       "      <td>418</td>\n",
       "      <td>418</td>\n",
       "      <td>418</td>\n",
       "      <td>91</td>\n",
       "      <td>418</td>\n",
       "    </tr>\n",
       "    <tr>\n",
       "      <th>unique</th>\n",
       "      <td>418</td>\n",
       "      <td>2</td>\n",
       "      <td>363</td>\n",
       "      <td>76</td>\n",
       "      <td>3</td>\n",
       "    </tr>\n",
       "    <tr>\n",
       "      <th>top</th>\n",
       "      <td>Kelly, Mr. James</td>\n",
       "      <td>male</td>\n",
       "      <td>PC 17608</td>\n",
       "      <td>B57 B59 B63 B66</td>\n",
       "      <td>S</td>\n",
       "    </tr>\n",
       "    <tr>\n",
       "      <th>freq</th>\n",
       "      <td>1</td>\n",
       "      <td>266</td>\n",
       "      <td>5</td>\n",
       "      <td>3</td>\n",
       "      <td>270</td>\n",
       "    </tr>\n",
       "  </tbody>\n",
       "</table>\n",
       "</div>"
      ],
      "text/plain": [
       "                    Name   Sex    Ticket            Cabin Embarked\n",
       "count                418   418       418               91      418\n",
       "unique               418     2       363               76        3\n",
       "top     Kelly, Mr. James  male  PC 17608  B57 B59 B63 B66        S\n",
       "freq                   1   266         5                3      270"
      ]
     },
     "execution_count": 9,
     "metadata": {},
     "output_type": "execute_result"
    }
   ],
   "source": [
    "raw_test.describe(include='object')"
   ]
  },
  {
   "cell_type": "markdown",
   "id": "c55f2c35",
   "metadata": {
    "papermill": {
     "duration": 0.014997,
     "end_time": "2022-06-24T01:52:20.177334",
     "exception": false,
     "start_time": "2022-06-24T01:52:20.162337",
     "status": "completed"
    },
    "tags": []
   },
   "source": [
    "## Cek Data Duplikat"
   ]
  },
  {
   "cell_type": "code",
   "execution_count": 10,
   "id": "3aeb47b2",
   "metadata": {
    "execution": {
     "iopub.execute_input": "2022-06-24T01:52:20.209907Z",
     "iopub.status.busy": "2022-06-24T01:52:20.209266Z",
     "iopub.status.idle": "2022-06-24T01:52:20.221032Z",
     "shell.execute_reply": "2022-06-24T01:52:20.220172Z"
    },
    "papermill": {
     "duration": 0.030163,
     "end_time": "2022-06-24T01:52:20.222928",
     "exception": false,
     "start_time": "2022-06-24T01:52:20.192765",
     "status": "completed"
    },
    "tags": []
   },
   "outputs": [
    {
     "data": {
      "text/plain": [
       "0"
      ]
     },
     "execution_count": 10,
     "metadata": {},
     "output_type": "execute_result"
    }
   ],
   "source": [
    "raw_train.duplicated().sum()"
   ]
  },
  {
   "cell_type": "code",
   "execution_count": 11,
   "id": "89b88ec4",
   "metadata": {
    "execution": {
     "iopub.execute_input": "2022-06-24T01:52:20.255718Z",
     "iopub.status.busy": "2022-06-24T01:52:20.255059Z",
     "iopub.status.idle": "2022-06-24T01:52:20.263519Z",
     "shell.execute_reply": "2022-06-24T01:52:20.262820Z"
    },
    "papermill": {
     "duration": 0.026782,
     "end_time": "2022-06-24T01:52:20.265270",
     "exception": false,
     "start_time": "2022-06-24T01:52:20.238488",
     "status": "completed"
    },
    "tags": []
   },
   "outputs": [
    {
     "data": {
      "text/plain": [
       "0"
      ]
     },
     "execution_count": 11,
     "metadata": {},
     "output_type": "execute_result"
    }
   ],
   "source": [
    "raw_test.duplicated().sum()"
   ]
  },
  {
   "cell_type": "markdown",
   "id": "c2aaba8b",
   "metadata": {
    "papermill": {
     "duration": 0.015228,
     "end_time": "2022-06-24T01:52:20.296495",
     "exception": false,
     "start_time": "2022-06-24T01:52:20.281267",
     "status": "completed"
    },
    "tags": []
   },
   "source": [
    "Tidak ada data duplikat pada `raw_train` dan `raw_test`."
   ]
  },
  {
   "cell_type": "markdown",
   "id": "6fbe88ab",
   "metadata": {
    "papermill": {
     "duration": 0.015215,
     "end_time": "2022-06-24T01:52:20.327323",
     "exception": false,
     "start_time": "2022-06-24T01:52:20.312108",
     "status": "completed"
    },
    "tags": []
   },
   "source": [
    "## Cek Missing Value"
   ]
  },
  {
   "cell_type": "code",
   "execution_count": 12,
   "id": "04468f94",
   "metadata": {
    "execution": {
     "iopub.execute_input": "2022-06-24T01:52:20.362020Z",
     "iopub.status.busy": "2022-06-24T01:52:20.361327Z",
     "iopub.status.idle": "2022-06-24T01:52:20.369729Z",
     "shell.execute_reply": "2022-06-24T01:52:20.369021Z"
    },
    "papermill": {
     "duration": 0.027838,
     "end_time": "2022-06-24T01:52:20.371614",
     "exception": false,
     "start_time": "2022-06-24T01:52:20.343776",
     "status": "completed"
    },
    "tags": []
   },
   "outputs": [
    {
     "data": {
      "text/plain": [
       "PassengerId      0\n",
       "Survived         0\n",
       "Pclass           0\n",
       "Name             0\n",
       "Sex              0\n",
       "Age            177\n",
       "SibSp            0\n",
       "Parch            0\n",
       "Ticket           0\n",
       "Fare             0\n",
       "Cabin          687\n",
       "Embarked         2\n",
       "dtype: int64"
      ]
     },
     "execution_count": 12,
     "metadata": {},
     "output_type": "execute_result"
    }
   ],
   "source": [
    "raw_train.isna().sum()"
   ]
  },
  {
   "cell_type": "markdown",
   "id": "79e519da",
   "metadata": {
    "papermill": {
     "duration": 0.015607,
     "end_time": "2022-06-24T01:52:20.403686",
     "exception": false,
     "start_time": "2022-06-24T01:52:20.388079",
     "status": "completed"
    },
    "tags": []
   },
   "source": [
    "Terdapat 177 _missing data_ pada kolom `Age`, 687 _missing data_ pada kolom `Cabin`, dan 2 _missing data_ pada kolom `Embarked` di dalam _dataframe_ `raw_train`."
   ]
  },
  {
   "cell_type": "code",
   "execution_count": 13,
   "id": "a9b5c52e",
   "metadata": {
    "execution": {
     "iopub.execute_input": "2022-06-24T01:52:20.438804Z",
     "iopub.status.busy": "2022-06-24T01:52:20.438412Z",
     "iopub.status.idle": "2022-06-24T01:52:20.446531Z",
     "shell.execute_reply": "2022-06-24T01:52:20.445901Z"
    },
    "papermill": {
     "duration": 0.027924,
     "end_time": "2022-06-24T01:52:20.448237",
     "exception": false,
     "start_time": "2022-06-24T01:52:20.420313",
     "status": "completed"
    },
    "tags": []
   },
   "outputs": [
    {
     "data": {
      "text/plain": [
       "PassengerId      0\n",
       "Pclass           0\n",
       "Name             0\n",
       "Sex              0\n",
       "Age             86\n",
       "SibSp            0\n",
       "Parch            0\n",
       "Ticket           0\n",
       "Fare             1\n",
       "Cabin          327\n",
       "Embarked         0\n",
       "dtype: int64"
      ]
     },
     "execution_count": 13,
     "metadata": {},
     "output_type": "execute_result"
    }
   ],
   "source": [
    "raw_test.isna().sum()"
   ]
  },
  {
   "cell_type": "markdown",
   "id": "4394ebb3",
   "metadata": {
    "papermill": {
     "duration": 0.015839,
     "end_time": "2022-06-24T01:52:20.480355",
     "exception": false,
     "start_time": "2022-06-24T01:52:20.464516",
     "status": "completed"
    },
    "tags": []
   },
   "source": [
    "Terdapat 86 _missing data_ pada kolom `Age`, 1 _missing data_ pada kolom `Fare`, dan 327 _missing data_ pada kolom `Cabin` dalam _dataframe_ `raw_test`."
   ]
  },
  {
   "cell_type": "markdown",
   "id": "17811301",
   "metadata": {
    "papermill": {
     "duration": 0.015925,
     "end_time": "2022-06-24T01:52:20.513073",
     "exception": false,
     "start_time": "2022-06-24T01:52:20.497148",
     "status": "completed"
    },
    "tags": []
   },
   "source": [
    "## Target\n",
    "Tujuan proyek ini adalah memprediksi penumpang Titanic selamat atau tidak. Sehingga target adalah kolom `Survived`. Penumpang selamat bernilai 1 dan penumpang yang tidka selamat bernilai 0."
   ]
  },
  {
   "cell_type": "markdown",
   "id": "4d70d9e8",
   "metadata": {
    "papermill": {
     "duration": 0.015987,
     "end_time": "2022-06-24T01:52:20.545362",
     "exception": false,
     "start_time": "2022-06-24T01:52:20.529375",
     "status": "completed"
    },
    "tags": []
   },
   "source": [
    "## Cek Apakah Target pada Train Data termasuk _Imbalance_"
   ]
  },
  {
   "cell_type": "code",
   "execution_count": 14,
   "id": "a6390782",
   "metadata": {
    "execution": {
     "iopub.execute_input": "2022-06-24T01:52:20.579640Z",
     "iopub.status.busy": "2022-06-24T01:52:20.579086Z",
     "iopub.status.idle": "2022-06-24T01:52:20.584807Z",
     "shell.execute_reply": "2022-06-24T01:52:20.584242Z"
    },
    "papermill": {
     "duration": 0.024498,
     "end_time": "2022-06-24T01:52:20.586414",
     "exception": false,
     "start_time": "2022-06-24T01:52:20.561916",
     "status": "completed"
    },
    "tags": []
   },
   "outputs": [
    {
     "data": {
      "text/plain": [
       "0    549\n",
       "1    342\n",
       "Name: Survived, dtype: int64"
      ]
     },
     "execution_count": 14,
     "metadata": {},
     "output_type": "execute_result"
    }
   ],
   "source": [
    "raw_train.Survived.value_counts()"
   ]
  },
  {
   "cell_type": "markdown",
   "id": "09c36e63",
   "metadata": {
    "papermill": {
     "duration": 0.015822,
     "end_time": "2022-06-24T01:52:20.618145",
     "exception": false,
     "start_time": "2022-06-24T01:52:20.602323",
     "status": "completed"
    },
    "tags": []
   },
   "source": [
    "Jumlah yang selamat (1) dan tidak selamat (0) relatif tidak jauh berbeda, sehingga data tersebut bukan termasuk _imbalance data_."
   ]
  },
  {
   "cell_type": "markdown",
   "id": "f274ff61",
   "metadata": {
    "papermill": {
     "duration": 0.015559,
     "end_time": "2022-06-24T01:52:20.649443",
     "exception": false,
     "start_time": "2022-06-24T01:52:20.633884",
     "status": "completed"
    },
    "tags": []
   },
   "source": [
    "## Hapus kolom yang tidak revelevan\n",
    "Kolom `Cabin` dan `Ticket` memiliki banyak data yang unik, sehingga kedua kolom tersebut tidak memberikan berbedaan signifikan pada hasil prediksi. Untuk kolom `PassengerId` akan digunkan dalam dalam _submission_. Sedangkan pada `Name` terdapat gelar seperti Mr., Mrs. dsb. Gelar tersebut mungkin akan berguna dalam pemodelan."
   ]
  },
  {
   "cell_type": "code",
   "execution_count": 15,
   "id": "38a5c412",
   "metadata": {
    "execution": {
     "iopub.execute_input": "2022-06-24T01:52:20.682790Z",
     "iopub.status.busy": "2022-06-24T01:52:20.682370Z",
     "iopub.status.idle": "2022-06-24T01:52:20.688985Z",
     "shell.execute_reply": "2022-06-24T01:52:20.688079Z"
    },
    "papermill": {
     "duration": 0.025411,
     "end_time": "2022-06-24T01:52:20.690837",
     "exception": false,
     "start_time": "2022-06-24T01:52:20.665426",
     "status": "completed"
    },
    "tags": []
   },
   "outputs": [],
   "source": [
    "raw_train.drop(['Cabin', 'Ticket'], axis=1, inplace=True)\n",
    "raw_test.drop(['Cabin', 'Ticket'], axis=1, inplace=True)"
   ]
  },
  {
   "cell_type": "markdown",
   "id": "884793d4",
   "metadata": {
    "papermill": {
     "duration": 0.015544,
     "end_time": "2022-06-24T01:52:20.722751",
     "exception": false,
     "start_time": "2022-06-24T01:52:20.707207",
     "status": "completed"
    },
    "tags": []
   },
   "source": [
    "## Korelasi Antar Numerikal Kolom"
   ]
  },
  {
   "cell_type": "code",
   "execution_count": 16,
   "id": "5a5b4423",
   "metadata": {
    "execution": {
     "iopub.execute_input": "2022-06-24T01:52:20.756664Z",
     "iopub.status.busy": "2022-06-24T01:52:20.755939Z",
     "iopub.status.idle": "2022-06-24T01:52:21.101797Z",
     "shell.execute_reply": "2022-06-24T01:52:21.101044Z"
    },
    "papermill": {
     "duration": 0.36522,
     "end_time": "2022-06-24T01:52:21.103774",
     "exception": false,
     "start_time": "2022-06-24T01:52:20.738554",
     "status": "completed"
    },
    "tags": []
   },
   "outputs": [
    {
     "data": {
      "image/png": "[encoded data removed]",
      "text/plain": [
       "<Figure size 720x1080 with 2 Axes>"
      ]
     },
     "metadata": {
      "needs_background": "light"
     },
     "output_type": "display_data"
    }
   ],
   "source": [
    "plt.subplots(figsize=(10, 15))\n",
    "data=raw_train.corr()\n",
    "mask = np.triu(np.ones_like(data, dtype=bool))\n",
    "sns.heatmap(data, \n",
    "            mask=mask, \n",
    "            vmax=1, \n",
    "            center=0, \n",
    "            annot = True,\n",
    "            square=True, \n",
    "            linewidths=.5,\n",
    "            cbar_kws={\"shrink\": .5})\n",
    "plt.show()"
   ]
  },
  {
   "cell_type": "markdown",
   "id": "6a066661",
   "metadata": {
    "papermill": {
     "duration": 0.016172,
     "end_time": "2022-06-24T01:52:21.136641",
     "exception": false,
     "start_time": "2022-06-24T01:52:21.120469",
     "status": "completed"
    },
    "tags": []
   },
   "source": [
    "# Data Cleaning\n"
   ]
  },
  {
   "cell_type": "code",
   "execution_count": 17,
   "id": "d6b037ed",
   "metadata": {
    "execution": {
     "iopub.execute_input": "2022-06-24T01:52:21.171576Z",
     "iopub.status.busy": "2022-06-24T01:52:21.171131Z",
     "iopub.status.idle": "2022-06-24T01:52:21.179014Z",
     "shell.execute_reply": "2022-06-24T01:52:21.178121Z"
    },
    "papermill": {
     "duration": 0.027755,
     "end_time": "2022-06-24T01:52:21.181105",
     "exception": false,
     "start_time": "2022-06-24T01:52:21.153350",
     "status": "completed"
    },
    "tags": []
   },
   "outputs": [],
   "source": [
    "# train & test dijadikan satu\n",
    "all_data = pd.concat([raw_train, raw_test])"
   ]
  },
  {
   "cell_type": "markdown",
   "id": "aafb6855",
   "metadata": {
    "papermill": {
     "duration": 0.016365,
     "end_time": "2022-06-24T01:52:21.215199",
     "exception": false,
     "start_time": "2022-06-24T01:52:21.198834",
     "status": "completed"
    },
    "tags": []
   },
   "source": [
    "## Menangani _Missing Values_"
   ]
  },
  {
   "cell_type": "code",
   "execution_count": 18,
   "id": "a0c4d161",
   "metadata": {
    "execution": {
     "iopub.execute_input": "2022-06-24T01:52:21.250134Z",
     "iopub.status.busy": "2022-06-24T01:52:21.249461Z",
     "iopub.status.idle": "2022-06-24T01:52:21.258243Z",
     "shell.execute_reply": "2022-06-24T01:52:21.257491Z"
    },
    "papermill": {
     "duration": 0.028273,
     "end_time": "2022-06-24T01:52:21.260043",
     "exception": false,
     "start_time": "2022-06-24T01:52:21.231770",
     "status": "completed"
    },
    "tags": []
   },
   "outputs": [
    {
     "data": {
      "text/plain": [
       "PassengerId      0\n",
       "Survived       418\n",
       "Pclass           0\n",
       "Name             0\n",
       "Sex              0\n",
       "Age            263\n",
       "SibSp            0\n",
       "Parch            0\n",
       "Fare             1\n",
       "Embarked         2\n",
       "dtype: int64"
      ]
     },
     "execution_count": 18,
     "metadata": {},
     "output_type": "execute_result"
    }
   ],
   "source": [
    "all_data.isna().sum()"
   ]
  },
  {
   "cell_type": "markdown",
   "id": "5f3930cd",
   "metadata": {
    "papermill": {
     "duration": 0.016583,
     "end_time": "2022-06-24T01:52:21.293526",
     "exception": false,
     "start_time": "2022-06-24T01:52:21.276943",
     "status": "completed"
    },
    "tags": []
   },
   "source": [
    "### Feature Age\n",
    "Berdasarkan _heatmap_ korelasi antar numerikal kolom, fitur `Age` terlihat memiliki korelasi dengan `Pclass`,`SibSp`, dan `Parch`. Fitur `Age` memiliki korelasi negatif kuat dengan `Pclass` jika dibandingkan fitur `SibSp` dan `Parch`. Oleh karena itu, dalam mengisi missing data pada kolom `Age` akan memperhatikan `Pclass`-nya. Untuk kategorikal kolomnya lebih masuk akal `Age` juga berhubungan dengan `Sex`."
   ]
  },
  {
   "cell_type": "code",
   "execution_count": 19,
   "id": "c92719e4",
   "metadata": {
    "execution": {
     "iopub.execute_input": "2022-06-24T01:52:21.329164Z",
     "iopub.status.busy": "2022-06-24T01:52:21.328503Z",
     "iopub.status.idle": "2022-06-24T01:52:21.339824Z",
     "shell.execute_reply": "2022-06-24T01:52:21.339075Z"
    },
    "papermill": {
     "duration": 0.031153,
     "end_time": "2022-06-24T01:52:21.341611",
     "exception": false,
     "start_time": "2022-06-24T01:52:21.310458",
     "status": "completed"
    },
    "tags": []
   },
   "outputs": [
    {
     "data": {
      "text/plain": [
       "Pclass  Sex   \n",
       "1       female    36.0\n",
       "        male      42.0\n",
       "2       female    28.0\n",
       "        male      29.5\n",
       "3       female    22.0\n",
       "        male      25.0\n",
       "Name: Age, dtype: float64"
      ]
     },
     "execution_count": 19,
     "metadata": {},
     "output_type": "execute_result"
    }
   ],
   "source": [
    "all_data.groupby(['Pclass', 'Sex'])['Age'].median()"
   ]
  },
  {
   "cell_type": "code",
   "execution_count": 20,
   "id": "ac1e7352",
   "metadata": {
    "execution": {
     "iopub.execute_input": "2022-06-24T01:52:21.376855Z",
     "iopub.status.busy": "2022-06-24T01:52:21.376190Z",
     "iopub.status.idle": "2022-06-24T01:52:21.388454Z",
     "shell.execute_reply": "2022-06-24T01:52:21.387682Z"
    },
    "papermill": {
     "duration": 0.032346,
     "end_time": "2022-06-24T01:52:21.390580",
     "exception": false,
     "start_time": "2022-06-24T01:52:21.358234",
     "status": "completed"
    },
    "tags": []
   },
   "outputs": [],
   "source": [
    "all_data.Age = all_data.groupby(['Pclass', 'Sex'])['Age'].transform(lambda x: x.fillna(x.median()))"
   ]
  },
  {
   "cell_type": "markdown",
   "id": "c077dee5",
   "metadata": {
    "papermill": {
     "duration": 0.020709,
     "end_time": "2022-06-24T01:52:21.428769",
     "exception": false,
     "start_time": "2022-06-24T01:52:21.408060",
     "status": "completed"
    },
    "tags": []
   },
   "source": [
    "### Feature Fare\n",
    "Berdasarkan _heatmap_ korelasi antar numerikal kolom, fitur `Fare` memiliki korelasi negatif kuat dengan `Pclass`. Untuk kategorikal kolomnya juga akan memperhitungkan `Sex`."
   ]
  },
  {
   "cell_type": "code",
   "execution_count": 21,
   "id": "ea5baf4f",
   "metadata": {
    "execution": {
     "iopub.execute_input": "2022-06-24T01:52:21.465949Z",
     "iopub.status.busy": "2022-06-24T01:52:21.465596Z",
     "iopub.status.idle": "2022-06-24T01:52:21.474666Z",
     "shell.execute_reply": "2022-06-24T01:52:21.473966Z"
    },
    "papermill": {
     "duration": 0.028523,
     "end_time": "2022-06-24T01:52:21.476270",
     "exception": false,
     "start_time": "2022-06-24T01:52:21.447747",
     "status": "completed"
    },
    "tags": []
   },
   "outputs": [
    {
     "data": {
      "text/plain": [
       "Pclass  Sex   \n",
       "1       female    80.92915\n",
       "        male      49.50420\n",
       "2       female    23.00000\n",
       "        male      13.00000\n",
       "3       female    10.48960\n",
       "        male       7.89580\n",
       "Name: Fare, dtype: float64"
      ]
     },
     "execution_count": 21,
     "metadata": {},
     "output_type": "execute_result"
    }
   ],
   "source": [
    "all_data.groupby(['Pclass', 'Sex'])['Fare'].median()"
   ]
  },
  {
   "cell_type": "code",
   "execution_count": 22,
   "id": "8392ef00",
   "metadata": {
    "execution": {
     "iopub.execute_input": "2022-06-24T01:52:21.511845Z",
     "iopub.status.busy": "2022-06-24T01:52:21.511269Z",
     "iopub.status.idle": "2022-06-24T01:52:21.520589Z",
     "shell.execute_reply": "2022-06-24T01:52:21.519951Z"
    },
    "papermill": {
     "duration": 0.029133,
     "end_time": "2022-06-24T01:52:21.522397",
     "exception": false,
     "start_time": "2022-06-24T01:52:21.493264",
     "status": "completed"
    },
    "tags": []
   },
   "outputs": [],
   "source": [
    "all_data.Fare = all_data.groupby(['Pclass', 'Sex'])['Fare'].transform(lambda x: x.fillna(x.median()))"
   ]
  },
  {
   "cell_type": "markdown",
   "id": "aaf479b1",
   "metadata": {
    "papermill": {
     "duration": 0.016316,
     "end_time": "2022-06-24T01:52:21.555381",
     "exception": false,
     "start_time": "2022-06-24T01:52:21.539065",
     "status": "completed"
    },
    "tags": []
   },
   "source": [
    "### Feature Embarked\n",
    "Embarked adalah categorical feature. dari dataframe, feature Embarked didominasi oleh S. oleh karena itu, missing value pada feature Embarked akan diisi oleh modus pada faeture tersebut, yaitu S."
   ]
  },
  {
   "cell_type": "code",
   "execution_count": 23,
   "id": "a83869fc",
   "metadata": {
    "execution": {
     "iopub.execute_input": "2022-06-24T01:52:21.590230Z",
     "iopub.status.busy": "2022-06-24T01:52:21.589800Z",
     "iopub.status.idle": "2022-06-24T01:52:21.596419Z",
     "shell.execute_reply": "2022-06-24T01:52:21.595840Z"
    },
    "papermill": {
     "duration": 0.025918,
     "end_time": "2022-06-24T01:52:21.597909",
     "exception": false,
     "start_time": "2022-06-24T01:52:21.571991",
     "status": "completed"
    },
    "tags": []
   },
   "outputs": [
    {
     "data": {
      "text/plain": [
       "S    914\n",
       "C    270\n",
       "Q    123\n",
       "Name: Embarked, dtype: int64"
      ]
     },
     "execution_count": 23,
     "metadata": {},
     "output_type": "execute_result"
    }
   ],
   "source": [
    "all_data.Embarked.value_counts()"
   ]
  },
  {
   "cell_type": "code",
   "execution_count": 24,
   "id": "c248387d",
   "metadata": {
    "execution": {
     "iopub.execute_input": "2022-06-24T01:52:21.632797Z",
     "iopub.status.busy": "2022-06-24T01:52:21.632175Z",
     "iopub.status.idle": "2022-06-24T01:52:21.636565Z",
     "shell.execute_reply": "2022-06-24T01:52:21.635990Z"
    },
    "papermill": {
     "duration": 0.023655,
     "end_time": "2022-06-24T01:52:21.638140",
     "exception": false,
     "start_time": "2022-06-24T01:52:21.614485",
     "status": "completed"
    },
    "tags": []
   },
   "outputs": [],
   "source": [
    "all_data.Embarked.fillna('S', inplace=True)"
   ]
  },
  {
   "cell_type": "code",
   "execution_count": 25,
   "id": "1d3cccc5",
   "metadata": {
    "execution": {
     "iopub.execute_input": "2022-06-24T01:52:21.673234Z",
     "iopub.status.busy": "2022-06-24T01:52:21.672856Z",
     "iopub.status.idle": "2022-06-24T01:52:21.680709Z",
     "shell.execute_reply": "2022-06-24T01:52:21.679837Z"
    },
    "papermill": {
     "duration": 0.027202,
     "end_time": "2022-06-24T01:52:21.682361",
     "exception": false,
     "start_time": "2022-06-24T01:52:21.655159",
     "status": "completed"
    },
    "tags": []
   },
   "outputs": [
    {
     "data": {
      "text/plain": [
       "PassengerId      0\n",
       "Survived       418\n",
       "Pclass           0\n",
       "Name             0\n",
       "Sex              0\n",
       "Age              0\n",
       "SibSp            0\n",
       "Parch            0\n",
       "Fare             0\n",
       "Embarked         0\n",
       "dtype: int64"
      ]
     },
     "execution_count": 25,
     "metadata": {},
     "output_type": "execute_result"
    }
   ],
   "source": [
    "all_data.isna().sum()"
   ]
  },
  {
   "cell_type": "markdown",
   "id": "dc2d930d",
   "metadata": {
    "papermill": {
     "duration": 0.016844,
     "end_time": "2022-06-24T01:52:21.716031",
     "exception": false,
     "start_time": "2022-06-24T01:52:21.699187",
     "status": "completed"
    },
    "tags": []
   },
   "source": [
    "# _Data Preprocessing_"
   ]
  },
  {
   "cell_type": "markdown",
   "id": "c38bfc8e",
   "metadata": {
    "papermill": {
     "duration": 0.016624,
     "end_time": "2022-06-24T01:52:21.749747",
     "exception": false,
     "start_time": "2022-06-24T01:52:21.733123",
     "status": "completed"
    },
    "tags": []
   },
   "source": [
    "## Rekayasa Fitur"
   ]
  },
  {
   "cell_type": "markdown",
   "id": "c58cbe1a",
   "metadata": {
    "papermill": {
     "duration": 0.016843,
     "end_time": "2022-06-24T01:52:21.783349",
     "exception": false,
     "start_time": "2022-06-24T01:52:21.766506",
     "status": "completed"
    },
    "tags": []
   },
   "source": [
    "### Fitur `Family_size`\n",
    "fitur yang mengindikasi jumlah keluarga setiap penumpang yang berada dalam kapal.\n",
    "\n",
    "formula: ```Family_size = SibSp + Parch + 1```"
   ]
  },
  {
   "cell_type": "code",
   "execution_count": 26,
   "id": "7f2a3c0b",
   "metadata": {
    "execution": {
     "iopub.execute_input": "2022-06-24T01:52:21.819217Z",
     "iopub.status.busy": "2022-06-24T01:52:21.818845Z",
     "iopub.status.idle": "2022-06-24T01:52:21.824017Z",
     "shell.execute_reply": "2022-06-24T01:52:21.823229Z"
    },
    "papermill": {
     "duration": 0.025494,
     "end_time": "2022-06-24T01:52:21.825893",
     "exception": false,
     "start_time": "2022-06-24T01:52:21.800399",
     "status": "completed"
    },
    "tags": []
   },
   "outputs": [],
   "source": [
    "all_data['Family_size'] = all_data.SibSp + all_data.Parch + 1"
   ]
  },
  {
   "cell_type": "markdown",
   "id": "0eaecee4",
   "metadata": {
    "papermill": {
     "duration": 0.016866,
     "end_time": "2022-06-24T01:52:21.859717",
     "exception": false,
     "start_time": "2022-06-24T01:52:21.842851",
     "status": "completed"
    },
    "tags": []
   },
   "source": [
    "### Fitur `is_Alone`"
   ]
  },
  {
   "cell_type": "code",
   "execution_count": 27,
   "id": "58cffa9d",
   "metadata": {
    "execution": {
     "iopub.execute_input": "2022-06-24T01:52:21.896957Z",
     "iopub.status.busy": "2022-06-24T01:52:21.896319Z",
     "iopub.status.idle": "2022-06-24T01:52:21.901973Z",
     "shell.execute_reply": "2022-06-24T01:52:21.901267Z"
    },
    "papermill": {
     "duration": 0.027073,
     "end_time": "2022-06-24T01:52:21.903725",
     "exception": false,
     "start_time": "2022-06-24T01:52:21.876652",
     "status": "completed"
    },
    "tags": []
   },
   "outputs": [],
   "source": [
    "all_data['is_Alone'] = 0\n",
    "all_data.loc[all_data['Family_size']==1, 'is_Alone'] = 1"
   ]
  },
  {
   "cell_type": "markdown",
   "id": "54b9ffba",
   "metadata": {
    "papermill": {
     "duration": 0.016594,
     "end_time": "2022-06-24T01:52:21.937621",
     "exception": false,
     "start_time": "2022-06-24T01:52:21.921027",
     "status": "completed"
    },
    "tags": []
   },
   "source": [
    "### Fitur `is_Female`"
   ]
  },
  {
   "cell_type": "code",
   "execution_count": 28,
   "id": "929068ec",
   "metadata": {
    "execution": {
     "iopub.execute_input": "2022-06-24T01:52:21.973184Z",
     "iopub.status.busy": "2022-06-24T01:52:21.972566Z",
     "iopub.status.idle": "2022-06-24T01:52:21.979032Z",
     "shell.execute_reply": "2022-06-24T01:52:21.978296Z"
    },
    "papermill": {
     "duration": 0.026667,
     "end_time": "2022-06-24T01:52:21.981241",
     "exception": false,
     "start_time": "2022-06-24T01:52:21.954574",
     "status": "completed"
    },
    "tags": []
   },
   "outputs": [],
   "source": [
    "all_data.loc[all_data.Sex == 'female', 'is_female'] = 1\n",
    "all_data.loc[all_data.Sex == 'male', 'is_female'] = 0"
   ]
  },
  {
   "cell_type": "markdown",
   "id": "a401e5bc",
   "metadata": {
    "papermill": {
     "duration": 0.016991,
     "end_time": "2022-06-24T01:52:22.015539",
     "exception": false,
     "start_time": "2022-06-24T01:52:21.998548",
     "status": "completed"
    },
    "tags": []
   },
   "source": [
    "### Fitur `Title`"
   ]
  },
  {
   "cell_type": "code",
   "execution_count": 29,
   "id": "6ef5bfb0",
   "metadata": {
    "execution": {
     "iopub.execute_input": "2022-06-24T01:52:22.051832Z",
     "iopub.status.busy": "2022-06-24T01:52:22.051210Z",
     "iopub.status.idle": "2022-06-24T01:52:22.064767Z",
     "shell.execute_reply": "2022-06-24T01:52:22.063679Z"
    },
    "papermill": {
     "duration": 0.034021,
     "end_time": "2022-06-24T01:52:22.066798",
     "exception": false,
     "start_time": "2022-06-24T01:52:22.032777",
     "status": "completed"
    },
    "tags": []
   },
   "outputs": [
    {
     "data": {
      "text/plain": [
       "array(['Mr', 'Mrs', 'Miss', 'Master', 'Don', 'Rev', 'Dr', 'Mme', 'Ms',\n",
       "       'Major', 'Lady', 'Sir', 'Mlle', 'Col', 'Capt', 'the Countess',\n",
       "       'Jonkheer', 'Dona'], dtype=object)"
      ]
     },
     "execution_count": 29,
     "metadata": {},
     "output_type": "execute_result"
    }
   ],
   "source": [
    "all_data['Title'] = all_data['Name'].str.split(', ', expand=True)[1].str.split('.', expand=True)[0]\n",
    "all_data['Title'].unique()"
   ]
  },
  {
   "cell_type": "code",
   "execution_count": 30,
   "id": "b876f460",
   "metadata": {
    "execution": {
     "iopub.execute_input": "2022-06-24T01:52:22.104545Z",
     "iopub.status.busy": "2022-06-24T01:52:22.103922Z",
     "iopub.status.idle": "2022-06-24T01:52:22.112410Z",
     "shell.execute_reply": "2022-06-24T01:52:22.111765Z"
    },
    "papermill": {
     "duration": 0.030013,
     "end_time": "2022-06-24T01:52:22.114392",
     "exception": false,
     "start_time": "2022-06-24T01:52:22.084379",
     "status": "completed"
    },
    "tags": []
   },
   "outputs": [],
   "source": [
    "all_data['Title'] = all_data['Title'].replace(['Miss', 'Mrs','Ms', 'Mlle', 'Lady', 'Mme', 'the Countess', 'Dona'], 'Miss/Mrs/Ms')\n",
    "all_data['Title'] = all_data['Title'].replace(['Don', 'Rev', 'Sir', 'Master', 'Jonkheer'], 'Mr')\n",
    "all_data['Title'] = all_data['Title'].replace(['Dr', 'Major', 'Col', 'Capt'], 'Other')"
   ]
  },
  {
   "cell_type": "code",
   "execution_count": 31,
   "id": "4ef8ac02",
   "metadata": {
    "execution": {
     "iopub.execute_input": "2022-06-24T01:52:22.150702Z",
     "iopub.status.busy": "2022-06-24T01:52:22.150097Z",
     "iopub.status.idle": "2022-06-24T01:52:22.155461Z",
     "shell.execute_reply": "2022-06-24T01:52:22.154864Z"
    },
    "papermill": {
     "duration": 0.02546,
     "end_time": "2022-06-24T01:52:22.157101",
     "exception": false,
     "start_time": "2022-06-24T01:52:22.131641",
     "status": "completed"
    },
    "tags": []
   },
   "outputs": [
    {
     "data": {
      "text/plain": [
       "array(['Mr', 'Miss/Mrs/Ms', 'Other'], dtype=object)"
      ]
     },
     "execution_count": 31,
     "metadata": {},
     "output_type": "execute_result"
    }
   ],
   "source": [
    "all_data['Title'].unique()"
   ]
  },
  {
   "cell_type": "markdown",
   "id": "2b03f1f4",
   "metadata": {
    "papermill": {
     "duration": 0.017205,
     "end_time": "2022-06-24T01:52:22.191445",
     "exception": false,
     "start_time": "2022-06-24T01:52:22.174240",
     "status": "completed"
    },
    "tags": []
   },
   "source": [
    "## Menghapus Fitur-fitur yang Sudah tidak digunakan"
   ]
  },
  {
   "cell_type": "code",
   "execution_count": 32,
   "id": "a868164d",
   "metadata": {
    "execution": {
     "iopub.execute_input": "2022-06-24T01:52:22.228285Z",
     "iopub.status.busy": "2022-06-24T01:52:22.227617Z",
     "iopub.status.idle": "2022-06-24T01:52:22.242593Z",
     "shell.execute_reply": "2022-06-24T01:52:22.241429Z"
    },
    "papermill": {
     "duration": 0.035994,
     "end_time": "2022-06-24T01:52:22.244850",
     "exception": false,
     "start_time": "2022-06-24T01:52:22.208856",
     "status": "completed"
    },
    "tags": []
   },
   "outputs": [
    {
     "name": "stdout",
     "output_type": "stream",
     "text": [
      "<class 'pandas.core.frame.DataFrame'>\n",
      "Int64Index: 1309 entries, 0 to 417\n",
      "Data columns (total 10 columns):\n",
      " #   Column       Non-Null Count  Dtype  \n",
      "---  ------       --------------  -----  \n",
      " 0   PassengerId  1309 non-null   int64  \n",
      " 1   Survived     891 non-null    float64\n",
      " 2   Pclass       1309 non-null   int64  \n",
      " 3   Age          1309 non-null   float64\n",
      " 4   Fare         1309 non-null   float64\n",
      " 5   Embarked     1309 non-null   object \n",
      " 6   Family_size  1309 non-null   int64  \n",
      " 7   is_Alone     1309 non-null   int64  \n",
      " 8   is_female    1309 non-null   float64\n",
      " 9   Title        1309 non-null   object \n",
      "dtypes: float64(4), int64(4), object(2)\n",
      "memory usage: 112.5+ KB\n"
     ]
    }
   ],
   "source": [
    "all_data.drop(['Name', 'Sex', 'Parch', 'SibSp'], axis=1, inplace=True)\n",
    "all_data.info()"
   ]
  },
  {
   "cell_type": "markdown",
   "id": "d787c7ca",
   "metadata": {
    "papermill": {
     "duration": 0.017448,
     "end_time": "2022-06-24T01:52:22.279984",
     "exception": false,
     "start_time": "2022-06-24T01:52:22.262536",
     "status": "completed"
    },
    "tags": []
   },
   "source": [
    "## Menangani Fitur Non-Numerik"
   ]
  },
  {
   "cell_type": "code",
   "execution_count": 33,
   "id": "7e3e7c63",
   "metadata": {
    "execution": {
     "iopub.execute_input": "2022-06-24T01:52:22.316741Z",
     "iopub.status.busy": "2022-06-24T01:52:22.316104Z",
     "iopub.status.idle": "2022-06-24T01:52:22.323581Z",
     "shell.execute_reply": "2022-06-24T01:52:22.322899Z"
    },
    "papermill": {
     "duration": 0.027989,
     "end_time": "2022-06-24T01:52:22.325360",
     "exception": false,
     "start_time": "2022-06-24T01:52:22.297371",
     "status": "completed"
    },
    "tags": []
   },
   "outputs": [],
   "source": [
    "all_data['Title'] = all_data['Title'].replace(['Miss/Mrs/Ms'], 2)\n",
    "all_data['Title'] = all_data['Title'].replace(['Other'], 1)\n",
    "all_data['Title'] = all_data['Title'].replace(['Mr'], 0)"
   ]
  },
  {
   "cell_type": "code",
   "execution_count": 34,
   "id": "80c7a320",
   "metadata": {
    "execution": {
     "iopub.execute_input": "2022-06-24T01:52:22.361380Z",
     "iopub.status.busy": "2022-06-24T01:52:22.360961Z",
     "iopub.status.idle": "2022-06-24T01:52:22.370563Z",
     "shell.execute_reply": "2022-06-24T01:52:22.369912Z"
    },
    "papermill": {
     "duration": 0.029769,
     "end_time": "2022-06-24T01:52:22.372384",
     "exception": false,
     "start_time": "2022-06-24T01:52:22.342615",
     "status": "completed"
    },
    "tags": []
   },
   "outputs": [],
   "source": [
    "all_data = pd.get_dummies(all_data)"
   ]
  },
  {
   "cell_type": "code",
   "execution_count": 35,
   "id": "7886827f",
   "metadata": {
    "execution": {
     "iopub.execute_input": "2022-06-24T01:52:22.408996Z",
     "iopub.status.busy": "2022-06-24T01:52:22.408346Z",
     "iopub.status.idle": "2022-06-24T01:52:22.420908Z",
     "shell.execute_reply": "2022-06-24T01:52:22.419262Z"
    },
    "papermill": {
     "duration": 0.033896,
     "end_time": "2022-06-24T01:52:22.423451",
     "exception": false,
     "start_time": "2022-06-24T01:52:22.389555",
     "status": "completed"
    },
    "tags": []
   },
   "outputs": [
    {
     "name": "stdout",
     "output_type": "stream",
     "text": [
      "<class 'pandas.core.frame.DataFrame'>\n",
      "Int64Index: 1309 entries, 0 to 417\n",
      "Data columns (total 12 columns):\n",
      " #   Column       Non-Null Count  Dtype  \n",
      "---  ------       --------------  -----  \n",
      " 0   PassengerId  1309 non-null   int64  \n",
      " 1   Survived     891 non-null    float64\n",
      " 2   Pclass       1309 non-null   int64  \n",
      " 3   Age          1309 non-null   float64\n",
      " 4   Fare         1309 non-null   float64\n",
      " 5   Family_size  1309 non-null   int64  \n",
      " 6   is_Alone     1309 non-null   int64  \n",
      " 7   is_female    1309 non-null   float64\n",
      " 8   Title        1309 non-null   int64  \n",
      " 9   Embarked_C   1309 non-null   uint8  \n",
      " 10  Embarked_Q   1309 non-null   uint8  \n",
      " 11  Embarked_S   1309 non-null   uint8  \n",
      "dtypes: float64(4), int64(5), uint8(3)\n",
      "memory usage: 106.1 KB\n"
     ]
    }
   ],
   "source": [
    "all_data.info()"
   ]
  },
  {
   "cell_type": "markdown",
   "id": "5ebe196a",
   "metadata": {
    "papermill": {
     "duration": 0.017434,
     "end_time": "2022-06-24T01:52:22.458894",
     "exception": false,
     "start_time": "2022-06-24T01:52:22.441460",
     "status": "completed"
    },
    "tags": []
   },
   "source": [
    "## Memisahkan Train & Test"
   ]
  },
  {
   "cell_type": "code",
   "execution_count": 36,
   "id": "e8bcbc4b",
   "metadata": {
    "execution": {
     "iopub.execute_input": "2022-06-24T01:52:22.496369Z",
     "iopub.status.busy": "2022-06-24T01:52:22.495629Z",
     "iopub.status.idle": "2022-06-24T01:52:22.512072Z",
     "shell.execute_reply": "2022-06-24T01:52:22.511165Z"
    },
    "papermill": {
     "duration": 0.037832,
     "end_time": "2022-06-24T01:52:22.514227",
     "exception": false,
     "start_time": "2022-06-24T01:52:22.476395",
     "status": "completed"
    },
    "tags": []
   },
   "outputs": [
    {
     "data": {
      "text/html": [
       "<div>\n",
       "<style scoped>\n",
       "    .dataframe tbody tr th:only-of-type {\n",
       "        vertical-align: middle;\n",
       "    }\n",
       "\n",
       "    .dataframe tbody tr th {\n",
       "        vertical-align: top;\n",
       "    }\n",
       "\n",
       "    .dataframe thead th {\n",
       "        text-align: right;\n",
       "    }\n",
       "</style>\n",
       "<table border=\"1\" class=\"dataframe\">\n",
       "  <thead>\n",
       "    <tr style=\"text-align: right;\">\n",
       "      <th></th>\n",
       "      <th>Pclass</th>\n",
       "      <th>Age</th>\n",
       "      <th>Fare</th>\n",
       "      <th>Family_size</th>\n",
       "      <th>is_Alone</th>\n",
       "      <th>is_female</th>\n",
       "      <th>Title</th>\n",
       "      <th>Embarked_C</th>\n",
       "      <th>Embarked_Q</th>\n",
       "      <th>Embarked_S</th>\n",
       "    </tr>\n",
       "  </thead>\n",
       "  <tbody>\n",
       "    <tr>\n",
       "      <th>886</th>\n",
       "      <td>2</td>\n",
       "      <td>27.0</td>\n",
       "      <td>13.00</td>\n",
       "      <td>1</td>\n",
       "      <td>1</td>\n",
       "      <td>0.0</td>\n",
       "      <td>0</td>\n",
       "      <td>0</td>\n",
       "      <td>0</td>\n",
       "      <td>1</td>\n",
       "    </tr>\n",
       "    <tr>\n",
       "      <th>887</th>\n",
       "      <td>1</td>\n",
       "      <td>19.0</td>\n",
       "      <td>30.00</td>\n",
       "      <td>1</td>\n",
       "      <td>1</td>\n",
       "      <td>1.0</td>\n",
       "      <td>2</td>\n",
       "      <td>0</td>\n",
       "      <td>0</td>\n",
       "      <td>1</td>\n",
       "    </tr>\n",
       "    <tr>\n",
       "      <th>888</th>\n",
       "      <td>3</td>\n",
       "      <td>22.0</td>\n",
       "      <td>23.45</td>\n",
       "      <td>4</td>\n",
       "      <td>0</td>\n",
       "      <td>1.0</td>\n",
       "      <td>2</td>\n",
       "      <td>0</td>\n",
       "      <td>0</td>\n",
       "      <td>1</td>\n",
       "    </tr>\n",
       "    <tr>\n",
       "      <th>889</th>\n",
       "      <td>1</td>\n",
       "      <td>26.0</td>\n",
       "      <td>30.00</td>\n",
       "      <td>1</td>\n",
       "      <td>1</td>\n",
       "      <td>0.0</td>\n",
       "      <td>0</td>\n",
       "      <td>1</td>\n",
       "      <td>0</td>\n",
       "      <td>0</td>\n",
       "    </tr>\n",
       "    <tr>\n",
       "      <th>890</th>\n",
       "      <td>3</td>\n",
       "      <td>32.0</td>\n",
       "      <td>7.75</td>\n",
       "      <td>1</td>\n",
       "      <td>1</td>\n",
       "      <td>0.0</td>\n",
       "      <td>0</td>\n",
       "      <td>0</td>\n",
       "      <td>1</td>\n",
       "      <td>0</td>\n",
       "    </tr>\n",
       "  </tbody>\n",
       "</table>\n",
       "</div>"
      ],
      "text/plain": [
       "     Pclass   Age   Fare  Family_size  is_Alone  is_female  Title  Embarked_C  \\\n",
       "886       2  27.0  13.00            1         1        0.0      0           0   \n",
       "887       1  19.0  30.00            1         1        1.0      2           0   \n",
       "888       3  22.0  23.45            4         0        1.0      2           0   \n",
       "889       1  26.0  30.00            1         1        0.0      0           1   \n",
       "890       3  32.0   7.75            1         1        0.0      0           0   \n",
       "\n",
       "     Embarked_Q  Embarked_S  \n",
       "886           0           1  \n",
       "887           0           1  \n",
       "888           0           1  \n",
       "889           0           0  \n",
       "890           1           0  "
      ]
     },
     "execution_count": 36,
     "metadata": {},
     "output_type": "execute_result"
    }
   ],
   "source": [
    "X_train = all_data[:891]\n",
    "y_train = X_train.Survived.astype('int')\n",
    "X_train = X_train.drop(['PassengerId', 'Survived'], axis=1)\n",
    "X_train.tail()"
   ]
  },
  {
   "cell_type": "code",
   "execution_count": 37,
   "id": "b8217e08",
   "metadata": {
    "execution": {
     "iopub.execute_input": "2022-06-24T01:52:22.552428Z",
     "iopub.status.busy": "2022-06-24T01:52:22.551403Z",
     "iopub.status.idle": "2022-06-24T01:52:22.566581Z",
     "shell.execute_reply": "2022-06-24T01:52:22.565560Z"
    },
    "papermill": {
     "duration": 0.036028,
     "end_time": "2022-06-24T01:52:22.568558",
     "exception": false,
     "start_time": "2022-06-24T01:52:22.532530",
     "status": "completed"
    },
    "tags": []
   },
   "outputs": [
    {
     "data": {
      "text/html": [
       "<div>\n",
       "<style scoped>\n",
       "    .dataframe tbody tr th:only-of-type {\n",
       "        vertical-align: middle;\n",
       "    }\n",
       "\n",
       "    .dataframe tbody tr th {\n",
       "        vertical-align: top;\n",
       "    }\n",
       "\n",
       "    .dataframe thead th {\n",
       "        text-align: right;\n",
       "    }\n",
       "</style>\n",
       "<table border=\"1\" class=\"dataframe\">\n",
       "  <thead>\n",
       "    <tr style=\"text-align: right;\">\n",
       "      <th></th>\n",
       "      <th>Pclass</th>\n",
       "      <th>Age</th>\n",
       "      <th>Fare</th>\n",
       "      <th>Family_size</th>\n",
       "      <th>is_Alone</th>\n",
       "      <th>is_female</th>\n",
       "      <th>Title</th>\n",
       "      <th>Embarked_C</th>\n",
       "      <th>Embarked_Q</th>\n",
       "      <th>Embarked_S</th>\n",
       "    </tr>\n",
       "  </thead>\n",
       "  <tbody>\n",
       "    <tr>\n",
       "      <th>0</th>\n",
       "      <td>3</td>\n",
       "      <td>34.5</td>\n",
       "      <td>7.8292</td>\n",
       "      <td>1</td>\n",
       "      <td>1</td>\n",
       "      <td>0.0</td>\n",
       "      <td>0</td>\n",
       "      <td>0</td>\n",
       "      <td>1</td>\n",
       "      <td>0</td>\n",
       "    </tr>\n",
       "    <tr>\n",
       "      <th>1</th>\n",
       "      <td>3</td>\n",
       "      <td>47.0</td>\n",
       "      <td>7.0000</td>\n",
       "      <td>2</td>\n",
       "      <td>0</td>\n",
       "      <td>1.0</td>\n",
       "      <td>2</td>\n",
       "      <td>0</td>\n",
       "      <td>0</td>\n",
       "      <td>1</td>\n",
       "    </tr>\n",
       "    <tr>\n",
       "      <th>2</th>\n",
       "      <td>2</td>\n",
       "      <td>62.0</td>\n",
       "      <td>9.6875</td>\n",
       "      <td>1</td>\n",
       "      <td>1</td>\n",
       "      <td>0.0</td>\n",
       "      <td>0</td>\n",
       "      <td>0</td>\n",
       "      <td>1</td>\n",
       "      <td>0</td>\n",
       "    </tr>\n",
       "    <tr>\n",
       "      <th>3</th>\n",
       "      <td>3</td>\n",
       "      <td>27.0</td>\n",
       "      <td>8.6625</td>\n",
       "      <td>1</td>\n",
       "      <td>1</td>\n",
       "      <td>0.0</td>\n",
       "      <td>0</td>\n",
       "      <td>0</td>\n",
       "      <td>0</td>\n",
       "      <td>1</td>\n",
       "    </tr>\n",
       "    <tr>\n",
       "      <th>4</th>\n",
       "      <td>3</td>\n",
       "      <td>22.0</td>\n",
       "      <td>12.2875</td>\n",
       "      <td>3</td>\n",
       "      <td>0</td>\n",
       "      <td>1.0</td>\n",
       "      <td>2</td>\n",
       "      <td>0</td>\n",
       "      <td>0</td>\n",
       "      <td>1</td>\n",
       "    </tr>\n",
       "  </tbody>\n",
       "</table>\n",
       "</div>"
      ],
      "text/plain": [
       "   Pclass   Age     Fare  Family_size  is_Alone  is_female  Title  Embarked_C  \\\n",
       "0       3  34.5   7.8292            1         1        0.0      0           0   \n",
       "1       3  47.0   7.0000            2         0        1.0      2           0   \n",
       "2       2  62.0   9.6875            1         1        0.0      0           0   \n",
       "3       3  27.0   8.6625            1         1        0.0      0           0   \n",
       "4       3  22.0  12.2875            3         0        1.0      2           0   \n",
       "\n",
       "   Embarked_Q  Embarked_S  \n",
       "0           1           0  \n",
       "1           0           1  \n",
       "2           1           0  \n",
       "3           0           1  \n",
       "4           0           1  "
      ]
     },
     "execution_count": 37,
     "metadata": {},
     "output_type": "execute_result"
    }
   ],
   "source": [
    "X_test = all_data[891:]\n",
    "passengerID = X_test.PassengerId # Save passengerID untuk submission\n",
    "X_test = X_test.drop(['PassengerId', 'Survived'], axis=1)\n",
    "X_test.head()"
   ]
  },
  {
   "cell_type": "markdown",
   "id": "9583d6e8",
   "metadata": {
    "papermill": {
     "duration": 0.017434,
     "end_time": "2022-06-24T01:52:22.603786",
     "exception": false,
     "start_time": "2022-06-24T01:52:22.586352",
     "status": "completed"
    },
    "tags": []
   },
   "source": [
    "# Pemodelan\n",
    "Model yang akan digunakan ialah Random Forest, KNN, SVM, Logistic Regression, NaiveBayes, RelevanceVectorMachine"
   ]
  },
  {
   "cell_type": "code",
   "execution_count": 38,
   "id": "8c784d1c",
   "metadata": {
    "execution": {
     "iopub.execute_input": "2022-06-24T01:52:22.641487Z",
     "iopub.status.busy": "2022-06-24T01:52:22.640383Z",
     "iopub.status.idle": "2022-06-24T01:52:23.049508Z",
     "shell.execute_reply": "2022-06-24T01:52:23.048680Z"
    },
    "papermill": {
     "duration": 0.430136,
     "end_time": "2022-06-24T01:52:23.051739",
     "exception": false,
     "start_time": "2022-06-24T01:52:22.621603",
     "status": "completed"
    },
    "tags": []
   },
   "outputs": [],
   "source": [
    "from sklearn.model_selection import GridSearchCV, cross_val_score\n",
    "from sklearn.ensemble import RandomForestClassifier, GradientBoostingClassifier, StackingClassifier\n",
    "from sklearn.linear_model import LogisticRegression\n",
    "from sklearn.neighbors import KNeighborsClassifier\n",
    "from sklearn.preprocessing import StandardScaler, RobustScaler\n",
    "from sklearn.pipeline import make_pipeline\n",
    "from sklearn.metrics import accuracy_score\n",
    "from sklearn.svm import SVC\n",
    "from scipy.stats import mode"
   ]
  },
  {
   "cell_type": "code",
   "execution_count": 39,
   "id": "ae47cbf9",
   "metadata": {
    "execution": {
     "iopub.execute_input": "2022-06-24T01:52:23.090911Z",
     "iopub.status.busy": "2022-06-24T01:52:23.089864Z",
     "iopub.status.idle": "2022-06-24T01:52:23.095676Z",
     "shell.execute_reply": "2022-06-24T01:52:23.095065Z"
    },
    "papermill": {
     "duration": 0.027259,
     "end_time": "2022-06-24T01:52:23.097493",
     "exception": false,
     "start_time": "2022-06-24T01:52:23.070234",
     "status": "completed"
    },
    "tags": []
   },
   "outputs": [],
   "source": [
    "# get a stacking ensemble of models\n",
    "def get_stacking(models, final):\n",
    "    # define the base models\n",
    "    level0 = list()\n",
    "    for name, model in models.items():\n",
    "        level0.append((name, model))\n",
    "    # define meta learner model\n",
    "    level1 = final\n",
    "    # define the stacking ensemble\n",
    "    model = StackingClassifier(estimators=level0, final_estimator=level1, cv=5)\n",
    "    return model"
   ]
  },
  {
   "cell_type": "code",
   "execution_count": 40,
   "id": "11b67637",
   "metadata": {
    "execution": {
     "iopub.execute_input": "2022-06-24T01:52:23.136151Z",
     "iopub.status.busy": "2022-06-24T01:52:23.135419Z",
     "iopub.status.idle": "2022-06-24T01:52:23.140503Z",
     "shell.execute_reply": "2022-06-24T01:52:23.139917Z"
    },
    "papermill": {
     "duration": 0.026413,
     "end_time": "2022-06-24T01:52:23.142304",
     "exception": false,
     "start_time": "2022-06-24T01:52:23.115891",
     "status": "completed"
    },
    "tags": []
   },
   "outputs": [],
   "source": [
    "def accuracy(model):\n",
    "    acc = cross_val_score(model, X_train, y_train, cv=5, scoring='accuracy')\n",
    "    print(f'accuracy score : {acc}')\n",
    "    print(f'mean accuracy score : {np.mean(acc)} ({np.std(acc)})')"
   ]
  },
  {
   "cell_type": "code",
   "execution_count": 41,
   "id": "5b800705",
   "metadata": {
    "execution": {
     "iopub.execute_input": "2022-06-24T01:52:23.179995Z",
     "iopub.status.busy": "2022-06-24T01:52:23.179308Z",
     "iopub.status.idle": "2022-06-24T01:52:23.185950Z",
     "shell.execute_reply": "2022-06-24T01:52:23.185233Z"
    },
    "papermill": {
     "duration": 0.027903,
     "end_time": "2022-06-24T01:52:23.188074",
     "exception": false,
     "start_time": "2022-06-24T01:52:23.160171",
     "status": "completed"
    },
    "tags": []
   },
   "outputs": [],
   "source": [
    "def feature_importances(model):\n",
    "    importances = model.feature_importances_\n",
    "    feature_names = X_train.columns.values\n",
    "    \n",
    "    df_feature_importance = pd.DataFrame(index=range(len(feature_names)), columns=['feature', f'{model} importance'])\n",
    "    df_feature_importance['feature'] = feature_names\n",
    "    df_feature_importance[f'{model} importance'] = importances\n",
    "    df_all_features = df_feature_importance.sort_values(by=f'{model} importance', ascending=False)\n",
    "    \n",
    "    return df_all_features"
   ]
  },
  {
   "cell_type": "markdown",
   "id": "3e7bda0c",
   "metadata": {
    "papermill": {
     "duration": 0.0176,
     "end_time": "2022-06-24T01:52:23.224076",
     "exception": false,
     "start_time": "2022-06-24T01:52:23.206476",
     "status": "completed"
    },
    "tags": []
   },
   "source": [
    "## Random Forest"
   ]
  },
  {
   "cell_type": "code",
   "execution_count": 42,
   "id": "8fa6171f",
   "metadata": {
    "execution": {
     "iopub.execute_input": "2022-06-24T01:52:23.261541Z",
     "iopub.status.busy": "2022-06-24T01:52:23.260810Z",
     "iopub.status.idle": "2022-06-24T01:52:43.715539Z",
     "shell.execute_reply": "2022-06-24T01:52:43.714426Z"
    },
    "papermill": {
     "duration": 20.47573,
     "end_time": "2022-06-24T01:52:43.717555",
     "exception": false,
     "start_time": "2022-06-24T01:52:23.241825",
     "status": "completed"
    },
    "tags": []
   },
   "outputs": [
    {
     "name": "stdout",
     "output_type": "stream",
     "text": [
      "Fitting 5 folds for each of 42 candidates, totalling 210 fits\n",
      "Best parameter = {'min_samples_split': 10, 'n_estimators': 100}\n"
     ]
    }
   ],
   "source": [
    "parameter = {'n_estimators': list(range(50, 225, 25)),\n",
    "             'min_samples_split' : list(range(10,21,2))\n",
    "            }\n",
    "\n",
    "model_rf = GridSearchCV(RandomForestClassifier(random_state=0),\n",
    "                       parameter, n_jobs=-1, verbose=1)\n",
    "model_rf.fit(X_train, y_train)\n",
    "\n",
    "print(f'Best parameter = {model_rf.best_params_}')"
   ]
  },
  {
   "cell_type": "code",
   "execution_count": 43,
   "id": "af7f50e3",
   "metadata": {
    "execution": {
     "iopub.execute_input": "2022-06-24T01:52:43.756289Z",
     "iopub.status.busy": "2022-06-24T01:52:43.755626Z",
     "iopub.status.idle": "2022-06-24T01:52:44.588588Z",
     "shell.execute_reply": "2022-06-24T01:52:44.587200Z"
    },
    "papermill": {
     "duration": 0.855094,
     "end_time": "2022-06-24T01:52:44.590726",
     "exception": false,
     "start_time": "2022-06-24T01:52:43.735632",
     "status": "completed"
    },
    "tags": []
   },
   "outputs": [
    {
     "name": "stdout",
     "output_type": "stream",
     "text": [
      "accuracy score : [0.80446927 0.82022472 0.88202247 0.81460674 0.84269663]\n",
      "mean accuracy score : 0.832803967108154 (0.02761361013763097)\n"
     ]
    }
   ],
   "source": [
    "randfore = RandomForestClassifier(\n",
    "    n_estimators = model_rf.best_params_['n_estimators'],\n",
    "    min_samples_split = model_rf.best_params_['min_samples_split'], \n",
    "    random_state = 0)\n",
    "accuracy(randfore)"
   ]
  },
  {
   "cell_type": "code",
   "execution_count": 44,
   "id": "633f227c",
   "metadata": {
    "execution": {
     "iopub.execute_input": "2022-06-24T01:52:44.629375Z",
     "iopub.status.busy": "2022-06-24T01:52:44.628855Z",
     "iopub.status.idle": "2022-06-24T01:52:44.813817Z",
     "shell.execute_reply": "2022-06-24T01:52:44.812726Z"
    },
    "papermill": {
     "duration": 0.206323,
     "end_time": "2022-06-24T01:52:44.815693",
     "exception": false,
     "start_time": "2022-06-24T01:52:44.609370",
     "status": "completed"
    },
    "tags": []
   },
   "outputs": [
    {
     "data": {
      "text/html": [
       "<div>\n",
       "<style scoped>\n",
       "    .dataframe tbody tr th:only-of-type {\n",
       "        vertical-align: middle;\n",
       "    }\n",
       "\n",
       "    .dataframe tbody tr th {\n",
       "        vertical-align: top;\n",
       "    }\n",
       "\n",
       "    .dataframe thead th {\n",
       "        text-align: right;\n",
       "    }\n",
       "</style>\n",
       "<table border=\"1\" class=\"dataframe\">\n",
       "  <thead>\n",
       "    <tr style=\"text-align: right;\">\n",
       "      <th></th>\n",
       "      <th>feature</th>\n",
       "      <th>RandomForestClassifier(min_samples_split=10, random_state=0) importance</th>\n",
       "    </tr>\n",
       "  </thead>\n",
       "  <tbody>\n",
       "    <tr>\n",
       "      <th>2</th>\n",
       "      <td>Fare</td>\n",
       "      <td>0.202835</td>\n",
       "    </tr>\n",
       "    <tr>\n",
       "      <th>6</th>\n",
       "      <td>Title</td>\n",
       "      <td>0.199305</td>\n",
       "    </tr>\n",
       "    <tr>\n",
       "      <th>5</th>\n",
       "      <td>is_female</td>\n",
       "      <td>0.193052</td>\n",
       "    </tr>\n",
       "    <tr>\n",
       "      <th>1</th>\n",
       "      <td>Age</td>\n",
       "      <td>0.184856</td>\n",
       "    </tr>\n",
       "    <tr>\n",
       "      <th>0</th>\n",
       "      <td>Pclass</td>\n",
       "      <td>0.106106</td>\n",
       "    </tr>\n",
       "    <tr>\n",
       "      <th>3</th>\n",
       "      <td>Family_size</td>\n",
       "      <td>0.065897</td>\n",
       "    </tr>\n",
       "    <tr>\n",
       "      <th>9</th>\n",
       "      <td>Embarked_S</td>\n",
       "      <td>0.014077</td>\n",
       "    </tr>\n",
       "    <tr>\n",
       "      <th>7</th>\n",
       "      <td>Embarked_C</td>\n",
       "      <td>0.013842</td>\n",
       "    </tr>\n",
       "    <tr>\n",
       "      <th>4</th>\n",
       "      <td>is_Alone</td>\n",
       "      <td>0.012026</td>\n",
       "    </tr>\n",
       "    <tr>\n",
       "      <th>8</th>\n",
       "      <td>Embarked_Q</td>\n",
       "      <td>0.008003</td>\n",
       "    </tr>\n",
       "  </tbody>\n",
       "</table>\n",
       "</div>"
      ],
      "text/plain": [
       "       feature  \\\n",
       "2         Fare   \n",
       "6        Title   \n",
       "5    is_female   \n",
       "1          Age   \n",
       "0       Pclass   \n",
       "3  Family_size   \n",
       "9   Embarked_S   \n",
       "7   Embarked_C   \n",
       "4     is_Alone   \n",
       "8   Embarked_Q   \n",
       "\n",
       "   RandomForestClassifier(min_samples_split=10, random_state=0) importance  \n",
       "2                                           0.202835                        \n",
       "6                                           0.199305                        \n",
       "5                                           0.193052                        \n",
       "1                                           0.184856                        \n",
       "0                                           0.106106                        \n",
       "3                                           0.065897                        \n",
       "9                                           0.014077                        \n",
       "7                                           0.013842                        \n",
       "4                                           0.012026                        \n",
       "8                                           0.008003                        "
      ]
     },
     "execution_count": 44,
     "metadata": {},
     "output_type": "execute_result"
    }
   ],
   "source": [
    "randfore.fit(X_train, y_train)\n",
    "feature_importances(randfore)"
   ]
  },
  {
   "cell_type": "markdown",
   "id": "4acdd2b3",
   "metadata": {
    "papermill": {
     "duration": 0.01829,
     "end_time": "2022-06-24T01:52:44.852805",
     "exception": false,
     "start_time": "2022-06-24T01:52:44.834515",
     "status": "completed"
    },
    "tags": []
   },
   "source": [
    "## K-Nearest Neighbors"
   ]
  },
  {
   "cell_type": "code",
   "execution_count": 45,
   "id": "c1abc9dd",
   "metadata": {
    "execution": {
     "iopub.execute_input": "2022-06-24T01:52:44.890549Z",
     "iopub.status.busy": "2022-06-24T01:52:44.890192Z",
     "iopub.status.idle": "2022-06-24T01:52:45.084914Z",
     "shell.execute_reply": "2022-06-24T01:52:45.083887Z"
    },
    "papermill": {
     "duration": 0.21596,
     "end_time": "2022-06-24T01:52:45.086898",
     "exception": false,
     "start_time": "2022-06-24T01:52:44.870938",
     "status": "completed"
    },
    "tags": []
   },
   "outputs": [
    {
     "name": "stdout",
     "output_type": "stream",
     "text": [
      "Fitting 5 folds for each of 8 candidates, totalling 40 fits\n",
      "Best parameter = {'n_neighbors': 13}\n"
     ]
    }
   ],
   "source": [
    "parameter = {'n_neighbors': list(range(1,16,2))}\n",
    "\n",
    "model_knn = GridSearchCV(KNeighborsClassifier(),\n",
    "                       parameter, n_jobs=-1, verbose=1)\n",
    "model_knn.fit(StandardScaler().fit_transform(X_train), y_train)\n",
    "\n",
    "print(f'Best parameter = {model_knn.best_params_}')"
   ]
  },
  {
   "cell_type": "code",
   "execution_count": 46,
   "id": "a439fda9",
   "metadata": {
    "execution": {
     "iopub.execute_input": "2022-06-24T01:52:45.125847Z",
     "iopub.status.busy": "2022-06-24T01:52:45.125180Z",
     "iopub.status.idle": "2022-06-24T01:52:45.204619Z",
     "shell.execute_reply": "2022-06-24T01:52:45.203517Z"
    },
    "papermill": {
     "duration": 0.101633,
     "end_time": "2022-06-24T01:52:45.207078",
     "exception": false,
     "start_time": "2022-06-24T01:52:45.105445",
     "status": "completed"
    },
    "tags": []
   },
   "outputs": [
    {
     "name": "stdout",
     "output_type": "stream",
     "text": [
      "accuracy score : [0.81564246 0.79775281 0.80898876 0.79775281 0.80898876]\n",
      "mean accuracy score : 0.8058251208335949 (0.007024554431295106)\n"
     ]
    }
   ],
   "source": [
    "knn = KNeighborsClassifier(n_neighbors=model_knn.best_params_['n_neighbors'])\n",
    "knn_pl = make_pipeline(StandardScaler(), knn)\n",
    "accuracy(knn_pl)"
   ]
  },
  {
   "cell_type": "markdown",
   "id": "ff9c3f9c",
   "metadata": {
    "papermill": {
     "duration": 0.018631,
     "end_time": "2022-06-24T01:52:45.245250",
     "exception": false,
     "start_time": "2022-06-24T01:52:45.226619",
     "status": "completed"
    },
    "tags": []
   },
   "source": [
    "## Logistic Regeression"
   ]
  },
  {
   "cell_type": "code",
   "execution_count": 47,
   "id": "15079646",
   "metadata": {
    "execution": {
     "iopub.execute_input": "2022-06-24T01:52:45.283606Z",
     "iopub.status.busy": "2022-06-24T01:52:45.283231Z",
     "iopub.status.idle": "2022-06-24T01:52:45.738166Z",
     "shell.execute_reply": "2022-06-24T01:52:45.737374Z"
    },
    "papermill": {
     "duration": 0.47656,
     "end_time": "2022-06-24T01:52:45.740321",
     "exception": false,
     "start_time": "2022-06-24T01:52:45.263761",
     "status": "completed"
    },
    "tags": []
   },
   "outputs": [
    {
     "name": "stdout",
     "output_type": "stream",
     "text": [
      "accuracy score : [0.7877095  0.80337079 0.79775281 0.80898876 0.82022472]\n",
      "mean accuracy score : 0.8036093151716777 (0.010882737613557647)\n"
     ]
    }
   ],
   "source": [
    "logreg=LogisticRegression(max_iter=1000)\n",
    "model_logreg = make_pipeline(RobustScaler(), logreg)\n",
    "accuracy(logreg)"
   ]
  },
  {
   "cell_type": "markdown",
   "id": "c0a9d05e",
   "metadata": {
    "papermill": {
     "duration": 0.019353,
     "end_time": "2022-06-24T01:52:45.778740",
     "exception": false,
     "start_time": "2022-06-24T01:52:45.759387",
     "status": "completed"
    },
    "tags": []
   },
   "source": [
    "## Support Vector Machine (SV Classifier)"
   ]
  },
  {
   "cell_type": "code",
   "execution_count": 48,
   "id": "52b2c310",
   "metadata": {
    "execution": {
     "iopub.execute_input": "2022-06-24T01:52:45.819052Z",
     "iopub.status.busy": "2022-06-24T01:52:45.817829Z",
     "iopub.status.idle": "2022-06-24T01:52:47.493983Z",
     "shell.execute_reply": "2022-06-24T01:52:47.492848Z"
    },
    "papermill": {
     "duration": 1.698295,
     "end_time": "2022-06-24T01:52:47.496176",
     "exception": false,
     "start_time": "2022-06-24T01:52:45.797881",
     "status": "completed"
    },
    "tags": []
   },
   "outputs": [
    {
     "name": "stdout",
     "output_type": "stream",
     "text": [
      "Fitting 5 folds for each of 24 candidates, totalling 120 fits\n",
      "Best parameter = {'C': 2, 'gamma': 'scale'}\n"
     ]
    }
   ],
   "source": [
    "parameter = {'C': list(range(2,25,2)),\n",
    "             'gamma' : ['scale', 'auto']\n",
    "            }\n",
    "\n",
    "model_sv = GridSearchCV(SVC(),\n",
    "                       parameter, n_jobs=-1, verbose=1)\n",
    "\n",
    "model_sv.fit(StandardScaler().fit_transform(X_train), y_train)\n",
    "\n",
    "print(f'Best parameter = {model_sv.best_params_}')"
   ]
  },
  {
   "cell_type": "code",
   "execution_count": 49,
   "id": "16879a2b",
   "metadata": {
    "execution": {
     "iopub.execute_input": "2022-06-24T01:52:47.536380Z",
     "iopub.status.busy": "2022-06-24T01:52:47.535753Z",
     "iopub.status.idle": "2022-06-24T01:52:47.681453Z",
     "shell.execute_reply": "2022-06-24T01:52:47.680552Z"
    },
    "papermill": {
     "duration": 0.169727,
     "end_time": "2022-06-24T01:52:47.684689",
     "exception": false,
     "start_time": "2022-06-24T01:52:47.514962",
     "status": "completed"
    },
    "tags": []
   },
   "outputs": [
    {
     "name": "stdout",
     "output_type": "stream",
     "text": [
      "accuracy score : [0.81564246 0.82022472 0.80898876 0.79775281 0.87640449]\n",
      "mean accuracy score : 0.8238026489234824 (0.02736563460818489)\n"
     ]
    }
   ],
   "source": [
    "sv = SVC(\n",
    "    C = model_sv.best_params_['C'], \n",
    "    kernel ='rbf',\n",
    "    gamma = model_sv.best_params_['gamma'],\n",
    ")\n",
    "sv_pl = make_pipeline(StandardScaler(), sv)\n",
    "\n",
    "accuracy(sv_pl)"
   ]
  },
  {
   "cell_type": "markdown",
   "id": "f15962f3",
   "metadata": {
    "papermill": {
     "duration": 0.018456,
     "end_time": "2022-06-24T01:52:47.723616",
     "exception": false,
     "start_time": "2022-06-24T01:52:47.705160",
     "status": "completed"
    },
    "tags": []
   },
   "source": [
    "## Gradient Boosting"
   ]
  },
  {
   "cell_type": "code",
   "execution_count": 50,
   "id": "110160a8",
   "metadata": {
    "execution": {
     "iopub.execute_input": "2022-06-24T01:52:47.763692Z",
     "iopub.status.busy": "2022-06-24T01:52:47.762949Z",
     "iopub.status.idle": "2022-06-24T01:52:49.707304Z",
     "shell.execute_reply": "2022-06-24T01:52:49.705919Z"
    },
    "papermill": {
     "duration": 1.967405,
     "end_time": "2022-06-24T01:52:49.710267",
     "exception": false,
     "start_time": "2022-06-24T01:52:47.742862",
     "status": "completed"
    },
    "tags": []
   },
   "outputs": [
    {
     "name": "stdout",
     "output_type": "stream",
     "text": [
      "Fitting 5 folds for each of 9 candidates, totalling 45 fits\n",
      "Best parameter = {'learning_rate': 0.1, 'max_leaf_nodes': 8, 'min_samples_split': 20}\n"
     ]
    }
   ],
   "source": [
    "parameter = {'learning_rate': list(np.arange(0.1, 0.6)),\n",
    "             'min_samples_split' : [10, 15, 20],\n",
    "             'max_leaf_nodes' : [8, 16, 32]\n",
    "            }\n",
    "\n",
    "model_gb = GridSearchCV(GradientBoostingClassifier(),\n",
    "                       parameter, n_jobs=-1, verbose=1)\n",
    "model_gb.fit(X_train, y_train)\n",
    "\n",
    "print(f'Best parameter = {model_gb.best_params_}')"
   ]
  },
  {
   "cell_type": "code",
   "execution_count": 51,
   "id": "5f8543d9",
   "metadata": {
    "execution": {
     "iopub.execute_input": "2022-06-24T01:52:49.750844Z",
     "iopub.status.busy": "2022-06-24T01:52:49.750404Z",
     "iopub.status.idle": "2022-06-24T01:52:50.241302Z",
     "shell.execute_reply": "2022-06-24T01:52:50.240297Z"
    },
    "papermill": {
     "duration": 0.514073,
     "end_time": "2022-06-24T01:52:50.244337",
     "exception": false,
     "start_time": "2022-06-24T01:52:49.730264",
     "status": "completed"
    },
    "tags": []
   },
   "outputs": [
    {
     "name": "stdout",
     "output_type": "stream",
     "text": [
      "accuracy score : [0.81564246 0.80898876 0.87078652 0.82022472 0.83707865]\n",
      "mean accuracy score : 0.8305442219571904 (0.022160025006624007)\n"
     ]
    }
   ],
   "source": [
    "gb = GradientBoostingClassifier(\n",
    "    learning_rate = model_gb.best_params_['learning_rate'], \n",
    "    min_samples_split = model_gb.best_params_['min_samples_split'], \n",
    "    max_leaf_nodes = model_gb.best_params_['max_leaf_nodes']\n",
    ")\n",
    "accuracy(gb)"
   ]
  },
  {
   "cell_type": "code",
   "execution_count": 52,
   "id": "a1d08749",
   "metadata": {
    "execution": {
     "iopub.execute_input": "2022-06-24T01:52:50.287030Z",
     "iopub.status.busy": "2022-06-24T01:52:50.285539Z",
     "iopub.status.idle": "2022-06-24T01:52:50.411227Z",
     "shell.execute_reply": "2022-06-24T01:52:50.410231Z"
    },
    "papermill": {
     "duration": 0.148076,
     "end_time": "2022-06-24T01:52:50.413241",
     "exception": false,
     "start_time": "2022-06-24T01:52:50.265165",
     "status": "completed"
    },
    "tags": []
   },
   "outputs": [
    {
     "data": {
      "text/html": [
       "<div>\n",
       "<style scoped>\n",
       "    .dataframe tbody tr th:only-of-type {\n",
       "        vertical-align: middle;\n",
       "    }\n",
       "\n",
       "    .dataframe tbody tr th {\n",
       "        vertical-align: top;\n",
       "    }\n",
       "\n",
       "    .dataframe thead th {\n",
       "        text-align: right;\n",
       "    }\n",
       "</style>\n",
       "<table border=\"1\" class=\"dataframe\">\n",
       "  <thead>\n",
       "    <tr style=\"text-align: right;\">\n",
       "      <th></th>\n",
       "      <th>feature</th>\n",
       "      <th>GradientBoostingClassifier(max_leaf_nodes=8, min_samples_split=20) importance</th>\n",
       "    </tr>\n",
       "  </thead>\n",
       "  <tbody>\n",
       "    <tr>\n",
       "      <th>5</th>\n",
       "      <td>is_female</td>\n",
       "      <td>0.460308</td>\n",
       "    </tr>\n",
       "    <tr>\n",
       "      <th>0</th>\n",
       "      <td>Pclass</td>\n",
       "      <td>0.151038</td>\n",
       "    </tr>\n",
       "    <tr>\n",
       "      <th>2</th>\n",
       "      <td>Fare</td>\n",
       "      <td>0.141631</td>\n",
       "    </tr>\n",
       "    <tr>\n",
       "      <th>1</th>\n",
       "      <td>Age</td>\n",
       "      <td>0.120930</td>\n",
       "    </tr>\n",
       "    <tr>\n",
       "      <th>3</th>\n",
       "      <td>Family_size</td>\n",
       "      <td>0.078396</td>\n",
       "    </tr>\n",
       "    <tr>\n",
       "      <th>6</th>\n",
       "      <td>Title</td>\n",
       "      <td>0.025522</td>\n",
       "    </tr>\n",
       "    <tr>\n",
       "      <th>9</th>\n",
       "      <td>Embarked_S</td>\n",
       "      <td>0.014110</td>\n",
       "    </tr>\n",
       "    <tr>\n",
       "      <th>7</th>\n",
       "      <td>Embarked_C</td>\n",
       "      <td>0.004937</td>\n",
       "    </tr>\n",
       "    <tr>\n",
       "      <th>8</th>\n",
       "      <td>Embarked_Q</td>\n",
       "      <td>0.002513</td>\n",
       "    </tr>\n",
       "    <tr>\n",
       "      <th>4</th>\n",
       "      <td>is_Alone</td>\n",
       "      <td>0.000615</td>\n",
       "    </tr>\n",
       "  </tbody>\n",
       "</table>\n",
       "</div>"
      ],
      "text/plain": [
       "       feature  \\\n",
       "5    is_female   \n",
       "0       Pclass   \n",
       "2         Fare   \n",
       "1          Age   \n",
       "3  Family_size   \n",
       "6        Title   \n",
       "9   Embarked_S   \n",
       "7   Embarked_C   \n",
       "8   Embarked_Q   \n",
       "4     is_Alone   \n",
       "\n",
       "   GradientBoostingClassifier(max_leaf_nodes=8, min_samples_split=20) importance  \n",
       "5                                           0.460308                              \n",
       "0                                           0.151038                              \n",
       "2                                           0.141631                              \n",
       "1                                           0.120930                              \n",
       "3                                           0.078396                              \n",
       "6                                           0.025522                              \n",
       "9                                           0.014110                              \n",
       "7                                           0.004937                              \n",
       "8                                           0.002513                              \n",
       "4                                           0.000615                              "
      ]
     },
     "execution_count": 52,
     "metadata": {},
     "output_type": "execute_result"
    }
   ],
   "source": [
    "gb.fit(X_train, y_train)\n",
    "feature_importances(gb)"
   ]
  },
  {
   "cell_type": "markdown",
   "id": "382f8dcd",
   "metadata": {
    "papermill": {
     "duration": 0.019055,
     "end_time": "2022-06-24T01:52:50.451464",
     "exception": false,
     "start_time": "2022-06-24T01:52:50.432409",
     "status": "completed"
    },
    "tags": []
   },
   "source": [
    "## Stacking"
   ]
  },
  {
   "cell_type": "code",
   "execution_count": 53,
   "id": "0f04ee4f",
   "metadata": {
    "execution": {
     "iopub.execute_input": "2022-06-24T01:52:50.492081Z",
     "iopub.status.busy": "2022-06-24T01:52:50.491054Z",
     "iopub.status.idle": "2022-06-24T01:52:58.925750Z",
     "shell.execute_reply": "2022-06-24T01:52:58.924651Z"
    },
    "papermill": {
     "duration": 8.457798,
     "end_time": "2022-06-24T01:52:58.928493",
     "exception": false,
     "start_time": "2022-06-24T01:52:50.470695",
     "status": "completed"
    },
    "tags": []
   },
   "outputs": [
    {
     "name": "stdout",
     "output_type": "stream",
     "text": [
      "accuracy score : [0.78212291 0.82022472 0.86516854 0.80337079 0.8258427 ]\n",
      "mean accuracy score : 0.8193459293201932 (0.027508000907829545)\n"
     ]
    }
   ],
   "source": [
    "models = {\n",
    "    'Random Forest':randfore,\n",
    "    'K-Nearest Neighbors':knn_pl,\n",
    "    'Gradient Boosting': gb,\n",
    "    'Support Vector Machine' : sv\n",
    "    \n",
    "}\n",
    "model_stack = get_stacking(models, logreg)\n",
    "accuracy(model_stack)"
   ]
  },
  {
   "cell_type": "code",
   "execution_count": 54,
   "id": "0081a67a",
   "metadata": {
    "execution": {
     "iopub.execute_input": "2022-06-24T01:52:58.971052Z",
     "iopub.status.busy": "2022-06-24T01:52:58.970200Z",
     "iopub.status.idle": "2022-06-24T01:53:00.846161Z",
     "shell.execute_reply": "2022-06-24T01:53:00.845424Z"
    },
    "papermill": {
     "duration": 1.898917,
     "end_time": "2022-06-24T01:53:00.848464",
     "exception": false,
     "start_time": "2022-06-24T01:52:58.949547",
     "status": "completed"
    },
    "tags": []
   },
   "outputs": [],
   "source": [
    "model_stack.fit(X_train, y_train)\n",
    "y_pred = model_stack.predict(X_test)"
   ]
  },
  {
   "cell_type": "code",
   "execution_count": 55,
   "id": "d72e9dec",
   "metadata": {
    "execution": {
     "iopub.execute_input": "2022-06-24T01:53:00.889309Z",
     "iopub.status.busy": "2022-06-24T01:53:00.888852Z",
     "iopub.status.idle": "2022-06-24T01:53:00.893736Z",
     "shell.execute_reply": "2022-06-24T01:53:00.893033Z"
    },
    "papermill": {
     "duration": 0.02708,
     "end_time": "2022-06-24T01:53:00.895350",
     "exception": false,
     "start_time": "2022-06-24T01:53:00.868270",
     "status": "completed"
    },
    "tags": []
   },
   "outputs": [],
   "source": [
    "d_stack = {'PassengerId': passengerID, 'Survived': y_pred}\n",
    "sub_stack = pd.DataFrame(data=d_stack)"
   ]
  },
  {
   "cell_type": "code",
   "execution_count": 56,
   "id": "fd6494aa",
   "metadata": {
    "execution": {
     "iopub.execute_input": "2022-06-24T01:53:00.936498Z",
     "iopub.status.busy": "2022-06-24T01:53:00.935474Z",
     "iopub.status.idle": "2022-06-24T01:53:00.945966Z",
     "shell.execute_reply": "2022-06-24T01:53:00.945220Z"
    },
    "papermill": {
     "duration": 0.032815,
     "end_time": "2022-06-24T01:53:00.947765",
     "exception": false,
     "start_time": "2022-06-24T01:53:00.914950",
     "status": "completed"
    },
    "tags": []
   },
   "outputs": [
    {
     "data": {
      "text/html": [
       "<div>\n",
       "<style scoped>\n",
       "    .dataframe tbody tr th:only-of-type {\n",
       "        vertical-align: middle;\n",
       "    }\n",
       "\n",
       "    .dataframe tbody tr th {\n",
       "        vertical-align: top;\n",
       "    }\n",
       "\n",
       "    .dataframe thead th {\n",
       "        text-align: right;\n",
       "    }\n",
       "</style>\n",
       "<table border=\"1\" class=\"dataframe\">\n",
       "  <thead>\n",
       "    <tr style=\"text-align: right;\">\n",
       "      <th></th>\n",
       "      <th>PassengerId</th>\n",
       "      <th>Survived</th>\n",
       "    </tr>\n",
       "  </thead>\n",
       "  <tbody>\n",
       "    <tr>\n",
       "      <th>0</th>\n",
       "      <td>892</td>\n",
       "      <td>0</td>\n",
       "    </tr>\n",
       "    <tr>\n",
       "      <th>1</th>\n",
       "      <td>893</td>\n",
       "      <td>0</td>\n",
       "    </tr>\n",
       "    <tr>\n",
       "      <th>2</th>\n",
       "      <td>894</td>\n",
       "      <td>0</td>\n",
       "    </tr>\n",
       "    <tr>\n",
       "      <th>3</th>\n",
       "      <td>895</td>\n",
       "      <td>0</td>\n",
       "    </tr>\n",
       "    <tr>\n",
       "      <th>4</th>\n",
       "      <td>896</td>\n",
       "      <td>0</td>\n",
       "    </tr>\n",
       "    <tr>\n",
       "      <th>...</th>\n",
       "      <td>...</td>\n",
       "      <td>...</td>\n",
       "    </tr>\n",
       "    <tr>\n",
       "      <th>413</th>\n",
       "      <td>1305</td>\n",
       "      <td>0</td>\n",
       "    </tr>\n",
       "    <tr>\n",
       "      <th>414</th>\n",
       "      <td>1306</td>\n",
       "      <td>1</td>\n",
       "    </tr>\n",
       "    <tr>\n",
       "      <th>415</th>\n",
       "      <td>1307</td>\n",
       "      <td>0</td>\n",
       "    </tr>\n",
       "    <tr>\n",
       "      <th>416</th>\n",
       "      <td>1308</td>\n",
       "      <td>0</td>\n",
       "    </tr>\n",
       "    <tr>\n",
       "      <th>417</th>\n",
       "      <td>1309</td>\n",
       "      <td>0</td>\n",
       "    </tr>\n",
       "  </tbody>\n",
       "</table>\n",
       "<p>418 rows × 2 columns</p>\n",
       "</div>"
      ],
      "text/plain": [
       "     PassengerId  Survived\n",
       "0            892         0\n",
       "1            893         0\n",
       "2            894         0\n",
       "3            895         0\n",
       "4            896         0\n",
       "..           ...       ...\n",
       "413         1305         0\n",
       "414         1306         1\n",
       "415         1307         0\n",
       "416         1308         0\n",
       "417         1309         0\n",
       "\n",
       "[418 rows x 2 columns]"
      ]
     },
     "execution_count": 56,
     "metadata": {},
     "output_type": "execute_result"
    }
   ],
   "source": [
    "sub_stack"
   ]
  },
  {
   "cell_type": "code",
   "execution_count": 57,
   "id": "f14e4540",
   "metadata": {
    "execution": {
     "iopub.execute_input": "2022-06-24T01:53:00.988695Z",
     "iopub.status.busy": "2022-06-24T01:53:00.988042Z",
     "iopub.status.idle": "2022-06-24T01:53:00.995781Z",
     "shell.execute_reply": "2022-06-24T01:53:00.994811Z"
    },
    "papermill": {
     "duration": 0.030841,
     "end_time": "2022-06-24T01:53:00.998021",
     "exception": false,
     "start_time": "2022-06-24T01:53:00.967180",
     "status": "completed"
    },
    "tags": []
   },
   "outputs": [],
   "source": [
    "sub_stack.to_csv('submission.csv', index=False)"
   ]
  },
  {
   "cell_type": "code",
   "execution_count": null,
   "id": "63e24488",
   "metadata": {
    "papermill": {
     "duration": 0.01897,
     "end_time": "2022-06-24T01:53:01.036734",
     "exception": false,
     "start_time": "2022-06-24T01:53:01.017764",
     "status": "completed"
    },
    "tags": []
   },
   "outputs": [],
   "source": []
  }
 ],
 "metadata": {
  "kernelspec": {
   "display_name": "Python 3",
   "language": "python",
   "name": "python3"
  },
  "language_info": {
   "codemirror_mode": {
    "name": "ipython",
    "version": 3
   },
   "file_extension": ".py",
   "mimetype": "text/x-python",
   "name": "python",
   "nbconvert_exporter": "python",
   "pygments_lexer": "ipython3",
   "version": "3.7.12"
  },
  "papermill": {
   "default_parameters": {},
   "duration": 53.956185,
   "end_time": "2022-06-24T01:53:03.677174",
   "environment_variables": {},
   "exception": null,
   "input_path": "__notebook__.ipynb",
   "output_path": "__notebook__.ipynb",
   "parameters": {},
   "start_time": "2022-06-24T01:52:09.720989",
   "version": "2.3.4"
  }
 },
 "nbformat": 4,
 "nbformat_minor": 5
}
