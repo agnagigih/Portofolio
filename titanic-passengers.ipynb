{
 "cells": [
  {
   "cell_type": "code",
   "execution_count": 1,
   "id": "fac44aa2",
   "metadata": {
    "_cell_guid": "b1076dfc-b9ad-4769-8c92-a6c4dae69d19",
    "_uuid": "8f2839f25d086af736a60e9eeb907d3b93b6e0e5",
    "execution": {
     "iopub.execute_input": "2022-06-21T05:52:24.577005Z",
     "iopub.status.busy": "2022-06-21T05:52:24.576407Z",
     "iopub.status.idle": "2022-06-21T05:52:25.792112Z",
     "shell.execute_reply": "2022-06-21T05:52:25.790879Z"
    },
    "papermill": {
     "duration": 1.243214,
     "end_time": "2022-06-21T05:52:25.795356",
     "exception": false,
     "start_time": "2022-06-21T05:52:24.552142",
     "status": "completed"
    },
    "tags": []
   },
   "outputs": [
    {
     "name": "stdout",
     "output_type": "stream",
     "text": [
      "/kaggle/input/titanic/train.csv\n",
      "/kaggle/input/titanic/test.csv\n",
      "/kaggle/input/titanic/gender_submission.csv\n"
     ]
    }
   ],
   "source": [
    "import numpy as np # linear algebra\n",
    "import pandas as pd # data processing, CSV file I/O (e.g. pd.read_csv)\n",
    "import matplotlib.pyplot as plt\n",
    "import seaborn as sns\n",
    "\n",
    "import os\n",
    "for dirname, _, filenames in os.walk('/kaggle/input'):\n",
    "    for filename in filenames:\n",
    "        print(os.path.join(dirname, filename))\n",
    "\n",
    "# You can write up to 20GB to the current directory (/kaggle/working/) that gets preserved as output when you create a version using \"Save & Run All\" \n",
    "# You can also write temporary files to /kaggle/temp/, but they won't be saved outside of the current session"
   ]
  },
  {
   "cell_type": "code",
   "execution_count": 2,
   "id": "fd3369ac",
   "metadata": {
    "execution": {
     "iopub.execute_input": "2022-06-21T05:52:25.840351Z",
     "iopub.status.busy": "2022-06-21T05:52:25.839357Z",
     "iopub.status.idle": "2022-06-21T05:52:25.892471Z",
     "shell.execute_reply": "2022-06-21T05:52:25.891366Z"
    },
    "papermill": {
     "duration": 0.078288,
     "end_time": "2022-06-21T05:52:25.895024",
     "exception": false,
     "start_time": "2022-06-21T05:52:25.816736",
     "status": "completed"
    },
    "tags": []
   },
   "outputs": [
    {
     "data": {
      "text/html": [
       "<div>\n",
       "<style scoped>\n",
       "    .dataframe tbody tr th:only-of-type {\n",
       "        vertical-align: middle;\n",
       "    }\n",
       "\n",
       "    .dataframe tbody tr th {\n",
       "        vertical-align: top;\n",
       "    }\n",
       "\n",
       "    .dataframe thead th {\n",
       "        text-align: right;\n",
       "    }\n",
       "</style>\n",
       "<table border=\"1\" class=\"dataframe\">\n",
       "  <thead>\n",
       "    <tr style=\"text-align: right;\">\n",
       "      <th></th>\n",
       "      <th>PassengerId</th>\n",
       "      <th>Survived</th>\n",
       "      <th>Pclass</th>\n",
       "      <th>Name</th>\n",
       "      <th>Sex</th>\n",
       "      <th>Age</th>\n",
       "      <th>SibSp</th>\n",
       "      <th>Parch</th>\n",
       "      <th>Ticket</th>\n",
       "      <th>Fare</th>\n",
       "      <th>Cabin</th>\n",
       "      <th>Embarked</th>\n",
       "    </tr>\n",
       "  </thead>\n",
       "  <tbody>\n",
       "    <tr>\n",
       "      <th>0</th>\n",
       "      <td>1</td>\n",
       "      <td>0</td>\n",
       "      <td>3</td>\n",
       "      <td>Braund, Mr. Owen Harris</td>\n",
       "      <td>male</td>\n",
       "      <td>22.0</td>\n",
       "      <td>1</td>\n",
       "      <td>0</td>\n",
       "      <td>A/5 21171</td>\n",
       "      <td>7.2500</td>\n",
       "      <td>NaN</td>\n",
       "      <td>S</td>\n",
       "    </tr>\n",
       "    <tr>\n",
       "      <th>1</th>\n",
       "      <td>2</td>\n",
       "      <td>1</td>\n",
       "      <td>1</td>\n",
       "      <td>Cumings, Mrs. John Bradley (Florence Briggs Th...</td>\n",
       "      <td>female</td>\n",
       "      <td>38.0</td>\n",
       "      <td>1</td>\n",
       "      <td>0</td>\n",
       "      <td>PC 17599</td>\n",
       "      <td>71.2833</td>\n",
       "      <td>C85</td>\n",
       "      <td>C</td>\n",
       "    </tr>\n",
       "    <tr>\n",
       "      <th>2</th>\n",
       "      <td>3</td>\n",
       "      <td>1</td>\n",
       "      <td>3</td>\n",
       "      <td>Heikkinen, Miss. Laina</td>\n",
       "      <td>female</td>\n",
       "      <td>26.0</td>\n",
       "      <td>0</td>\n",
       "      <td>0</td>\n",
       "      <td>STON/O2. 3101282</td>\n",
       "      <td>7.9250</td>\n",
       "      <td>NaN</td>\n",
       "      <td>S</td>\n",
       "    </tr>\n",
       "    <tr>\n",
       "      <th>3</th>\n",
       "      <td>4</td>\n",
       "      <td>1</td>\n",
       "      <td>1</td>\n",
       "      <td>Futrelle, Mrs. Jacques Heath (Lily May Peel)</td>\n",
       "      <td>female</td>\n",
       "      <td>35.0</td>\n",
       "      <td>1</td>\n",
       "      <td>0</td>\n",
       "      <td>113803</td>\n",
       "      <td>53.1000</td>\n",
       "      <td>C123</td>\n",
       "      <td>S</td>\n",
       "    </tr>\n",
       "    <tr>\n",
       "      <th>4</th>\n",
       "      <td>5</td>\n",
       "      <td>0</td>\n",
       "      <td>3</td>\n",
       "      <td>Allen, Mr. William Henry</td>\n",
       "      <td>male</td>\n",
       "      <td>35.0</td>\n",
       "      <td>0</td>\n",
       "      <td>0</td>\n",
       "      <td>373450</td>\n",
       "      <td>8.0500</td>\n",
       "      <td>NaN</td>\n",
       "      <td>S</td>\n",
       "    </tr>\n",
       "    <tr>\n",
       "      <th>...</th>\n",
       "      <td>...</td>\n",
       "      <td>...</td>\n",
       "      <td>...</td>\n",
       "      <td>...</td>\n",
       "      <td>...</td>\n",
       "      <td>...</td>\n",
       "      <td>...</td>\n",
       "      <td>...</td>\n",
       "      <td>...</td>\n",
       "      <td>...</td>\n",
       "      <td>...</td>\n",
       "      <td>...</td>\n",
       "    </tr>\n",
       "    <tr>\n",
       "      <th>886</th>\n",
       "      <td>887</td>\n",
       "      <td>0</td>\n",
       "      <td>2</td>\n",
       "      <td>Montvila, Rev. Juozas</td>\n",
       "      <td>male</td>\n",
       "      <td>27.0</td>\n",
       "      <td>0</td>\n",
       "      <td>0</td>\n",
       "      <td>211536</td>\n",
       "      <td>13.0000</td>\n",
       "      <td>NaN</td>\n",
       "      <td>S</td>\n",
       "    </tr>\n",
       "    <tr>\n",
       "      <th>887</th>\n",
       "      <td>888</td>\n",
       "      <td>1</td>\n",
       "      <td>1</td>\n",
       "      <td>Graham, Miss. Margaret Edith</td>\n",
       "      <td>female</td>\n",
       "      <td>19.0</td>\n",
       "      <td>0</td>\n",
       "      <td>0</td>\n",
       "      <td>112053</td>\n",
       "      <td>30.0000</td>\n",
       "      <td>B42</td>\n",
       "      <td>S</td>\n",
       "    </tr>\n",
       "    <tr>\n",
       "      <th>888</th>\n",
       "      <td>889</td>\n",
       "      <td>0</td>\n",
       "      <td>3</td>\n",
       "      <td>Johnston, Miss. Catherine Helen \"Carrie\"</td>\n",
       "      <td>female</td>\n",
       "      <td>NaN</td>\n",
       "      <td>1</td>\n",
       "      <td>2</td>\n",
       "      <td>W./C. 6607</td>\n",
       "      <td>23.4500</td>\n",
       "      <td>NaN</td>\n",
       "      <td>S</td>\n",
       "    </tr>\n",
       "    <tr>\n",
       "      <th>889</th>\n",
       "      <td>890</td>\n",
       "      <td>1</td>\n",
       "      <td>1</td>\n",
       "      <td>Behr, Mr. Karl Howell</td>\n",
       "      <td>male</td>\n",
       "      <td>26.0</td>\n",
       "      <td>0</td>\n",
       "      <td>0</td>\n",
       "      <td>111369</td>\n",
       "      <td>30.0000</td>\n",
       "      <td>C148</td>\n",
       "      <td>C</td>\n",
       "    </tr>\n",
       "    <tr>\n",
       "      <th>890</th>\n",
       "      <td>891</td>\n",
       "      <td>0</td>\n",
       "      <td>3</td>\n",
       "      <td>Dooley, Mr. Patrick</td>\n",
       "      <td>male</td>\n",
       "      <td>32.0</td>\n",
       "      <td>0</td>\n",
       "      <td>0</td>\n",
       "      <td>370376</td>\n",
       "      <td>7.7500</td>\n",
       "      <td>NaN</td>\n",
       "      <td>Q</td>\n",
       "    </tr>\n",
       "  </tbody>\n",
       "</table>\n",
       "<p>891 rows × 12 columns</p>\n",
       "</div>"
      ],
      "text/plain": [
       "     PassengerId  Survived  Pclass  \\\n",
       "0              1         0       3   \n",
       "1              2         1       1   \n",
       "2              3         1       3   \n",
       "3              4         1       1   \n",
       "4              5         0       3   \n",
       "..           ...       ...     ...   \n",
       "886          887         0       2   \n",
       "887          888         1       1   \n",
       "888          889         0       3   \n",
       "889          890         1       1   \n",
       "890          891         0       3   \n",
       "\n",
       "                                                  Name     Sex   Age  SibSp  \\\n",
       "0                              Braund, Mr. Owen Harris    male  22.0      1   \n",
       "1    Cumings, Mrs. John Bradley (Florence Briggs Th...  female  38.0      1   \n",
       "2                               Heikkinen, Miss. Laina  female  26.0      0   \n",
       "3         Futrelle, Mrs. Jacques Heath (Lily May Peel)  female  35.0      1   \n",
       "4                             Allen, Mr. William Henry    male  35.0      0   \n",
       "..                                                 ...     ...   ...    ...   \n",
       "886                              Montvila, Rev. Juozas    male  27.0      0   \n",
       "887                       Graham, Miss. Margaret Edith  female  19.0      0   \n",
       "888           Johnston, Miss. Catherine Helen \"Carrie\"  female   NaN      1   \n",
       "889                              Behr, Mr. Karl Howell    male  26.0      0   \n",
       "890                                Dooley, Mr. Patrick    male  32.0      0   \n",
       "\n",
       "     Parch            Ticket     Fare Cabin Embarked  \n",
       "0        0         A/5 21171   7.2500   NaN        S  \n",
       "1        0          PC 17599  71.2833   C85        C  \n",
       "2        0  STON/O2. 3101282   7.9250   NaN        S  \n",
       "3        0            113803  53.1000  C123        S  \n",
       "4        0            373450   8.0500   NaN        S  \n",
       "..     ...               ...      ...   ...      ...  \n",
       "886      0            211536  13.0000   NaN        S  \n",
       "887      0            112053  30.0000   B42        S  \n",
       "888      2        W./C. 6607  23.4500   NaN        S  \n",
       "889      0            111369  30.0000  C148        C  \n",
       "890      0            370376   7.7500   NaN        Q  \n",
       "\n",
       "[891 rows x 12 columns]"
      ]
     },
     "execution_count": 2,
     "metadata": {},
     "output_type": "execute_result"
    }
   ],
   "source": [
    "raw_train = pd.read_csv(\"/kaggle/input/titanic/train.csv\")\n",
    "raw_train"
   ]
  },
  {
   "cell_type": "code",
   "execution_count": 3,
   "id": "a9b01953",
   "metadata": {
    "execution": {
     "iopub.execute_input": "2022-06-21T05:52:25.941132Z",
     "iopub.status.busy": "2022-06-21T05:52:25.940622Z",
     "iopub.status.idle": "2022-06-21T05:52:25.972152Z",
     "shell.execute_reply": "2022-06-21T05:52:25.971172Z"
    },
    "papermill": {
     "duration": 0.056023,
     "end_time": "2022-06-21T05:52:25.974420",
     "exception": false,
     "start_time": "2022-06-21T05:52:25.918397",
     "status": "completed"
    },
    "tags": []
   },
   "outputs": [
    {
     "data": {
      "text/html": [
       "<div>\n",
       "<style scoped>\n",
       "    .dataframe tbody tr th:only-of-type {\n",
       "        vertical-align: middle;\n",
       "    }\n",
       "\n",
       "    .dataframe tbody tr th {\n",
       "        vertical-align: top;\n",
       "    }\n",
       "\n",
       "    .dataframe thead th {\n",
       "        text-align: right;\n",
       "    }\n",
       "</style>\n",
       "<table border=\"1\" class=\"dataframe\">\n",
       "  <thead>\n",
       "    <tr style=\"text-align: right;\">\n",
       "      <th></th>\n",
       "      <th>PassengerId</th>\n",
       "      <th>Pclass</th>\n",
       "      <th>Name</th>\n",
       "      <th>Sex</th>\n",
       "      <th>Age</th>\n",
       "      <th>SibSp</th>\n",
       "      <th>Parch</th>\n",
       "      <th>Ticket</th>\n",
       "      <th>Fare</th>\n",
       "      <th>Cabin</th>\n",
       "      <th>Embarked</th>\n",
       "    </tr>\n",
       "  </thead>\n",
       "  <tbody>\n",
       "    <tr>\n",
       "      <th>0</th>\n",
       "      <td>892</td>\n",
       "      <td>3</td>\n",
       "      <td>Kelly, Mr. James</td>\n",
       "      <td>male</td>\n",
       "      <td>34.5</td>\n",
       "      <td>0</td>\n",
       "      <td>0</td>\n",
       "      <td>330911</td>\n",
       "      <td>7.8292</td>\n",
       "      <td>NaN</td>\n",
       "      <td>Q</td>\n",
       "    </tr>\n",
       "    <tr>\n",
       "      <th>1</th>\n",
       "      <td>893</td>\n",
       "      <td>3</td>\n",
       "      <td>Wilkes, Mrs. James (Ellen Needs)</td>\n",
       "      <td>female</td>\n",
       "      <td>47.0</td>\n",
       "      <td>1</td>\n",
       "      <td>0</td>\n",
       "      <td>363272</td>\n",
       "      <td>7.0000</td>\n",
       "      <td>NaN</td>\n",
       "      <td>S</td>\n",
       "    </tr>\n",
       "    <tr>\n",
       "      <th>2</th>\n",
       "      <td>894</td>\n",
       "      <td>2</td>\n",
       "      <td>Myles, Mr. Thomas Francis</td>\n",
       "      <td>male</td>\n",
       "      <td>62.0</td>\n",
       "      <td>0</td>\n",
       "      <td>0</td>\n",
       "      <td>240276</td>\n",
       "      <td>9.6875</td>\n",
       "      <td>NaN</td>\n",
       "      <td>Q</td>\n",
       "    </tr>\n",
       "    <tr>\n",
       "      <th>3</th>\n",
       "      <td>895</td>\n",
       "      <td>3</td>\n",
       "      <td>Wirz, Mr. Albert</td>\n",
       "      <td>male</td>\n",
       "      <td>27.0</td>\n",
       "      <td>0</td>\n",
       "      <td>0</td>\n",
       "      <td>315154</td>\n",
       "      <td>8.6625</td>\n",
       "      <td>NaN</td>\n",
       "      <td>S</td>\n",
       "    </tr>\n",
       "    <tr>\n",
       "      <th>4</th>\n",
       "      <td>896</td>\n",
       "      <td>3</td>\n",
       "      <td>Hirvonen, Mrs. Alexander (Helga E Lindqvist)</td>\n",
       "      <td>female</td>\n",
       "      <td>22.0</td>\n",
       "      <td>1</td>\n",
       "      <td>1</td>\n",
       "      <td>3101298</td>\n",
       "      <td>12.2875</td>\n",
       "      <td>NaN</td>\n",
       "      <td>S</td>\n",
       "    </tr>\n",
       "    <tr>\n",
       "      <th>...</th>\n",
       "      <td>...</td>\n",
       "      <td>...</td>\n",
       "      <td>...</td>\n",
       "      <td>...</td>\n",
       "      <td>...</td>\n",
       "      <td>...</td>\n",
       "      <td>...</td>\n",
       "      <td>...</td>\n",
       "      <td>...</td>\n",
       "      <td>...</td>\n",
       "      <td>...</td>\n",
       "    </tr>\n",
       "    <tr>\n",
       "      <th>413</th>\n",
       "      <td>1305</td>\n",
       "      <td>3</td>\n",
       "      <td>Spector, Mr. Woolf</td>\n",
       "      <td>male</td>\n",
       "      <td>NaN</td>\n",
       "      <td>0</td>\n",
       "      <td>0</td>\n",
       "      <td>A.5. 3236</td>\n",
       "      <td>8.0500</td>\n",
       "      <td>NaN</td>\n",
       "      <td>S</td>\n",
       "    </tr>\n",
       "    <tr>\n",
       "      <th>414</th>\n",
       "      <td>1306</td>\n",
       "      <td>1</td>\n",
       "      <td>Oliva y Ocana, Dona. Fermina</td>\n",
       "      <td>female</td>\n",
       "      <td>39.0</td>\n",
       "      <td>0</td>\n",
       "      <td>0</td>\n",
       "      <td>PC 17758</td>\n",
       "      <td>108.9000</td>\n",
       "      <td>C105</td>\n",
       "      <td>C</td>\n",
       "    </tr>\n",
       "    <tr>\n",
       "      <th>415</th>\n",
       "      <td>1307</td>\n",
       "      <td>3</td>\n",
       "      <td>Saether, Mr. Simon Sivertsen</td>\n",
       "      <td>male</td>\n",
       "      <td>38.5</td>\n",
       "      <td>0</td>\n",
       "      <td>0</td>\n",
       "      <td>SOTON/O.Q. 3101262</td>\n",
       "      <td>7.2500</td>\n",
       "      <td>NaN</td>\n",
       "      <td>S</td>\n",
       "    </tr>\n",
       "    <tr>\n",
       "      <th>416</th>\n",
       "      <td>1308</td>\n",
       "      <td>3</td>\n",
       "      <td>Ware, Mr. Frederick</td>\n",
       "      <td>male</td>\n",
       "      <td>NaN</td>\n",
       "      <td>0</td>\n",
       "      <td>0</td>\n",
       "      <td>359309</td>\n",
       "      <td>8.0500</td>\n",
       "      <td>NaN</td>\n",
       "      <td>S</td>\n",
       "    </tr>\n",
       "    <tr>\n",
       "      <th>417</th>\n",
       "      <td>1309</td>\n",
       "      <td>3</td>\n",
       "      <td>Peter, Master. Michael J</td>\n",
       "      <td>male</td>\n",
       "      <td>NaN</td>\n",
       "      <td>1</td>\n",
       "      <td>1</td>\n",
       "      <td>2668</td>\n",
       "      <td>22.3583</td>\n",
       "      <td>NaN</td>\n",
       "      <td>C</td>\n",
       "    </tr>\n",
       "  </tbody>\n",
       "</table>\n",
       "<p>418 rows × 11 columns</p>\n",
       "</div>"
      ],
      "text/plain": [
       "     PassengerId  Pclass                                          Name  \\\n",
       "0            892       3                              Kelly, Mr. James   \n",
       "1            893       3              Wilkes, Mrs. James (Ellen Needs)   \n",
       "2            894       2                     Myles, Mr. Thomas Francis   \n",
       "3            895       3                              Wirz, Mr. Albert   \n",
       "4            896       3  Hirvonen, Mrs. Alexander (Helga E Lindqvist)   \n",
       "..           ...     ...                                           ...   \n",
       "413         1305       3                            Spector, Mr. Woolf   \n",
       "414         1306       1                  Oliva y Ocana, Dona. Fermina   \n",
       "415         1307       3                  Saether, Mr. Simon Sivertsen   \n",
       "416         1308       3                           Ware, Mr. Frederick   \n",
       "417         1309       3                      Peter, Master. Michael J   \n",
       "\n",
       "        Sex   Age  SibSp  Parch              Ticket      Fare Cabin Embarked  \n",
       "0      male  34.5      0      0              330911    7.8292   NaN        Q  \n",
       "1    female  47.0      1      0              363272    7.0000   NaN        S  \n",
       "2      male  62.0      0      0              240276    9.6875   NaN        Q  \n",
       "3      male  27.0      0      0              315154    8.6625   NaN        S  \n",
       "4    female  22.0      1      1             3101298   12.2875   NaN        S  \n",
       "..      ...   ...    ...    ...                 ...       ...   ...      ...  \n",
       "413    male   NaN      0      0           A.5. 3236    8.0500   NaN        S  \n",
       "414  female  39.0      0      0            PC 17758  108.9000  C105        C  \n",
       "415    male  38.5      0      0  SOTON/O.Q. 3101262    7.2500   NaN        S  \n",
       "416    male   NaN      0      0              359309    8.0500   NaN        S  \n",
       "417    male   NaN      1      1                2668   22.3583   NaN        C  \n",
       "\n",
       "[418 rows x 11 columns]"
      ]
     },
     "execution_count": 3,
     "metadata": {},
     "output_type": "execute_result"
    }
   ],
   "source": [
    "raw_test = pd.read_csv(\"/kaggle/input/titanic/test.csv\")\n",
    "raw_test"
   ]
  },
  {
   "cell_type": "markdown",
   "id": "42d3282f",
   "metadata": {
    "papermill": {
     "duration": 0.021371,
     "end_time": "2022-06-21T05:52:26.017988",
     "exception": false,
     "start_time": "2022-06-21T05:52:25.996617",
     "status": "completed"
    },
    "tags": []
   },
   "source": [
    "# Eksplorasi Data"
   ]
  },
  {
   "cell_type": "code",
   "execution_count": 4,
   "id": "585651a1",
   "metadata": {
    "execution": {
     "iopub.execute_input": "2022-06-21T05:52:26.064256Z",
     "iopub.status.busy": "2022-06-21T05:52:26.063460Z",
     "iopub.status.idle": "2022-06-21T05:52:26.071567Z",
     "shell.execute_reply": "2022-06-21T05:52:26.070457Z"
    },
    "papermill": {
     "duration": 0.033482,
     "end_time": "2022-06-21T05:52:26.073773",
     "exception": false,
     "start_time": "2022-06-21T05:52:26.040291",
     "status": "completed"
    },
    "tags": []
   },
   "outputs": [
    {
     "data": {
      "text/plain": [
       "PassengerId      int64\n",
       "Survived         int64\n",
       "Pclass           int64\n",
       "Name            object\n",
       "Sex             object\n",
       "Age            float64\n",
       "SibSp            int64\n",
       "Parch            int64\n",
       "Ticket          object\n",
       "Fare           float64\n",
       "Cabin           object\n",
       "Embarked        object\n",
       "dtype: object"
      ]
     },
     "execution_count": 4,
     "metadata": {},
     "output_type": "execute_result"
    }
   ],
   "source": [
    "raw_train.dtypes"
   ]
  },
  {
   "cell_type": "code",
   "execution_count": 5,
   "id": "e63cc251",
   "metadata": {
    "execution": {
     "iopub.execute_input": "2022-06-21T05:52:26.121280Z",
     "iopub.status.busy": "2022-06-21T05:52:26.120747Z",
     "iopub.status.idle": "2022-06-21T05:52:26.166015Z",
     "shell.execute_reply": "2022-06-21T05:52:26.164845Z"
    },
    "papermill": {
     "duration": 0.072059,
     "end_time": "2022-06-21T05:52:26.168557",
     "exception": false,
     "start_time": "2022-06-21T05:52:26.096498",
     "status": "completed"
    },
    "tags": []
   },
   "outputs": [
    {
     "data": {
      "text/html": [
       "<div>\n",
       "<style scoped>\n",
       "    .dataframe tbody tr th:only-of-type {\n",
       "        vertical-align: middle;\n",
       "    }\n",
       "\n",
       "    .dataframe tbody tr th {\n",
       "        vertical-align: top;\n",
       "    }\n",
       "\n",
       "    .dataframe thead th {\n",
       "        text-align: right;\n",
       "    }\n",
       "</style>\n",
       "<table border=\"1\" class=\"dataframe\">\n",
       "  <thead>\n",
       "    <tr style=\"text-align: right;\">\n",
       "      <th></th>\n",
       "      <th>PassengerId</th>\n",
       "      <th>Survived</th>\n",
       "      <th>Pclass</th>\n",
       "      <th>Age</th>\n",
       "      <th>SibSp</th>\n",
       "      <th>Parch</th>\n",
       "      <th>Fare</th>\n",
       "    </tr>\n",
       "  </thead>\n",
       "  <tbody>\n",
       "    <tr>\n",
       "      <th>count</th>\n",
       "      <td>891.000000</td>\n",
       "      <td>891.000000</td>\n",
       "      <td>891.000000</td>\n",
       "      <td>714.000000</td>\n",
       "      <td>891.000000</td>\n",
       "      <td>891.000000</td>\n",
       "      <td>891.000000</td>\n",
       "    </tr>\n",
       "    <tr>\n",
       "      <th>mean</th>\n",
       "      <td>446.000000</td>\n",
       "      <td>0.383838</td>\n",
       "      <td>2.308642</td>\n",
       "      <td>29.699118</td>\n",
       "      <td>0.523008</td>\n",
       "      <td>0.381594</td>\n",
       "      <td>32.204208</td>\n",
       "    </tr>\n",
       "    <tr>\n",
       "      <th>std</th>\n",
       "      <td>257.353842</td>\n",
       "      <td>0.486592</td>\n",
       "      <td>0.836071</td>\n",
       "      <td>14.526497</td>\n",
       "      <td>1.102743</td>\n",
       "      <td>0.806057</td>\n",
       "      <td>49.693429</td>\n",
       "    </tr>\n",
       "    <tr>\n",
       "      <th>min</th>\n",
       "      <td>1.000000</td>\n",
       "      <td>0.000000</td>\n",
       "      <td>1.000000</td>\n",
       "      <td>0.420000</td>\n",
       "      <td>0.000000</td>\n",
       "      <td>0.000000</td>\n",
       "      <td>0.000000</td>\n",
       "    </tr>\n",
       "    <tr>\n",
       "      <th>25%</th>\n",
       "      <td>223.500000</td>\n",
       "      <td>0.000000</td>\n",
       "      <td>2.000000</td>\n",
       "      <td>20.125000</td>\n",
       "      <td>0.000000</td>\n",
       "      <td>0.000000</td>\n",
       "      <td>7.910400</td>\n",
       "    </tr>\n",
       "    <tr>\n",
       "      <th>50%</th>\n",
       "      <td>446.000000</td>\n",
       "      <td>0.000000</td>\n",
       "      <td>3.000000</td>\n",
       "      <td>28.000000</td>\n",
       "      <td>0.000000</td>\n",
       "      <td>0.000000</td>\n",
       "      <td>14.454200</td>\n",
       "    </tr>\n",
       "    <tr>\n",
       "      <th>75%</th>\n",
       "      <td>668.500000</td>\n",
       "      <td>1.000000</td>\n",
       "      <td>3.000000</td>\n",
       "      <td>38.000000</td>\n",
       "      <td>1.000000</td>\n",
       "      <td>0.000000</td>\n",
       "      <td>31.000000</td>\n",
       "    </tr>\n",
       "    <tr>\n",
       "      <th>max</th>\n",
       "      <td>891.000000</td>\n",
       "      <td>1.000000</td>\n",
       "      <td>3.000000</td>\n",
       "      <td>80.000000</td>\n",
       "      <td>8.000000</td>\n",
       "      <td>6.000000</td>\n",
       "      <td>512.329200</td>\n",
       "    </tr>\n",
       "  </tbody>\n",
       "</table>\n",
       "</div>"
      ],
      "text/plain": [
       "       PassengerId    Survived      Pclass         Age       SibSp  \\\n",
       "count   891.000000  891.000000  891.000000  714.000000  891.000000   \n",
       "mean    446.000000    0.383838    2.308642   29.699118    0.523008   \n",
       "std     257.353842    0.486592    0.836071   14.526497    1.102743   \n",
       "min       1.000000    0.000000    1.000000    0.420000    0.000000   \n",
       "25%     223.500000    0.000000    2.000000   20.125000    0.000000   \n",
       "50%     446.000000    0.000000    3.000000   28.000000    0.000000   \n",
       "75%     668.500000    1.000000    3.000000   38.000000    1.000000   \n",
       "max     891.000000    1.000000    3.000000   80.000000    8.000000   \n",
       "\n",
       "            Parch        Fare  \n",
       "count  891.000000  891.000000  \n",
       "mean     0.381594   32.204208  \n",
       "std      0.806057   49.693429  \n",
       "min      0.000000    0.000000  \n",
       "25%      0.000000    7.910400  \n",
       "50%      0.000000   14.454200  \n",
       "75%      0.000000   31.000000  \n",
       "max      6.000000  512.329200  "
      ]
     },
     "execution_count": 5,
     "metadata": {},
     "output_type": "execute_result"
    }
   ],
   "source": [
    "raw_train.describe()"
   ]
  },
  {
   "cell_type": "code",
   "execution_count": 6,
   "id": "6a54fa7c",
   "metadata": {
    "execution": {
     "iopub.execute_input": "2022-06-21T05:52:26.215478Z",
     "iopub.status.busy": "2022-06-21T05:52:26.214976Z",
     "iopub.status.idle": "2022-06-21T05:52:26.240439Z",
     "shell.execute_reply": "2022-06-21T05:52:26.239448Z"
    },
    "papermill": {
     "duration": 0.051404,
     "end_time": "2022-06-21T05:52:26.242812",
     "exception": false,
     "start_time": "2022-06-21T05:52:26.191408",
     "status": "completed"
    },
    "tags": []
   },
   "outputs": [
    {
     "data": {
      "text/html": [
       "<div>\n",
       "<style scoped>\n",
       "    .dataframe tbody tr th:only-of-type {\n",
       "        vertical-align: middle;\n",
       "    }\n",
       "\n",
       "    .dataframe tbody tr th {\n",
       "        vertical-align: top;\n",
       "    }\n",
       "\n",
       "    .dataframe thead th {\n",
       "        text-align: right;\n",
       "    }\n",
       "</style>\n",
       "<table border=\"1\" class=\"dataframe\">\n",
       "  <thead>\n",
       "    <tr style=\"text-align: right;\">\n",
       "      <th></th>\n",
       "      <th>Name</th>\n",
       "      <th>Sex</th>\n",
       "      <th>Ticket</th>\n",
       "      <th>Cabin</th>\n",
       "      <th>Embarked</th>\n",
       "    </tr>\n",
       "  </thead>\n",
       "  <tbody>\n",
       "    <tr>\n",
       "      <th>count</th>\n",
       "      <td>891</td>\n",
       "      <td>891</td>\n",
       "      <td>891</td>\n",
       "      <td>204</td>\n",
       "      <td>889</td>\n",
       "    </tr>\n",
       "    <tr>\n",
       "      <th>unique</th>\n",
       "      <td>891</td>\n",
       "      <td>2</td>\n",
       "      <td>681</td>\n",
       "      <td>147</td>\n",
       "      <td>3</td>\n",
       "    </tr>\n",
       "    <tr>\n",
       "      <th>top</th>\n",
       "      <td>Braund, Mr. Owen Harris</td>\n",
       "      <td>male</td>\n",
       "      <td>347082</td>\n",
       "      <td>B96 B98</td>\n",
       "      <td>S</td>\n",
       "    </tr>\n",
       "    <tr>\n",
       "      <th>freq</th>\n",
       "      <td>1</td>\n",
       "      <td>577</td>\n",
       "      <td>7</td>\n",
       "      <td>4</td>\n",
       "      <td>644</td>\n",
       "    </tr>\n",
       "  </tbody>\n",
       "</table>\n",
       "</div>"
      ],
      "text/plain": [
       "                           Name   Sex  Ticket    Cabin Embarked\n",
       "count                       891   891     891      204      889\n",
       "unique                      891     2     681      147        3\n",
       "top     Braund, Mr. Owen Harris  male  347082  B96 B98        S\n",
       "freq                          1   577       7        4      644"
      ]
     },
     "execution_count": 6,
     "metadata": {},
     "output_type": "execute_result"
    }
   ],
   "source": [
    "raw_train.describe(include='object')"
   ]
  },
  {
   "cell_type": "code",
   "execution_count": 7,
   "id": "e162aa7d",
   "metadata": {
    "execution": {
     "iopub.execute_input": "2022-06-21T05:52:26.290641Z",
     "iopub.status.busy": "2022-06-21T05:52:26.289772Z",
     "iopub.status.idle": "2022-06-21T05:52:26.298610Z",
     "shell.execute_reply": "2022-06-21T05:52:26.297576Z"
    },
    "papermill": {
     "duration": 0.035631,
     "end_time": "2022-06-21T05:52:26.300742",
     "exception": false,
     "start_time": "2022-06-21T05:52:26.265111",
     "status": "completed"
    },
    "tags": []
   },
   "outputs": [
    {
     "data": {
      "text/plain": [
       "PassengerId      int64\n",
       "Pclass           int64\n",
       "Name            object\n",
       "Sex             object\n",
       "Age            float64\n",
       "SibSp            int64\n",
       "Parch            int64\n",
       "Ticket          object\n",
       "Fare           float64\n",
       "Cabin           object\n",
       "Embarked        object\n",
       "dtype: object"
      ]
     },
     "execution_count": 7,
     "metadata": {},
     "output_type": "execute_result"
    }
   ],
   "source": [
    "raw_test.dtypes"
   ]
  },
  {
   "cell_type": "code",
   "execution_count": 8,
   "id": "3deedc60",
   "metadata": {
    "execution": {
     "iopub.execute_input": "2022-06-21T05:52:26.347107Z",
     "iopub.status.busy": "2022-06-21T05:52:26.346266Z",
     "iopub.status.idle": "2022-06-21T05:52:26.376160Z",
     "shell.execute_reply": "2022-06-21T05:52:26.375063Z"
    },
    "papermill": {
     "duration": 0.055785,
     "end_time": "2022-06-21T05:52:26.378448",
     "exception": false,
     "start_time": "2022-06-21T05:52:26.322663",
     "status": "completed"
    },
    "tags": []
   },
   "outputs": [
    {
     "data": {
      "text/html": [
       "<div>\n",
       "<style scoped>\n",
       "    .dataframe tbody tr th:only-of-type {\n",
       "        vertical-align: middle;\n",
       "    }\n",
       "\n",
       "    .dataframe tbody tr th {\n",
       "        vertical-align: top;\n",
       "    }\n",
       "\n",
       "    .dataframe thead th {\n",
       "        text-align: right;\n",
       "    }\n",
       "</style>\n",
       "<table border=\"1\" class=\"dataframe\">\n",
       "  <thead>\n",
       "    <tr style=\"text-align: right;\">\n",
       "      <th></th>\n",
       "      <th>PassengerId</th>\n",
       "      <th>Pclass</th>\n",
       "      <th>Age</th>\n",
       "      <th>SibSp</th>\n",
       "      <th>Parch</th>\n",
       "      <th>Fare</th>\n",
       "    </tr>\n",
       "  </thead>\n",
       "  <tbody>\n",
       "    <tr>\n",
       "      <th>count</th>\n",
       "      <td>418.000000</td>\n",
       "      <td>418.000000</td>\n",
       "      <td>332.000000</td>\n",
       "      <td>418.000000</td>\n",
       "      <td>418.000000</td>\n",
       "      <td>417.000000</td>\n",
       "    </tr>\n",
       "    <tr>\n",
       "      <th>mean</th>\n",
       "      <td>1100.500000</td>\n",
       "      <td>2.265550</td>\n",
       "      <td>30.272590</td>\n",
       "      <td>0.447368</td>\n",
       "      <td>0.392344</td>\n",
       "      <td>35.627188</td>\n",
       "    </tr>\n",
       "    <tr>\n",
       "      <th>std</th>\n",
       "      <td>120.810458</td>\n",
       "      <td>0.841838</td>\n",
       "      <td>14.181209</td>\n",
       "      <td>0.896760</td>\n",
       "      <td>0.981429</td>\n",
       "      <td>55.907576</td>\n",
       "    </tr>\n",
       "    <tr>\n",
       "      <th>min</th>\n",
       "      <td>892.000000</td>\n",
       "      <td>1.000000</td>\n",
       "      <td>0.170000</td>\n",
       "      <td>0.000000</td>\n",
       "      <td>0.000000</td>\n",
       "      <td>0.000000</td>\n",
       "    </tr>\n",
       "    <tr>\n",
       "      <th>25%</th>\n",
       "      <td>996.250000</td>\n",
       "      <td>1.000000</td>\n",
       "      <td>21.000000</td>\n",
       "      <td>0.000000</td>\n",
       "      <td>0.000000</td>\n",
       "      <td>7.895800</td>\n",
       "    </tr>\n",
       "    <tr>\n",
       "      <th>50%</th>\n",
       "      <td>1100.500000</td>\n",
       "      <td>3.000000</td>\n",
       "      <td>27.000000</td>\n",
       "      <td>0.000000</td>\n",
       "      <td>0.000000</td>\n",
       "      <td>14.454200</td>\n",
       "    </tr>\n",
       "    <tr>\n",
       "      <th>75%</th>\n",
       "      <td>1204.750000</td>\n",
       "      <td>3.000000</td>\n",
       "      <td>39.000000</td>\n",
       "      <td>1.000000</td>\n",
       "      <td>0.000000</td>\n",
       "      <td>31.500000</td>\n",
       "    </tr>\n",
       "    <tr>\n",
       "      <th>max</th>\n",
       "      <td>1309.000000</td>\n",
       "      <td>3.000000</td>\n",
       "      <td>76.000000</td>\n",
       "      <td>8.000000</td>\n",
       "      <td>9.000000</td>\n",
       "      <td>512.329200</td>\n",
       "    </tr>\n",
       "  </tbody>\n",
       "</table>\n",
       "</div>"
      ],
      "text/plain": [
       "       PassengerId      Pclass         Age       SibSp       Parch        Fare\n",
       "count   418.000000  418.000000  332.000000  418.000000  418.000000  417.000000\n",
       "mean   1100.500000    2.265550   30.272590    0.447368    0.392344   35.627188\n",
       "std     120.810458    0.841838   14.181209    0.896760    0.981429   55.907576\n",
       "min     892.000000    1.000000    0.170000    0.000000    0.000000    0.000000\n",
       "25%     996.250000    1.000000   21.000000    0.000000    0.000000    7.895800\n",
       "50%    1100.500000    3.000000   27.000000    0.000000    0.000000   14.454200\n",
       "75%    1204.750000    3.000000   39.000000    1.000000    0.000000   31.500000\n",
       "max    1309.000000    3.000000   76.000000    8.000000    9.000000  512.329200"
      ]
     },
     "execution_count": 8,
     "metadata": {},
     "output_type": "execute_result"
    }
   ],
   "source": [
    "raw_test.describe()"
   ]
  },
  {
   "cell_type": "code",
   "execution_count": 9,
   "id": "5c1c6088",
   "metadata": {
    "execution": {
     "iopub.execute_input": "2022-06-21T05:52:26.424763Z",
     "iopub.status.busy": "2022-06-21T05:52:26.423935Z",
     "iopub.status.idle": "2022-06-21T05:52:26.446204Z",
     "shell.execute_reply": "2022-06-21T05:52:26.445089Z"
    },
    "papermill": {
     "duration": 0.048374,
     "end_time": "2022-06-21T05:52:26.448567",
     "exception": false,
     "start_time": "2022-06-21T05:52:26.400193",
     "status": "completed"
    },
    "tags": []
   },
   "outputs": [
    {
     "data": {
      "text/html": [
       "<div>\n",
       "<style scoped>\n",
       "    .dataframe tbody tr th:only-of-type {\n",
       "        vertical-align: middle;\n",
       "    }\n",
       "\n",
       "    .dataframe tbody tr th {\n",
       "        vertical-align: top;\n",
       "    }\n",
       "\n",
       "    .dataframe thead th {\n",
       "        text-align: right;\n",
       "    }\n",
       "</style>\n",
       "<table border=\"1\" class=\"dataframe\">\n",
       "  <thead>\n",
       "    <tr style=\"text-align: right;\">\n",
       "      <th></th>\n",
       "      <th>Name</th>\n",
       "      <th>Sex</th>\n",
       "      <th>Ticket</th>\n",
       "      <th>Cabin</th>\n",
       "      <th>Embarked</th>\n",
       "    </tr>\n",
       "  </thead>\n",
       "  <tbody>\n",
       "    <tr>\n",
       "      <th>count</th>\n",
       "      <td>418</td>\n",
       "      <td>418</td>\n",
       "      <td>418</td>\n",
       "      <td>91</td>\n",
       "      <td>418</td>\n",
       "    </tr>\n",
       "    <tr>\n",
       "      <th>unique</th>\n",
       "      <td>418</td>\n",
       "      <td>2</td>\n",
       "      <td>363</td>\n",
       "      <td>76</td>\n",
       "      <td>3</td>\n",
       "    </tr>\n",
       "    <tr>\n",
       "      <th>top</th>\n",
       "      <td>Kelly, Mr. James</td>\n",
       "      <td>male</td>\n",
       "      <td>PC 17608</td>\n",
       "      <td>B57 B59 B63 B66</td>\n",
       "      <td>S</td>\n",
       "    </tr>\n",
       "    <tr>\n",
       "      <th>freq</th>\n",
       "      <td>1</td>\n",
       "      <td>266</td>\n",
       "      <td>5</td>\n",
       "      <td>3</td>\n",
       "      <td>270</td>\n",
       "    </tr>\n",
       "  </tbody>\n",
       "</table>\n",
       "</div>"
      ],
      "text/plain": [
       "                    Name   Sex    Ticket            Cabin Embarked\n",
       "count                418   418       418               91      418\n",
       "unique               418     2       363               76        3\n",
       "top     Kelly, Mr. James  male  PC 17608  B57 B59 B63 B66        S\n",
       "freq                   1   266         5                3      270"
      ]
     },
     "execution_count": 9,
     "metadata": {},
     "output_type": "execute_result"
    }
   ],
   "source": [
    "raw_test.describe(include='object')"
   ]
  },
  {
   "cell_type": "markdown",
   "id": "5a1ecd39",
   "metadata": {
    "papermill": {
     "duration": 0.021703,
     "end_time": "2022-06-21T05:52:26.492650",
     "exception": false,
     "start_time": "2022-06-21T05:52:26.470947",
     "status": "completed"
    },
    "tags": []
   },
   "source": [
    "## Cek Data Duplikat"
   ]
  },
  {
   "cell_type": "code",
   "execution_count": 10,
   "id": "52a2f2dc",
   "metadata": {
    "execution": {
     "iopub.execute_input": "2022-06-21T05:52:26.539395Z",
     "iopub.status.busy": "2022-06-21T05:52:26.538163Z",
     "iopub.status.idle": "2022-06-21T05:52:26.551681Z",
     "shell.execute_reply": "2022-06-21T05:52:26.550651Z"
    },
    "papermill": {
     "duration": 0.039236,
     "end_time": "2022-06-21T05:52:26.553801",
     "exception": false,
     "start_time": "2022-06-21T05:52:26.514565",
     "status": "completed"
    },
    "tags": []
   },
   "outputs": [
    {
     "data": {
      "text/plain": [
       "0"
      ]
     },
     "execution_count": 10,
     "metadata": {},
     "output_type": "execute_result"
    }
   ],
   "source": [
    "raw_train.duplicated().sum()"
   ]
  },
  {
   "cell_type": "code",
   "execution_count": 11,
   "id": "65d344e3",
   "metadata": {
    "execution": {
     "iopub.execute_input": "2022-06-21T05:52:26.600960Z",
     "iopub.status.busy": "2022-06-21T05:52:26.599716Z",
     "iopub.status.idle": "2022-06-21T05:52:26.610734Z",
     "shell.execute_reply": "2022-06-21T05:52:26.609694Z"
    },
    "papermill": {
     "duration": 0.036981,
     "end_time": "2022-06-21T05:52:26.612951",
     "exception": false,
     "start_time": "2022-06-21T05:52:26.575970",
     "status": "completed"
    },
    "tags": []
   },
   "outputs": [
    {
     "data": {
      "text/plain": [
       "0"
      ]
     },
     "execution_count": 11,
     "metadata": {},
     "output_type": "execute_result"
    }
   ],
   "source": [
    "raw_test.duplicated().sum()"
   ]
  },
  {
   "cell_type": "markdown",
   "id": "6f33d145",
   "metadata": {
    "papermill": {
     "duration": 0.021956,
     "end_time": "2022-06-21T05:52:26.657235",
     "exception": false,
     "start_time": "2022-06-21T05:52:26.635279",
     "status": "completed"
    },
    "tags": []
   },
   "source": [
    "Tidak ada data duplikat pada `raw_train` dan `raw_test`."
   ]
  },
  {
   "cell_type": "markdown",
   "id": "ae05de8d",
   "metadata": {
    "papermill": {
     "duration": 0.022119,
     "end_time": "2022-06-21T05:52:26.701676",
     "exception": false,
     "start_time": "2022-06-21T05:52:26.679557",
     "status": "completed"
    },
    "tags": []
   },
   "source": [
    "## Cek Missing Value"
   ]
  },
  {
   "cell_type": "code",
   "execution_count": 12,
   "id": "48fe72a5",
   "metadata": {
    "execution": {
     "iopub.execute_input": "2022-06-21T05:52:26.748873Z",
     "iopub.status.busy": "2022-06-21T05:52:26.748387Z",
     "iopub.status.idle": "2022-06-21T05:52:26.758257Z",
     "shell.execute_reply": "2022-06-21T05:52:26.757434Z"
    },
    "papermill": {
     "duration": 0.036255,
     "end_time": "2022-06-21T05:52:26.760379",
     "exception": false,
     "start_time": "2022-06-21T05:52:26.724124",
     "status": "completed"
    },
    "tags": []
   },
   "outputs": [
    {
     "data": {
      "text/plain": [
       "PassengerId      0\n",
       "Survived         0\n",
       "Pclass           0\n",
       "Name             0\n",
       "Sex              0\n",
       "Age            177\n",
       "SibSp            0\n",
       "Parch            0\n",
       "Ticket           0\n",
       "Fare             0\n",
       "Cabin          687\n",
       "Embarked         2\n",
       "dtype: int64"
      ]
     },
     "execution_count": 12,
     "metadata": {},
     "output_type": "execute_result"
    }
   ],
   "source": [
    "raw_train.isna().sum()"
   ]
  },
  {
   "cell_type": "markdown",
   "id": "9551fe8e",
   "metadata": {
    "papermill": {
     "duration": 0.022871,
     "end_time": "2022-06-21T05:52:26.806930",
     "exception": false,
     "start_time": "2022-06-21T05:52:26.784059",
     "status": "completed"
    },
    "tags": []
   },
   "source": [
    "Terdapat 177 _missing data_ pada kolom `Age`, 687 _missing data_ pada kolom `Cabin`, dan 2 _missing data_ pada kolom `Embarked` di dalam _dataframe_ `raw_train`."
   ]
  },
  {
   "cell_type": "code",
   "execution_count": 13,
   "id": "14c180cd",
   "metadata": {
    "execution": {
     "iopub.execute_input": "2022-06-21T05:52:26.856774Z",
     "iopub.status.busy": "2022-06-21T05:52:26.856125Z",
     "iopub.status.idle": "2022-06-21T05:52:26.864692Z",
     "shell.execute_reply": "2022-06-21T05:52:26.863858Z"
    },
    "papermill": {
     "duration": 0.036279,
     "end_time": "2022-06-21T05:52:26.866959",
     "exception": false,
     "start_time": "2022-06-21T05:52:26.830680",
     "status": "completed"
    },
    "tags": []
   },
   "outputs": [
    {
     "data": {
      "text/plain": [
       "PassengerId      0\n",
       "Pclass           0\n",
       "Name             0\n",
       "Sex              0\n",
       "Age             86\n",
       "SibSp            0\n",
       "Parch            0\n",
       "Ticket           0\n",
       "Fare             1\n",
       "Cabin          327\n",
       "Embarked         0\n",
       "dtype: int64"
      ]
     },
     "execution_count": 13,
     "metadata": {},
     "output_type": "execute_result"
    }
   ],
   "source": [
    "raw_test.isna().sum()"
   ]
  },
  {
   "cell_type": "markdown",
   "id": "3a9d4532",
   "metadata": {
    "papermill": {
     "duration": 0.022886,
     "end_time": "2022-06-21T05:52:26.913309",
     "exception": false,
     "start_time": "2022-06-21T05:52:26.890423",
     "status": "completed"
    },
    "tags": []
   },
   "source": [
    "Terdapat 86 _missing data_ pada kolom `Age`, 1 _missing data_ pada kolom `Fare`, dan 327 _missing data_ pada kolom `Cabin` dalam _dataframe_ `raw_test`."
   ]
  },
  {
   "cell_type": "markdown",
   "id": "dae00017",
   "metadata": {
    "papermill": {
     "duration": 0.022562,
     "end_time": "2022-06-21T05:52:26.959030",
     "exception": false,
     "start_time": "2022-06-21T05:52:26.936468",
     "status": "completed"
    },
    "tags": []
   },
   "source": [
    "## Target\n",
    "Tujuan proyek ini adalah memprediksi penumpang Titanic selamat atau tidak. Sehingga target adalah kolom `Survived`. Penumpang selamat bernilai 1 dan penumpang yang tidka selamat bernilai 0."
   ]
  },
  {
   "cell_type": "markdown",
   "id": "463439e8",
   "metadata": {
    "papermill": {
     "duration": 0.022363,
     "end_time": "2022-06-21T05:52:27.004350",
     "exception": false,
     "start_time": "2022-06-21T05:52:26.981987",
     "status": "completed"
    },
    "tags": []
   },
   "source": [
    "## Cek Apakah Target pada Train Data termasuk _Imbalance_"
   ]
  },
  {
   "cell_type": "code",
   "execution_count": 14,
   "id": "c5de3f06",
   "metadata": {
    "execution": {
     "iopub.execute_input": "2022-06-21T05:52:27.054146Z",
     "iopub.status.busy": "2022-06-21T05:52:27.053477Z",
     "iopub.status.idle": "2022-06-21T05:52:27.061736Z",
     "shell.execute_reply": "2022-06-21T05:52:27.060438Z"
    },
    "papermill": {
     "duration": 0.036197,
     "end_time": "2022-06-21T05:52:27.064236",
     "exception": false,
     "start_time": "2022-06-21T05:52:27.028039",
     "status": "completed"
    },
    "tags": []
   },
   "outputs": [
    {
     "data": {
      "text/plain": [
       "0    549\n",
       "1    342\n",
       "Name: Survived, dtype: int64"
      ]
     },
     "execution_count": 14,
     "metadata": {},
     "output_type": "execute_result"
    }
   ],
   "source": [
    "raw_train.Survived.value_counts()"
   ]
  },
  {
   "cell_type": "markdown",
   "id": "4e257b52",
   "metadata": {
    "papermill": {
     "duration": 0.024427,
     "end_time": "2022-06-21T05:52:27.112720",
     "exception": false,
     "start_time": "2022-06-21T05:52:27.088293",
     "status": "completed"
    },
    "tags": []
   },
   "source": [
    "Jumlah yang selamat (1) dan tidak selamat (0) relatif tidak jauh berbeda, sehingga data tersebut bukan termasuk _imbalance data_."
   ]
  },
  {
   "cell_type": "markdown",
   "id": "327cdff2",
   "metadata": {
    "papermill": {
     "duration": 0.023196,
     "end_time": "2022-06-21T05:52:27.158930",
     "exception": false,
     "start_time": "2022-06-21T05:52:27.135734",
     "status": "completed"
    },
    "tags": []
   },
   "source": [
    "## Hapus kolom yang tidak revelevan\n",
    "Kolom `Cabin` dan `Ticket` memiliki banyak data yang unik, sehingga kedua kolom tersebut tidak memberikan berbedaan signifikan pada hasil prediksi. Untuk kolom `PassengerId` akan digunkan dalam dalam _submission_. Sedangkan pada `Name` terdapat gelar seperti Mr., Mrs. dsb. Gelar tersebut mungkin akan berguna dalam pemodelan."
   ]
  },
  {
   "cell_type": "code",
   "execution_count": 15,
   "id": "ff96ea4a",
   "metadata": {
    "execution": {
     "iopub.execute_input": "2022-06-21T05:52:27.209019Z",
     "iopub.status.busy": "2022-06-21T05:52:27.207697Z",
     "iopub.status.idle": "2022-06-21T05:52:27.216388Z",
     "shell.execute_reply": "2022-06-21T05:52:27.215344Z"
    },
    "papermill": {
     "duration": 0.036641,
     "end_time": "2022-06-21T05:52:27.219392",
     "exception": false,
     "start_time": "2022-06-21T05:52:27.182751",
     "status": "completed"
    },
    "tags": []
   },
   "outputs": [],
   "source": [
    "raw_train.drop(['Cabin', 'Ticket'], axis=1, inplace=True)\n",
    "raw_test.drop(['Cabin', 'Ticket'], axis=1, inplace=True)"
   ]
  },
  {
   "cell_type": "markdown",
   "id": "dbfb3a26",
   "metadata": {
    "papermill": {
     "duration": 0.022469,
     "end_time": "2022-06-21T05:52:27.265931",
     "exception": false,
     "start_time": "2022-06-21T05:52:27.243462",
     "status": "completed"
    },
    "tags": []
   },
   "source": [
    "## Korelasi Antar Numerikal Kolom"
   ]
  },
  {
   "cell_type": "code",
   "execution_count": 16,
   "id": "3f2927be",
   "metadata": {
    "execution": {
     "iopub.execute_input": "2022-06-21T05:52:27.314108Z",
     "iopub.status.busy": "2022-06-21T05:52:27.313264Z",
     "iopub.status.idle": "2022-06-21T05:52:27.654015Z",
     "shell.execute_reply": "2022-06-21T05:52:27.652943Z"
    },
    "papermill": {
     "duration": 0.368244,
     "end_time": "2022-06-21T05:52:27.657009",
     "exception": false,
     "start_time": "2022-06-21T05:52:27.288765",
     "status": "completed"
    },
    "tags": []
   },
   "outputs": [
    {
     "data": {
      "text/plain": [
       "<AxesSubplot:>"
      ]
     },
     "execution_count": 16,
     "metadata": {},
     "output_type": "execute_result"
    },
    {
     "data": {
      "image/png": "[encoded data removed]",
      "text/plain": [
       "<Figure size 432x288 with 2 Axes>"
      ]
     },
     "metadata": {
      "needs_background": "light"
     },
     "output_type": "display_data"
    }
   ],
   "source": [
    "sns.heatmap(data=raw_train.corr())"
   ]
  },
  {
   "cell_type": "markdown",
   "id": "5d735542",
   "metadata": {
    "papermill": {
     "duration": 0.02323,
     "end_time": "2022-06-21T05:52:27.704752",
     "exception": false,
     "start_time": "2022-06-21T05:52:27.681522",
     "status": "completed"
    },
    "tags": []
   },
   "source": [
    "# Data Cleaning\n"
   ]
  },
  {
   "cell_type": "code",
   "execution_count": 17,
   "id": "88aae625",
   "metadata": {
    "execution": {
     "iopub.execute_input": "2022-06-21T05:52:27.754311Z",
     "iopub.status.busy": "2022-06-21T05:52:27.753201Z",
     "iopub.status.idle": "2022-06-21T05:52:27.762465Z",
     "shell.execute_reply": "2022-06-21T05:52:27.761618Z"
    },
    "papermill": {
     "duration": 0.036904,
     "end_time": "2022-06-21T05:52:27.765040",
     "exception": false,
     "start_time": "2022-06-21T05:52:27.728136",
     "status": "completed"
    },
    "tags": []
   },
   "outputs": [],
   "source": [
    "# train & test dijadikan satu\n",
    "all_data = pd.concat([raw_train, raw_test])"
   ]
  },
  {
   "cell_type": "markdown",
   "id": "75a26e8c",
   "metadata": {
    "papermill": {
     "duration": 0.024445,
     "end_time": "2022-06-21T05:52:27.813290",
     "exception": false,
     "start_time": "2022-06-21T05:52:27.788845",
     "status": "completed"
    },
    "tags": []
   },
   "source": [
    "## Menangani _Missing Values_"
   ]
  },
  {
   "cell_type": "code",
   "execution_count": 18,
   "id": "c153d6f2",
   "metadata": {
    "execution": {
     "iopub.execute_input": "2022-06-21T05:52:27.863868Z",
     "iopub.status.busy": "2022-06-21T05:52:27.863334Z",
     "iopub.status.idle": "2022-06-21T05:52:27.876807Z",
     "shell.execute_reply": "2022-06-21T05:52:27.875670Z"
    },
    "papermill": {
     "duration": 0.041345,
     "end_time": "2022-06-21T05:52:27.879548",
     "exception": false,
     "start_time": "2022-06-21T05:52:27.838203",
     "status": "completed"
    },
    "tags": []
   },
   "outputs": [
    {
     "data": {
      "text/plain": [
       "PassengerId      0\n",
       "Survived       418\n",
       "Pclass           0\n",
       "Name             0\n",
       "Sex              0\n",
       "Age            263\n",
       "SibSp            0\n",
       "Parch            0\n",
       "Fare             1\n",
       "Embarked         2\n",
       "dtype: int64"
      ]
     },
     "execution_count": 18,
     "metadata": {},
     "output_type": "execute_result"
    }
   ],
   "source": [
    "all_data.isna().sum()"
   ]
  },
  {
   "cell_type": "markdown",
   "id": "c0827004",
   "metadata": {
    "papermill": {
     "duration": 0.025065,
     "end_time": "2022-06-21T05:52:27.928853",
     "exception": false,
     "start_time": "2022-06-21T05:52:27.903788",
     "status": "completed"
    },
    "tags": []
   },
   "source": [
    "### Feature Age\n",
    "Berdasarkan _heatmap_ korelasi antar numerikal kolom, fitur `Age` terlihat memiliki korelasi dengan `Pclass`,`SibSp`, dan `Parch`. Fitur `Age` memiliki korelasi negatif kuat dengan `Pclass` jika dibandingkan fitur `SibSp` dan `Parch`. Oleh karena itu, dalam mengisi missing data pada kolom `Age` akan memperhatikan `Pclass`-nya. Untuk kategorikal kolomnya lebih masuk akal `Age` juga berhubungan dengan `Sex`."
   ]
  },
  {
   "cell_type": "code",
   "execution_count": 19,
   "id": "184cceab",
   "metadata": {
    "execution": {
     "iopub.execute_input": "2022-06-21T05:52:27.981598Z",
     "iopub.status.busy": "2022-06-21T05:52:27.980695Z",
     "iopub.status.idle": "2022-06-21T05:52:27.995284Z",
     "shell.execute_reply": "2022-06-21T05:52:27.994216Z"
    },
    "papermill": {
     "duration": 0.044285,
     "end_time": "2022-06-21T05:52:27.997870",
     "exception": false,
     "start_time": "2022-06-21T05:52:27.953585",
     "status": "completed"
    },
    "tags": []
   },
   "outputs": [
    {
     "data": {
      "text/plain": [
       "Pclass  Sex   \n",
       "1       female    36.0\n",
       "        male      42.0\n",
       "2       female    28.0\n",
       "        male      29.5\n",
       "3       female    22.0\n",
       "        male      25.0\n",
       "Name: Age, dtype: float64"
      ]
     },
     "execution_count": 19,
     "metadata": {},
     "output_type": "execute_result"
    }
   ],
   "source": [
    "all_data.groupby(['Pclass', 'Sex'])['Age'].median()"
   ]
  },
  {
   "cell_type": "code",
   "execution_count": 20,
   "id": "0e485aa4",
   "metadata": {
    "execution": {
     "iopub.execute_input": "2022-06-21T05:52:28.049955Z",
     "iopub.status.busy": "2022-06-21T05:52:28.049046Z",
     "iopub.status.idle": "2022-06-21T05:52:28.064688Z",
     "shell.execute_reply": "2022-06-21T05:52:28.063846Z"
    },
    "papermill": {
     "duration": 0.04452,
     "end_time": "2022-06-21T05:52:28.067260",
     "exception": false,
     "start_time": "2022-06-21T05:52:28.022740",
     "status": "completed"
    },
    "tags": []
   },
   "outputs": [],
   "source": [
    "all_data.Age = all_data.groupby(['Pclass', 'Sex'])['Age'].transform(lambda x: x.fillna(x.median()))"
   ]
  },
  {
   "cell_type": "markdown",
   "id": "4a3a62a6",
   "metadata": {
    "papermill": {
     "duration": 0.024204,
     "end_time": "2022-06-21T05:52:28.115495",
     "exception": false,
     "start_time": "2022-06-21T05:52:28.091291",
     "status": "completed"
    },
    "tags": []
   },
   "source": [
    "### Feature Fare\n",
    "Berdasarkan _heatmap_ korelasi antar numerikal kolom, fitur `Fare` memiliki korelasi negatif kuat dengan `Pclass`. Untuk kategorikal kolomnya juga akan memperhitungkan `Sex`."
   ]
  },
  {
   "cell_type": "code",
   "execution_count": 21,
   "id": "8e13cb6c",
   "metadata": {
    "execution": {
     "iopub.execute_input": "2022-06-21T05:52:28.166380Z",
     "iopub.status.busy": "2022-06-21T05:52:28.165522Z",
     "iopub.status.idle": "2022-06-21T05:52:28.177391Z",
     "shell.execute_reply": "2022-06-21T05:52:28.176195Z"
    },
    "papermill": {
     "duration": 0.039549,
     "end_time": "2022-06-21T05:52:28.179679",
     "exception": false,
     "start_time": "2022-06-21T05:52:28.140130",
     "status": "completed"
    },
    "tags": []
   },
   "outputs": [
    {
     "data": {
      "text/plain": [
       "Pclass  Sex   \n",
       "1       female    80.92915\n",
       "        male      49.50420\n",
       "2       female    23.00000\n",
       "        male      13.00000\n",
       "3       female    10.48960\n",
       "        male       7.89580\n",
       "Name: Fare, dtype: float64"
      ]
     },
     "execution_count": 21,
     "metadata": {},
     "output_type": "execute_result"
    }
   ],
   "source": [
    "all_data.groupby(['Pclass', 'Sex'])['Fare'].median()"
   ]
  },
  {
   "cell_type": "code",
   "execution_count": 22,
   "id": "f1a35638",
   "metadata": {
    "execution": {
     "iopub.execute_input": "2022-06-21T05:52:28.230805Z",
     "iopub.status.busy": "2022-06-21T05:52:28.229652Z",
     "iopub.status.idle": "2022-06-21T05:52:28.242337Z",
     "shell.execute_reply": "2022-06-21T05:52:28.241465Z"
    },
    "papermill": {
     "duration": 0.040794,
     "end_time": "2022-06-21T05:52:28.244827",
     "exception": false,
     "start_time": "2022-06-21T05:52:28.204033",
     "status": "completed"
    },
    "tags": []
   },
   "outputs": [],
   "source": [
    "all_data.Fare = all_data.groupby(['Pclass', 'Sex'])['Fare'].transform(lambda x: x.fillna(x.median()))"
   ]
  },
  {
   "cell_type": "markdown",
   "id": "992f48c7",
   "metadata": {
    "papermill": {
     "duration": 0.026421,
     "end_time": "2022-06-21T05:52:28.295529",
     "exception": false,
     "start_time": "2022-06-21T05:52:28.269108",
     "status": "completed"
    },
    "tags": []
   },
   "source": [
    "### Feature Embarked\n",
    "Embarked adalah categorical feature. dari dataframe, feature Embarked didominasi oleh S. oleh karena itu, missing value pada feature Embarked akan diisi oleh modus pada faeture tersebut, yaitu S."
   ]
  },
  {
   "cell_type": "code",
   "execution_count": 23,
   "id": "fd62fd0e",
   "metadata": {
    "execution": {
     "iopub.execute_input": "2022-06-21T05:52:28.345869Z",
     "iopub.status.busy": "2022-06-21T05:52:28.345027Z",
     "iopub.status.idle": "2022-06-21T05:52:28.354196Z",
     "shell.execute_reply": "2022-06-21T05:52:28.353186Z"
    },
    "papermill": {
     "duration": 0.036726,
     "end_time": "2022-06-21T05:52:28.356299",
     "exception": false,
     "start_time": "2022-06-21T05:52:28.319573",
     "status": "completed"
    },
    "tags": []
   },
   "outputs": [
    {
     "data": {
      "text/plain": [
       "S    914\n",
       "C    270\n",
       "Q    123\n",
       "Name: Embarked, dtype: int64"
      ]
     },
     "execution_count": 23,
     "metadata": {},
     "output_type": "execute_result"
    }
   ],
   "source": [
    "all_data.Embarked.value_counts()"
   ]
  },
  {
   "cell_type": "code",
   "execution_count": 24,
   "id": "0be7a217",
   "metadata": {
    "execution": {
     "iopub.execute_input": "2022-06-21T05:52:28.406223Z",
     "iopub.status.busy": "2022-06-21T05:52:28.405712Z",
     "iopub.status.idle": "2022-06-21T05:52:28.411850Z",
     "shell.execute_reply": "2022-06-21T05:52:28.410789Z"
    },
    "papermill": {
     "duration": 0.033814,
     "end_time": "2022-06-21T05:52:28.413925",
     "exception": false,
     "start_time": "2022-06-21T05:52:28.380111",
     "status": "completed"
    },
    "tags": []
   },
   "outputs": [],
   "source": [
    "all_data.Embarked.fillna('S', inplace=True)"
   ]
  },
  {
   "cell_type": "code",
   "execution_count": 25,
   "id": "88965d81",
   "metadata": {
    "execution": {
     "iopub.execute_input": "2022-06-21T05:52:28.465367Z",
     "iopub.status.busy": "2022-06-21T05:52:28.464508Z",
     "iopub.status.idle": "2022-06-21T05:52:28.475450Z",
     "shell.execute_reply": "2022-06-21T05:52:28.474376Z"
    },
    "papermill": {
     "duration": 0.038249,
     "end_time": "2022-06-21T05:52:28.477540",
     "exception": false,
     "start_time": "2022-06-21T05:52:28.439291",
     "status": "completed"
    },
    "tags": []
   },
   "outputs": [
    {
     "data": {
      "text/plain": [
       "PassengerId      0\n",
       "Survived       418\n",
       "Pclass           0\n",
       "Name             0\n",
       "Sex              0\n",
       "Age              0\n",
       "SibSp            0\n",
       "Parch            0\n",
       "Fare             0\n",
       "Embarked         0\n",
       "dtype: int64"
      ]
     },
     "execution_count": 25,
     "metadata": {},
     "output_type": "execute_result"
    }
   ],
   "source": [
    "all_data.isna().sum()"
   ]
  },
  {
   "cell_type": "markdown",
   "id": "c68c193f",
   "metadata": {
    "papermill": {
     "duration": 0.023434,
     "end_time": "2022-06-21T05:52:28.524525",
     "exception": false,
     "start_time": "2022-06-21T05:52:28.501091",
     "status": "completed"
    },
    "tags": []
   },
   "source": [
    "# _Data Preprocessing_"
   ]
  },
  {
   "cell_type": "markdown",
   "id": "52a84d2c",
   "metadata": {
    "papermill": {
     "duration": 0.023664,
     "end_time": "2022-06-21T05:52:28.572151",
     "exception": false,
     "start_time": "2022-06-21T05:52:28.548487",
     "status": "completed"
    },
    "tags": []
   },
   "source": [
    "## Rekayasa Fitur"
   ]
  },
  {
   "cell_type": "markdown",
   "id": "f27812dc",
   "metadata": {
    "papermill": {
     "duration": 0.023446,
     "end_time": "2022-06-21T05:52:28.619472",
     "exception": false,
     "start_time": "2022-06-21T05:52:28.596026",
     "status": "completed"
    },
    "tags": []
   },
   "source": [
    "### Fitur `Family_size`\n",
    "fitur yang mengindikasi jumlah keluarga setiap penumpang yang berada dalam kapal.\n",
    "\n",
    "formula: ```Family_size = SibSp + Parch + 1```"
   ]
  },
  {
   "cell_type": "code",
   "execution_count": 26,
   "id": "827074ff",
   "metadata": {
    "execution": {
     "iopub.execute_input": "2022-06-21T05:52:28.670677Z",
     "iopub.status.busy": "2022-06-21T05:52:28.669324Z",
     "iopub.status.idle": "2022-06-21T05:52:28.676863Z",
     "shell.execute_reply": "2022-06-21T05:52:28.676006Z"
    },
    "papermill": {
     "duration": 0.035652,
     "end_time": "2022-06-21T05:52:28.679291",
     "exception": false,
     "start_time": "2022-06-21T05:52:28.643639",
     "status": "completed"
    },
    "tags": []
   },
   "outputs": [],
   "source": [
    "all_data['Family_size'] = all_data.SibSp + all_data.Parch + 1"
   ]
  },
  {
   "cell_type": "markdown",
   "id": "bb259602",
   "metadata": {
    "papermill": {
     "duration": 0.023733,
     "end_time": "2022-06-21T05:52:28.726866",
     "exception": false,
     "start_time": "2022-06-21T05:52:28.703133",
     "status": "completed"
    },
    "tags": []
   },
   "source": [
    "### Fitur `is_Alone`"
   ]
  },
  {
   "cell_type": "code",
   "execution_count": 27,
   "id": "bd531665",
   "metadata": {
    "execution": {
     "iopub.execute_input": "2022-06-21T05:52:28.778788Z",
     "iopub.status.busy": "2022-06-21T05:52:28.777952Z",
     "iopub.status.idle": "2022-06-21T05:52:28.785289Z",
     "shell.execute_reply": "2022-06-21T05:52:28.784446Z"
    },
    "papermill": {
     "duration": 0.036353,
     "end_time": "2022-06-21T05:52:28.787642",
     "exception": false,
     "start_time": "2022-06-21T05:52:28.751289",
     "status": "completed"
    },
    "tags": []
   },
   "outputs": [],
   "source": [
    "all_data['is_Alone'] = 0\n",
    "all_data.loc[all_data['Family_size']==1, 'is_Alone'] = 1"
   ]
  },
  {
   "cell_type": "markdown",
   "id": "580401d7",
   "metadata": {
    "papermill": {
     "duration": 0.023801,
     "end_time": "2022-06-21T05:52:28.836469",
     "exception": false,
     "start_time": "2022-06-21T05:52:28.812668",
     "status": "completed"
    },
    "tags": []
   },
   "source": [
    "### Fitur `is_Female`"
   ]
  },
  {
   "cell_type": "code",
   "execution_count": 28,
   "id": "4d686416",
   "metadata": {
    "execution": {
     "iopub.execute_input": "2022-06-21T05:52:28.888392Z",
     "iopub.status.busy": "2022-06-21T05:52:28.887500Z",
     "iopub.status.idle": "2022-06-21T05:52:28.896293Z",
     "shell.execute_reply": "2022-06-21T05:52:28.895499Z"
    },
    "papermill": {
     "duration": 0.03761,
     "end_time": "2022-06-21T05:52:28.898624",
     "exception": false,
     "start_time": "2022-06-21T05:52:28.861014",
     "status": "completed"
    },
    "tags": []
   },
   "outputs": [],
   "source": [
    "all_data.loc[all_data.Sex == 'female', 'is_female'] = 1\n",
    "all_data.loc[all_data.Sex == 'male', 'is_female'] = 0"
   ]
  },
  {
   "cell_type": "markdown",
   "id": "05d969b2",
   "metadata": {
    "papermill": {
     "duration": 0.023608,
     "end_time": "2022-06-21T05:52:28.946118",
     "exception": false,
     "start_time": "2022-06-21T05:52:28.922510",
     "status": "completed"
    },
    "tags": []
   },
   "source": [
    "### Fitur `Title`"
   ]
  },
  {
   "cell_type": "code",
   "execution_count": 29,
   "id": "be1b83d0",
   "metadata": {
    "execution": {
     "iopub.execute_input": "2022-06-21T05:52:28.997354Z",
     "iopub.status.busy": "2022-06-21T05:52:28.996466Z",
     "iopub.status.idle": "2022-06-21T05:52:29.014521Z",
     "shell.execute_reply": "2022-06-21T05:52:29.013330Z"
    },
    "papermill": {
     "duration": 0.046193,
     "end_time": "2022-06-21T05:52:29.016746",
     "exception": false,
     "start_time": "2022-06-21T05:52:28.970553",
     "status": "completed"
    },
    "tags": []
   },
   "outputs": [
    {
     "data": {
      "text/plain": [
       "array(['Mr', 'Mrs', 'Miss', 'Master', 'Don', 'Rev', 'Dr', 'Mme', 'Ms',\n",
       "       'Major', 'Lady', 'Sir', 'Mlle', 'Col', 'Capt', 'the Countess',\n",
       "       'Jonkheer', 'Dona'], dtype=object)"
      ]
     },
     "execution_count": 29,
     "metadata": {},
     "output_type": "execute_result"
    }
   ],
   "source": [
    "all_data['Title'] = all_data['Name'].str.split(', ', expand=True)[1].str.split('.', expand=True)[0]\n",
    "all_data['Title'].unique()"
   ]
  },
  {
   "cell_type": "code",
   "execution_count": 30,
   "id": "f17fdf53",
   "metadata": {
    "execution": {
     "iopub.execute_input": "2022-06-21T05:52:29.072199Z",
     "iopub.status.busy": "2022-06-21T05:52:29.071680Z",
     "iopub.status.idle": "2022-06-21T05:52:29.085310Z",
     "shell.execute_reply": "2022-06-21T05:52:29.084337Z"
    },
    "papermill": {
     "duration": 0.044212,
     "end_time": "2022-06-21T05:52:29.087861",
     "exception": false,
     "start_time": "2022-06-21T05:52:29.043649",
     "status": "completed"
    },
    "tags": []
   },
   "outputs": [],
   "source": [
    "all_data['Title'] = all_data['Title'].replace(['Miss', 'Mrs','Ms', 'Mlle', 'Lady', 'Mme', 'the Countess', 'Dona'], 'Miss/Mrs/Ms')\n",
    "all_data['Title'] = all_data['Title'].replace(['Don', 'Rev', 'Sir', 'Master', 'Jonkheer'], 'Mr')\n",
    "all_data['Title'] = all_data['Title'].replace(['Dr', 'Major', 'Col', 'Capt'], 'Other')"
   ]
  },
  {
   "cell_type": "code",
   "execution_count": 31,
   "id": "f8377ff9",
   "metadata": {
    "execution": {
     "iopub.execute_input": "2022-06-21T05:52:29.139213Z",
     "iopub.status.busy": "2022-06-21T05:52:29.138371Z",
     "iopub.status.idle": "2022-06-21T05:52:29.145929Z",
     "shell.execute_reply": "2022-06-21T05:52:29.145158Z"
    },
    "papermill": {
     "duration": 0.035475,
     "end_time": "2022-06-21T05:52:29.147871",
     "exception": false,
     "start_time": "2022-06-21T05:52:29.112396",
     "status": "completed"
    },
    "tags": []
   },
   "outputs": [
    {
     "data": {
      "text/plain": [
       "array(['Mr', 'Miss/Mrs/Ms', 'Other'], dtype=object)"
      ]
     },
     "execution_count": 31,
     "metadata": {},
     "output_type": "execute_result"
    }
   ],
   "source": [
    "all_data['Title'].unique()"
   ]
  },
  {
   "cell_type": "markdown",
   "id": "04381af3",
   "metadata": {
    "papermill": {
     "duration": 0.023944,
     "end_time": "2022-06-21T05:52:29.196320",
     "exception": false,
     "start_time": "2022-06-21T05:52:29.172376",
     "status": "completed"
    },
    "tags": []
   },
   "source": [
    "## Menghapus Fitur-fitur yang Sudah tidak digunakan"
   ]
  },
  {
   "cell_type": "code",
   "execution_count": 32,
   "id": "0acbd343",
   "metadata": {
    "execution": {
     "iopub.execute_input": "2022-06-21T05:52:29.247828Z",
     "iopub.status.busy": "2022-06-21T05:52:29.247007Z",
     "iopub.status.idle": "2022-06-21T05:52:29.264655Z",
     "shell.execute_reply": "2022-06-21T05:52:29.263641Z"
    },
    "papermill": {
     "duration": 0.046531,
     "end_time": "2022-06-21T05:52:29.267015",
     "exception": false,
     "start_time": "2022-06-21T05:52:29.220484",
     "status": "completed"
    },
    "tags": []
   },
   "outputs": [
    {
     "name": "stdout",
     "output_type": "stream",
     "text": [
      "<class 'pandas.core.frame.DataFrame'>\n",
      "Int64Index: 1309 entries, 0 to 417\n",
      "Data columns (total 10 columns):\n",
      " #   Column       Non-Null Count  Dtype  \n",
      "---  ------       --------------  -----  \n",
      " 0   PassengerId  1309 non-null   int64  \n",
      " 1   Survived     891 non-null    float64\n",
      " 2   Pclass       1309 non-null   int64  \n",
      " 3   Age          1309 non-null   float64\n",
      " 4   Fare         1309 non-null   float64\n",
      " 5   Embarked     1309 non-null   object \n",
      " 6   Family_size  1309 non-null   int64  \n",
      " 7   is_Alone     1309 non-null   int64  \n",
      " 8   is_female    1309 non-null   float64\n",
      " 9   Title        1309 non-null   object \n",
      "dtypes: float64(4), int64(4), object(2)\n",
      "memory usage: 112.5+ KB\n"
     ]
    }
   ],
   "source": [
    "all_data.drop(['Name', 'Sex', 'Parch', 'SibSp'], axis=1, inplace=True)\n",
    "all_data.info()"
   ]
  },
  {
   "cell_type": "markdown",
   "id": "2d654289",
   "metadata": {
    "papermill": {
     "duration": 0.024738,
     "end_time": "2022-06-21T05:52:29.316003",
     "exception": false,
     "start_time": "2022-06-21T05:52:29.291265",
     "status": "completed"
    },
    "tags": []
   },
   "source": [
    "## Menangani Fitur Non-Numerik"
   ]
  },
  {
   "cell_type": "code",
   "execution_count": 33,
   "id": "d1ba712c",
   "metadata": {
    "execution": {
     "iopub.execute_input": "2022-06-21T05:52:29.367427Z",
     "iopub.status.busy": "2022-06-21T05:52:29.366569Z",
     "iopub.status.idle": "2022-06-21T05:52:29.376911Z",
     "shell.execute_reply": "2022-06-21T05:52:29.376010Z"
    },
    "papermill": {
     "duration": 0.038737,
     "end_time": "2022-06-21T05:52:29.379483",
     "exception": false,
     "start_time": "2022-06-21T05:52:29.340746",
     "status": "completed"
    },
    "tags": []
   },
   "outputs": [],
   "source": [
    "all_data['Title'] = all_data['Title'].replace(['Miss/Mrs/Ms'], 2)\n",
    "all_data['Title'] = all_data['Title'].replace(['Other'], 1)\n",
    "all_data['Title'] = all_data['Title'].replace(['Mr'], 0)"
   ]
  },
  {
   "cell_type": "code",
   "execution_count": 34,
   "id": "9275d182",
   "metadata": {
    "execution": {
     "iopub.execute_input": "2022-06-21T05:52:29.431368Z",
     "iopub.status.busy": "2022-06-21T05:52:29.430514Z",
     "iopub.status.idle": "2022-06-21T05:52:29.441730Z",
     "shell.execute_reply": "2022-06-21T05:52:29.440962Z"
    },
    "papermill": {
     "duration": 0.040124,
     "end_time": "2022-06-21T05:52:29.444039",
     "exception": false,
     "start_time": "2022-06-21T05:52:29.403915",
     "status": "completed"
    },
    "tags": []
   },
   "outputs": [],
   "source": [
    "all_data = pd.get_dummies(all_data)"
   ]
  },
  {
   "cell_type": "code",
   "execution_count": 35,
   "id": "1bb68b30",
   "metadata": {
    "execution": {
     "iopub.execute_input": "2022-06-21T05:52:29.495436Z",
     "iopub.status.busy": "2022-06-21T05:52:29.494586Z",
     "iopub.status.idle": "2022-06-21T05:52:29.509301Z",
     "shell.execute_reply": "2022-06-21T05:52:29.508295Z"
    },
    "papermill": {
     "duration": 0.042705,
     "end_time": "2022-06-21T05:52:29.511515",
     "exception": false,
     "start_time": "2022-06-21T05:52:29.468810",
     "status": "completed"
    },
    "tags": []
   },
   "outputs": [
    {
     "name": "stdout",
     "output_type": "stream",
     "text": [
      "<class 'pandas.core.frame.DataFrame'>\n",
      "Int64Index: 1309 entries, 0 to 417\n",
      "Data columns (total 12 columns):\n",
      " #   Column       Non-Null Count  Dtype  \n",
      "---  ------       --------------  -----  \n",
      " 0   PassengerId  1309 non-null   int64  \n",
      " 1   Survived     891 non-null    float64\n",
      " 2   Pclass       1309 non-null   int64  \n",
      " 3   Age          1309 non-null   float64\n",
      " 4   Fare         1309 non-null   float64\n",
      " 5   Family_size  1309 non-null   int64  \n",
      " 6   is_Alone     1309 non-null   int64  \n",
      " 7   is_female    1309 non-null   float64\n",
      " 8   Title        1309 non-null   int64  \n",
      " 9   Embarked_C   1309 non-null   uint8  \n",
      " 10  Embarked_Q   1309 non-null   uint8  \n",
      " 11  Embarked_S   1309 non-null   uint8  \n",
      "dtypes: float64(4), int64(5), uint8(3)\n",
      "memory usage: 106.1 KB\n"
     ]
    }
   ],
   "source": [
    "all_data.info()"
   ]
  },
  {
   "cell_type": "markdown",
   "id": "720194a3",
   "metadata": {
    "papermill": {
     "duration": 0.023905,
     "end_time": "2022-06-21T05:52:29.560085",
     "exception": false,
     "start_time": "2022-06-21T05:52:29.536180",
     "status": "completed"
    },
    "tags": []
   },
   "source": [
    "## Memisahkan Train & Test"
   ]
  },
  {
   "cell_type": "code",
   "execution_count": 36,
   "id": "24e3fdd3",
   "metadata": {
    "execution": {
     "iopub.execute_input": "2022-06-21T05:52:29.613320Z",
     "iopub.status.busy": "2022-06-21T05:52:29.612522Z",
     "iopub.status.idle": "2022-06-21T05:52:29.632032Z",
     "shell.execute_reply": "2022-06-21T05:52:29.631139Z"
    },
    "papermill": {
     "duration": 0.048674,
     "end_time": "2022-06-21T05:52:29.634263",
     "exception": false,
     "start_time": "2022-06-21T05:52:29.585589",
     "status": "completed"
    },
    "tags": []
   },
   "outputs": [
    {
     "data": {
      "text/html": [
       "<div>\n",
       "<style scoped>\n",
       "    .dataframe tbody tr th:only-of-type {\n",
       "        vertical-align: middle;\n",
       "    }\n",
       "\n",
       "    .dataframe tbody tr th {\n",
       "        vertical-align: top;\n",
       "    }\n",
       "\n",
       "    .dataframe thead th {\n",
       "        text-align: right;\n",
       "    }\n",
       "</style>\n",
       "<table border=\"1\" class=\"dataframe\">\n",
       "  <thead>\n",
       "    <tr style=\"text-align: right;\">\n",
       "      <th></th>\n",
       "      <th>Pclass</th>\n",
       "      <th>Age</th>\n",
       "      <th>Fare</th>\n",
       "      <th>Family_size</th>\n",
       "      <th>is_Alone</th>\n",
       "      <th>is_female</th>\n",
       "      <th>Title</th>\n",
       "      <th>Embarked_C</th>\n",
       "      <th>Embarked_Q</th>\n",
       "      <th>Embarked_S</th>\n",
       "    </tr>\n",
       "  </thead>\n",
       "  <tbody>\n",
       "    <tr>\n",
       "      <th>886</th>\n",
       "      <td>2</td>\n",
       "      <td>27.0</td>\n",
       "      <td>13.00</td>\n",
       "      <td>1</td>\n",
       "      <td>1</td>\n",
       "      <td>0.0</td>\n",
       "      <td>0</td>\n",
       "      <td>0</td>\n",
       "      <td>0</td>\n",
       "      <td>1</td>\n",
       "    </tr>\n",
       "    <tr>\n",
       "      <th>887</th>\n",
       "      <td>1</td>\n",
       "      <td>19.0</td>\n",
       "      <td>30.00</td>\n",
       "      <td>1</td>\n",
       "      <td>1</td>\n",
       "      <td>1.0</td>\n",
       "      <td>2</td>\n",
       "      <td>0</td>\n",
       "      <td>0</td>\n",
       "      <td>1</td>\n",
       "    </tr>\n",
       "    <tr>\n",
       "      <th>888</th>\n",
       "      <td>3</td>\n",
       "      <td>22.0</td>\n",
       "      <td>23.45</td>\n",
       "      <td>4</td>\n",
       "      <td>0</td>\n",
       "      <td>1.0</td>\n",
       "      <td>2</td>\n",
       "      <td>0</td>\n",
       "      <td>0</td>\n",
       "      <td>1</td>\n",
       "    </tr>\n",
       "    <tr>\n",
       "      <th>889</th>\n",
       "      <td>1</td>\n",
       "      <td>26.0</td>\n",
       "      <td>30.00</td>\n",
       "      <td>1</td>\n",
       "      <td>1</td>\n",
       "      <td>0.0</td>\n",
       "      <td>0</td>\n",
       "      <td>1</td>\n",
       "      <td>0</td>\n",
       "      <td>0</td>\n",
       "    </tr>\n",
       "    <tr>\n",
       "      <th>890</th>\n",
       "      <td>3</td>\n",
       "      <td>32.0</td>\n",
       "      <td>7.75</td>\n",
       "      <td>1</td>\n",
       "      <td>1</td>\n",
       "      <td>0.0</td>\n",
       "      <td>0</td>\n",
       "      <td>0</td>\n",
       "      <td>1</td>\n",
       "      <td>0</td>\n",
       "    </tr>\n",
       "  </tbody>\n",
       "</table>\n",
       "</div>"
      ],
      "text/plain": [
       "     Pclass   Age   Fare  Family_size  is_Alone  is_female  Title  Embarked_C  \\\n",
       "886       2  27.0  13.00            1         1        0.0      0           0   \n",
       "887       1  19.0  30.00            1         1        1.0      2           0   \n",
       "888       3  22.0  23.45            4         0        1.0      2           0   \n",
       "889       1  26.0  30.00            1         1        0.0      0           1   \n",
       "890       3  32.0   7.75            1         1        0.0      0           0   \n",
       "\n",
       "     Embarked_Q  Embarked_S  \n",
       "886           0           1  \n",
       "887           0           1  \n",
       "888           0           1  \n",
       "889           0           0  \n",
       "890           1           0  "
      ]
     },
     "execution_count": 36,
     "metadata": {},
     "output_type": "execute_result"
    }
   ],
   "source": [
    "X_train = all_data[:891]\n",
    "y_train = X_train.Survived.astype('int')\n",
    "X_train = X_train.drop(['PassengerId', 'Survived'], axis=1)\n",
    "X_train.tail()"
   ]
  },
  {
   "cell_type": "code",
   "execution_count": 37,
   "id": "fbd0359c",
   "metadata": {
    "execution": {
     "iopub.execute_input": "2022-06-21T05:52:29.685731Z",
     "iopub.status.busy": "2022-06-21T05:52:29.685094Z",
     "iopub.status.idle": "2022-06-21T05:52:29.702190Z",
     "shell.execute_reply": "2022-06-21T05:52:29.701277Z"
    },
    "papermill": {
     "duration": 0.04516,
     "end_time": "2022-06-21T05:52:29.704248",
     "exception": false,
     "start_time": "2022-06-21T05:52:29.659088",
     "status": "completed"
    },
    "tags": []
   },
   "outputs": [
    {
     "data": {
      "text/html": [
       "<div>\n",
       "<style scoped>\n",
       "    .dataframe tbody tr th:only-of-type {\n",
       "        vertical-align: middle;\n",
       "    }\n",
       "\n",
       "    .dataframe tbody tr th {\n",
       "        vertical-align: top;\n",
       "    }\n",
       "\n",
       "    .dataframe thead th {\n",
       "        text-align: right;\n",
       "    }\n",
       "</style>\n",
       "<table border=\"1\" class=\"dataframe\">\n",
       "  <thead>\n",
       "    <tr style=\"text-align: right;\">\n",
       "      <th></th>\n",
       "      <th>Pclass</th>\n",
       "      <th>Age</th>\n",
       "      <th>Fare</th>\n",
       "      <th>Family_size</th>\n",
       "      <th>is_Alone</th>\n",
       "      <th>is_female</th>\n",
       "      <th>Title</th>\n",
       "      <th>Embarked_C</th>\n",
       "      <th>Embarked_Q</th>\n",
       "      <th>Embarked_S</th>\n",
       "    </tr>\n",
       "  </thead>\n",
       "  <tbody>\n",
       "    <tr>\n",
       "      <th>0</th>\n",
       "      <td>3</td>\n",
       "      <td>34.5</td>\n",
       "      <td>7.8292</td>\n",
       "      <td>1</td>\n",
       "      <td>1</td>\n",
       "      <td>0.0</td>\n",
       "      <td>0</td>\n",
       "      <td>0</td>\n",
       "      <td>1</td>\n",
       "      <td>0</td>\n",
       "    </tr>\n",
       "    <tr>\n",
       "      <th>1</th>\n",
       "      <td>3</td>\n",
       "      <td>47.0</td>\n",
       "      <td>7.0000</td>\n",
       "      <td>2</td>\n",
       "      <td>0</td>\n",
       "      <td>1.0</td>\n",
       "      <td>2</td>\n",
       "      <td>0</td>\n",
       "      <td>0</td>\n",
       "      <td>1</td>\n",
       "    </tr>\n",
       "    <tr>\n",
       "      <th>2</th>\n",
       "      <td>2</td>\n",
       "      <td>62.0</td>\n",
       "      <td>9.6875</td>\n",
       "      <td>1</td>\n",
       "      <td>1</td>\n",
       "      <td>0.0</td>\n",
       "      <td>0</td>\n",
       "      <td>0</td>\n",
       "      <td>1</td>\n",
       "      <td>0</td>\n",
       "    </tr>\n",
       "    <tr>\n",
       "      <th>3</th>\n",
       "      <td>3</td>\n",
       "      <td>27.0</td>\n",
       "      <td>8.6625</td>\n",
       "      <td>1</td>\n",
       "      <td>1</td>\n",
       "      <td>0.0</td>\n",
       "      <td>0</td>\n",
       "      <td>0</td>\n",
       "      <td>0</td>\n",
       "      <td>1</td>\n",
       "    </tr>\n",
       "    <tr>\n",
       "      <th>4</th>\n",
       "      <td>3</td>\n",
       "      <td>22.0</td>\n",
       "      <td>12.2875</td>\n",
       "      <td>3</td>\n",
       "      <td>0</td>\n",
       "      <td>1.0</td>\n",
       "      <td>2</td>\n",
       "      <td>0</td>\n",
       "      <td>0</td>\n",
       "      <td>1</td>\n",
       "    </tr>\n",
       "  </tbody>\n",
       "</table>\n",
       "</div>"
      ],
      "text/plain": [
       "   Pclass   Age     Fare  Family_size  is_Alone  is_female  Title  Embarked_C  \\\n",
       "0       3  34.5   7.8292            1         1        0.0      0           0   \n",
       "1       3  47.0   7.0000            2         0        1.0      2           0   \n",
       "2       2  62.0   9.6875            1         1        0.0      0           0   \n",
       "3       3  27.0   8.6625            1         1        0.0      0           0   \n",
       "4       3  22.0  12.2875            3         0        1.0      2           0   \n",
       "\n",
       "   Embarked_Q  Embarked_S  \n",
       "0           1           0  \n",
       "1           0           1  \n",
       "2           1           0  \n",
       "3           0           1  \n",
       "4           0           1  "
      ]
     },
     "execution_count": 37,
     "metadata": {},
     "output_type": "execute_result"
    }
   ],
   "source": [
    "X_test = all_data[891:]\n",
    "passengerID = X_test.PassengerId # Save passengerID untuk submission\n",
    "X_test = X_test.drop(['PassengerId', 'Survived'], axis=1)\n",
    "X_test.head()"
   ]
  },
  {
   "cell_type": "markdown",
   "id": "074f2f67",
   "metadata": {
    "papermill": {
     "duration": 0.025027,
     "end_time": "2022-06-21T05:52:29.754617",
     "exception": false,
     "start_time": "2022-06-21T05:52:29.729590",
     "status": "completed"
    },
    "tags": []
   },
   "source": [
    "# Pemodelan\n",
    "Model yang akan digunakan ialah Random Forest, KNN, SVM, Logistic Regression, NaiveBayes, RelevanceVectorMachine"
   ]
  },
  {
   "cell_type": "code",
   "execution_count": 38,
   "id": "bef530d4",
   "metadata": {
    "execution": {
     "iopub.execute_input": "2022-06-21T05:52:29.806981Z",
     "iopub.status.busy": "2022-06-21T05:52:29.806503Z",
     "iopub.status.idle": "2022-06-21T05:52:30.262705Z",
     "shell.execute_reply": "2022-06-21T05:52:30.261645Z"
    },
    "papermill": {
     "duration": 0.486,
     "end_time": "2022-06-21T05:52:30.265413",
     "exception": false,
     "start_time": "2022-06-21T05:52:29.779413",
     "status": "completed"
    },
    "tags": []
   },
   "outputs": [],
   "source": [
    "from sklearn.model_selection import GridSearchCV, train_test_split, cross_val_score\n",
    "from sklearn.ensemble import RandomForestClassifier, GradientBoostingClassifier, StackingClassifier\n",
    "from sklearn.linear_model import LogisticRegression\n",
    "from sklearn.neighbors import KNeighborsClassifier\n",
    "from sklearn.naive_bayes import GaussianNB\n",
    "from sklearn.preprocessing import StandardScaler, RobustScaler\n",
    "from sklearn.pipeline import make_pipeline\n",
    "from sklearn.metrics import accuracy_score\n",
    "from sklearn.svm import SVC\n",
    "from scipy.stats import mode"
   ]
  },
  {
   "cell_type": "code",
   "execution_count": 39,
   "id": "6cb90092",
   "metadata": {
    "execution": {
     "iopub.execute_input": "2022-06-21T05:52:30.318693Z",
     "iopub.status.busy": "2022-06-21T05:52:30.318216Z",
     "iopub.status.idle": "2022-06-21T05:52:30.324509Z",
     "shell.execute_reply": "2022-06-21T05:52:30.323475Z"
    },
    "papermill": {
     "duration": 0.035895,
     "end_time": "2022-06-21T05:52:30.326641",
     "exception": false,
     "start_time": "2022-06-21T05:52:30.290746",
     "status": "completed"
    },
    "tags": []
   },
   "outputs": [],
   "source": [
    "# get a stacking ensemble of models\n",
    "def get_stacking(models, final):\n",
    "    # define the base models\n",
    "    level0 = list()\n",
    "    for name, model in models.items():\n",
    "        level0.append((name, model))\n",
    "    # define meta learner model\n",
    "    level1 = final\n",
    "    # define the stacking ensemble\n",
    "    model = StackingClassifier(estimators=level0, final_estimator=level1, cv=5)\n",
    "    return model"
   ]
  },
  {
   "cell_type": "code",
   "execution_count": 40,
   "id": "bc81eea5",
   "metadata": {
    "execution": {
     "iopub.execute_input": "2022-06-21T05:52:30.380637Z",
     "iopub.status.busy": "2022-06-21T05:52:30.379665Z",
     "iopub.status.idle": "2022-06-21T05:52:30.385480Z",
     "shell.execute_reply": "2022-06-21T05:52:30.384470Z"
    },
    "papermill": {
     "duration": 0.03573,
     "end_time": "2022-06-21T05:52:30.388178",
     "exception": false,
     "start_time": "2022-06-21T05:52:30.352448",
     "status": "completed"
    },
    "tags": []
   },
   "outputs": [],
   "source": [
    "def accuracy(model):\n",
    "    acc = cross_val_score(model, X_train, y_train, cv=5, scoring='accuracy')\n",
    "    print(f'accuracy score : {acc}')\n",
    "    print(f'mean accuracy score : {np.mean(acc)} ({np.std(acc)})')"
   ]
  },
  {
   "cell_type": "markdown",
   "id": "17ba45f0",
   "metadata": {
    "papermill": {
     "duration": 0.026351,
     "end_time": "2022-06-21T05:52:30.440063",
     "exception": false,
     "start_time": "2022-06-21T05:52:30.413712",
     "status": "completed"
    },
    "tags": []
   },
   "source": [
    "## Random Forest"
   ]
  },
  {
   "cell_type": "code",
   "execution_count": 41,
   "id": "2cc86f23",
   "metadata": {
    "execution": {
     "iopub.execute_input": "2022-06-21T05:52:30.497132Z",
     "iopub.status.busy": "2022-06-21T05:52:30.496408Z",
     "iopub.status.idle": "2022-06-21T05:52:56.200137Z",
     "shell.execute_reply": "2022-06-21T05:52:56.199096Z"
    },
    "papermill": {
     "duration": 25.735993,
     "end_time": "2022-06-21T05:52:56.203075",
     "exception": false,
     "start_time": "2022-06-21T05:52:30.467082",
     "status": "completed"
    },
    "tags": []
   },
   "outputs": [
    {
     "name": "stdout",
     "output_type": "stream",
     "text": [
      "Fitting 5 folds for each of 42 candidates, totalling 210 fits\n",
      "Best parameter = {'min_samples_split': 10, 'n_estimators': 100}\n"
     ]
    }
   ],
   "source": [
    "parameter = {'n_estimators': list(range(50, 225, 25)),\n",
    "             'min_samples_split' : list(range(10,21,2))\n",
    "            }\n",
    "\n",
    "model_rf = GridSearchCV(RandomForestClassifier(random_state=0),\n",
    "                       parameter, n_jobs=-1, verbose=1)\n",
    "model_rf.fit(X_train, y_train)\n",
    "\n",
    "print(f'Best parameter = {model_rf.best_params_}')"
   ]
  },
  {
   "cell_type": "code",
   "execution_count": 42,
   "id": "d66d0d0d",
   "metadata": {
    "execution": {
     "iopub.execute_input": "2022-06-21T05:52:56.261593Z",
     "iopub.status.busy": "2022-06-21T05:52:56.260567Z",
     "iopub.status.idle": "2022-06-21T05:52:57.453206Z",
     "shell.execute_reply": "2022-06-21T05:52:57.451912Z"
    },
    "papermill": {
     "duration": 1.224887,
     "end_time": "2022-06-21T05:52:57.455863",
     "exception": false,
     "start_time": "2022-06-21T05:52:56.230976",
     "status": "completed"
    },
    "tags": []
   },
   "outputs": [
    {
     "name": "stdout",
     "output_type": "stream",
     "text": [
      "accuracy score : [0.80446927 0.82022472 0.88202247 0.81460674 0.84269663]\n",
      "mean accuracy score : 0.832803967108154 (0.02761361013763097)\n"
     ]
    }
   ],
   "source": [
    "randfore = RandomForestClassifier(\n",
    "    n_estimators = model_rf.best_params_['n_estimators'],\n",
    "    min_samples_split = model_rf.best_params_['min_samples_split'], \n",
    "    random_state = 0)\n",
    "accuracy(randfore)"
   ]
  },
  {
   "cell_type": "markdown",
   "id": "e54b1793",
   "metadata": {
    "papermill": {
     "duration": 0.024593,
     "end_time": "2022-06-21T05:52:57.505780",
     "exception": false,
     "start_time": "2022-06-21T05:52:57.481187",
     "status": "completed"
    },
    "tags": []
   },
   "source": [
    "## K-Nearest Neighbors"
   ]
  },
  {
   "cell_type": "code",
   "execution_count": 43,
   "id": "503926a3",
   "metadata": {
    "execution": {
     "iopub.execute_input": "2022-06-21T05:52:57.558235Z",
     "iopub.status.busy": "2022-06-21T05:52:57.557736Z",
     "iopub.status.idle": "2022-06-21T05:52:57.803202Z",
     "shell.execute_reply": "2022-06-21T05:52:57.802085Z"
    },
    "papermill": {
     "duration": 0.275541,
     "end_time": "2022-06-21T05:52:57.806270",
     "exception": false,
     "start_time": "2022-06-21T05:52:57.530729",
     "status": "completed"
    },
    "tags": []
   },
   "outputs": [
    {
     "name": "stdout",
     "output_type": "stream",
     "text": [
      "Fitting 5 folds for each of 8 candidates, totalling 40 fits\n",
      "Best parameter = {'n_neighbors': 13}\n"
     ]
    }
   ],
   "source": [
    "parameter = {'n_neighbors': list(range(1,16,2))}\n",
    "\n",
    "model_knn = GridSearchCV(KNeighborsClassifier(),\n",
    "                       parameter, n_jobs=-1, verbose=1)\n",
    "model_knn.fit(StandardScaler().fit_transform(X_train), y_train)\n",
    "\n",
    "print(f'Best parameter = {model_knn.best_params_}')"
   ]
  },
  {
   "cell_type": "code",
   "execution_count": 44,
   "id": "19a00eef",
   "metadata": {
    "execution": {
     "iopub.execute_input": "2022-06-21T05:52:57.866905Z",
     "iopub.status.busy": "2022-06-21T05:52:57.865916Z",
     "iopub.status.idle": "2022-06-21T05:52:57.976004Z",
     "shell.execute_reply": "2022-06-21T05:52:57.973728Z"
    },
    "papermill": {
     "duration": 0.14409,
     "end_time": "2022-06-21T05:52:57.979592",
     "exception": false,
     "start_time": "2022-06-21T05:52:57.835502",
     "status": "completed"
    },
    "tags": []
   },
   "outputs": [
    {
     "name": "stdout",
     "output_type": "stream",
     "text": [
      "accuracy score : [0.81564246 0.79775281 0.80898876 0.79775281 0.80898876]\n",
      "mean accuracy score : 0.8058251208335949 (0.007024554431295106)\n"
     ]
    }
   ],
   "source": [
    "knn = KNeighborsClassifier(n_neighbors=model_knn.best_params_['n_neighbors'])\n",
    "knn_pl = make_pipeline(StandardScaler(), knn)\n",
    "accuracy(knn_pl)"
   ]
  },
  {
   "cell_type": "markdown",
   "id": "87e3638e",
   "metadata": {
    "papermill": {
     "duration": 0.028312,
     "end_time": "2022-06-21T05:52:58.037058",
     "exception": false,
     "start_time": "2022-06-21T05:52:58.008746",
     "status": "completed"
    },
    "tags": []
   },
   "source": [
    "## Logistic Regeression"
   ]
  },
  {
   "cell_type": "code",
   "execution_count": 45,
   "id": "b1f61ecf",
   "metadata": {
    "execution": {
     "iopub.execute_input": "2022-06-21T05:52:58.095151Z",
     "iopub.status.busy": "2022-06-21T05:52:58.094618Z",
     "iopub.status.idle": "2022-06-21T05:52:58.700668Z",
     "shell.execute_reply": "2022-06-21T05:52:58.699530Z"
    },
    "papermill": {
     "duration": 0.638293,
     "end_time": "2022-06-21T05:52:58.703065",
     "exception": false,
     "start_time": "2022-06-21T05:52:58.064772",
     "status": "completed"
    },
    "tags": []
   },
   "outputs": [
    {
     "name": "stdout",
     "output_type": "stream",
     "text": [
      "accuracy score : [0.7877095  0.80337079 0.79775281 0.80898876 0.82022472]\n",
      "mean accuracy score : 0.8036093151716777 (0.010882737613557647)\n"
     ]
    }
   ],
   "source": [
    "logreg=LogisticRegression(max_iter=1000)\n",
    "model_logreg = make_pipeline(RobustScaler(), logreg)\n",
    "accuracy(logreg)"
   ]
  },
  {
   "cell_type": "markdown",
   "id": "2f07b8a0",
   "metadata": {
    "papermill": {
     "duration": 0.026668,
     "end_time": "2022-06-21T05:52:58.756227",
     "exception": false,
     "start_time": "2022-06-21T05:52:58.729559",
     "status": "completed"
    },
    "tags": []
   },
   "source": [
    "## Support Vector Machine (SV Classifier)"
   ]
  },
  {
   "cell_type": "code",
   "execution_count": 46,
   "id": "822733ed",
   "metadata": {
    "execution": {
     "iopub.execute_input": "2022-06-21T05:52:58.813311Z",
     "iopub.status.busy": "2022-06-21T05:52:58.812459Z",
     "iopub.status.idle": "2022-06-21T05:53:01.377913Z",
     "shell.execute_reply": "2022-06-21T05:53:01.376123Z"
    },
    "papermill": {
     "duration": 2.597614,
     "end_time": "2022-06-21T05:53:01.381017",
     "exception": false,
     "start_time": "2022-06-21T05:52:58.783403",
     "status": "completed"
    },
    "tags": []
   },
   "outputs": [
    {
     "name": "stdout",
     "output_type": "stream",
     "text": [
      "Fitting 5 folds for each of 24 candidates, totalling 120 fits\n",
      "Best parameter = {'C': 20, 'gamma': 'scale'}\n"
     ]
    }
   ],
   "source": [
    "parameter = {'C': list(range(2,25,2)),\n",
    "             'gamma' : ['scale', 'auto']\n",
    "            }\n",
    "\n",
    "model_sv = GridSearchCV(SVC(),\n",
    "                       parameter, n_jobs=-1, verbose=1)\n",
    "model_sv.fit(X_train, y_train)\n",
    "\n",
    "print(f'Best parameter = {model_sv.best_params_}')"
   ]
  },
  {
   "cell_type": "code",
   "execution_count": 47,
   "id": "8c168425",
   "metadata": {
    "execution": {
     "iopub.execute_input": "2022-06-21T05:53:01.439974Z",
     "iopub.status.busy": "2022-06-21T05:53:01.439451Z",
     "iopub.status.idle": "2022-06-21T05:53:01.626607Z",
     "shell.execute_reply": "2022-06-21T05:53:01.625481Z"
    },
    "papermill": {
     "duration": 0.219751,
     "end_time": "2022-06-21T05:53:01.629616",
     "exception": false,
     "start_time": "2022-06-21T05:53:01.409865",
     "status": "completed"
    },
    "tags": []
   },
   "outputs": [
    {
     "name": "stdout",
     "output_type": "stream",
     "text": [
      "accuracy score : [0.77653631 0.79775281 0.7752809  0.75280899 0.79213483]\n",
      "mean accuracy score : 0.77890276818781 (0.015684482200248342)\n"
     ]
    }
   ],
   "source": [
    "sv = SVC(\n",
    "    C = model_sv.best_params_['C'], \n",
    "    kernel ='rbf',\n",
    "    gamma = model_sv.best_params_['gamma'],\n",
    ")\n",
    "accuracy(sv)"
   ]
  },
  {
   "cell_type": "markdown",
   "id": "03be7075",
   "metadata": {
    "papermill": {
     "duration": 0.026557,
     "end_time": "2022-06-21T05:53:01.682777",
     "exception": false,
     "start_time": "2022-06-21T05:53:01.656220",
     "status": "completed"
    },
    "tags": []
   },
   "source": [
    "## Naive Bayes"
   ]
  },
  {
   "cell_type": "code",
   "execution_count": 48,
   "id": "8b0a968f",
   "metadata": {
    "execution": {
     "iopub.execute_input": "2022-06-21T05:53:01.738311Z",
     "iopub.status.busy": "2022-06-21T05:53:01.737266Z",
     "iopub.status.idle": "2022-06-21T05:53:01.776640Z",
     "shell.execute_reply": "2022-06-21T05:53:01.775522Z"
    },
    "papermill": {
     "duration": 0.069829,
     "end_time": "2022-06-21T05:53:01.779297",
     "exception": false,
     "start_time": "2022-06-21T05:53:01.709468",
     "status": "completed"
    },
    "tags": []
   },
   "outputs": [
    {
     "name": "stdout",
     "output_type": "stream",
     "text": [
      "accuracy score : [0.74301676 0.79213483 0.78089888 0.80337079 0.80337079]\n",
      "mean accuracy score : 0.7845584081350826 (0.02237996457548014)\n"
     ]
    }
   ],
   "source": [
    "gnb = GaussianNB()\n",
    "accuracy(gnb)"
   ]
  },
  {
   "cell_type": "markdown",
   "id": "6f03569e",
   "metadata": {
    "papermill": {
     "duration": 0.025714,
     "end_time": "2022-06-21T05:53:01.831987",
     "exception": false,
     "start_time": "2022-06-21T05:53:01.806273",
     "status": "completed"
    },
    "tags": []
   },
   "source": [
    "## Gradient Boosting"
   ]
  },
  {
   "cell_type": "code",
   "execution_count": 49,
   "id": "e9931ebb",
   "metadata": {
    "execution": {
     "iopub.execute_input": "2022-06-21T05:53:01.888490Z",
     "iopub.status.busy": "2022-06-21T05:53:01.887718Z",
     "iopub.status.idle": "2022-06-21T05:53:04.244094Z",
     "shell.execute_reply": "2022-06-21T05:53:04.242935Z"
    },
    "papermill": {
     "duration": 2.387579,
     "end_time": "2022-06-21T05:53:04.246960",
     "exception": false,
     "start_time": "2022-06-21T05:53:01.859381",
     "status": "completed"
    },
    "tags": []
   },
   "outputs": [
    {
     "name": "stdout",
     "output_type": "stream",
     "text": [
      "Fitting 5 folds for each of 9 candidates, totalling 45 fits\n",
      "Best parameter = {'learning_rate': 0.1, 'max_leaf_nodes': 8, 'min_samples_split': 10}\n"
     ]
    }
   ],
   "source": [
    "parameter = {'learning_rate': list(np.arange(0.1, 0.6)),\n",
    "             'min_samples_split' : [10, 15, 20],\n",
    "             'max_leaf_nodes' : [8, 16, 32]\n",
    "            }\n",
    "\n",
    "model_gb = GridSearchCV(GradientBoostingClassifier(),\n",
    "                       parameter, n_jobs=-1, verbose=1)\n",
    "model_gb.fit(X_train, y_train)\n",
    "\n",
    "print(f'Best parameter = {model_gb.best_params_}')"
   ]
  },
  {
   "cell_type": "code",
   "execution_count": 50,
   "id": "a5ad7de1",
   "metadata": {
    "execution": {
     "iopub.execute_input": "2022-06-21T05:53:04.302798Z",
     "iopub.status.busy": "2022-06-21T05:53:04.302306Z",
     "iopub.status.idle": "2022-06-21T05:53:04.909358Z",
     "shell.execute_reply": "2022-06-21T05:53:04.908228Z"
    },
    "papermill": {
     "duration": 0.637524,
     "end_time": "2022-06-21T05:53:04.912368",
     "exception": false,
     "start_time": "2022-06-21T05:53:04.274844",
     "status": "completed"
    },
    "tags": []
   },
   "outputs": [
    {
     "name": "stdout",
     "output_type": "stream",
     "text": [
      "accuracy score : [0.82681564 0.80898876 0.86516854 0.80337079 0.83707865]\n",
      "mean accuracy score : 0.8282844768062269 (0.022058764919638027)\n"
     ]
    }
   ],
   "source": [
    "gb = GradientBoostingClassifier(\n",
    "    learning_rate = model_gb.best_params_['learning_rate'], \n",
    "    min_samples_split = model_gb.best_params_['min_samples_split'], \n",
    "    max_leaf_nodes = model_gb.best_params_['max_leaf_nodes']\n",
    ")\n",
    "accuracy(gb)"
   ]
  },
  {
   "cell_type": "markdown",
   "id": "c064e77f",
   "metadata": {
    "papermill": {
     "duration": 0.025784,
     "end_time": "2022-06-21T05:53:04.965087",
     "exception": false,
     "start_time": "2022-06-21T05:53:04.939303",
     "status": "completed"
    },
    "tags": []
   },
   "source": [
    "## Stacking"
   ]
  },
  {
   "cell_type": "code",
   "execution_count": 51,
   "id": "fbe20113",
   "metadata": {
    "execution": {
     "iopub.execute_input": "2022-06-21T05:53:05.019877Z",
     "iopub.status.busy": "2022-06-21T05:53:05.018634Z",
     "iopub.status.idle": "2022-06-21T05:53:16.312409Z",
     "shell.execute_reply": "2022-06-21T05:53:16.311036Z"
    },
    "papermill": {
     "duration": 11.324744,
     "end_time": "2022-06-21T05:53:16.316080",
     "exception": false,
     "start_time": "2022-06-21T05:53:04.991336",
     "status": "completed"
    },
    "tags": []
   },
   "outputs": [
    {
     "name": "stdout",
     "output_type": "stream",
     "text": [
      "accuracy score : [0.81005587 0.8258427  0.86516854 0.80337079 0.8258427 ]\n",
      "mean accuracy score : 0.8260561170045821 (0.021449964710459568)\n"
     ]
    }
   ],
   "source": [
    "models = {\n",
    "    'Random Forest':randfore,\n",
    "    'K-Nearest Neighbors':knn_pl,\n",
    "    'Gradient Boosting': gb,\n",
    "    'Support Vector Machine' : sv,\n",
    "    'Naive Bayes': gnb\n",
    "    \n",
    "}\n",
    "model_stack = get_stacking(models, logreg)\n",
    "accuracy(model_stack)"
   ]
  },
  {
   "cell_type": "code",
   "execution_count": 52,
   "id": "2045d734",
   "metadata": {
    "execution": {
     "iopub.execute_input": "2022-06-21T05:53:16.372922Z",
     "iopub.status.busy": "2022-06-21T05:53:16.371668Z",
     "iopub.status.idle": "2022-06-21T05:53:18.833239Z",
     "shell.execute_reply": "2022-06-21T05:53:18.832078Z"
    },
    "papermill": {
     "duration": 2.491712,
     "end_time": "2022-06-21T05:53:18.835797",
     "exception": false,
     "start_time": "2022-06-21T05:53:16.344085",
     "status": "completed"
    },
    "tags": []
   },
   "outputs": [
    {
     "data": {
      "text/plain": [
       "array([0, 0, 0, 0, 1, 0, 0, 0, 1, 0, 0, 0, 1, 0, 1, 1, 0, 0, 0, 1, 0, 1,\n",
       "       1, 1, 1, 0, 1, 0, 1, 0, 0, 0, 1, 0, 1, 0, 0, 0, 0, 0, 0, 1, 0, 1,\n",
       "       1, 0, 0, 0, 1, 1, 0, 0, 1, 1, 0, 0, 0, 0, 0, 1, 0, 0, 0, 1, 0, 1,\n",
       "       1, 0, 0, 1, 1, 0, 0, 0, 1, 0, 0, 1, 0, 1, 1, 0, 0, 0, 0, 0, 1, 0,\n",
       "       1, 1, 1, 0, 1, 0, 0, 0, 1, 0, 0, 0, 1, 0, 0, 0, 1, 0, 0, 0, 0, 0,\n",
       "       0, 1, 1, 1, 1, 0, 0, 1, 0, 1, 1, 0, 1, 0, 0, 1, 0, 1, 0, 0, 0, 0,\n",
       "       0, 0, 0, 0, 0, 0, 0, 0, 0, 1, 0, 0, 1, 0, 0, 0, 1, 0, 1, 0, 0, 1,\n",
       "       0, 0, 1, 0, 1, 0, 1, 1, 1, 0, 0, 0, 0, 0, 1, 0, 0, 0, 0, 0, 0, 1,\n",
       "       1, 0, 1, 1, 0, 0, 1, 0, 1, 0, 1, 0, 0, 0, 0, 0, 0, 0, 1, 0, 1, 1,\n",
       "       0, 0, 1, 1, 0, 1, 0, 0, 0, 0, 1, 0, 0, 0, 0, 1, 0, 0, 1, 0, 1, 0,\n",
       "       1, 0, 1, 0, 1, 1, 0, 1, 0, 0, 0, 1, 0, 0, 1, 0, 0, 0, 1, 1, 1, 1,\n",
       "       0, 0, 0, 0, 1, 0, 1, 0, 1, 0, 0, 0, 0, 0, 0, 0, 1, 0, 0, 0, 1, 1,\n",
       "       0, 0, 0, 0, 0, 0, 0, 0, 1, 1, 0, 1, 0, 0, 0, 0, 0, 1, 1, 1, 1, 0,\n",
       "       0, 0, 0, 0, 0, 0, 0, 0, 0, 0, 1, 0, 0, 0, 0, 0, 0, 0, 1, 1, 0, 1,\n",
       "       0, 0, 0, 0, 0, 0, 1, 1, 0, 0, 0, 0, 0, 0, 0, 1, 1, 0, 1, 0, 0, 0,\n",
       "       1, 0, 0, 1, 0, 0, 0, 0, 0, 0, 0, 0, 0, 1, 0, 1, 0, 1, 0, 1, 1, 0,\n",
       "       0, 0, 1, 0, 1, 0, 0, 1, 0, 1, 1, 0, 1, 0, 0, 0, 1, 0, 0, 1, 0, 0,\n",
       "       1, 1, 0, 0, 0, 0, 0, 0, 0, 1, 0, 1, 0, 0, 0, 0, 0, 1, 0, 0, 0, 1,\n",
       "       0, 1, 0, 0, 1, 0, 1, 0, 0, 0, 0, 0, 1, 1, 1, 1, 1, 0, 1, 0, 0, 0])"
      ]
     },
     "execution_count": 52,
     "metadata": {},
     "output_type": "execute_result"
    }
   ],
   "source": [
    "model_stack.fit(X_train, y_train)\n",
    "y_pred = model_stack.predict(X_test)\n",
    "y_pred"
   ]
  },
  {
   "cell_type": "code",
   "execution_count": 53,
   "id": "6d7f3962",
   "metadata": {
    "execution": {
     "iopub.execute_input": "2022-06-21T05:53:18.893596Z",
     "iopub.status.busy": "2022-06-21T05:53:18.892752Z",
     "iopub.status.idle": "2022-06-21T05:53:18.898512Z",
     "shell.execute_reply": "2022-06-21T05:53:18.897780Z"
    },
    "papermill": {
     "duration": 0.037314,
     "end_time": "2022-06-21T05:53:18.900745",
     "exception": false,
     "start_time": "2022-06-21T05:53:18.863431",
     "status": "completed"
    },
    "tags": []
   },
   "outputs": [],
   "source": [
    "d_stack = {'PassengerId': passengerID, 'Survived': y_pred}\n",
    "sub_stack = pd.DataFrame(data=d_stack)"
   ]
  },
  {
   "cell_type": "code",
   "execution_count": 54,
   "id": "9dea74ff",
   "metadata": {
    "execution": {
     "iopub.execute_input": "2022-06-21T05:53:18.957462Z",
     "iopub.status.busy": "2022-06-21T05:53:18.956162Z",
     "iopub.status.idle": "2022-06-21T05:53:18.970167Z",
     "shell.execute_reply": "2022-06-21T05:53:18.968992Z"
    },
    "papermill": {
     "duration": 0.044495,
     "end_time": "2022-06-21T05:53:18.972471",
     "exception": false,
     "start_time": "2022-06-21T05:53:18.927976",
     "status": "completed"
    },
    "tags": []
   },
   "outputs": [
    {
     "data": {
      "text/html": [
       "<div>\n",
       "<style scoped>\n",
       "    .dataframe tbody tr th:only-of-type {\n",
       "        vertical-align: middle;\n",
       "    }\n",
       "\n",
       "    .dataframe tbody tr th {\n",
       "        vertical-align: top;\n",
       "    }\n",
       "\n",
       "    .dataframe thead th {\n",
       "        text-align: right;\n",
       "    }\n",
       "</style>\n",
       "<table border=\"1\" class=\"dataframe\">\n",
       "  <thead>\n",
       "    <tr style=\"text-align: right;\">\n",
       "      <th></th>\n",
       "      <th>PassengerId</th>\n",
       "      <th>Survived</th>\n",
       "    </tr>\n",
       "  </thead>\n",
       "  <tbody>\n",
       "    <tr>\n",
       "      <th>0</th>\n",
       "      <td>892</td>\n",
       "      <td>0</td>\n",
       "    </tr>\n",
       "    <tr>\n",
       "      <th>1</th>\n",
       "      <td>893</td>\n",
       "      <td>0</td>\n",
       "    </tr>\n",
       "    <tr>\n",
       "      <th>2</th>\n",
       "      <td>894</td>\n",
       "      <td>0</td>\n",
       "    </tr>\n",
       "    <tr>\n",
       "      <th>3</th>\n",
       "      <td>895</td>\n",
       "      <td>0</td>\n",
       "    </tr>\n",
       "    <tr>\n",
       "      <th>4</th>\n",
       "      <td>896</td>\n",
       "      <td>1</td>\n",
       "    </tr>\n",
       "    <tr>\n",
       "      <th>...</th>\n",
       "      <td>...</td>\n",
       "      <td>...</td>\n",
       "    </tr>\n",
       "    <tr>\n",
       "      <th>413</th>\n",
       "      <td>1305</td>\n",
       "      <td>0</td>\n",
       "    </tr>\n",
       "    <tr>\n",
       "      <th>414</th>\n",
       "      <td>1306</td>\n",
       "      <td>1</td>\n",
       "    </tr>\n",
       "    <tr>\n",
       "      <th>415</th>\n",
       "      <td>1307</td>\n",
       "      <td>0</td>\n",
       "    </tr>\n",
       "    <tr>\n",
       "      <th>416</th>\n",
       "      <td>1308</td>\n",
       "      <td>0</td>\n",
       "    </tr>\n",
       "    <tr>\n",
       "      <th>417</th>\n",
       "      <td>1309</td>\n",
       "      <td>0</td>\n",
       "    </tr>\n",
       "  </tbody>\n",
       "</table>\n",
       "<p>418 rows × 2 columns</p>\n",
       "</div>"
      ],
      "text/plain": [
       "     PassengerId  Survived\n",
       "0            892         0\n",
       "1            893         0\n",
       "2            894         0\n",
       "3            895         0\n",
       "4            896         1\n",
       "..           ...       ...\n",
       "413         1305         0\n",
       "414         1306         1\n",
       "415         1307         0\n",
       "416         1308         0\n",
       "417         1309         0\n",
       "\n",
       "[418 rows x 2 columns]"
      ]
     },
     "execution_count": 54,
     "metadata": {},
     "output_type": "execute_result"
    }
   ],
   "source": [
    "sub_stack"
   ]
  },
  {
   "cell_type": "code",
   "execution_count": 55,
   "id": "d4acf930",
   "metadata": {
    "execution": {
     "iopub.execute_input": "2022-06-21T05:53:19.029255Z",
     "iopub.status.busy": "2022-06-21T05:53:19.028331Z",
     "iopub.status.idle": "2022-06-21T05:53:19.038152Z",
     "shell.execute_reply": "2022-06-21T05:53:19.037225Z"
    },
    "papermill": {
     "duration": 0.04099,
     "end_time": "2022-06-21T05:53:19.040632",
     "exception": false,
     "start_time": "2022-06-21T05:53:18.999642",
     "status": "completed"
    },
    "tags": []
   },
   "outputs": [],
   "source": [
    "sub_stack.to_csv('gender_submission.csv', index=False)"
   ]
  }
 ],
 "metadata": {
  "kernelspec": {
   "display_name": "Python 3",
   "language": "python",
   "name": "python3"
  },
  "language_info": {
   "codemirror_mode": {
    "name": "ipython",
    "version": 3
   },
   "file_extension": ".py",
   "mimetype": "text/x-python",
   "name": "python",
   "nbconvert_exporter": "python",
   "pygments_lexer": "ipython3",
   "version": "3.7.12"
  },
  "papermill": {
   "default_parameters": {},
   "duration": 68.035524,
   "end_time": "2022-06-21T05:53:21.691502",
   "environment_variables": {},
   "exception": null,
   "input_path": "__notebook__.ipynb",
   "output_path": "__notebook__.ipynb",
   "parameters": {},
   "start_time": "2022-06-21T05:52:13.655978",
   "version": "2.3.4"
  }
 },
 "nbformat": 4,
 "nbformat_minor": 5
}
