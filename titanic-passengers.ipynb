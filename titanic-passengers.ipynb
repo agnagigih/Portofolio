{
 "cells": [
  {
   "cell_type": "code",
   "execution_count": 1,
   "id": "24cf5140",
   "metadata": {
    "_cell_guid": "b1076dfc-b9ad-4769-8c92-a6c4dae69d19",
    "_uuid": "8f2839f25d086af736a60e9eeb907d3b93b6e0e5",
    "execution": {
     "iopub.execute_input": "2022-06-22T09:23:10.826656Z",
     "iopub.status.busy": "2022-06-22T09:23:10.825862Z",
     "iopub.status.idle": "2022-06-22T09:23:11.920766Z",
     "shell.execute_reply": "2022-06-22T09:23:11.919670Z"
    },
    "papermill": {
     "duration": 1.117625,
     "end_time": "2022-06-22T09:23:11.923761",
     "exception": false,
     "start_time": "2022-06-22T09:23:10.806136",
     "status": "completed"
    },
    "tags": []
   },
   "outputs": [
    {
     "name": "stdout",
     "output_type": "stream",
     "text": [
      "/kaggle/input/titanic/train.csv\n",
      "/kaggle/input/titanic/test.csv\n",
      "/kaggle/input/titanic/gender_submission.csv\n"
     ]
    }
   ],
   "source": [
    "import numpy as np # linear algebra\n",
    "import pandas as pd # data processing, CSV file I/O (e.g. pd.read_csv)\n",
    "import matplotlib.pyplot as plt\n",
    "import seaborn as sns\n",
    "\n",
    "import os\n",
    "for dirname, _, filenames in os.walk('/kaggle/input'):\n",
    "    for filename in filenames:\n",
    "        print(os.path.join(dirname, filename))"
   ]
  },
  {
   "cell_type": "code",
   "execution_count": 2,
   "id": "393b929d",
   "metadata": {
    "execution": {
     "iopub.execute_input": "2022-06-22T09:23:11.954465Z",
     "iopub.status.busy": "2022-06-22T09:23:11.953714Z",
     "iopub.status.idle": "2022-06-22T09:23:11.998790Z",
     "shell.execute_reply": "2022-06-22T09:23:11.998012Z"
    },
    "papermill": {
     "duration": 0.061686,
     "end_time": "2022-06-22T09:23:12.000759",
     "exception": false,
     "start_time": "2022-06-22T09:23:11.939073",
     "status": "completed"
    },
    "tags": []
   },
   "outputs": [
    {
     "data": {
      "text/html": [
       "<div>\n",
       "<style scoped>\n",
       "    .dataframe tbody tr th:only-of-type {\n",
       "        vertical-align: middle;\n",
       "    }\n",
       "\n",
       "    .dataframe tbody tr th {\n",
       "        vertical-align: top;\n",
       "    }\n",
       "\n",
       "    .dataframe thead th {\n",
       "        text-align: right;\n",
       "    }\n",
       "</style>\n",
       "<table border=\"1\" class=\"dataframe\">\n",
       "  <thead>\n",
       "    <tr style=\"text-align: right;\">\n",
       "      <th></th>\n",
       "      <th>PassengerId</th>\n",
       "      <th>Survived</th>\n",
       "      <th>Pclass</th>\n",
       "      <th>Name</th>\n",
       "      <th>Sex</th>\n",
       "      <th>Age</th>\n",
       "      <th>SibSp</th>\n",
       "      <th>Parch</th>\n",
       "      <th>Ticket</th>\n",
       "      <th>Fare</th>\n",
       "      <th>Cabin</th>\n",
       "      <th>Embarked</th>\n",
       "    </tr>\n",
       "  </thead>\n",
       "  <tbody>\n",
       "    <tr>\n",
       "      <th>0</th>\n",
       "      <td>1</td>\n",
       "      <td>0</td>\n",
       "      <td>3</td>\n",
       "      <td>Braund, Mr. Owen Harris</td>\n",
       "      <td>male</td>\n",
       "      <td>22.0</td>\n",
       "      <td>1</td>\n",
       "      <td>0</td>\n",
       "      <td>A/5 21171</td>\n",
       "      <td>7.2500</td>\n",
       "      <td>NaN</td>\n",
       "      <td>S</td>\n",
       "    </tr>\n",
       "    <tr>\n",
       "      <th>1</th>\n",
       "      <td>2</td>\n",
       "      <td>1</td>\n",
       "      <td>1</td>\n",
       "      <td>Cumings, Mrs. John Bradley (Florence Briggs Th...</td>\n",
       "      <td>female</td>\n",
       "      <td>38.0</td>\n",
       "      <td>1</td>\n",
       "      <td>0</td>\n",
       "      <td>PC 17599</td>\n",
       "      <td>71.2833</td>\n",
       "      <td>C85</td>\n",
       "      <td>C</td>\n",
       "    </tr>\n",
       "    <tr>\n",
       "      <th>2</th>\n",
       "      <td>3</td>\n",
       "      <td>1</td>\n",
       "      <td>3</td>\n",
       "      <td>Heikkinen, Miss. Laina</td>\n",
       "      <td>female</td>\n",
       "      <td>26.0</td>\n",
       "      <td>0</td>\n",
       "      <td>0</td>\n",
       "      <td>STON/O2. 3101282</td>\n",
       "      <td>7.9250</td>\n",
       "      <td>NaN</td>\n",
       "      <td>S</td>\n",
       "    </tr>\n",
       "    <tr>\n",
       "      <th>3</th>\n",
       "      <td>4</td>\n",
       "      <td>1</td>\n",
       "      <td>1</td>\n",
       "      <td>Futrelle, Mrs. Jacques Heath (Lily May Peel)</td>\n",
       "      <td>female</td>\n",
       "      <td>35.0</td>\n",
       "      <td>1</td>\n",
       "      <td>0</td>\n",
       "      <td>113803</td>\n",
       "      <td>53.1000</td>\n",
       "      <td>C123</td>\n",
       "      <td>S</td>\n",
       "    </tr>\n",
       "    <tr>\n",
       "      <th>4</th>\n",
       "      <td>5</td>\n",
       "      <td>0</td>\n",
       "      <td>3</td>\n",
       "      <td>Allen, Mr. William Henry</td>\n",
       "      <td>male</td>\n",
       "      <td>35.0</td>\n",
       "      <td>0</td>\n",
       "      <td>0</td>\n",
       "      <td>373450</td>\n",
       "      <td>8.0500</td>\n",
       "      <td>NaN</td>\n",
       "      <td>S</td>\n",
       "    </tr>\n",
       "    <tr>\n",
       "      <th>...</th>\n",
       "      <td>...</td>\n",
       "      <td>...</td>\n",
       "      <td>...</td>\n",
       "      <td>...</td>\n",
       "      <td>...</td>\n",
       "      <td>...</td>\n",
       "      <td>...</td>\n",
       "      <td>...</td>\n",
       "      <td>...</td>\n",
       "      <td>...</td>\n",
       "      <td>...</td>\n",
       "      <td>...</td>\n",
       "    </tr>\n",
       "    <tr>\n",
       "      <th>886</th>\n",
       "      <td>887</td>\n",
       "      <td>0</td>\n",
       "      <td>2</td>\n",
       "      <td>Montvila, Rev. Juozas</td>\n",
       "      <td>male</td>\n",
       "      <td>27.0</td>\n",
       "      <td>0</td>\n",
       "      <td>0</td>\n",
       "      <td>211536</td>\n",
       "      <td>13.0000</td>\n",
       "      <td>NaN</td>\n",
       "      <td>S</td>\n",
       "    </tr>\n",
       "    <tr>\n",
       "      <th>887</th>\n",
       "      <td>888</td>\n",
       "      <td>1</td>\n",
       "      <td>1</td>\n",
       "      <td>Graham, Miss. Margaret Edith</td>\n",
       "      <td>female</td>\n",
       "      <td>19.0</td>\n",
       "      <td>0</td>\n",
       "      <td>0</td>\n",
       "      <td>112053</td>\n",
       "      <td>30.0000</td>\n",
       "      <td>B42</td>\n",
       "      <td>S</td>\n",
       "    </tr>\n",
       "    <tr>\n",
       "      <th>888</th>\n",
       "      <td>889</td>\n",
       "      <td>0</td>\n",
       "      <td>3</td>\n",
       "      <td>Johnston, Miss. Catherine Helen \"Carrie\"</td>\n",
       "      <td>female</td>\n",
       "      <td>NaN</td>\n",
       "      <td>1</td>\n",
       "      <td>2</td>\n",
       "      <td>W./C. 6607</td>\n",
       "      <td>23.4500</td>\n",
       "      <td>NaN</td>\n",
       "      <td>S</td>\n",
       "    </tr>\n",
       "    <tr>\n",
       "      <th>889</th>\n",
       "      <td>890</td>\n",
       "      <td>1</td>\n",
       "      <td>1</td>\n",
       "      <td>Behr, Mr. Karl Howell</td>\n",
       "      <td>male</td>\n",
       "      <td>26.0</td>\n",
       "      <td>0</td>\n",
       "      <td>0</td>\n",
       "      <td>111369</td>\n",
       "      <td>30.0000</td>\n",
       "      <td>C148</td>\n",
       "      <td>C</td>\n",
       "    </tr>\n",
       "    <tr>\n",
       "      <th>890</th>\n",
       "      <td>891</td>\n",
       "      <td>0</td>\n",
       "      <td>3</td>\n",
       "      <td>Dooley, Mr. Patrick</td>\n",
       "      <td>male</td>\n",
       "      <td>32.0</td>\n",
       "      <td>0</td>\n",
       "      <td>0</td>\n",
       "      <td>370376</td>\n",
       "      <td>7.7500</td>\n",
       "      <td>NaN</td>\n",
       "      <td>Q</td>\n",
       "    </tr>\n",
       "  </tbody>\n",
       "</table>\n",
       "<p>891 rows × 12 columns</p>\n",
       "</div>"
      ],
      "text/plain": [
       "     PassengerId  Survived  Pclass  \\\n",
       "0              1         0       3   \n",
       "1              2         1       1   \n",
       "2              3         1       3   \n",
       "3              4         1       1   \n",
       "4              5         0       3   \n",
       "..           ...       ...     ...   \n",
       "886          887         0       2   \n",
       "887          888         1       1   \n",
       "888          889         0       3   \n",
       "889          890         1       1   \n",
       "890          891         0       3   \n",
       "\n",
       "                                                  Name     Sex   Age  SibSp  \\\n",
       "0                              Braund, Mr. Owen Harris    male  22.0      1   \n",
       "1    Cumings, Mrs. John Bradley (Florence Briggs Th...  female  38.0      1   \n",
       "2                               Heikkinen, Miss. Laina  female  26.0      0   \n",
       "3         Futrelle, Mrs. Jacques Heath (Lily May Peel)  female  35.0      1   \n",
       "4                             Allen, Mr. William Henry    male  35.0      0   \n",
       "..                                                 ...     ...   ...    ...   \n",
       "886                              Montvila, Rev. Juozas    male  27.0      0   \n",
       "887                       Graham, Miss. Margaret Edith  female  19.0      0   \n",
       "888           Johnston, Miss. Catherine Helen \"Carrie\"  female   NaN      1   \n",
       "889                              Behr, Mr. Karl Howell    male  26.0      0   \n",
       "890                                Dooley, Mr. Patrick    male  32.0      0   \n",
       "\n",
       "     Parch            Ticket     Fare Cabin Embarked  \n",
       "0        0         A/5 21171   7.2500   NaN        S  \n",
       "1        0          PC 17599  71.2833   C85        C  \n",
       "2        0  STON/O2. 3101282   7.9250   NaN        S  \n",
       "3        0            113803  53.1000  C123        S  \n",
       "4        0            373450   8.0500   NaN        S  \n",
       "..     ...               ...      ...   ...      ...  \n",
       "886      0            211536  13.0000   NaN        S  \n",
       "887      0            112053  30.0000   B42        S  \n",
       "888      2        W./C. 6607  23.4500   NaN        S  \n",
       "889      0            111369  30.0000  C148        C  \n",
       "890      0            370376   7.7500   NaN        Q  \n",
       "\n",
       "[891 rows x 12 columns]"
      ]
     },
     "execution_count": 2,
     "metadata": {},
     "output_type": "execute_result"
    }
   ],
   "source": [
    "raw_train = pd.read_csv(\"/kaggle/input/titanic/train.csv\")\n",
    "raw_train"
   ]
  },
  {
   "cell_type": "code",
   "execution_count": 3,
   "id": "a73d19ff",
   "metadata": {
    "execution": {
     "iopub.execute_input": "2022-06-22T09:23:12.032127Z",
     "iopub.status.busy": "2022-06-22T09:23:12.031371Z",
     "iopub.status.idle": "2022-06-22T09:23:12.058612Z",
     "shell.execute_reply": "2022-06-22T09:23:12.057939Z"
    },
    "papermill": {
     "duration": 0.044484,
     "end_time": "2022-06-22T09:23:12.060591",
     "exception": false,
     "start_time": "2022-06-22T09:23:12.016107",
     "status": "completed"
    },
    "tags": []
   },
   "outputs": [
    {
     "data": {
      "text/html": [
       "<div>\n",
       "<style scoped>\n",
       "    .dataframe tbody tr th:only-of-type {\n",
       "        vertical-align: middle;\n",
       "    }\n",
       "\n",
       "    .dataframe tbody tr th {\n",
       "        vertical-align: top;\n",
       "    }\n",
       "\n",
       "    .dataframe thead th {\n",
       "        text-align: right;\n",
       "    }\n",
       "</style>\n",
       "<table border=\"1\" class=\"dataframe\">\n",
       "  <thead>\n",
       "    <tr style=\"text-align: right;\">\n",
       "      <th></th>\n",
       "      <th>PassengerId</th>\n",
       "      <th>Pclass</th>\n",
       "      <th>Name</th>\n",
       "      <th>Sex</th>\n",
       "      <th>Age</th>\n",
       "      <th>SibSp</th>\n",
       "      <th>Parch</th>\n",
       "      <th>Ticket</th>\n",
       "      <th>Fare</th>\n",
       "      <th>Cabin</th>\n",
       "      <th>Embarked</th>\n",
       "    </tr>\n",
       "  </thead>\n",
       "  <tbody>\n",
       "    <tr>\n",
       "      <th>0</th>\n",
       "      <td>892</td>\n",
       "      <td>3</td>\n",
       "      <td>Kelly, Mr. James</td>\n",
       "      <td>male</td>\n",
       "      <td>34.5</td>\n",
       "      <td>0</td>\n",
       "      <td>0</td>\n",
       "      <td>330911</td>\n",
       "      <td>7.8292</td>\n",
       "      <td>NaN</td>\n",
       "      <td>Q</td>\n",
       "    </tr>\n",
       "    <tr>\n",
       "      <th>1</th>\n",
       "      <td>893</td>\n",
       "      <td>3</td>\n",
       "      <td>Wilkes, Mrs. James (Ellen Needs)</td>\n",
       "      <td>female</td>\n",
       "      <td>47.0</td>\n",
       "      <td>1</td>\n",
       "      <td>0</td>\n",
       "      <td>363272</td>\n",
       "      <td>7.0000</td>\n",
       "      <td>NaN</td>\n",
       "      <td>S</td>\n",
       "    </tr>\n",
       "    <tr>\n",
       "      <th>2</th>\n",
       "      <td>894</td>\n",
       "      <td>2</td>\n",
       "      <td>Myles, Mr. Thomas Francis</td>\n",
       "      <td>male</td>\n",
       "      <td>62.0</td>\n",
       "      <td>0</td>\n",
       "      <td>0</td>\n",
       "      <td>240276</td>\n",
       "      <td>9.6875</td>\n",
       "      <td>NaN</td>\n",
       "      <td>Q</td>\n",
       "    </tr>\n",
       "    <tr>\n",
       "      <th>3</th>\n",
       "      <td>895</td>\n",
       "      <td>3</td>\n",
       "      <td>Wirz, Mr. Albert</td>\n",
       "      <td>male</td>\n",
       "      <td>27.0</td>\n",
       "      <td>0</td>\n",
       "      <td>0</td>\n",
       "      <td>315154</td>\n",
       "      <td>8.6625</td>\n",
       "      <td>NaN</td>\n",
       "      <td>S</td>\n",
       "    </tr>\n",
       "    <tr>\n",
       "      <th>4</th>\n",
       "      <td>896</td>\n",
       "      <td>3</td>\n",
       "      <td>Hirvonen, Mrs. Alexander (Helga E Lindqvist)</td>\n",
       "      <td>female</td>\n",
       "      <td>22.0</td>\n",
       "      <td>1</td>\n",
       "      <td>1</td>\n",
       "      <td>3101298</td>\n",
       "      <td>12.2875</td>\n",
       "      <td>NaN</td>\n",
       "      <td>S</td>\n",
       "    </tr>\n",
       "    <tr>\n",
       "      <th>...</th>\n",
       "      <td>...</td>\n",
       "      <td>...</td>\n",
       "      <td>...</td>\n",
       "      <td>...</td>\n",
       "      <td>...</td>\n",
       "      <td>...</td>\n",
       "      <td>...</td>\n",
       "      <td>...</td>\n",
       "      <td>...</td>\n",
       "      <td>...</td>\n",
       "      <td>...</td>\n",
       "    </tr>\n",
       "    <tr>\n",
       "      <th>413</th>\n",
       "      <td>1305</td>\n",
       "      <td>3</td>\n",
       "      <td>Spector, Mr. Woolf</td>\n",
       "      <td>male</td>\n",
       "      <td>NaN</td>\n",
       "      <td>0</td>\n",
       "      <td>0</td>\n",
       "      <td>A.5. 3236</td>\n",
       "      <td>8.0500</td>\n",
       "      <td>NaN</td>\n",
       "      <td>S</td>\n",
       "    </tr>\n",
       "    <tr>\n",
       "      <th>414</th>\n",
       "      <td>1306</td>\n",
       "      <td>1</td>\n",
       "      <td>Oliva y Ocana, Dona. Fermina</td>\n",
       "      <td>female</td>\n",
       "      <td>39.0</td>\n",
       "      <td>0</td>\n",
       "      <td>0</td>\n",
       "      <td>PC 17758</td>\n",
       "      <td>108.9000</td>\n",
       "      <td>C105</td>\n",
       "      <td>C</td>\n",
       "    </tr>\n",
       "    <tr>\n",
       "      <th>415</th>\n",
       "      <td>1307</td>\n",
       "      <td>3</td>\n",
       "      <td>Saether, Mr. Simon Sivertsen</td>\n",
       "      <td>male</td>\n",
       "      <td>38.5</td>\n",
       "      <td>0</td>\n",
       "      <td>0</td>\n",
       "      <td>SOTON/O.Q. 3101262</td>\n",
       "      <td>7.2500</td>\n",
       "      <td>NaN</td>\n",
       "      <td>S</td>\n",
       "    </tr>\n",
       "    <tr>\n",
       "      <th>416</th>\n",
       "      <td>1308</td>\n",
       "      <td>3</td>\n",
       "      <td>Ware, Mr. Frederick</td>\n",
       "      <td>male</td>\n",
       "      <td>NaN</td>\n",
       "      <td>0</td>\n",
       "      <td>0</td>\n",
       "      <td>359309</td>\n",
       "      <td>8.0500</td>\n",
       "      <td>NaN</td>\n",
       "      <td>S</td>\n",
       "    </tr>\n",
       "    <tr>\n",
       "      <th>417</th>\n",
       "      <td>1309</td>\n",
       "      <td>3</td>\n",
       "      <td>Peter, Master. Michael J</td>\n",
       "      <td>male</td>\n",
       "      <td>NaN</td>\n",
       "      <td>1</td>\n",
       "      <td>1</td>\n",
       "      <td>2668</td>\n",
       "      <td>22.3583</td>\n",
       "      <td>NaN</td>\n",
       "      <td>C</td>\n",
       "    </tr>\n",
       "  </tbody>\n",
       "</table>\n",
       "<p>418 rows × 11 columns</p>\n",
       "</div>"
      ],
      "text/plain": [
       "     PassengerId  Pclass                                          Name  \\\n",
       "0            892       3                              Kelly, Mr. James   \n",
       "1            893       3              Wilkes, Mrs. James (Ellen Needs)   \n",
       "2            894       2                     Myles, Mr. Thomas Francis   \n",
       "3            895       3                              Wirz, Mr. Albert   \n",
       "4            896       3  Hirvonen, Mrs. Alexander (Helga E Lindqvist)   \n",
       "..           ...     ...                                           ...   \n",
       "413         1305       3                            Spector, Mr. Woolf   \n",
       "414         1306       1                  Oliva y Ocana, Dona. Fermina   \n",
       "415         1307       3                  Saether, Mr. Simon Sivertsen   \n",
       "416         1308       3                           Ware, Mr. Frederick   \n",
       "417         1309       3                      Peter, Master. Michael J   \n",
       "\n",
       "        Sex   Age  SibSp  Parch              Ticket      Fare Cabin Embarked  \n",
       "0      male  34.5      0      0              330911    7.8292   NaN        Q  \n",
       "1    female  47.0      1      0              363272    7.0000   NaN        S  \n",
       "2      male  62.0      0      0              240276    9.6875   NaN        Q  \n",
       "3      male  27.0      0      0              315154    8.6625   NaN        S  \n",
       "4    female  22.0      1      1             3101298   12.2875   NaN        S  \n",
       "..      ...   ...    ...    ...                 ...       ...   ...      ...  \n",
       "413    male   NaN      0      0           A.5. 3236    8.0500   NaN        S  \n",
       "414  female  39.0      0      0            PC 17758  108.9000  C105        C  \n",
       "415    male  38.5      0      0  SOTON/O.Q. 3101262    7.2500   NaN        S  \n",
       "416    male   NaN      0      0              359309    8.0500   NaN        S  \n",
       "417    male   NaN      1      1                2668   22.3583   NaN        C  \n",
       "\n",
       "[418 rows x 11 columns]"
      ]
     },
     "execution_count": 3,
     "metadata": {},
     "output_type": "execute_result"
    }
   ],
   "source": [
    "raw_test = pd.read_csv(\"/kaggle/input/titanic/test.csv\")\n",
    "raw_test"
   ]
  },
  {
   "cell_type": "markdown",
   "id": "c3f4393c",
   "metadata": {
    "papermill": {
     "duration": 0.013832,
     "end_time": "2022-06-22T09:23:12.088997",
     "exception": false,
     "start_time": "2022-06-22T09:23:12.075165",
     "status": "completed"
    },
    "tags": []
   },
   "source": [
    "# Eksplorasi Data"
   ]
  },
  {
   "cell_type": "code",
   "execution_count": 4,
   "id": "16c1d829",
   "metadata": {
    "execution": {
     "iopub.execute_input": "2022-06-22T09:23:12.119343Z",
     "iopub.status.busy": "2022-06-22T09:23:12.118962Z",
     "iopub.status.idle": "2022-06-22T09:23:12.127014Z",
     "shell.execute_reply": "2022-06-22T09:23:12.125958Z"
    },
    "papermill": {
     "duration": 0.025285,
     "end_time": "2022-06-22T09:23:12.129038",
     "exception": false,
     "start_time": "2022-06-22T09:23:12.103753",
     "status": "completed"
    },
    "tags": []
   },
   "outputs": [
    {
     "data": {
      "text/plain": [
       "PassengerId      int64\n",
       "Survived         int64\n",
       "Pclass           int64\n",
       "Name            object\n",
       "Sex             object\n",
       "Age            float64\n",
       "SibSp            int64\n",
       "Parch            int64\n",
       "Ticket          object\n",
       "Fare           float64\n",
       "Cabin           object\n",
       "Embarked        object\n",
       "dtype: object"
      ]
     },
     "execution_count": 4,
     "metadata": {},
     "output_type": "execute_result"
    }
   ],
   "source": [
    "raw_train.dtypes"
   ]
  },
  {
   "cell_type": "code",
   "execution_count": 5,
   "id": "a0b211a1",
   "metadata": {
    "execution": {
     "iopub.execute_input": "2022-06-22T09:23:12.160172Z",
     "iopub.status.busy": "2022-06-22T09:23:12.159004Z",
     "iopub.status.idle": "2022-06-22T09:23:12.195013Z",
     "shell.execute_reply": "2022-06-22T09:23:12.194059Z"
    },
    "papermill": {
     "duration": 0.053387,
     "end_time": "2022-06-22T09:23:12.196919",
     "exception": false,
     "start_time": "2022-06-22T09:23:12.143532",
     "status": "completed"
    },
    "tags": []
   },
   "outputs": [
    {
     "data": {
      "text/html": [
       "<div>\n",
       "<style scoped>\n",
       "    .dataframe tbody tr th:only-of-type {\n",
       "        vertical-align: middle;\n",
       "    }\n",
       "\n",
       "    .dataframe tbody tr th {\n",
       "        vertical-align: top;\n",
       "    }\n",
       "\n",
       "    .dataframe thead th {\n",
       "        text-align: right;\n",
       "    }\n",
       "</style>\n",
       "<table border=\"1\" class=\"dataframe\">\n",
       "  <thead>\n",
       "    <tr style=\"text-align: right;\">\n",
       "      <th></th>\n",
       "      <th>PassengerId</th>\n",
       "      <th>Survived</th>\n",
       "      <th>Pclass</th>\n",
       "      <th>Age</th>\n",
       "      <th>SibSp</th>\n",
       "      <th>Parch</th>\n",
       "      <th>Fare</th>\n",
       "    </tr>\n",
       "  </thead>\n",
       "  <tbody>\n",
       "    <tr>\n",
       "      <th>count</th>\n",
       "      <td>891.000000</td>\n",
       "      <td>891.000000</td>\n",
       "      <td>891.000000</td>\n",
       "      <td>714.000000</td>\n",
       "      <td>891.000000</td>\n",
       "      <td>891.000000</td>\n",
       "      <td>891.000000</td>\n",
       "    </tr>\n",
       "    <tr>\n",
       "      <th>mean</th>\n",
       "      <td>446.000000</td>\n",
       "      <td>0.383838</td>\n",
       "      <td>2.308642</td>\n",
       "      <td>29.699118</td>\n",
       "      <td>0.523008</td>\n",
       "      <td>0.381594</td>\n",
       "      <td>32.204208</td>\n",
       "    </tr>\n",
       "    <tr>\n",
       "      <th>std</th>\n",
       "      <td>257.353842</td>\n",
       "      <td>0.486592</td>\n",
       "      <td>0.836071</td>\n",
       "      <td>14.526497</td>\n",
       "      <td>1.102743</td>\n",
       "      <td>0.806057</td>\n",
       "      <td>49.693429</td>\n",
       "    </tr>\n",
       "    <tr>\n",
       "      <th>min</th>\n",
       "      <td>1.000000</td>\n",
       "      <td>0.000000</td>\n",
       "      <td>1.000000</td>\n",
       "      <td>0.420000</td>\n",
       "      <td>0.000000</td>\n",
       "      <td>0.000000</td>\n",
       "      <td>0.000000</td>\n",
       "    </tr>\n",
       "    <tr>\n",
       "      <th>25%</th>\n",
       "      <td>223.500000</td>\n",
       "      <td>0.000000</td>\n",
       "      <td>2.000000</td>\n",
       "      <td>20.125000</td>\n",
       "      <td>0.000000</td>\n",
       "      <td>0.000000</td>\n",
       "      <td>7.910400</td>\n",
       "    </tr>\n",
       "    <tr>\n",
       "      <th>50%</th>\n",
       "      <td>446.000000</td>\n",
       "      <td>0.000000</td>\n",
       "      <td>3.000000</td>\n",
       "      <td>28.000000</td>\n",
       "      <td>0.000000</td>\n",
       "      <td>0.000000</td>\n",
       "      <td>14.454200</td>\n",
       "    </tr>\n",
       "    <tr>\n",
       "      <th>75%</th>\n",
       "      <td>668.500000</td>\n",
       "      <td>1.000000</td>\n",
       "      <td>3.000000</td>\n",
       "      <td>38.000000</td>\n",
       "      <td>1.000000</td>\n",
       "      <td>0.000000</td>\n",
       "      <td>31.000000</td>\n",
       "    </tr>\n",
       "    <tr>\n",
       "      <th>max</th>\n",
       "      <td>891.000000</td>\n",
       "      <td>1.000000</td>\n",
       "      <td>3.000000</td>\n",
       "      <td>80.000000</td>\n",
       "      <td>8.000000</td>\n",
       "      <td>6.000000</td>\n",
       "      <td>512.329200</td>\n",
       "    </tr>\n",
       "  </tbody>\n",
       "</table>\n",
       "</div>"
      ],
      "text/plain": [
       "       PassengerId    Survived      Pclass         Age       SibSp  \\\n",
       "count   891.000000  891.000000  891.000000  714.000000  891.000000   \n",
       "mean    446.000000    0.383838    2.308642   29.699118    0.523008   \n",
       "std     257.353842    0.486592    0.836071   14.526497    1.102743   \n",
       "min       1.000000    0.000000    1.000000    0.420000    0.000000   \n",
       "25%     223.500000    0.000000    2.000000   20.125000    0.000000   \n",
       "50%     446.000000    0.000000    3.000000   28.000000    0.000000   \n",
       "75%     668.500000    1.000000    3.000000   38.000000    1.000000   \n",
       "max     891.000000    1.000000    3.000000   80.000000    8.000000   \n",
       "\n",
       "            Parch        Fare  \n",
       "count  891.000000  891.000000  \n",
       "mean     0.381594   32.204208  \n",
       "std      0.806057   49.693429  \n",
       "min      0.000000    0.000000  \n",
       "25%      0.000000    7.910400  \n",
       "50%      0.000000   14.454200  \n",
       "75%      0.000000   31.000000  \n",
       "max      6.000000  512.329200  "
      ]
     },
     "execution_count": 5,
     "metadata": {},
     "output_type": "execute_result"
    }
   ],
   "source": [
    "raw_train.describe()"
   ]
  },
  {
   "cell_type": "code",
   "execution_count": 6,
   "id": "572b90f5",
   "metadata": {
    "execution": {
     "iopub.execute_input": "2022-06-22T09:23:12.227339Z",
     "iopub.status.busy": "2022-06-22T09:23:12.226697Z",
     "iopub.status.idle": "2022-06-22T09:23:12.247651Z",
     "shell.execute_reply": "2022-06-22T09:23:12.246724Z"
    },
    "papermill": {
     "duration": 0.038223,
     "end_time": "2022-06-22T09:23:12.249463",
     "exception": false,
     "start_time": "2022-06-22T09:23:12.211240",
     "status": "completed"
    },
    "tags": []
   },
   "outputs": [
    {
     "data": {
      "text/html": [
       "<div>\n",
       "<style scoped>\n",
       "    .dataframe tbody tr th:only-of-type {\n",
       "        vertical-align: middle;\n",
       "    }\n",
       "\n",
       "    .dataframe tbody tr th {\n",
       "        vertical-align: top;\n",
       "    }\n",
       "\n",
       "    .dataframe thead th {\n",
       "        text-align: right;\n",
       "    }\n",
       "</style>\n",
       "<table border=\"1\" class=\"dataframe\">\n",
       "  <thead>\n",
       "    <tr style=\"text-align: right;\">\n",
       "      <th></th>\n",
       "      <th>Name</th>\n",
       "      <th>Sex</th>\n",
       "      <th>Ticket</th>\n",
       "      <th>Cabin</th>\n",
       "      <th>Embarked</th>\n",
       "    </tr>\n",
       "  </thead>\n",
       "  <tbody>\n",
       "    <tr>\n",
       "      <th>count</th>\n",
       "      <td>891</td>\n",
       "      <td>891</td>\n",
       "      <td>891</td>\n",
       "      <td>204</td>\n",
       "      <td>889</td>\n",
       "    </tr>\n",
       "    <tr>\n",
       "      <th>unique</th>\n",
       "      <td>891</td>\n",
       "      <td>2</td>\n",
       "      <td>681</td>\n",
       "      <td>147</td>\n",
       "      <td>3</td>\n",
       "    </tr>\n",
       "    <tr>\n",
       "      <th>top</th>\n",
       "      <td>Braund, Mr. Owen Harris</td>\n",
       "      <td>male</td>\n",
       "      <td>347082</td>\n",
       "      <td>B96 B98</td>\n",
       "      <td>S</td>\n",
       "    </tr>\n",
       "    <tr>\n",
       "      <th>freq</th>\n",
       "      <td>1</td>\n",
       "      <td>577</td>\n",
       "      <td>7</td>\n",
       "      <td>4</td>\n",
       "      <td>644</td>\n",
       "    </tr>\n",
       "  </tbody>\n",
       "</table>\n",
       "</div>"
      ],
      "text/plain": [
       "                           Name   Sex  Ticket    Cabin Embarked\n",
       "count                       891   891     891      204      889\n",
       "unique                      891     2     681      147        3\n",
       "top     Braund, Mr. Owen Harris  male  347082  B96 B98        S\n",
       "freq                          1   577       7        4      644"
      ]
     },
     "execution_count": 6,
     "metadata": {},
     "output_type": "execute_result"
    }
   ],
   "source": [
    "raw_train.describe(include='object')"
   ]
  },
  {
   "cell_type": "code",
   "execution_count": 7,
   "id": "745b84b4",
   "metadata": {
    "execution": {
     "iopub.execute_input": "2022-06-22T09:23:12.281301Z",
     "iopub.status.busy": "2022-06-22T09:23:12.280668Z",
     "iopub.status.idle": "2022-06-22T09:23:12.287195Z",
     "shell.execute_reply": "2022-06-22T09:23:12.286270Z"
    },
    "papermill": {
     "duration": 0.024812,
     "end_time": "2022-06-22T09:23:12.289127",
     "exception": false,
     "start_time": "2022-06-22T09:23:12.264315",
     "status": "completed"
    },
    "tags": []
   },
   "outputs": [
    {
     "data": {
      "text/plain": [
       "PassengerId      int64\n",
       "Pclass           int64\n",
       "Name            object\n",
       "Sex             object\n",
       "Age            float64\n",
       "SibSp            int64\n",
       "Parch            int64\n",
       "Ticket          object\n",
       "Fare           float64\n",
       "Cabin           object\n",
       "Embarked        object\n",
       "dtype: object"
      ]
     },
     "execution_count": 7,
     "metadata": {},
     "output_type": "execute_result"
    }
   ],
   "source": [
    "raw_test.dtypes"
   ]
  },
  {
   "cell_type": "code",
   "execution_count": 8,
   "id": "e9efd391",
   "metadata": {
    "execution": {
     "iopub.execute_input": "2022-06-22T09:23:12.320735Z",
     "iopub.status.busy": "2022-06-22T09:23:12.320331Z",
     "iopub.status.idle": "2022-06-22T09:23:12.344775Z",
     "shell.execute_reply": "2022-06-22T09:23:12.344006Z"
    },
    "papermill": {
     "duration": 0.042918,
     "end_time": "2022-06-22T09:23:12.346988",
     "exception": false,
     "start_time": "2022-06-22T09:23:12.304070",
     "status": "completed"
    },
    "tags": []
   },
   "outputs": [
    {
     "data": {
      "text/html": [
       "<div>\n",
       "<style scoped>\n",
       "    .dataframe tbody tr th:only-of-type {\n",
       "        vertical-align: middle;\n",
       "    }\n",
       "\n",
       "    .dataframe tbody tr th {\n",
       "        vertical-align: top;\n",
       "    }\n",
       "\n",
       "    .dataframe thead th {\n",
       "        text-align: right;\n",
       "    }\n",
       "</style>\n",
       "<table border=\"1\" class=\"dataframe\">\n",
       "  <thead>\n",
       "    <tr style=\"text-align: right;\">\n",
       "      <th></th>\n",
       "      <th>PassengerId</th>\n",
       "      <th>Pclass</th>\n",
       "      <th>Age</th>\n",
       "      <th>SibSp</th>\n",
       "      <th>Parch</th>\n",
       "      <th>Fare</th>\n",
       "    </tr>\n",
       "  </thead>\n",
       "  <tbody>\n",
       "    <tr>\n",
       "      <th>count</th>\n",
       "      <td>418.000000</td>\n",
       "      <td>418.000000</td>\n",
       "      <td>332.000000</td>\n",
       "      <td>418.000000</td>\n",
       "      <td>418.000000</td>\n",
       "      <td>417.000000</td>\n",
       "    </tr>\n",
       "    <tr>\n",
       "      <th>mean</th>\n",
       "      <td>1100.500000</td>\n",
       "      <td>2.265550</td>\n",
       "      <td>30.272590</td>\n",
       "      <td>0.447368</td>\n",
       "      <td>0.392344</td>\n",
       "      <td>35.627188</td>\n",
       "    </tr>\n",
       "    <tr>\n",
       "      <th>std</th>\n",
       "      <td>120.810458</td>\n",
       "      <td>0.841838</td>\n",
       "      <td>14.181209</td>\n",
       "      <td>0.896760</td>\n",
       "      <td>0.981429</td>\n",
       "      <td>55.907576</td>\n",
       "    </tr>\n",
       "    <tr>\n",
       "      <th>min</th>\n",
       "      <td>892.000000</td>\n",
       "      <td>1.000000</td>\n",
       "      <td>0.170000</td>\n",
       "      <td>0.000000</td>\n",
       "      <td>0.000000</td>\n",
       "      <td>0.000000</td>\n",
       "    </tr>\n",
       "    <tr>\n",
       "      <th>25%</th>\n",
       "      <td>996.250000</td>\n",
       "      <td>1.000000</td>\n",
       "      <td>21.000000</td>\n",
       "      <td>0.000000</td>\n",
       "      <td>0.000000</td>\n",
       "      <td>7.895800</td>\n",
       "    </tr>\n",
       "    <tr>\n",
       "      <th>50%</th>\n",
       "      <td>1100.500000</td>\n",
       "      <td>3.000000</td>\n",
       "      <td>27.000000</td>\n",
       "      <td>0.000000</td>\n",
       "      <td>0.000000</td>\n",
       "      <td>14.454200</td>\n",
       "    </tr>\n",
       "    <tr>\n",
       "      <th>75%</th>\n",
       "      <td>1204.750000</td>\n",
       "      <td>3.000000</td>\n",
       "      <td>39.000000</td>\n",
       "      <td>1.000000</td>\n",
       "      <td>0.000000</td>\n",
       "      <td>31.500000</td>\n",
       "    </tr>\n",
       "    <tr>\n",
       "      <th>max</th>\n",
       "      <td>1309.000000</td>\n",
       "      <td>3.000000</td>\n",
       "      <td>76.000000</td>\n",
       "      <td>8.000000</td>\n",
       "      <td>9.000000</td>\n",
       "      <td>512.329200</td>\n",
       "    </tr>\n",
       "  </tbody>\n",
       "</table>\n",
       "</div>"
      ],
      "text/plain": [
       "       PassengerId      Pclass         Age       SibSp       Parch        Fare\n",
       "count   418.000000  418.000000  332.000000  418.000000  418.000000  417.000000\n",
       "mean   1100.500000    2.265550   30.272590    0.447368    0.392344   35.627188\n",
       "std     120.810458    0.841838   14.181209    0.896760    0.981429   55.907576\n",
       "min     892.000000    1.000000    0.170000    0.000000    0.000000    0.000000\n",
       "25%     996.250000    1.000000   21.000000    0.000000    0.000000    7.895800\n",
       "50%    1100.500000    3.000000   27.000000    0.000000    0.000000   14.454200\n",
       "75%    1204.750000    3.000000   39.000000    1.000000    0.000000   31.500000\n",
       "max    1309.000000    3.000000   76.000000    8.000000    9.000000  512.329200"
      ]
     },
     "execution_count": 8,
     "metadata": {},
     "output_type": "execute_result"
    }
   ],
   "source": [
    "raw_test.describe()"
   ]
  },
  {
   "cell_type": "code",
   "execution_count": 9,
   "id": "ff6e65db",
   "metadata": {
    "execution": {
     "iopub.execute_input": "2022-06-22T09:23:12.378927Z",
     "iopub.status.busy": "2022-06-22T09:23:12.378358Z",
     "iopub.status.idle": "2022-06-22T09:23:12.396722Z",
     "shell.execute_reply": "2022-06-22T09:23:12.395863Z"
    },
    "papermill": {
     "duration": 0.036748,
     "end_time": "2022-06-22T09:23:12.398680",
     "exception": false,
     "start_time": "2022-06-22T09:23:12.361932",
     "status": "completed"
    },
    "tags": []
   },
   "outputs": [
    {
     "data": {
      "text/html": [
       "<div>\n",
       "<style scoped>\n",
       "    .dataframe tbody tr th:only-of-type {\n",
       "        vertical-align: middle;\n",
       "    }\n",
       "\n",
       "    .dataframe tbody tr th {\n",
       "        vertical-align: top;\n",
       "    }\n",
       "\n",
       "    .dataframe thead th {\n",
       "        text-align: right;\n",
       "    }\n",
       "</style>\n",
       "<table border=\"1\" class=\"dataframe\">\n",
       "  <thead>\n",
       "    <tr style=\"text-align: right;\">\n",
       "      <th></th>\n",
       "      <th>Name</th>\n",
       "      <th>Sex</th>\n",
       "      <th>Ticket</th>\n",
       "      <th>Cabin</th>\n",
       "      <th>Embarked</th>\n",
       "    </tr>\n",
       "  </thead>\n",
       "  <tbody>\n",
       "    <tr>\n",
       "      <th>count</th>\n",
       "      <td>418</td>\n",
       "      <td>418</td>\n",
       "      <td>418</td>\n",
       "      <td>91</td>\n",
       "      <td>418</td>\n",
       "    </tr>\n",
       "    <tr>\n",
       "      <th>unique</th>\n",
       "      <td>418</td>\n",
       "      <td>2</td>\n",
       "      <td>363</td>\n",
       "      <td>76</td>\n",
       "      <td>3</td>\n",
       "    </tr>\n",
       "    <tr>\n",
       "      <th>top</th>\n",
       "      <td>Kelly, Mr. James</td>\n",
       "      <td>male</td>\n",
       "      <td>PC 17608</td>\n",
       "      <td>B57 B59 B63 B66</td>\n",
       "      <td>S</td>\n",
       "    </tr>\n",
       "    <tr>\n",
       "      <th>freq</th>\n",
       "      <td>1</td>\n",
       "      <td>266</td>\n",
       "      <td>5</td>\n",
       "      <td>3</td>\n",
       "      <td>270</td>\n",
       "    </tr>\n",
       "  </tbody>\n",
       "</table>\n",
       "</div>"
      ],
      "text/plain": [
       "                    Name   Sex    Ticket            Cabin Embarked\n",
       "count                418   418       418               91      418\n",
       "unique               418     2       363               76        3\n",
       "top     Kelly, Mr. James  male  PC 17608  B57 B59 B63 B66        S\n",
       "freq                   1   266         5                3      270"
      ]
     },
     "execution_count": 9,
     "metadata": {},
     "output_type": "execute_result"
    }
   ],
   "source": [
    "raw_test.describe(include='object')"
   ]
  },
  {
   "cell_type": "markdown",
   "id": "26cc2656",
   "metadata": {
    "papermill": {
     "duration": 0.015406,
     "end_time": "2022-06-22T09:23:12.429678",
     "exception": false,
     "start_time": "2022-06-22T09:23:12.414272",
     "status": "completed"
    },
    "tags": []
   },
   "source": [
    "## Cek Data Duplikat"
   ]
  },
  {
   "cell_type": "code",
   "execution_count": 10,
   "id": "c9c1534a",
   "metadata": {
    "execution": {
     "iopub.execute_input": "2022-06-22T09:23:12.462681Z",
     "iopub.status.busy": "2022-06-22T09:23:12.462287Z",
     "iopub.status.idle": "2022-06-22T09:23:12.473701Z",
     "shell.execute_reply": "2022-06-22T09:23:12.472950Z"
    },
    "papermill": {
     "duration": 0.030382,
     "end_time": "2022-06-22T09:23:12.475494",
     "exception": false,
     "start_time": "2022-06-22T09:23:12.445112",
     "status": "completed"
    },
    "tags": []
   },
   "outputs": [
    {
     "data": {
      "text/plain": [
       "0"
      ]
     },
     "execution_count": 10,
     "metadata": {},
     "output_type": "execute_result"
    }
   ],
   "source": [
    "raw_train.duplicated().sum()"
   ]
  },
  {
   "cell_type": "code",
   "execution_count": 11,
   "id": "e0ebb692",
   "metadata": {
    "execution": {
     "iopub.execute_input": "2022-06-22T09:23:12.507019Z",
     "iopub.status.busy": "2022-06-22T09:23:12.506440Z",
     "iopub.status.idle": "2022-06-22T09:23:12.514814Z",
     "shell.execute_reply": "2022-06-22T09:23:12.513928Z"
    },
    "papermill": {
     "duration": 0.026127,
     "end_time": "2022-06-22T09:23:12.516517",
     "exception": false,
     "start_time": "2022-06-22T09:23:12.490390",
     "status": "completed"
    },
    "tags": []
   },
   "outputs": [
    {
     "data": {
      "text/plain": [
       "0"
      ]
     },
     "execution_count": 11,
     "metadata": {},
     "output_type": "execute_result"
    }
   ],
   "source": [
    "raw_test.duplicated().sum()"
   ]
  },
  {
   "cell_type": "markdown",
   "id": "36603e03",
   "metadata": {
    "papermill": {
     "duration": 0.014586,
     "end_time": "2022-06-22T09:23:12.546062",
     "exception": false,
     "start_time": "2022-06-22T09:23:12.531476",
     "status": "completed"
    },
    "tags": []
   },
   "source": [
    "Tidak ada data duplikat pada `raw_train` dan `raw_test`."
   ]
  },
  {
   "cell_type": "markdown",
   "id": "6bd7a780",
   "metadata": {
    "papermill": {
     "duration": 0.01491,
     "end_time": "2022-06-22T09:23:12.576043",
     "exception": false,
     "start_time": "2022-06-22T09:23:12.561133",
     "status": "completed"
    },
    "tags": []
   },
   "source": [
    "## Cek Missing Value"
   ]
  },
  {
   "cell_type": "code",
   "execution_count": 12,
   "id": "be1cbd41",
   "metadata": {
    "execution": {
     "iopub.execute_input": "2022-06-22T09:23:12.607802Z",
     "iopub.status.busy": "2022-06-22T09:23:12.607260Z",
     "iopub.status.idle": "2022-06-22T09:23:12.615442Z",
     "shell.execute_reply": "2022-06-22T09:23:12.614470Z"
    },
    "papermill": {
     "duration": 0.026376,
     "end_time": "2022-06-22T09:23:12.617444",
     "exception": false,
     "start_time": "2022-06-22T09:23:12.591068",
     "status": "completed"
    },
    "tags": []
   },
   "outputs": [
    {
     "data": {
      "text/plain": [
       "PassengerId      0\n",
       "Survived         0\n",
       "Pclass           0\n",
       "Name             0\n",
       "Sex              0\n",
       "Age            177\n",
       "SibSp            0\n",
       "Parch            0\n",
       "Ticket           0\n",
       "Fare             0\n",
       "Cabin          687\n",
       "Embarked         2\n",
       "dtype: int64"
      ]
     },
     "execution_count": 12,
     "metadata": {},
     "output_type": "execute_result"
    }
   ],
   "source": [
    "raw_train.isna().sum()"
   ]
  },
  {
   "cell_type": "markdown",
   "id": "d7ea0be0",
   "metadata": {
    "papermill": {
     "duration": 0.014871,
     "end_time": "2022-06-22T09:23:12.647637",
     "exception": false,
     "start_time": "2022-06-22T09:23:12.632766",
     "status": "completed"
    },
    "tags": []
   },
   "source": [
    "Terdapat 177 _missing data_ pada kolom `Age`, 687 _missing data_ pada kolom `Cabin`, dan 2 _missing data_ pada kolom `Embarked` di dalam _dataframe_ `raw_train`."
   ]
  },
  {
   "cell_type": "code",
   "execution_count": 13,
   "id": "2237a73b",
   "metadata": {
    "execution": {
     "iopub.execute_input": "2022-06-22T09:23:12.680252Z",
     "iopub.status.busy": "2022-06-22T09:23:12.679226Z",
     "iopub.status.idle": "2022-06-22T09:23:12.687518Z",
     "shell.execute_reply": "2022-06-22T09:23:12.686847Z"
    },
    "papermill": {
     "duration": 0.026431,
     "end_time": "2022-06-22T09:23:12.689159",
     "exception": false,
     "start_time": "2022-06-22T09:23:12.662728",
     "status": "completed"
    },
    "tags": []
   },
   "outputs": [
    {
     "data": {
      "text/plain": [
       "PassengerId      0\n",
       "Pclass           0\n",
       "Name             0\n",
       "Sex              0\n",
       "Age             86\n",
       "SibSp            0\n",
       "Parch            0\n",
       "Ticket           0\n",
       "Fare             1\n",
       "Cabin          327\n",
       "Embarked         0\n",
       "dtype: int64"
      ]
     },
     "execution_count": 13,
     "metadata": {},
     "output_type": "execute_result"
    }
   ],
   "source": [
    "raw_test.isna().sum()"
   ]
  },
  {
   "cell_type": "markdown",
   "id": "5346b5c0",
   "metadata": {
    "papermill": {
     "duration": 0.015193,
     "end_time": "2022-06-22T09:23:12.719905",
     "exception": false,
     "start_time": "2022-06-22T09:23:12.704712",
     "status": "completed"
    },
    "tags": []
   },
   "source": [
    "Terdapat 86 _missing data_ pada kolom `Age`, 1 _missing data_ pada kolom `Fare`, dan 327 _missing data_ pada kolom `Cabin` dalam _dataframe_ `raw_test`."
   ]
  },
  {
   "cell_type": "markdown",
   "id": "8f7c5324",
   "metadata": {
    "papermill": {
     "duration": 0.015014,
     "end_time": "2022-06-22T09:23:12.750630",
     "exception": false,
     "start_time": "2022-06-22T09:23:12.735616",
     "status": "completed"
    },
    "tags": []
   },
   "source": [
    "## Target\n",
    "Tujuan proyek ini adalah memprediksi penumpang Titanic selamat atau tidak. Sehingga target adalah kolom `Survived`. Penumpang selamat bernilai 1 dan penumpang yang tidka selamat bernilai 0."
   ]
  },
  {
   "cell_type": "markdown",
   "id": "9d3206e5",
   "metadata": {
    "papermill": {
     "duration": 0.015265,
     "end_time": "2022-06-22T09:23:12.781215",
     "exception": false,
     "start_time": "2022-06-22T09:23:12.765950",
     "status": "completed"
    },
    "tags": []
   },
   "source": [
    "## Cek Apakah Target pada Train Data termasuk _Imbalance_"
   ]
  },
  {
   "cell_type": "code",
   "execution_count": 14,
   "id": "9c7f28fe",
   "metadata": {
    "execution": {
     "iopub.execute_input": "2022-06-22T09:23:12.814444Z",
     "iopub.status.busy": "2022-06-22T09:23:12.813787Z",
     "iopub.status.idle": "2022-06-22T09:23:12.820478Z",
     "shell.execute_reply": "2022-06-22T09:23:12.819808Z"
    },
    "papermill": {
     "duration": 0.025102,
     "end_time": "2022-06-22T09:23:12.822261",
     "exception": false,
     "start_time": "2022-06-22T09:23:12.797159",
     "status": "completed"
    },
    "tags": []
   },
   "outputs": [
    {
     "data": {
      "text/plain": [
       "0    549\n",
       "1    342\n",
       "Name: Survived, dtype: int64"
      ]
     },
     "execution_count": 14,
     "metadata": {},
     "output_type": "execute_result"
    }
   ],
   "source": [
    "raw_train.Survived.value_counts()"
   ]
  },
  {
   "cell_type": "markdown",
   "id": "6d5a677b",
   "metadata": {
    "papermill": {
     "duration": 0.015132,
     "end_time": "2022-06-22T09:23:12.853071",
     "exception": false,
     "start_time": "2022-06-22T09:23:12.837939",
     "status": "completed"
    },
    "tags": []
   },
   "source": [
    "Jumlah yang selamat (1) dan tidak selamat (0) relatif tidak jauh berbeda, sehingga data tersebut bukan termasuk _imbalance data_."
   ]
  },
  {
   "cell_type": "markdown",
   "id": "fa3e583d",
   "metadata": {
    "papermill": {
     "duration": 0.015047,
     "end_time": "2022-06-22T09:23:12.883518",
     "exception": false,
     "start_time": "2022-06-22T09:23:12.868471",
     "status": "completed"
    },
    "tags": []
   },
   "source": [
    "## Hapus kolom yang tidak revelevan\n",
    "Kolom `Cabin` dan `Ticket` memiliki banyak data yang unik, sehingga kedua kolom tersebut tidak memberikan berbedaan signifikan pada hasil prediksi. Untuk kolom `PassengerId` akan digunkan dalam dalam _submission_. Sedangkan pada `Name` terdapat gelar seperti Mr., Mrs. dsb. Gelar tersebut mungkin akan berguna dalam pemodelan."
   ]
  },
  {
   "cell_type": "code",
   "execution_count": 15,
   "id": "494dffba",
   "metadata": {
    "execution": {
     "iopub.execute_input": "2022-06-22T09:23:12.916925Z",
     "iopub.status.busy": "2022-06-22T09:23:12.916300Z",
     "iopub.status.idle": "2022-06-22T09:23:12.922241Z",
     "shell.execute_reply": "2022-06-22T09:23:12.921406Z"
    },
    "papermill": {
     "duration": 0.0248,
     "end_time": "2022-06-22T09:23:12.924186",
     "exception": false,
     "start_time": "2022-06-22T09:23:12.899386",
     "status": "completed"
    },
    "tags": []
   },
   "outputs": [],
   "source": [
    "raw_train.drop(['Cabin', 'Ticket'], axis=1, inplace=True)\n",
    "raw_test.drop(['Cabin', 'Ticket'], axis=1, inplace=True)"
   ]
  },
  {
   "cell_type": "markdown",
   "id": "1f839195",
   "metadata": {
    "papermill": {
     "duration": 0.015091,
     "end_time": "2022-06-22T09:23:12.954745",
     "exception": false,
     "start_time": "2022-06-22T09:23:12.939654",
     "status": "completed"
    },
    "tags": []
   },
   "source": [
    "## Korelasi Antar Numerikal Kolom"
   ]
  },
  {
   "cell_type": "code",
   "execution_count": 16,
   "id": "49cc342b",
   "metadata": {
    "execution": {
     "iopub.execute_input": "2022-06-22T09:23:12.987208Z",
     "iopub.status.busy": "2022-06-22T09:23:12.986578Z",
     "iopub.status.idle": "2022-06-22T09:23:13.329955Z",
     "shell.execute_reply": "2022-06-22T09:23:13.328965Z"
    },
    "papermill": {
     "duration": 0.362056,
     "end_time": "2022-06-22T09:23:13.332156",
     "exception": false,
     "start_time": "2022-06-22T09:23:12.970100",
     "status": "completed"
    },
    "tags": []
   },
   "outputs": [
    {
     "data": {
      "image/png": "[encoded data removed]",
      "text/plain": [
       "<Figure size 720x1080 with 2 Axes>"
      ]
     },
     "metadata": {
      "needs_background": "light"
     },
     "output_type": "display_data"
    }
   ],
   "source": [
    "plt.subplots(figsize=(10, 15))\n",
    "data=raw_train.corr()\n",
    "mask = np.triu(np.ones_like(data, dtype=bool))\n",
    "sns.heatmap(data, \n",
    "            mask=mask, \n",
    "            vmax=1, \n",
    "            center=0, \n",
    "            annot = True,\n",
    "            square=True, \n",
    "            linewidths=.5,\n",
    "            cbar_kws={\"shrink\": .5})\n",
    "plt.show()"
   ]
  },
  {
   "cell_type": "markdown",
   "id": "86fdc8af",
   "metadata": {
    "papermill": {
     "duration": 0.015455,
     "end_time": "2022-06-22T09:23:13.363529",
     "exception": false,
     "start_time": "2022-06-22T09:23:13.348074",
     "status": "completed"
    },
    "tags": []
   },
   "source": [
    "# Data Cleaning\n"
   ]
  },
  {
   "cell_type": "code",
   "execution_count": 17,
   "id": "24ef9d9c",
   "metadata": {
    "execution": {
     "iopub.execute_input": "2022-06-22T09:23:13.396899Z",
     "iopub.status.busy": "2022-06-22T09:23:13.396492Z",
     "iopub.status.idle": "2022-06-22T09:23:13.403811Z",
     "shell.execute_reply": "2022-06-22T09:23:13.403095Z"
    },
    "papermill": {
     "duration": 0.026214,
     "end_time": "2022-06-22T09:23:13.405500",
     "exception": false,
     "start_time": "2022-06-22T09:23:13.379286",
     "status": "completed"
    },
    "tags": []
   },
   "outputs": [],
   "source": [
    "# train & test dijadikan satu\n",
    "all_data = pd.concat([raw_train, raw_test])"
   ]
  },
  {
   "cell_type": "markdown",
   "id": "0bfdf903",
   "metadata": {
    "papermill": {
     "duration": 0.015721,
     "end_time": "2022-06-22T09:23:13.437002",
     "exception": false,
     "start_time": "2022-06-22T09:23:13.421281",
     "status": "completed"
    },
    "tags": []
   },
   "source": [
    "## Menangani _Missing Values_"
   ]
  },
  {
   "cell_type": "code",
   "execution_count": 18,
   "id": "c0721d98",
   "metadata": {
    "execution": {
     "iopub.execute_input": "2022-06-22T09:23:13.471967Z",
     "iopub.status.busy": "2022-06-22T09:23:13.471584Z",
     "iopub.status.idle": "2022-06-22T09:23:13.479600Z",
     "shell.execute_reply": "2022-06-22T09:23:13.478955Z"
    },
    "papermill": {
     "duration": 0.027797,
     "end_time": "2022-06-22T09:23:13.481271",
     "exception": false,
     "start_time": "2022-06-22T09:23:13.453474",
     "status": "completed"
    },
    "tags": []
   },
   "outputs": [
    {
     "data": {
      "text/plain": [
       "PassengerId      0\n",
       "Survived       418\n",
       "Pclass           0\n",
       "Name             0\n",
       "Sex              0\n",
       "Age            263\n",
       "SibSp            0\n",
       "Parch            0\n",
       "Fare             1\n",
       "Embarked         2\n",
       "dtype: int64"
      ]
     },
     "execution_count": 18,
     "metadata": {},
     "output_type": "execute_result"
    }
   ],
   "source": [
    "all_data.isna().sum()"
   ]
  },
  {
   "cell_type": "markdown",
   "id": "8984329f",
   "metadata": {
    "papermill": {
     "duration": 0.016389,
     "end_time": "2022-06-22T09:23:13.513684",
     "exception": false,
     "start_time": "2022-06-22T09:23:13.497295",
     "status": "completed"
    },
    "tags": []
   },
   "source": [
    "### Feature Age\n",
    "Berdasarkan _heatmap_ korelasi antar numerikal kolom, fitur `Age` terlihat memiliki korelasi dengan `Pclass`,`SibSp`, dan `Parch`. Fitur `Age` memiliki korelasi negatif kuat dengan `Pclass` jika dibandingkan fitur `SibSp` dan `Parch`. Oleh karena itu, dalam mengisi missing data pada kolom `Age` akan memperhatikan `Pclass`-nya. Untuk kategorikal kolomnya lebih masuk akal `Age` juga berhubungan dengan `Sex`."
   ]
  },
  {
   "cell_type": "code",
   "execution_count": 19,
   "id": "36594878",
   "metadata": {
    "execution": {
     "iopub.execute_input": "2022-06-22T09:23:13.548059Z",
     "iopub.status.busy": "2022-06-22T09:23:13.547441Z",
     "iopub.status.idle": "2022-06-22T09:23:13.558954Z",
     "shell.execute_reply": "2022-06-22T09:23:13.558068Z"
    },
    "papermill": {
     "duration": 0.030842,
     "end_time": "2022-06-22T09:23:13.560798",
     "exception": false,
     "start_time": "2022-06-22T09:23:13.529956",
     "status": "completed"
    },
    "tags": []
   },
   "outputs": [
    {
     "data": {
      "text/plain": [
       "Pclass  Sex   \n",
       "1       female    36.0\n",
       "        male      42.0\n",
       "2       female    28.0\n",
       "        male      29.5\n",
       "3       female    22.0\n",
       "        male      25.0\n",
       "Name: Age, dtype: float64"
      ]
     },
     "execution_count": 19,
     "metadata": {},
     "output_type": "execute_result"
    }
   ],
   "source": [
    "all_data.groupby(['Pclass', 'Sex'])['Age'].median()"
   ]
  },
  {
   "cell_type": "code",
   "execution_count": 20,
   "id": "cbfdfe39",
   "metadata": {
    "execution": {
     "iopub.execute_input": "2022-06-22T09:23:13.595758Z",
     "iopub.status.busy": "2022-06-22T09:23:13.595386Z",
     "iopub.status.idle": "2022-06-22T09:23:13.608228Z",
     "shell.execute_reply": "2022-06-22T09:23:13.607420Z"
    },
    "papermill": {
     "duration": 0.032935,
     "end_time": "2022-06-22T09:23:13.610301",
     "exception": false,
     "start_time": "2022-06-22T09:23:13.577366",
     "status": "completed"
    },
    "tags": []
   },
   "outputs": [],
   "source": [
    "all_data.Age = all_data.groupby(['Pclass', 'Sex'])['Age'].transform(lambda x: x.fillna(x.median()))"
   ]
  },
  {
   "cell_type": "markdown",
   "id": "d3f401ac",
   "metadata": {
    "papermill": {
     "duration": 0.015978,
     "end_time": "2022-06-22T09:23:13.643899",
     "exception": false,
     "start_time": "2022-06-22T09:23:13.627921",
     "status": "completed"
    },
    "tags": []
   },
   "source": [
    "### Feature Fare\n",
    "Berdasarkan _heatmap_ korelasi antar numerikal kolom, fitur `Fare` memiliki korelasi negatif kuat dengan `Pclass`. Untuk kategorikal kolomnya juga akan memperhitungkan `Sex`."
   ]
  },
  {
   "cell_type": "code",
   "execution_count": 21,
   "id": "f02048a4",
   "metadata": {
    "execution": {
     "iopub.execute_input": "2022-06-22T09:23:13.677965Z",
     "iopub.status.busy": "2022-06-22T09:23:13.677279Z",
     "iopub.status.idle": "2022-06-22T09:23:13.686483Z",
     "shell.execute_reply": "2022-06-22T09:23:13.685783Z"
    },
    "papermill": {
     "duration": 0.028174,
     "end_time": "2022-06-22T09:23:13.688177",
     "exception": false,
     "start_time": "2022-06-22T09:23:13.660003",
     "status": "completed"
    },
    "tags": []
   },
   "outputs": [
    {
     "data": {
      "text/plain": [
       "Pclass  Sex   \n",
       "1       female    80.92915\n",
       "        male      49.50420\n",
       "2       female    23.00000\n",
       "        male      13.00000\n",
       "3       female    10.48960\n",
       "        male       7.89580\n",
       "Name: Fare, dtype: float64"
      ]
     },
     "execution_count": 21,
     "metadata": {},
     "output_type": "execute_result"
    }
   ],
   "source": [
    "all_data.groupby(['Pclass', 'Sex'])['Fare'].median()"
   ]
  },
  {
   "cell_type": "code",
   "execution_count": 22,
   "id": "d2462fb6",
   "metadata": {
    "execution": {
     "iopub.execute_input": "2022-06-22T09:23:13.722432Z",
     "iopub.status.busy": "2022-06-22T09:23:13.721726Z",
     "iopub.status.idle": "2022-06-22T09:23:13.731811Z",
     "shell.execute_reply": "2022-06-22T09:23:13.731117Z"
    },
    "papermill": {
     "duration": 0.029385,
     "end_time": "2022-06-22T09:23:13.733755",
     "exception": false,
     "start_time": "2022-06-22T09:23:13.704370",
     "status": "completed"
    },
    "tags": []
   },
   "outputs": [],
   "source": [
    "all_data.Fare = all_data.groupby(['Pclass', 'Sex'])['Fare'].transform(lambda x: x.fillna(x.median()))"
   ]
  },
  {
   "cell_type": "markdown",
   "id": "11054aa3",
   "metadata": {
    "papermill": {
     "duration": 0.016674,
     "end_time": "2022-06-22T09:23:13.767077",
     "exception": false,
     "start_time": "2022-06-22T09:23:13.750403",
     "status": "completed"
    },
    "tags": []
   },
   "source": [
    "### Feature Embarked\n",
    "Embarked adalah categorical feature. dari dataframe, feature Embarked didominasi oleh S. oleh karena itu, missing value pada feature Embarked akan diisi oleh modus pada faeture tersebut, yaitu S."
   ]
  },
  {
   "cell_type": "code",
   "execution_count": 23,
   "id": "c6b51d14",
   "metadata": {
    "execution": {
     "iopub.execute_input": "2022-06-22T09:23:13.801856Z",
     "iopub.status.busy": "2022-06-22T09:23:13.801158Z",
     "iopub.status.idle": "2022-06-22T09:23:13.808730Z",
     "shell.execute_reply": "2022-06-22T09:23:13.808025Z"
    },
    "papermill": {
     "duration": 0.027295,
     "end_time": "2022-06-22T09:23:13.810562",
     "exception": false,
     "start_time": "2022-06-22T09:23:13.783267",
     "status": "completed"
    },
    "tags": []
   },
   "outputs": [
    {
     "data": {
      "text/plain": [
       "S    914\n",
       "C    270\n",
       "Q    123\n",
       "Name: Embarked, dtype: int64"
      ]
     },
     "execution_count": 23,
     "metadata": {},
     "output_type": "execute_result"
    }
   ],
   "source": [
    "all_data.Embarked.value_counts()"
   ]
  },
  {
   "cell_type": "code",
   "execution_count": 24,
   "id": "c028e743",
   "metadata": {
    "execution": {
     "iopub.execute_input": "2022-06-22T09:23:13.845090Z",
     "iopub.status.busy": "2022-06-22T09:23:13.844683Z",
     "iopub.status.idle": "2022-06-22T09:23:13.849181Z",
     "shell.execute_reply": "2022-06-22T09:23:13.848462Z"
    },
    "papermill": {
     "duration": 0.023819,
     "end_time": "2022-06-22T09:23:13.850817",
     "exception": false,
     "start_time": "2022-06-22T09:23:13.826998",
     "status": "completed"
    },
    "tags": []
   },
   "outputs": [],
   "source": [
    "all_data.Embarked.fillna('S', inplace=True)"
   ]
  },
  {
   "cell_type": "code",
   "execution_count": 25,
   "id": "d743dd3b",
   "metadata": {
    "execution": {
     "iopub.execute_input": "2022-06-22T09:23:13.885892Z",
     "iopub.status.busy": "2022-06-22T09:23:13.884894Z",
     "iopub.status.idle": "2022-06-22T09:23:13.894915Z",
     "shell.execute_reply": "2022-06-22T09:23:13.893928Z"
    },
    "papermill": {
     "duration": 0.02941,
     "end_time": "2022-06-22T09:23:13.896709",
     "exception": false,
     "start_time": "2022-06-22T09:23:13.867299",
     "status": "completed"
    },
    "tags": []
   },
   "outputs": [
    {
     "data": {
      "text/plain": [
       "PassengerId      0\n",
       "Survived       418\n",
       "Pclass           0\n",
       "Name             0\n",
       "Sex              0\n",
       "Age              0\n",
       "SibSp            0\n",
       "Parch            0\n",
       "Fare             0\n",
       "Embarked         0\n",
       "dtype: int64"
      ]
     },
     "execution_count": 25,
     "metadata": {},
     "output_type": "execute_result"
    }
   ],
   "source": [
    "all_data.isna().sum()"
   ]
  },
  {
   "cell_type": "markdown",
   "id": "5f3541bf",
   "metadata": {
    "papermill": {
     "duration": 0.016129,
     "end_time": "2022-06-22T09:23:13.929752",
     "exception": false,
     "start_time": "2022-06-22T09:23:13.913623",
     "status": "completed"
    },
    "tags": []
   },
   "source": [
    "# _Data Preprocessing_"
   ]
  },
  {
   "cell_type": "markdown",
   "id": "46c1e73f",
   "metadata": {
    "papermill": {
     "duration": 0.015963,
     "end_time": "2022-06-22T09:23:13.962069",
     "exception": false,
     "start_time": "2022-06-22T09:23:13.946106",
     "status": "completed"
    },
    "tags": []
   },
   "source": [
    "## Rekayasa Fitur"
   ]
  },
  {
   "cell_type": "markdown",
   "id": "3b311ed0",
   "metadata": {
    "papermill": {
     "duration": 0.016153,
     "end_time": "2022-06-22T09:23:13.994566",
     "exception": false,
     "start_time": "2022-06-22T09:23:13.978413",
     "status": "completed"
    },
    "tags": []
   },
   "source": [
    "### Fitur `Family_size`\n",
    "fitur yang mengindikasi jumlah keluarga setiap penumpang yang berada dalam kapal.\n",
    "\n",
    "formula: ```Family_size = SibSp + Parch + 1```"
   ]
  },
  {
   "cell_type": "code",
   "execution_count": 26,
   "id": "37b16505",
   "metadata": {
    "execution": {
     "iopub.execute_input": "2022-06-22T09:23:14.029361Z",
     "iopub.status.busy": "2022-06-22T09:23:14.028418Z",
     "iopub.status.idle": "2022-06-22T09:23:14.034312Z",
     "shell.execute_reply": "2022-06-22T09:23:14.033640Z"
    },
    "papermill": {
     "duration": 0.024905,
     "end_time": "2022-06-22T09:23:14.035901",
     "exception": false,
     "start_time": "2022-06-22T09:23:14.010996",
     "status": "completed"
    },
    "tags": []
   },
   "outputs": [],
   "source": [
    "all_data['Family_size'] = all_data.SibSp + all_data.Parch + 1"
   ]
  },
  {
   "cell_type": "markdown",
   "id": "652013f9",
   "metadata": {
    "papermill": {
     "duration": 0.015892,
     "end_time": "2022-06-22T09:23:14.068174",
     "exception": false,
     "start_time": "2022-06-22T09:23:14.052282",
     "status": "completed"
    },
    "tags": []
   },
   "source": [
    "### Fitur `is_Alone`"
   ]
  },
  {
   "cell_type": "code",
   "execution_count": 27,
   "id": "fb369f2c",
   "metadata": {
    "execution": {
     "iopub.execute_input": "2022-06-22T09:23:14.102613Z",
     "iopub.status.busy": "2022-06-22T09:23:14.101972Z",
     "iopub.status.idle": "2022-06-22T09:23:14.107349Z",
     "shell.execute_reply": "2022-06-22T09:23:14.106732Z"
    },
    "papermill": {
     "duration": 0.024823,
     "end_time": "2022-06-22T09:23:14.109158",
     "exception": false,
     "start_time": "2022-06-22T09:23:14.084335",
     "status": "completed"
    },
    "tags": []
   },
   "outputs": [],
   "source": [
    "all_data['is_Alone'] = 0\n",
    "all_data.loc[all_data['Family_size']==1, 'is_Alone'] = 1"
   ]
  },
  {
   "cell_type": "markdown",
   "id": "0d8f3f4d",
   "metadata": {
    "papermill": {
     "duration": 0.016479,
     "end_time": "2022-06-22T09:23:14.142631",
     "exception": false,
     "start_time": "2022-06-22T09:23:14.126152",
     "status": "completed"
    },
    "tags": []
   },
   "source": [
    "### Fitur `is_Female`"
   ]
  },
  {
   "cell_type": "code",
   "execution_count": 28,
   "id": "d4a70fee",
   "metadata": {
    "execution": {
     "iopub.execute_input": "2022-06-22T09:23:14.178384Z",
     "iopub.status.busy": "2022-06-22T09:23:14.177780Z",
     "iopub.status.idle": "2022-06-22T09:23:14.183836Z",
     "shell.execute_reply": "2022-06-22T09:23:14.183224Z"
    },
    "papermill": {
     "duration": 0.026173,
     "end_time": "2022-06-22T09:23:14.185646",
     "exception": false,
     "start_time": "2022-06-22T09:23:14.159473",
     "status": "completed"
    },
    "tags": []
   },
   "outputs": [],
   "source": [
    "all_data.loc[all_data.Sex == 'female', 'is_female'] = 1\n",
    "all_data.loc[all_data.Sex == 'male', 'is_female'] = 0"
   ]
  },
  {
   "cell_type": "markdown",
   "id": "5b8807d1",
   "metadata": {
    "papermill": {
     "duration": 0.01681,
     "end_time": "2022-06-22T09:23:14.219530",
     "exception": false,
     "start_time": "2022-06-22T09:23:14.202720",
     "status": "completed"
    },
    "tags": []
   },
   "source": [
    "### Fitur `Title`"
   ]
  },
  {
   "cell_type": "code",
   "execution_count": 29,
   "id": "177a769c",
   "metadata": {
    "execution": {
     "iopub.execute_input": "2022-06-22T09:23:14.255682Z",
     "iopub.status.busy": "2022-06-22T09:23:14.255067Z",
     "iopub.status.idle": "2022-06-22T09:23:14.267126Z",
     "shell.execute_reply": "2022-06-22T09:23:14.266433Z"
    },
    "papermill": {
     "duration": 0.032141,
     "end_time": "2022-06-22T09:23:14.268831",
     "exception": false,
     "start_time": "2022-06-22T09:23:14.236690",
     "status": "completed"
    },
    "tags": []
   },
   "outputs": [
    {
     "data": {
      "text/plain": [
       "array(['Mr', 'Mrs', 'Miss', 'Master', 'Don', 'Rev', 'Dr', 'Mme', 'Ms',\n",
       "       'Major', 'Lady', 'Sir', 'Mlle', 'Col', 'Capt', 'the Countess',\n",
       "       'Jonkheer', 'Dona'], dtype=object)"
      ]
     },
     "execution_count": 29,
     "metadata": {},
     "output_type": "execute_result"
    }
   ],
   "source": [
    "all_data['Title'] = all_data['Name'].str.split(', ', expand=True)[1].str.split('.', expand=True)[0]\n",
    "all_data['Title'].unique()"
   ]
  },
  {
   "cell_type": "code",
   "execution_count": 30,
   "id": "d1677410",
   "metadata": {
    "execution": {
     "iopub.execute_input": "2022-06-22T09:23:14.304071Z",
     "iopub.status.busy": "2022-06-22T09:23:14.303415Z",
     "iopub.status.idle": "2022-06-22T09:23:14.311895Z",
     "shell.execute_reply": "2022-06-22T09:23:14.311206Z"
    },
    "papermill": {
     "duration": 0.028338,
     "end_time": "2022-06-22T09:23:14.313612",
     "exception": false,
     "start_time": "2022-06-22T09:23:14.285274",
     "status": "completed"
    },
    "tags": []
   },
   "outputs": [],
   "source": [
    "all_data['Title'] = all_data['Title'].replace(['Miss', 'Mrs','Ms', 'Mlle', 'Lady', 'Mme', 'the Countess', 'Dona'], 'Miss/Mrs/Ms')\n",
    "all_data['Title'] = all_data['Title'].replace(['Don', 'Rev', 'Sir', 'Master', 'Jonkheer'], 'Mr')\n",
    "all_data['Title'] = all_data['Title'].replace(['Dr', 'Major', 'Col', 'Capt'], 'Other')"
   ]
  },
  {
   "cell_type": "code",
   "execution_count": 31,
   "id": "c3139c48",
   "metadata": {
    "execution": {
     "iopub.execute_input": "2022-06-22T09:23:14.348696Z",
     "iopub.status.busy": "2022-06-22T09:23:14.348102Z",
     "iopub.status.idle": "2022-06-22T09:23:14.353454Z",
     "shell.execute_reply": "2022-06-22T09:23:14.352890Z"
    },
    "papermill": {
     "duration": 0.024907,
     "end_time": "2022-06-22T09:23:14.355008",
     "exception": false,
     "start_time": "2022-06-22T09:23:14.330101",
     "status": "completed"
    },
    "tags": []
   },
   "outputs": [
    {
     "data": {
      "text/plain": [
       "array(['Mr', 'Miss/Mrs/Ms', 'Other'], dtype=object)"
      ]
     },
     "execution_count": 31,
     "metadata": {},
     "output_type": "execute_result"
    }
   ],
   "source": [
    "all_data['Title'].unique()"
   ]
  },
  {
   "cell_type": "markdown",
   "id": "93765289",
   "metadata": {
    "papermill": {
     "duration": 0.016916,
     "end_time": "2022-06-22T09:23:14.388483",
     "exception": false,
     "start_time": "2022-06-22T09:23:14.371567",
     "status": "completed"
    },
    "tags": []
   },
   "source": [
    "## Menghapus Fitur-fitur yang Sudah tidak digunakan"
   ]
  },
  {
   "cell_type": "code",
   "execution_count": 32,
   "id": "38f7da09",
   "metadata": {
    "execution": {
     "iopub.execute_input": "2022-06-22T09:23:14.424180Z",
     "iopub.status.busy": "2022-06-22T09:23:14.423558Z",
     "iopub.status.idle": "2022-06-22T09:23:14.437937Z",
     "shell.execute_reply": "2022-06-22T09:23:14.437094Z"
    },
    "papermill": {
     "duration": 0.034487,
     "end_time": "2022-06-22T09:23:14.439968",
     "exception": false,
     "start_time": "2022-06-22T09:23:14.405481",
     "status": "completed"
    },
    "tags": []
   },
   "outputs": [
    {
     "name": "stdout",
     "output_type": "stream",
     "text": [
      "<class 'pandas.core.frame.DataFrame'>\n",
      "Int64Index: 1309 entries, 0 to 417\n",
      "Data columns (total 10 columns):\n",
      " #   Column       Non-Null Count  Dtype  \n",
      "---  ------       --------------  -----  \n",
      " 0   PassengerId  1309 non-null   int64  \n",
      " 1   Survived     891 non-null    float64\n",
      " 2   Pclass       1309 non-null   int64  \n",
      " 3   Age          1309 non-null   float64\n",
      " 4   Fare         1309 non-null   float64\n",
      " 5   Embarked     1309 non-null   object \n",
      " 6   Family_size  1309 non-null   int64  \n",
      " 7   is_Alone     1309 non-null   int64  \n",
      " 8   is_female    1309 non-null   float64\n",
      " 9   Title        1309 non-null   object \n",
      "dtypes: float64(4), int64(4), object(2)\n",
      "memory usage: 112.5+ KB\n"
     ]
    }
   ],
   "source": [
    "all_data.drop(['Name', 'Sex', 'Parch', 'SibSp'], axis=1, inplace=True)\n",
    "all_data.info()"
   ]
  },
  {
   "cell_type": "markdown",
   "id": "bcdc97cd",
   "metadata": {
    "papermill": {
     "duration": 0.016661,
     "end_time": "2022-06-22T09:23:14.473655",
     "exception": false,
     "start_time": "2022-06-22T09:23:14.456994",
     "status": "completed"
    },
    "tags": []
   },
   "source": [
    "## Menangani Fitur Non-Numerik"
   ]
  },
  {
   "cell_type": "code",
   "execution_count": 33,
   "id": "a08532e5",
   "metadata": {
    "execution": {
     "iopub.execute_input": "2022-06-22T09:23:14.508544Z",
     "iopub.status.busy": "2022-06-22T09:23:14.507979Z",
     "iopub.status.idle": "2022-06-22T09:23:14.516123Z",
     "shell.execute_reply": "2022-06-22T09:23:14.515271Z"
    },
    "papermill": {
     "duration": 0.027813,
     "end_time": "2022-06-22T09:23:14.518072",
     "exception": false,
     "start_time": "2022-06-22T09:23:14.490259",
     "status": "completed"
    },
    "tags": []
   },
   "outputs": [],
   "source": [
    "all_data['Title'] = all_data['Title'].replace(['Miss/Mrs/Ms'], 2)\n",
    "all_data['Title'] = all_data['Title'].replace(['Other'], 1)\n",
    "all_data['Title'] = all_data['Title'].replace(['Mr'], 0)"
   ]
  },
  {
   "cell_type": "code",
   "execution_count": 34,
   "id": "a18670c6",
   "metadata": {
    "execution": {
     "iopub.execute_input": "2022-06-22T09:23:14.553118Z",
     "iopub.status.busy": "2022-06-22T09:23:14.552720Z",
     "iopub.status.idle": "2022-06-22T09:23:14.561784Z",
     "shell.execute_reply": "2022-06-22T09:23:14.561101Z"
    },
    "papermill": {
     "duration": 0.028973,
     "end_time": "2022-06-22T09:23:14.563727",
     "exception": false,
     "start_time": "2022-06-22T09:23:14.534754",
     "status": "completed"
    },
    "tags": []
   },
   "outputs": [],
   "source": [
    "all_data = pd.get_dummies(all_data)"
   ]
  },
  {
   "cell_type": "code",
   "execution_count": 35,
   "id": "77446370",
   "metadata": {
    "execution": {
     "iopub.execute_input": "2022-06-22T09:23:14.598706Z",
     "iopub.status.busy": "2022-06-22T09:23:14.598136Z",
     "iopub.status.idle": "2022-06-22T09:23:14.610256Z",
     "shell.execute_reply": "2022-06-22T09:23:14.609344Z"
    },
    "papermill": {
     "duration": 0.031579,
     "end_time": "2022-06-22T09:23:14.611954",
     "exception": false,
     "start_time": "2022-06-22T09:23:14.580375",
     "status": "completed"
    },
    "tags": []
   },
   "outputs": [
    {
     "name": "stdout",
     "output_type": "stream",
     "text": [
      "<class 'pandas.core.frame.DataFrame'>\n",
      "Int64Index: 1309 entries, 0 to 417\n",
      "Data columns (total 12 columns):\n",
      " #   Column       Non-Null Count  Dtype  \n",
      "---  ------       --------------  -----  \n",
      " 0   PassengerId  1309 non-null   int64  \n",
      " 1   Survived     891 non-null    float64\n",
      " 2   Pclass       1309 non-null   int64  \n",
      " 3   Age          1309 non-null   float64\n",
      " 4   Fare         1309 non-null   float64\n",
      " 5   Family_size  1309 non-null   int64  \n",
      " 6   is_Alone     1309 non-null   int64  \n",
      " 7   is_female    1309 non-null   float64\n",
      " 8   Title        1309 non-null   int64  \n",
      " 9   Embarked_C   1309 non-null   uint8  \n",
      " 10  Embarked_Q   1309 non-null   uint8  \n",
      " 11  Embarked_S   1309 non-null   uint8  \n",
      "dtypes: float64(4), int64(5), uint8(3)\n",
      "memory usage: 106.1 KB\n"
     ]
    }
   ],
   "source": [
    "all_data.info()"
   ]
  },
  {
   "cell_type": "markdown",
   "id": "dceff818",
   "metadata": {
    "papermill": {
     "duration": 0.016248,
     "end_time": "2022-06-22T09:23:14.645015",
     "exception": false,
     "start_time": "2022-06-22T09:23:14.628767",
     "status": "completed"
    },
    "tags": []
   },
   "source": [
    "## Memisahkan Train & Test"
   ]
  },
  {
   "cell_type": "code",
   "execution_count": 36,
   "id": "1f0da800",
   "metadata": {
    "execution": {
     "iopub.execute_input": "2022-06-22T09:23:14.679421Z",
     "iopub.status.busy": "2022-06-22T09:23:14.678827Z",
     "iopub.status.idle": "2022-06-22T09:23:14.694297Z",
     "shell.execute_reply": "2022-06-22T09:23:14.693335Z"
    },
    "papermill": {
     "duration": 0.034721,
     "end_time": "2022-06-22T09:23:14.696042",
     "exception": false,
     "start_time": "2022-06-22T09:23:14.661321",
     "status": "completed"
    },
    "tags": []
   },
   "outputs": [
    {
     "data": {
      "text/html": [
       "<div>\n",
       "<style scoped>\n",
       "    .dataframe tbody tr th:only-of-type {\n",
       "        vertical-align: middle;\n",
       "    }\n",
       "\n",
       "    .dataframe tbody tr th {\n",
       "        vertical-align: top;\n",
       "    }\n",
       "\n",
       "    .dataframe thead th {\n",
       "        text-align: right;\n",
       "    }\n",
       "</style>\n",
       "<table border=\"1\" class=\"dataframe\">\n",
       "  <thead>\n",
       "    <tr style=\"text-align: right;\">\n",
       "      <th></th>\n",
       "      <th>Pclass</th>\n",
       "      <th>Age</th>\n",
       "      <th>Fare</th>\n",
       "      <th>Family_size</th>\n",
       "      <th>is_Alone</th>\n",
       "      <th>is_female</th>\n",
       "      <th>Title</th>\n",
       "      <th>Embarked_C</th>\n",
       "      <th>Embarked_Q</th>\n",
       "      <th>Embarked_S</th>\n",
       "    </tr>\n",
       "  </thead>\n",
       "  <tbody>\n",
       "    <tr>\n",
       "      <th>886</th>\n",
       "      <td>2</td>\n",
       "      <td>27.0</td>\n",
       "      <td>13.00</td>\n",
       "      <td>1</td>\n",
       "      <td>1</td>\n",
       "      <td>0.0</td>\n",
       "      <td>0</td>\n",
       "      <td>0</td>\n",
       "      <td>0</td>\n",
       "      <td>1</td>\n",
       "    </tr>\n",
       "    <tr>\n",
       "      <th>887</th>\n",
       "      <td>1</td>\n",
       "      <td>19.0</td>\n",
       "      <td>30.00</td>\n",
       "      <td>1</td>\n",
       "      <td>1</td>\n",
       "      <td>1.0</td>\n",
       "      <td>2</td>\n",
       "      <td>0</td>\n",
       "      <td>0</td>\n",
       "      <td>1</td>\n",
       "    </tr>\n",
       "    <tr>\n",
       "      <th>888</th>\n",
       "      <td>3</td>\n",
       "      <td>22.0</td>\n",
       "      <td>23.45</td>\n",
       "      <td>4</td>\n",
       "      <td>0</td>\n",
       "      <td>1.0</td>\n",
       "      <td>2</td>\n",
       "      <td>0</td>\n",
       "      <td>0</td>\n",
       "      <td>1</td>\n",
       "    </tr>\n",
       "    <tr>\n",
       "      <th>889</th>\n",
       "      <td>1</td>\n",
       "      <td>26.0</td>\n",
       "      <td>30.00</td>\n",
       "      <td>1</td>\n",
       "      <td>1</td>\n",
       "      <td>0.0</td>\n",
       "      <td>0</td>\n",
       "      <td>1</td>\n",
       "      <td>0</td>\n",
       "      <td>0</td>\n",
       "    </tr>\n",
       "    <tr>\n",
       "      <th>890</th>\n",
       "      <td>3</td>\n",
       "      <td>32.0</td>\n",
       "      <td>7.75</td>\n",
       "      <td>1</td>\n",
       "      <td>1</td>\n",
       "      <td>0.0</td>\n",
       "      <td>0</td>\n",
       "      <td>0</td>\n",
       "      <td>1</td>\n",
       "      <td>0</td>\n",
       "    </tr>\n",
       "  </tbody>\n",
       "</table>\n",
       "</div>"
      ],
      "text/plain": [
       "     Pclass   Age   Fare  Family_size  is_Alone  is_female  Title  Embarked_C  \\\n",
       "886       2  27.0  13.00            1         1        0.0      0           0   \n",
       "887       1  19.0  30.00            1         1        1.0      2           0   \n",
       "888       3  22.0  23.45            4         0        1.0      2           0   \n",
       "889       1  26.0  30.00            1         1        0.0      0           1   \n",
       "890       3  32.0   7.75            1         1        0.0      0           0   \n",
       "\n",
       "     Embarked_Q  Embarked_S  \n",
       "886           0           1  \n",
       "887           0           1  \n",
       "888           0           1  \n",
       "889           0           0  \n",
       "890           1           0  "
      ]
     },
     "execution_count": 36,
     "metadata": {},
     "output_type": "execute_result"
    }
   ],
   "source": [
    "X_train = all_data[:891]\n",
    "y_train = X_train.Survived.astype('int')\n",
    "X_train = X_train.drop(['PassengerId', 'Survived'], axis=1)\n",
    "X_train.tail()"
   ]
  },
  {
   "cell_type": "code",
   "execution_count": 37,
   "id": "59300463",
   "metadata": {
    "execution": {
     "iopub.execute_input": "2022-06-22T09:23:14.731786Z",
     "iopub.status.busy": "2022-06-22T09:23:14.731226Z",
     "iopub.status.idle": "2022-06-22T09:23:14.746132Z",
     "shell.execute_reply": "2022-06-22T09:23:14.745201Z"
    },
    "papermill": {
     "duration": 0.035091,
     "end_time": "2022-06-22T09:23:14.747937",
     "exception": false,
     "start_time": "2022-06-22T09:23:14.712846",
     "status": "completed"
    },
    "tags": []
   },
   "outputs": [
    {
     "data": {
      "text/html": [
       "<div>\n",
       "<style scoped>\n",
       "    .dataframe tbody tr th:only-of-type {\n",
       "        vertical-align: middle;\n",
       "    }\n",
       "\n",
       "    .dataframe tbody tr th {\n",
       "        vertical-align: top;\n",
       "    }\n",
       "\n",
       "    .dataframe thead th {\n",
       "        text-align: right;\n",
       "    }\n",
       "</style>\n",
       "<table border=\"1\" class=\"dataframe\">\n",
       "  <thead>\n",
       "    <tr style=\"text-align: right;\">\n",
       "      <th></th>\n",
       "      <th>Pclass</th>\n",
       "      <th>Age</th>\n",
       "      <th>Fare</th>\n",
       "      <th>Family_size</th>\n",
       "      <th>is_Alone</th>\n",
       "      <th>is_female</th>\n",
       "      <th>Title</th>\n",
       "      <th>Embarked_C</th>\n",
       "      <th>Embarked_Q</th>\n",
       "      <th>Embarked_S</th>\n",
       "    </tr>\n",
       "  </thead>\n",
       "  <tbody>\n",
       "    <tr>\n",
       "      <th>0</th>\n",
       "      <td>3</td>\n",
       "      <td>34.5</td>\n",
       "      <td>7.8292</td>\n",
       "      <td>1</td>\n",
       "      <td>1</td>\n",
       "      <td>0.0</td>\n",
       "      <td>0</td>\n",
       "      <td>0</td>\n",
       "      <td>1</td>\n",
       "      <td>0</td>\n",
       "    </tr>\n",
       "    <tr>\n",
       "      <th>1</th>\n",
       "      <td>3</td>\n",
       "      <td>47.0</td>\n",
       "      <td>7.0000</td>\n",
       "      <td>2</td>\n",
       "      <td>0</td>\n",
       "      <td>1.0</td>\n",
       "      <td>2</td>\n",
       "      <td>0</td>\n",
       "      <td>0</td>\n",
       "      <td>1</td>\n",
       "    </tr>\n",
       "    <tr>\n",
       "      <th>2</th>\n",
       "      <td>2</td>\n",
       "      <td>62.0</td>\n",
       "      <td>9.6875</td>\n",
       "      <td>1</td>\n",
       "      <td>1</td>\n",
       "      <td>0.0</td>\n",
       "      <td>0</td>\n",
       "      <td>0</td>\n",
       "      <td>1</td>\n",
       "      <td>0</td>\n",
       "    </tr>\n",
       "    <tr>\n",
       "      <th>3</th>\n",
       "      <td>3</td>\n",
       "      <td>27.0</td>\n",
       "      <td>8.6625</td>\n",
       "      <td>1</td>\n",
       "      <td>1</td>\n",
       "      <td>0.0</td>\n",
       "      <td>0</td>\n",
       "      <td>0</td>\n",
       "      <td>0</td>\n",
       "      <td>1</td>\n",
       "    </tr>\n",
       "    <tr>\n",
       "      <th>4</th>\n",
       "      <td>3</td>\n",
       "      <td>22.0</td>\n",
       "      <td>12.2875</td>\n",
       "      <td>3</td>\n",
       "      <td>0</td>\n",
       "      <td>1.0</td>\n",
       "      <td>2</td>\n",
       "      <td>0</td>\n",
       "      <td>0</td>\n",
       "      <td>1</td>\n",
       "    </tr>\n",
       "  </tbody>\n",
       "</table>\n",
       "</div>"
      ],
      "text/plain": [
       "   Pclass   Age     Fare  Family_size  is_Alone  is_female  Title  Embarked_C  \\\n",
       "0       3  34.5   7.8292            1         1        0.0      0           0   \n",
       "1       3  47.0   7.0000            2         0        1.0      2           0   \n",
       "2       2  62.0   9.6875            1         1        0.0      0           0   \n",
       "3       3  27.0   8.6625            1         1        0.0      0           0   \n",
       "4       3  22.0  12.2875            3         0        1.0      2           0   \n",
       "\n",
       "   Embarked_Q  Embarked_S  \n",
       "0           1           0  \n",
       "1           0           1  \n",
       "2           1           0  \n",
       "3           0           1  \n",
       "4           0           1  "
      ]
     },
     "execution_count": 37,
     "metadata": {},
     "output_type": "execute_result"
    }
   ],
   "source": [
    "X_test = all_data[891:]\n",
    "passengerID = X_test.PassengerId # Save passengerID untuk submission\n",
    "X_test = X_test.drop(['PassengerId', 'Survived'], axis=1)\n",
    "X_test.head()"
   ]
  },
  {
   "cell_type": "markdown",
   "id": "67239e4e",
   "metadata": {
    "papermill": {
     "duration": 0.016649,
     "end_time": "2022-06-22T09:23:14.781574",
     "exception": false,
     "start_time": "2022-06-22T09:23:14.764925",
     "status": "completed"
    },
    "tags": []
   },
   "source": [
    "# Pemodelan\n",
    "Model yang akan digunakan ialah Random Forest, KNN, SVM, Logistic Regression, NaiveBayes, RelevanceVectorMachine"
   ]
  },
  {
   "cell_type": "code",
   "execution_count": 38,
   "id": "b6c29f4a",
   "metadata": {
    "execution": {
     "iopub.execute_input": "2022-06-22T09:23:14.819477Z",
     "iopub.status.busy": "2022-06-22T09:23:14.818668Z",
     "iopub.status.idle": "2022-06-22T09:23:15.239072Z",
     "shell.execute_reply": "2022-06-22T09:23:15.237962Z"
    },
    "papermill": {
     "duration": 0.442076,
     "end_time": "2022-06-22T09:23:15.241516",
     "exception": false,
     "start_time": "2022-06-22T09:23:14.799440",
     "status": "completed"
    },
    "tags": []
   },
   "outputs": [],
   "source": [
    "from sklearn.model_selection import GridSearchCV, cross_val_score\n",
    "from sklearn.ensemble import RandomForestClassifier, GradientBoostingClassifier, StackingClassifier\n",
    "from sklearn.linear_model import LogisticRegression\n",
    "from sklearn.neighbors import KNeighborsClassifier\n",
    "from sklearn.naive_bayes import GaussianNB\n",
    "from sklearn.preprocessing import StandardScaler, RobustScaler\n",
    "from sklearn.pipeline import make_pipeline\n",
    "from sklearn.metrics import accuracy_score\n",
    "from sklearn.svm import SVC\n",
    "from scipy.stats import mode"
   ]
  },
  {
   "cell_type": "code",
   "execution_count": 39,
   "id": "0485da25",
   "metadata": {
    "execution": {
     "iopub.execute_input": "2022-06-22T09:23:15.278659Z",
     "iopub.status.busy": "2022-06-22T09:23:15.278104Z",
     "iopub.status.idle": "2022-06-22T09:23:15.283392Z",
     "shell.execute_reply": "2022-06-22T09:23:15.282783Z"
    },
    "papermill": {
     "duration": 0.025679,
     "end_time": "2022-06-22T09:23:15.285078",
     "exception": false,
     "start_time": "2022-06-22T09:23:15.259399",
     "status": "completed"
    },
    "tags": []
   },
   "outputs": [],
   "source": [
    "# get a stacking ensemble of models\n",
    "def get_stacking(models, final):\n",
    "    # define the base models\n",
    "    level0 = list()\n",
    "    for name, model in models.items():\n",
    "        level0.append((name, model))\n",
    "    # define meta learner model\n",
    "    level1 = final\n",
    "    # define the stacking ensemble\n",
    "    model = StackingClassifier(estimators=level0, final_estimator=level1, cv=5)\n",
    "    return model"
   ]
  },
  {
   "cell_type": "code",
   "execution_count": 40,
   "id": "108cbbae",
   "metadata": {
    "execution": {
     "iopub.execute_input": "2022-06-22T09:23:15.321342Z",
     "iopub.status.busy": "2022-06-22T09:23:15.320760Z",
     "iopub.status.idle": "2022-06-22T09:23:15.325587Z",
     "shell.execute_reply": "2022-06-22T09:23:15.324958Z"
    },
    "papermill": {
     "duration": 0.025068,
     "end_time": "2022-06-22T09:23:15.327460",
     "exception": false,
     "start_time": "2022-06-22T09:23:15.302392",
     "status": "completed"
    },
    "tags": []
   },
   "outputs": [],
   "source": [
    "def accuracy(model):\n",
    "    acc = cross_val_score(model, X_train, y_train, cv=5, scoring='accuracy')\n",
    "    print(f'accuracy score : {acc}')\n",
    "    print(f'mean accuracy score : {np.mean(acc)} ({np.std(acc)})')"
   ]
  },
  {
   "cell_type": "markdown",
   "id": "9a84c6fe",
   "metadata": {
    "papermill": {
     "duration": 0.016952,
     "end_time": "2022-06-22T09:23:15.361535",
     "exception": false,
     "start_time": "2022-06-22T09:23:15.344583",
     "status": "completed"
    },
    "tags": []
   },
   "source": [
    "## Random Forest"
   ]
  },
  {
   "cell_type": "code",
   "execution_count": 41,
   "id": "37085157",
   "metadata": {
    "execution": {
     "iopub.execute_input": "2022-06-22T09:23:15.397616Z",
     "iopub.status.busy": "2022-06-22T09:23:15.397062Z",
     "iopub.status.idle": "2022-06-22T09:23:35.888737Z",
     "shell.execute_reply": "2022-06-22T09:23:35.887521Z"
    },
    "papermill": {
     "duration": 20.512793,
     "end_time": "2022-06-22T09:23:35.891382",
     "exception": false,
     "start_time": "2022-06-22T09:23:15.378589",
     "status": "completed"
    },
    "tags": []
   },
   "outputs": [
    {
     "name": "stdout",
     "output_type": "stream",
     "text": [
      "Fitting 5 folds for each of 42 candidates, totalling 210 fits\n",
      "Best parameter = {'min_samples_split': 10, 'n_estimators': 100}\n"
     ]
    }
   ],
   "source": [
    "parameter = {'n_estimators': list(range(50, 225, 25)),\n",
    "             'min_samples_split' : list(range(10,21,2))\n",
    "            }\n",
    "\n",
    "model_rf = GridSearchCV(RandomForestClassifier(random_state=0),\n",
    "                       parameter, n_jobs=-1, verbose=1)\n",
    "model_rf.fit(X_train, y_train)\n",
    "\n",
    "print(f'Best parameter = {model_rf.best_params_}')"
   ]
  },
  {
   "cell_type": "code",
   "execution_count": 42,
   "id": "bce12947",
   "metadata": {
    "execution": {
     "iopub.execute_input": "2022-06-22T09:23:35.928906Z",
     "iopub.status.busy": "2022-06-22T09:23:35.928492Z",
     "iopub.status.idle": "2022-06-22T09:23:36.775671Z",
     "shell.execute_reply": "2022-06-22T09:23:36.774151Z"
    },
    "papermill": {
     "duration": 0.868285,
     "end_time": "2022-06-22T09:23:36.777997",
     "exception": false,
     "start_time": "2022-06-22T09:23:35.909712",
     "status": "completed"
    },
    "tags": []
   },
   "outputs": [
    {
     "name": "stdout",
     "output_type": "stream",
     "text": [
      "accuracy score : [0.80446927 0.82022472 0.88202247 0.81460674 0.84269663]\n",
      "mean accuracy score : 0.832803967108154 (0.02761361013763097)\n"
     ]
    }
   ],
   "source": [
    "randfore = RandomForestClassifier(\n",
    "    n_estimators = model_rf.best_params_['n_estimators'],\n",
    "    min_samples_split = model_rf.best_params_['min_samples_split'], \n",
    "    random_state = 0)\n",
    "accuracy(randfore)"
   ]
  },
  {
   "cell_type": "markdown",
   "id": "25e2ccba",
   "metadata": {
    "papermill": {
     "duration": 0.017787,
     "end_time": "2022-06-22T09:23:36.814128",
     "exception": false,
     "start_time": "2022-06-22T09:23:36.796341",
     "status": "completed"
    },
    "tags": []
   },
   "source": [
    "## K-Nearest Neighbors"
   ]
  },
  {
   "cell_type": "code",
   "execution_count": 43,
   "id": "866b56d1",
   "metadata": {
    "execution": {
     "iopub.execute_input": "2022-06-22T09:23:36.850744Z",
     "iopub.status.busy": "2022-06-22T09:23:36.849900Z",
     "iopub.status.idle": "2022-06-22T09:23:37.044686Z",
     "shell.execute_reply": "2022-06-22T09:23:37.043696Z"
    },
    "papermill": {
     "duration": 0.215192,
     "end_time": "2022-06-22T09:23:37.046591",
     "exception": false,
     "start_time": "2022-06-22T09:23:36.831399",
     "status": "completed"
    },
    "tags": []
   },
   "outputs": [
    {
     "name": "stdout",
     "output_type": "stream",
     "text": [
      "Fitting 5 folds for each of 8 candidates, totalling 40 fits\n",
      "Best parameter = {'n_neighbors': 13}\n"
     ]
    }
   ],
   "source": [
    "parameter = {'n_neighbors': list(range(1,16,2))}\n",
    "\n",
    "model_knn = GridSearchCV(KNeighborsClassifier(),\n",
    "                       parameter, n_jobs=-1, verbose=1)\n",
    "model_knn.fit(StandardScaler().fit_transform(X_train), y_train)\n",
    "\n",
    "print(f'Best parameter = {model_knn.best_params_}')"
   ]
  },
  {
   "cell_type": "code",
   "execution_count": 44,
   "id": "023240e5",
   "metadata": {
    "execution": {
     "iopub.execute_input": "2022-06-22T09:23:37.084452Z",
     "iopub.status.busy": "2022-06-22T09:23:37.083795Z",
     "iopub.status.idle": "2022-06-22T09:23:37.162156Z",
     "shell.execute_reply": "2022-06-22T09:23:37.161035Z"
    },
    "papermill": {
     "duration": 0.100719,
     "end_time": "2022-06-22T09:23:37.165086",
     "exception": false,
     "start_time": "2022-06-22T09:23:37.064367",
     "status": "completed"
    },
    "tags": []
   },
   "outputs": [
    {
     "name": "stdout",
     "output_type": "stream",
     "text": [
      "accuracy score : [0.81564246 0.79775281 0.80898876 0.79775281 0.80898876]\n",
      "mean accuracy score : 0.8058251208335949 (0.007024554431295106)\n"
     ]
    }
   ],
   "source": [
    "knn = KNeighborsClassifier(n_neighbors=model_knn.best_params_['n_neighbors'])\n",
    "knn_pl = make_pipeline(StandardScaler(), knn)\n",
    "accuracy(knn_pl)"
   ]
  },
  {
   "cell_type": "markdown",
   "id": "f060357f",
   "metadata": {
    "papermill": {
     "duration": 0.017591,
     "end_time": "2022-06-22T09:23:37.201052",
     "exception": false,
     "start_time": "2022-06-22T09:23:37.183461",
     "status": "completed"
    },
    "tags": []
   },
   "source": [
    "## Logistic Regeression"
   ]
  },
  {
   "cell_type": "code",
   "execution_count": 45,
   "id": "5c48e3dd",
   "metadata": {
    "execution": {
     "iopub.execute_input": "2022-06-22T09:23:37.238438Z",
     "iopub.status.busy": "2022-06-22T09:23:37.237830Z",
     "iopub.status.idle": "2022-06-22T09:23:37.669323Z",
     "shell.execute_reply": "2022-06-22T09:23:37.668281Z"
    },
    "papermill": {
     "duration": 0.452612,
     "end_time": "2022-06-22T09:23:37.671320",
     "exception": false,
     "start_time": "2022-06-22T09:23:37.218708",
     "status": "completed"
    },
    "tags": []
   },
   "outputs": [
    {
     "name": "stdout",
     "output_type": "stream",
     "text": [
      "accuracy score : [0.7877095  0.80337079 0.79775281 0.80898876 0.82022472]\n",
      "mean accuracy score : 0.8036093151716777 (0.010882737613557647)\n"
     ]
    }
   ],
   "source": [
    "logreg=LogisticRegression(max_iter=1000)\n",
    "model_logreg = make_pipeline(RobustScaler(), logreg)\n",
    "accuracy(logreg)"
   ]
  },
  {
   "cell_type": "markdown",
   "id": "2392bdc9",
   "metadata": {
    "papermill": {
     "duration": 0.018254,
     "end_time": "2022-06-22T09:23:37.707413",
     "exception": false,
     "start_time": "2022-06-22T09:23:37.689159",
     "status": "completed"
    },
    "tags": []
   },
   "source": [
    "## Support Vector Machine (SV Classifier)"
   ]
  },
  {
   "cell_type": "code",
   "execution_count": 46,
   "id": "9badf645",
   "metadata": {
    "execution": {
     "iopub.execute_input": "2022-06-22T09:23:37.745436Z",
     "iopub.status.busy": "2022-06-22T09:23:37.744425Z",
     "iopub.status.idle": "2022-06-22T09:23:39.845524Z",
     "shell.execute_reply": "2022-06-22T09:23:39.844185Z"
    },
    "papermill": {
     "duration": 2.12237,
     "end_time": "2022-06-22T09:23:39.847708",
     "exception": false,
     "start_time": "2022-06-22T09:23:37.725338",
     "status": "completed"
    },
    "tags": []
   },
   "outputs": [
    {
     "name": "stdout",
     "output_type": "stream",
     "text": [
      "Fitting 5 folds for each of 24 candidates, totalling 120 fits\n",
      "Best parameter = {'C': 20, 'gamma': 'scale'}\n"
     ]
    }
   ],
   "source": [
    "parameter = {'C': list(range(2,25,2)),\n",
    "             'gamma' : ['scale', 'auto']\n",
    "            }\n",
    "\n",
    "model_sv = GridSearchCV(SVC(),\n",
    "                       parameter, n_jobs=-1, verbose=1)\n",
    "model_sv.fit(X_train, y_train)\n",
    "\n",
    "print(f'Best parameter = {model_sv.best_params_}')"
   ]
  },
  {
   "cell_type": "code",
   "execution_count": 47,
   "id": "878ab139",
   "metadata": {
    "execution": {
     "iopub.execute_input": "2022-06-22T09:23:39.885845Z",
     "iopub.status.busy": "2022-06-22T09:23:39.884945Z",
     "iopub.status.idle": "2022-06-22T09:23:40.056395Z",
     "shell.execute_reply": "2022-06-22T09:23:40.055376Z"
    },
    "papermill": {
     "duration": 0.192806,
     "end_time": "2022-06-22T09:23:40.058464",
     "exception": false,
     "start_time": "2022-06-22T09:23:39.865658",
     "status": "completed"
    },
    "tags": []
   },
   "outputs": [
    {
     "name": "stdout",
     "output_type": "stream",
     "text": [
      "accuracy score : [0.77653631 0.79775281 0.7752809  0.75280899 0.79213483]\n",
      "mean accuracy score : 0.77890276818781 (0.015684482200248342)\n"
     ]
    }
   ],
   "source": [
    "sv = SVC(\n",
    "    C = model_sv.best_params_['C'], \n",
    "    kernel ='rbf',\n",
    "    gamma = model_sv.best_params_['gamma'],\n",
    ")\n",
    "accuracy(sv)"
   ]
  },
  {
   "cell_type": "markdown",
   "id": "b87894dd",
   "metadata": {
    "papermill": {
     "duration": 0.018173,
     "end_time": "2022-06-22T09:23:40.094649",
     "exception": false,
     "start_time": "2022-06-22T09:23:40.076476",
     "status": "completed"
    },
    "tags": []
   },
   "source": [
    "## Naive Bayes"
   ]
  },
  {
   "cell_type": "code",
   "execution_count": 48,
   "id": "50b3f2a5",
   "metadata": {
    "execution": {
     "iopub.execute_input": "2022-06-22T09:23:40.131804Z",
     "iopub.status.busy": "2022-06-22T09:23:40.131437Z",
     "iopub.status.idle": "2022-06-22T09:23:40.162044Z",
     "shell.execute_reply": "2022-06-22T09:23:40.160566Z"
    },
    "papermill": {
     "duration": 0.051889,
     "end_time": "2022-06-22T09:23:40.164357",
     "exception": false,
     "start_time": "2022-06-22T09:23:40.112468",
     "status": "completed"
    },
    "tags": []
   },
   "outputs": [
    {
     "name": "stdout",
     "output_type": "stream",
     "text": [
      "accuracy score : [0.74301676 0.79213483 0.78089888 0.80337079 0.80337079]\n",
      "mean accuracy score : 0.7845584081350826 (0.02237996457548014)\n"
     ]
    }
   ],
   "source": [
    "gnb = GaussianNB()\n",
    "accuracy(gnb)"
   ]
  },
  {
   "cell_type": "markdown",
   "id": "3d2da52b",
   "metadata": {
    "papermill": {
     "duration": 0.017574,
     "end_time": "2022-06-22T09:23:40.200124",
     "exception": false,
     "start_time": "2022-06-22T09:23:40.182550",
     "status": "completed"
    },
    "tags": []
   },
   "source": [
    "## Gradient Boosting"
   ]
  },
  {
   "cell_type": "code",
   "execution_count": 49,
   "id": "6792233b",
   "metadata": {
    "execution": {
     "iopub.execute_input": "2022-06-22T09:23:40.237487Z",
     "iopub.status.busy": "2022-06-22T09:23:40.237100Z",
     "iopub.status.idle": "2022-06-22T09:23:42.192810Z",
     "shell.execute_reply": "2022-06-22T09:23:42.191838Z"
    },
    "papermill": {
     "duration": 1.977045,
     "end_time": "2022-06-22T09:23:42.195097",
     "exception": false,
     "start_time": "2022-06-22T09:23:40.218052",
     "status": "completed"
    },
    "tags": []
   },
   "outputs": [
    {
     "name": "stdout",
     "output_type": "stream",
     "text": [
      "Fitting 5 folds for each of 9 candidates, totalling 45 fits\n",
      "Best parameter = {'learning_rate': 0.1, 'max_leaf_nodes': 16, 'min_samples_split': 20}\n"
     ]
    }
   ],
   "source": [
    "parameter = {'learning_rate': list(np.arange(0.1, 0.6)),\n",
    "             'min_samples_split' : [10, 15, 20],\n",
    "             'max_leaf_nodes' : [8, 16, 32]\n",
    "            }\n",
    "\n",
    "model_gb = GridSearchCV(GradientBoostingClassifier(),\n",
    "                       parameter, n_jobs=-1, verbose=1)\n",
    "model_gb.fit(X_train, y_train)\n",
    "\n",
    "print(f'Best parameter = {model_gb.best_params_}')"
   ]
  },
  {
   "cell_type": "code",
   "execution_count": 50,
   "id": "5077307f",
   "metadata": {
    "execution": {
     "iopub.execute_input": "2022-06-22T09:23:42.233557Z",
     "iopub.status.busy": "2022-06-22T09:23:42.233182Z",
     "iopub.status.idle": "2022-06-22T09:23:42.728945Z",
     "shell.execute_reply": "2022-06-22T09:23:42.728198Z"
    },
    "papermill": {
     "duration": 0.51772,
     "end_time": "2022-06-22T09:23:42.731086",
     "exception": false,
     "start_time": "2022-06-22T09:23:42.213366",
     "status": "completed"
    },
    "tags": []
   },
   "outputs": [
    {
     "name": "stdout",
     "output_type": "stream",
     "text": [
      "accuracy score : [0.81564246 0.80898876 0.87078652 0.82022472 0.83707865]\n",
      "mean accuracy score : 0.8305442219571904 (0.022160025006624007)\n"
     ]
    }
   ],
   "source": [
    "gb = GradientBoostingClassifier(\n",
    "    learning_rate = model_gb.best_params_['learning_rate'], \n",
    "    min_samples_split = model_gb.best_params_['min_samples_split'], \n",
    "    max_leaf_nodes = model_gb.best_params_['max_leaf_nodes']\n",
    ")\n",
    "accuracy(gb)"
   ]
  },
  {
   "cell_type": "markdown",
   "id": "c2cfd605",
   "metadata": {
    "papermill": {
     "duration": 0.018233,
     "end_time": "2022-06-22T09:23:42.767558",
     "exception": false,
     "start_time": "2022-06-22T09:23:42.749325",
     "status": "completed"
    },
    "tags": []
   },
   "source": [
    "## Stacking"
   ]
  },
  {
   "cell_type": "code",
   "execution_count": 51,
   "id": "273ce008",
   "metadata": {
    "execution": {
     "iopub.execute_input": "2022-06-22T09:23:42.806375Z",
     "iopub.status.busy": "2022-06-22T09:23:42.805420Z",
     "iopub.status.idle": "2022-06-22T09:23:51.600995Z",
     "shell.execute_reply": "2022-06-22T09:23:51.600052Z"
    },
    "papermill": {
     "duration": 8.817352,
     "end_time": "2022-06-22T09:23:51.603305",
     "exception": false,
     "start_time": "2022-06-22T09:23:42.785953",
     "status": "completed"
    },
    "tags": []
   },
   "outputs": [
    {
     "name": "stdout",
     "output_type": "stream",
     "text": [
      "accuracy score : [0.81005587 0.8258427  0.84269663 0.79775281 0.83146067]\n",
      "mean accuracy score : 0.8215617349821104 (0.015888671205480882)\n"
     ]
    }
   ],
   "source": [
    "models = {\n",
    "    'Random Forest':randfore,\n",
    "    'K-Nearest Neighbors':knn_pl,\n",
    "    'Gradient Boosting': gb,\n",
    "    'Support Vector Machine' : sv,\n",
    "    'Naive Bayes': gnb\n",
    "    \n",
    "}\n",
    "model_stack = get_stacking(models, logreg)\n",
    "accuracy(model_stack)"
   ]
  },
  {
   "cell_type": "code",
   "execution_count": 52,
   "id": "f568ec66",
   "metadata": {
    "execution": {
     "iopub.execute_input": "2022-06-22T09:23:51.642367Z",
     "iopub.status.busy": "2022-06-22T09:23:51.641287Z",
     "iopub.status.idle": "2022-06-22T09:23:53.561921Z",
     "shell.execute_reply": "2022-06-22T09:23:53.560970Z"
    },
    "papermill": {
     "duration": 1.942003,
     "end_time": "2022-06-22T09:23:53.563825",
     "exception": false,
     "start_time": "2022-06-22T09:23:51.621822",
     "status": "completed"
    },
    "tags": []
   },
   "outputs": [
    {
     "data": {
      "text/plain": [
       "array([0, 0, 0, 0, 1, 0, 0, 0, 1, 0, 0, 0, 1, 0, 1, 1, 0, 0, 0, 1, 0, 1,\n",
       "       1, 1, 1, 0, 1, 0, 1, 0, 0, 0, 1, 0, 1, 0, 0, 0, 0, 0, 0, 0, 0, 1,\n",
       "       1, 0, 0, 0, 1, 1, 0, 0, 1, 1, 0, 0, 0, 0, 0, 1, 0, 0, 0, 1, 0, 1,\n",
       "       1, 0, 0, 1, 1, 0, 0, 0, 1, 0, 0, 1, 0, 1, 1, 0, 0, 0, 0, 0, 1, 0,\n",
       "       1, 1, 1, 0, 1, 0, 0, 0, 1, 0, 0, 0, 1, 0, 0, 0, 1, 0, 0, 0, 0, 0,\n",
       "       0, 1, 1, 1, 1, 0, 0, 1, 0, 1, 1, 0, 1, 0, 0, 1, 0, 1, 0, 0, 0, 0,\n",
       "       0, 0, 0, 0, 0, 0, 0, 0, 0, 1, 0, 0, 0, 0, 0, 0, 0, 0, 1, 0, 0, 1,\n",
       "       0, 0, 1, 0, 0, 0, 1, 1, 1, 0, 0, 0, 0, 0, 1, 0, 0, 0, 0, 0, 0, 1,\n",
       "       1, 0, 1, 1, 0, 0, 1, 0, 1, 0, 1, 0, 0, 0, 0, 0, 0, 0, 1, 0, 1, 1,\n",
       "       0, 0, 1, 1, 0, 1, 0, 0, 0, 0, 1, 0, 0, 0, 0, 1, 0, 0, 1, 0, 1, 0,\n",
       "       1, 0, 1, 0, 1, 1, 0, 1, 0, 0, 0, 1, 0, 0, 0, 0, 0, 0, 1, 1, 1, 1,\n",
       "       0, 0, 0, 0, 1, 0, 1, 0, 1, 0, 0, 0, 0, 0, 0, 0, 1, 0, 0, 0, 1, 1,\n",
       "       0, 0, 0, 0, 0, 0, 0, 0, 1, 1, 0, 1, 0, 0, 0, 0, 0, 1, 1, 1, 1, 0,\n",
       "       0, 0, 0, 0, 0, 0, 0, 0, 0, 0, 1, 0, 0, 0, 0, 0, 0, 0, 1, 1, 0, 1,\n",
       "       0, 0, 0, 0, 0, 0, 1, 1, 0, 0, 0, 0, 0, 0, 0, 1, 1, 0, 1, 0, 0, 0,\n",
       "       1, 0, 0, 1, 0, 0, 0, 0, 0, 0, 0, 0, 0, 1, 0, 1, 0, 1, 0, 1, 1, 0,\n",
       "       0, 0, 1, 0, 1, 0, 0, 1, 0, 1, 1, 0, 1, 0, 0, 0, 1, 0, 0, 1, 0, 0,\n",
       "       1, 1, 0, 0, 0, 0, 0, 0, 0, 1, 0, 1, 0, 0, 0, 0, 0, 1, 0, 0, 0, 1,\n",
       "       0, 1, 0, 0, 1, 0, 1, 0, 0, 0, 0, 0, 1, 1, 1, 1, 0, 0, 1, 0, 0, 0])"
      ]
     },
     "execution_count": 52,
     "metadata": {},
     "output_type": "execute_result"
    }
   ],
   "source": [
    "model_stack.fit(X_train, y_train)\n",
    "y_pred = model_stack.predict(X_test)\n",
    "y_pred"
   ]
  },
  {
   "cell_type": "code",
   "execution_count": 53,
   "id": "f4e44b6c",
   "metadata": {
    "execution": {
     "iopub.execute_input": "2022-06-22T09:23:53.602669Z",
     "iopub.status.busy": "2022-06-22T09:23:53.601585Z",
     "iopub.status.idle": "2022-06-22T09:23:53.607613Z",
     "shell.execute_reply": "2022-06-22T09:23:53.606773Z"
    },
    "papermill": {
     "duration": 0.027679,
     "end_time": "2022-06-22T09:23:53.609592",
     "exception": false,
     "start_time": "2022-06-22T09:23:53.581913",
     "status": "completed"
    },
    "tags": []
   },
   "outputs": [],
   "source": [
    "d_stack = {'PassengerId': passengerID, 'Survived': y_pred}\n",
    "sub_stack = pd.DataFrame(data=d_stack)"
   ]
  },
  {
   "cell_type": "code",
   "execution_count": 54,
   "id": "61014f53",
   "metadata": {
    "execution": {
     "iopub.execute_input": "2022-06-22T09:23:53.648499Z",
     "iopub.status.busy": "2022-06-22T09:23:53.647781Z",
     "iopub.status.idle": "2022-06-22T09:23:53.658932Z",
     "shell.execute_reply": "2022-06-22T09:23:53.657953Z"
    },
    "papermill": {
     "duration": 0.03313,
     "end_time": "2022-06-22T09:23:53.660807",
     "exception": false,
     "start_time": "2022-06-22T09:23:53.627677",
     "status": "completed"
    },
    "tags": []
   },
   "outputs": [
    {
     "data": {
      "text/html": [
       "<div>\n",
       "<style scoped>\n",
       "    .dataframe tbody tr th:only-of-type {\n",
       "        vertical-align: middle;\n",
       "    }\n",
       "\n",
       "    .dataframe tbody tr th {\n",
       "        vertical-align: top;\n",
       "    }\n",
       "\n",
       "    .dataframe thead th {\n",
       "        text-align: right;\n",
       "    }\n",
       "</style>\n",
       "<table border=\"1\" class=\"dataframe\">\n",
       "  <thead>\n",
       "    <tr style=\"text-align: right;\">\n",
       "      <th></th>\n",
       "      <th>PassengerId</th>\n",
       "      <th>Survived</th>\n",
       "    </tr>\n",
       "  </thead>\n",
       "  <tbody>\n",
       "    <tr>\n",
       "      <th>0</th>\n",
       "      <td>892</td>\n",
       "      <td>0</td>\n",
       "    </tr>\n",
       "    <tr>\n",
       "      <th>1</th>\n",
       "      <td>893</td>\n",
       "      <td>0</td>\n",
       "    </tr>\n",
       "    <tr>\n",
       "      <th>2</th>\n",
       "      <td>894</td>\n",
       "      <td>0</td>\n",
       "    </tr>\n",
       "    <tr>\n",
       "      <th>3</th>\n",
       "      <td>895</td>\n",
       "      <td>0</td>\n",
       "    </tr>\n",
       "    <tr>\n",
       "      <th>4</th>\n",
       "      <td>896</td>\n",
       "      <td>1</td>\n",
       "    </tr>\n",
       "    <tr>\n",
       "      <th>...</th>\n",
       "      <td>...</td>\n",
       "      <td>...</td>\n",
       "    </tr>\n",
       "    <tr>\n",
       "      <th>413</th>\n",
       "      <td>1305</td>\n",
       "      <td>0</td>\n",
       "    </tr>\n",
       "    <tr>\n",
       "      <th>414</th>\n",
       "      <td>1306</td>\n",
       "      <td>1</td>\n",
       "    </tr>\n",
       "    <tr>\n",
       "      <th>415</th>\n",
       "      <td>1307</td>\n",
       "      <td>0</td>\n",
       "    </tr>\n",
       "    <tr>\n",
       "      <th>416</th>\n",
       "      <td>1308</td>\n",
       "      <td>0</td>\n",
       "    </tr>\n",
       "    <tr>\n",
       "      <th>417</th>\n",
       "      <td>1309</td>\n",
       "      <td>0</td>\n",
       "    </tr>\n",
       "  </tbody>\n",
       "</table>\n",
       "<p>418 rows × 2 columns</p>\n",
       "</div>"
      ],
      "text/plain": [
       "     PassengerId  Survived\n",
       "0            892         0\n",
       "1            893         0\n",
       "2            894         0\n",
       "3            895         0\n",
       "4            896         1\n",
       "..           ...       ...\n",
       "413         1305         0\n",
       "414         1306         1\n",
       "415         1307         0\n",
       "416         1308         0\n",
       "417         1309         0\n",
       "\n",
       "[418 rows x 2 columns]"
      ]
     },
     "execution_count": 54,
     "metadata": {},
     "output_type": "execute_result"
    }
   ],
   "source": [
    "sub_stack"
   ]
  },
  {
   "cell_type": "code",
   "execution_count": 55,
   "id": "f8d32dc0",
   "metadata": {
    "execution": {
     "iopub.execute_input": "2022-06-22T09:23:53.699544Z",
     "iopub.status.busy": "2022-06-22T09:23:53.698789Z",
     "iopub.status.idle": "2022-06-22T09:23:53.707444Z",
     "shell.execute_reply": "2022-06-22T09:23:53.706656Z"
    },
    "papermill": {
     "duration": 0.03052,
     "end_time": "2022-06-22T09:23:53.709603",
     "exception": false,
     "start_time": "2022-06-22T09:23:53.679083",
     "status": "completed"
    },
    "tags": []
   },
   "outputs": [],
   "source": [
    "sub_stack.to_csv('gender_submission.csv', index=False)"
   ]
  }
 ],
 "metadata": {
  "kernelspec": {
   "display_name": "Python 3",
   "language": "python",
   "name": "python3"
  },
  "language_info": {
   "codemirror_mode": {
    "name": "ipython",
    "version": 3
   },
   "file_extension": ".py",
   "mimetype": "text/x-python",
   "name": "python",
   "nbconvert_exporter": "python",
   "pygments_lexer": "ipython3",
   "version": "3.7.12"
  },
  "papermill": {
   "default_parameters": {},
   "duration": 54.474498,
   "end_time": "2022-06-22T09:23:56.350209",
   "environment_variables": {},
   "exception": null,
   "input_path": "__notebook__.ipynb",
   "output_path": "__notebook__.ipynb",
   "parameters": {},
   "start_time": "2022-06-22T09:23:01.875711",
   "version": "2.3.4"
  }
 },
 "nbformat": 4,
 "nbformat_minor": 5
}
