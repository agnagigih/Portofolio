{
  "nbformat": 4,
  "nbformat_minor": 0,
  "metadata": {
    "colab": {
      "name": "Risiko_Kredit.ipynb",
      "provenance": [],
      "collapsed_sections": [],
      "toc_visible": true
    },
    "kernelspec": {
      "name": "python3",
      "display_name": "Python 3"
    },
    "language_info": {
      "name": "python"
    }
  },
  "cells": [
    {
      "cell_type": "code",
      "execution_count": 1,
      "metadata": {
        "colab": {
          "base_uri": "https://localhost:8080/"
        },
        "id": "91Q9aZq9rfUU",
        "outputId": "51578b83-540a-4b85-b4e4-e08178fa7cfd"
      },
      "outputs": [
        {
          "output_type": "stream",
          "name": "stdout",
          "text": [
            "Drive already mounted at /content/drive; to attempt to forcibly remount, call drive.mount(\"/content/drive\", force_remount=True).\n"
          ]
        }
      ],
      "source": [
        "from google.colab import drive\n",
        "drive.mount('/content/drive')"
      ]
    },
    {
      "cell_type": "code",
      "source": [
        "# import library\n",
        "import pandas as pd\n",
        "import numpy as np\n",
        "import matplotlib.pyplot as plt\n",
        "import seaborn as sns\n",
        "\n",
        "# set dataframe\n",
        "pd.set_option('display.max_columns', None)\n",
        "pd.set_option('display.max.rows', 100)"
      ],
      "metadata": {
        "id": "x9Ncdcx3rrX_"
      },
      "execution_count": 2,
      "outputs": []
    },
    {
      "cell_type": "code",
      "source": [
        "# load dataframe\n",
        "raw_loan = pd.read_csv('drive/MyDrive/Dataset/loan_data_2007_2014.csv', index_col=['Unnamed: 0'], low_memory=False)"
      ],
      "metadata": {
        "id": "CehwMY35tvAP"
      },
      "execution_count": 3,
      "outputs": []
    },
    {
      "cell_type": "markdown",
      "source": [
        "# Eksplorasi Data"
      ],
      "metadata": {
        "id": "aVavbvszteCl"
      }
    },
    {
      "cell_type": "code",
      "source": [
        "# melihat kolom\n",
        "raw_loan.columns"
      ],
      "metadata": {
        "colab": {
          "base_uri": "https://localhost:8080/"
        },
        "id": "VfnrVH8wsU8i",
        "outputId": "e8940dc3-db2f-47d4-9b99-ef6263599338"
      },
      "execution_count": 4,
      "outputs": [
        {
          "output_type": "execute_result",
          "data": {
            "text/plain": [
              "Index(['id', 'member_id', 'loan_amnt', 'funded_amnt', 'funded_amnt_inv',\n",
              "       'term', 'int_rate', 'installment', 'grade', 'sub_grade', 'emp_title',\n",
              "       'emp_length', 'home_ownership', 'annual_inc', 'verification_status',\n",
              "       'issue_d', 'loan_status', 'pymnt_plan', 'url', 'desc', 'purpose',\n",
              "       'title', 'zip_code', 'addr_state', 'dti', 'delinq_2yrs',\n",
              "       'earliest_cr_line', 'inq_last_6mths', 'mths_since_last_delinq',\n",
              "       'mths_since_last_record', 'open_acc', 'pub_rec', 'revol_bal',\n",
              "       'revol_util', 'total_acc', 'initial_list_status', 'out_prncp',\n",
              "       'out_prncp_inv', 'total_pymnt', 'total_pymnt_inv', 'total_rec_prncp',\n",
              "       'total_rec_int', 'total_rec_late_fee', 'recoveries',\n",
              "       'collection_recovery_fee', 'last_pymnt_d', 'last_pymnt_amnt',\n",
              "       'next_pymnt_d', 'last_credit_pull_d', 'collections_12_mths_ex_med',\n",
              "       'mths_since_last_major_derog', 'policy_code', 'application_type',\n",
              "       'annual_inc_joint', 'dti_joint', 'verification_status_joint',\n",
              "       'acc_now_delinq', 'tot_coll_amt', 'tot_cur_bal', 'open_acc_6m',\n",
              "       'open_il_6m', 'open_il_12m', 'open_il_24m', 'mths_since_rcnt_il',\n",
              "       'total_bal_il', 'il_util', 'open_rv_12m', 'open_rv_24m', 'max_bal_bc',\n",
              "       'all_util', 'total_rev_hi_lim', 'inq_fi', 'total_cu_tl',\n",
              "       'inq_last_12m'],\n",
              "      dtype='object')"
            ]
          },
          "metadata": {},
          "execution_count": 4
        }
      ]
    },
    {
      "cell_type": "code",
      "source": [
        "raw_loan.info()"
      ],
      "metadata": {
        "colab": {
          "base_uri": "https://localhost:8080/"
        },
        "id": "ru9Z1p43sre4",
        "outputId": "514f3d92-bd76-4f89-a788-79f25a4dbbfa"
      },
      "execution_count": 5,
      "outputs": [
        {
          "output_type": "stream",
          "name": "stdout",
          "text": [
            "<class 'pandas.core.frame.DataFrame'>\n",
            "Int64Index: 466285 entries, 0 to 466284\n",
            "Data columns (total 74 columns):\n",
            " #   Column                       Non-Null Count   Dtype  \n",
            "---  ------                       --------------   -----  \n",
            " 0   id                           466285 non-null  int64  \n",
            " 1   member_id                    466285 non-null  int64  \n",
            " 2   loan_amnt                    466285 non-null  int64  \n",
            " 3   funded_amnt                  466285 non-null  int64  \n",
            " 4   funded_amnt_inv              466285 non-null  float64\n",
            " 5   term                         466285 non-null  object \n",
            " 6   int_rate                     466285 non-null  float64\n",
            " 7   installment                  466285 non-null  float64\n",
            " 8   grade                        466285 non-null  object \n",
            " 9   sub_grade                    466285 non-null  object \n",
            " 10  emp_title                    438697 non-null  object \n",
            " 11  emp_length                   445277 non-null  object \n",
            " 12  home_ownership               466285 non-null  object \n",
            " 13  annual_inc                   466281 non-null  float64\n",
            " 14  verification_status          466285 non-null  object \n",
            " 15  issue_d                      466285 non-null  object \n",
            " 16  loan_status                  466285 non-null  object \n",
            " 17  pymnt_plan                   466285 non-null  object \n",
            " 18  url                          466285 non-null  object \n",
            " 19  desc                         125983 non-null  object \n",
            " 20  purpose                      466285 non-null  object \n",
            " 21  title                        466265 non-null  object \n",
            " 22  zip_code                     466285 non-null  object \n",
            " 23  addr_state                   466285 non-null  object \n",
            " 24  dti                          466285 non-null  float64\n",
            " 25  delinq_2yrs                  466256 non-null  float64\n",
            " 26  earliest_cr_line             466256 non-null  object \n",
            " 27  inq_last_6mths               466256 non-null  float64\n",
            " 28  mths_since_last_delinq       215934 non-null  float64\n",
            " 29  mths_since_last_record       62638 non-null   float64\n",
            " 30  open_acc                     466256 non-null  float64\n",
            " 31  pub_rec                      466256 non-null  float64\n",
            " 32  revol_bal                    466285 non-null  int64  \n",
            " 33  revol_util                   465945 non-null  float64\n",
            " 34  total_acc                    466256 non-null  float64\n",
            " 35  initial_list_status          466285 non-null  object \n",
            " 36  out_prncp                    466285 non-null  float64\n",
            " 37  out_prncp_inv                466285 non-null  float64\n",
            " 38  total_pymnt                  466285 non-null  float64\n",
            " 39  total_pymnt_inv              466285 non-null  float64\n",
            " 40  total_rec_prncp              466285 non-null  float64\n",
            " 41  total_rec_int                466285 non-null  float64\n",
            " 42  total_rec_late_fee           466285 non-null  float64\n",
            " 43  recoveries                   466285 non-null  float64\n",
            " 44  collection_recovery_fee      466285 non-null  float64\n",
            " 45  last_pymnt_d                 465909 non-null  object \n",
            " 46  last_pymnt_amnt              466285 non-null  float64\n",
            " 47  next_pymnt_d                 239071 non-null  object \n",
            " 48  last_credit_pull_d           466243 non-null  object \n",
            " 49  collections_12_mths_ex_med   466140 non-null  float64\n",
            " 50  mths_since_last_major_derog  98974 non-null   float64\n",
            " 51  policy_code                  466285 non-null  int64  \n",
            " 52  application_type             466285 non-null  object \n",
            " 53  annual_inc_joint             0 non-null       float64\n",
            " 54  dti_joint                    0 non-null       float64\n",
            " 55  verification_status_joint    0 non-null       float64\n",
            " 56  acc_now_delinq               466256 non-null  float64\n",
            " 57  tot_coll_amt                 396009 non-null  float64\n",
            " 58  tot_cur_bal                  396009 non-null  float64\n",
            " 59  open_acc_6m                  0 non-null       float64\n",
            " 60  open_il_6m                   0 non-null       float64\n",
            " 61  open_il_12m                  0 non-null       float64\n",
            " 62  open_il_24m                  0 non-null       float64\n",
            " 63  mths_since_rcnt_il           0 non-null       float64\n",
            " 64  total_bal_il                 0 non-null       float64\n",
            " 65  il_util                      0 non-null       float64\n",
            " 66  open_rv_12m                  0 non-null       float64\n",
            " 67  open_rv_24m                  0 non-null       float64\n",
            " 68  max_bal_bc                   0 non-null       float64\n",
            " 69  all_util                     0 non-null       float64\n",
            " 70  total_rev_hi_lim             396009 non-null  float64\n",
            " 71  inq_fi                       0 non-null       float64\n",
            " 72  total_cu_tl                  0 non-null       float64\n",
            " 73  inq_last_12m                 0 non-null       float64\n",
            "dtypes: float64(46), int64(6), object(22)\n",
            "memory usage: 266.8+ MB\n"
          ]
        }
      ]
    },
    {
      "cell_type": "code",
      "source": [
        "raw_loan.dropna(axis=1, how='all', inplace=True)"
      ],
      "metadata": {
        "id": "AT0c1_CktDT3"
      },
      "execution_count": 6,
      "outputs": []
    },
    {
      "cell_type": "code",
      "source": [
        "raw_loan.describe()"
      ],
      "metadata": {
        "colab": {
          "base_uri": "https://localhost:8080/",
          "height": 364
        },
        "id": "OszXy6Qytlaw",
        "outputId": "620ee3ba-632e-42dd-d2cf-28112df8c8b5"
      },
      "execution_count": 7,
      "outputs": [
        {
          "output_type": "execute_result",
          "data": {
            "text/plain": [
              "                 id     member_id      loan_amnt    funded_amnt  \\\n",
              "count  4.662850e+05  4.662850e+05  466285.000000  466285.000000   \n",
              "mean   1.307973e+07  1.459766e+07   14317.277577   14291.801044   \n",
              "std    1.089371e+07  1.168237e+07    8286.509164    8274.371300   \n",
              "min    5.473400e+04  7.047300e+04     500.000000     500.000000   \n",
              "25%    3.639987e+06  4.379705e+06    8000.000000    8000.000000   \n",
              "50%    1.010790e+07  1.194108e+07   12000.000000   12000.000000   \n",
              "75%    2.073121e+07  2.300154e+07   20000.000000   20000.000000   \n",
              "max    3.809811e+07  4.086083e+07   35000.000000   35000.000000   \n",
              "\n",
              "       funded_amnt_inv       int_rate    installment    annual_inc  \\\n",
              "count    466285.000000  466285.000000  466285.000000  4.662810e+05   \n",
              "mean      14222.329888      13.829236     432.061201  7.327738e+04   \n",
              "std        8297.637788       4.357587     243.485550  5.496357e+04   \n",
              "min           0.000000       5.420000      15.670000  1.896000e+03   \n",
              "25%        8000.000000      10.990000     256.690000  4.500000e+04   \n",
              "50%       12000.000000      13.660000     379.890000  6.300000e+04   \n",
              "75%       19950.000000      16.490000     566.580000  8.896000e+04   \n",
              "max       35000.000000      26.060000    1409.990000  7.500000e+06   \n",
              "\n",
              "                 dti    delinq_2yrs  inq_last_6mths  mths_since_last_delinq  \\\n",
              "count  466285.000000  466256.000000   466256.000000           215934.000000   \n",
              "mean       17.218758       0.284678        0.804745               34.104430   \n",
              "std         7.851121       0.797365        1.091598               21.778487   \n",
              "min         0.000000       0.000000        0.000000                0.000000   \n",
              "25%        11.360000       0.000000        0.000000               16.000000   \n",
              "50%        16.870000       0.000000        0.000000               31.000000   \n",
              "75%        22.780000       0.000000        1.000000               49.000000   \n",
              "max        39.990000      29.000000       33.000000              188.000000   \n",
              "\n",
              "       mths_since_last_record       open_acc        pub_rec     revol_bal  \\\n",
              "count            62638.000000  466256.000000  466256.000000  4.662850e+05   \n",
              "mean                74.306012      11.187069       0.160564  1.623020e+04   \n",
              "std                 30.357653       4.987526       0.510863  2.067625e+04   \n",
              "min                  0.000000       0.000000       0.000000  0.000000e+00   \n",
              "25%                 53.000000       8.000000       0.000000  6.413000e+03   \n",
              "50%                 76.000000      10.000000       0.000000  1.176400e+04   \n",
              "75%                102.000000      14.000000       0.000000  2.033300e+04   \n",
              "max                129.000000      84.000000      63.000000  2.568995e+06   \n",
              "\n",
              "          revol_util      total_acc      out_prncp  out_prncp_inv  \\\n",
              "count  465945.000000  466256.000000  466285.000000  466285.000000   \n",
              "mean       56.176947      25.064430    4410.062342    4408.452258   \n",
              "std        23.732628      11.600141    6355.078769    6353.198001   \n",
              "min         0.000000       1.000000       0.000000       0.000000   \n",
              "25%        39.200000      17.000000       0.000000       0.000000   \n",
              "50%        57.600000      23.000000     441.470000     441.380000   \n",
              "75%        74.700000      32.000000    7341.650000    7338.390000   \n",
              "max       892.300000     156.000000   32160.380000   32160.380000   \n",
              "\n",
              "         total_pymnt  total_pymnt_inv  total_rec_prncp  total_rec_int  \\\n",
              "count  466285.000000    466285.000000    466285.000000  466285.000000   \n",
              "mean    11540.686220     11469.892747      8866.014657    2588.677225   \n",
              "std      8265.627112      8254.157579      7031.687997    2483.809661   \n",
              "min         0.000000         0.000000         0.000000       0.000000   \n",
              "25%      5552.125349      5499.250000      3708.560000     957.280000   \n",
              "50%      9419.250943      9355.430000      6817.760000    1818.880000   \n",
              "75%     15308.158460     15231.310000     12000.000000    3304.530000   \n",
              "max     57777.579870     57777.580000     35000.030000   24205.620000   \n",
              "\n",
              "       total_rec_late_fee     recoveries  collection_recovery_fee  \\\n",
              "count       466285.000000  466285.000000            466285.000000   \n",
              "mean             0.650129      85.344211                 8.961534   \n",
              "std              5.265730     552.216084                85.491437   \n",
              "min              0.000000       0.000000                 0.000000   \n",
              "25%              0.000000       0.000000                 0.000000   \n",
              "50%              0.000000       0.000000                 0.000000   \n",
              "75%              0.000000       0.000000                 0.000000   \n",
              "max            358.680000   33520.270000              7002.190000   \n",
              "\n",
              "       last_pymnt_amnt  collections_12_mths_ex_med  \\\n",
              "count    466285.000000               466140.000000   \n",
              "mean       3123.913796                    0.009085   \n",
              "std        5554.737393                    0.108648   \n",
              "min           0.000000                    0.000000   \n",
              "25%         312.620000                    0.000000   \n",
              "50%         545.960000                    0.000000   \n",
              "75%        3187.510000                    0.000000   \n",
              "max       36234.440000                   20.000000   \n",
              "\n",
              "       mths_since_last_major_derog  policy_code  acc_now_delinq  tot_coll_amt  \\\n",
              "count                 98974.000000     466285.0   466256.000000  3.960090e+05   \n",
              "mean                     42.852547          1.0        0.004002  1.919135e+02   \n",
              "std                      21.662591          0.0        0.068637  1.463021e+04   \n",
              "min                       0.000000          1.0        0.000000  0.000000e+00   \n",
              "25%                      26.000000          1.0        0.000000  0.000000e+00   \n",
              "50%                      42.000000          1.0        0.000000  0.000000e+00   \n",
              "75%                      59.000000          1.0        0.000000  0.000000e+00   \n",
              "max                     188.000000          1.0        5.000000  9.152545e+06   \n",
              "\n",
              "        tot_cur_bal  total_rev_hi_lim  \n",
              "count  3.960090e+05      3.960090e+05  \n",
              "mean   1.388017e+05      3.037909e+04  \n",
              "std    1.521147e+05      3.724713e+04  \n",
              "min    0.000000e+00      0.000000e+00  \n",
              "25%    2.861800e+04      1.350000e+04  \n",
              "50%    8.153900e+04      2.280000e+04  \n",
              "75%    2.089530e+05      3.790000e+04  \n",
              "max    8.000078e+06      9.999999e+06  "
            ],
            "text/html": [
              "\n",
              "  <div id=\"df-20eb7d82-6ab9-484f-8498-7194d2677a03\">\n",
              "    <div class=\"colab-df-container\">\n",
              "      <div>\n",
              "<style scoped>\n",
              "    .dataframe tbody tr th:only-of-type {\n",
              "        vertical-align: middle;\n",
              "    }\n",
              "\n",
              "    .dataframe tbody tr th {\n",
              "        vertical-align: top;\n",
              "    }\n",
              "\n",
              "    .dataframe thead th {\n",
              "        text-align: right;\n",
              "    }\n",
              "</style>\n",
              "<table border=\"1\" class=\"dataframe\">\n",
              "  <thead>\n",
              "    <tr style=\"text-align: right;\">\n",
              "      <th></th>\n",
              "      <th>id</th>\n",
              "      <th>member_id</th>\n",
              "      <th>loan_amnt</th>\n",
              "      <th>funded_amnt</th>\n",
              "      <th>funded_amnt_inv</th>\n",
              "      <th>int_rate</th>\n",
              "      <th>installment</th>\n",
              "      <th>annual_inc</th>\n",
              "      <th>dti</th>\n",
              "      <th>delinq_2yrs</th>\n",
              "      <th>inq_last_6mths</th>\n",
              "      <th>mths_since_last_delinq</th>\n",
              "      <th>mths_since_last_record</th>\n",
              "      <th>open_acc</th>\n",
              "      <th>pub_rec</th>\n",
              "      <th>revol_bal</th>\n",
              "      <th>revol_util</th>\n",
              "      <th>total_acc</th>\n",
              "      <th>out_prncp</th>\n",
              "      <th>out_prncp_inv</th>\n",
              "      <th>total_pymnt</th>\n",
              "      <th>total_pymnt_inv</th>\n",
              "      <th>total_rec_prncp</th>\n",
              "      <th>total_rec_int</th>\n",
              "      <th>total_rec_late_fee</th>\n",
              "      <th>recoveries</th>\n",
              "      <th>collection_recovery_fee</th>\n",
              "      <th>last_pymnt_amnt</th>\n",
              "      <th>collections_12_mths_ex_med</th>\n",
              "      <th>mths_since_last_major_derog</th>\n",
              "      <th>policy_code</th>\n",
              "      <th>acc_now_delinq</th>\n",
              "      <th>tot_coll_amt</th>\n",
              "      <th>tot_cur_bal</th>\n",
              "      <th>total_rev_hi_lim</th>\n",
              "    </tr>\n",
              "  </thead>\n",
              "  <tbody>\n",
              "    <tr>\n",
              "      <th>count</th>\n",
              "      <td>4.662850e+05</td>\n",
              "      <td>4.662850e+05</td>\n",
              "      <td>466285.000000</td>\n",
              "      <td>466285.000000</td>\n",
              "      <td>466285.000000</td>\n",
              "      <td>466285.000000</td>\n",
              "      <td>466285.000000</td>\n",
              "      <td>4.662810e+05</td>\n",
              "      <td>466285.000000</td>\n",
              "      <td>466256.000000</td>\n",
              "      <td>466256.000000</td>\n",
              "      <td>215934.000000</td>\n",
              "      <td>62638.000000</td>\n",
              "      <td>466256.000000</td>\n",
              "      <td>466256.000000</td>\n",
              "      <td>4.662850e+05</td>\n",
              "      <td>465945.000000</td>\n",
              "      <td>466256.000000</td>\n",
              "      <td>466285.000000</td>\n",
              "      <td>466285.000000</td>\n",
              "      <td>466285.000000</td>\n",
              "      <td>466285.000000</td>\n",
              "      <td>466285.000000</td>\n",
              "      <td>466285.000000</td>\n",
              "      <td>466285.000000</td>\n",
              "      <td>466285.000000</td>\n",
              "      <td>466285.000000</td>\n",
              "      <td>466285.000000</td>\n",
              "      <td>466140.000000</td>\n",
              "      <td>98974.000000</td>\n",
              "      <td>466285.0</td>\n",
              "      <td>466256.000000</td>\n",
              "      <td>3.960090e+05</td>\n",
              "      <td>3.960090e+05</td>\n",
              "      <td>3.960090e+05</td>\n",
              "    </tr>\n",
              "    <tr>\n",
              "      <th>mean</th>\n",
              "      <td>1.307973e+07</td>\n",
              "      <td>1.459766e+07</td>\n",
              "      <td>14317.277577</td>\n",
              "      <td>14291.801044</td>\n",
              "      <td>14222.329888</td>\n",
              "      <td>13.829236</td>\n",
              "      <td>432.061201</td>\n",
              "      <td>7.327738e+04</td>\n",
              "      <td>17.218758</td>\n",
              "      <td>0.284678</td>\n",
              "      <td>0.804745</td>\n",
              "      <td>34.104430</td>\n",
              "      <td>74.306012</td>\n",
              "      <td>11.187069</td>\n",
              "      <td>0.160564</td>\n",
              "      <td>1.623020e+04</td>\n",
              "      <td>56.176947</td>\n",
              "      <td>25.064430</td>\n",
              "      <td>4410.062342</td>\n",
              "      <td>4408.452258</td>\n",
              "      <td>11540.686220</td>\n",
              "      <td>11469.892747</td>\n",
              "      <td>8866.014657</td>\n",
              "      <td>2588.677225</td>\n",
              "      <td>0.650129</td>\n",
              "      <td>85.344211</td>\n",
              "      <td>8.961534</td>\n",
              "      <td>3123.913796</td>\n",
              "      <td>0.009085</td>\n",
              "      <td>42.852547</td>\n",
              "      <td>1.0</td>\n",
              "      <td>0.004002</td>\n",
              "      <td>1.919135e+02</td>\n",
              "      <td>1.388017e+05</td>\n",
              "      <td>3.037909e+04</td>\n",
              "    </tr>\n",
              "    <tr>\n",
              "      <th>std</th>\n",
              "      <td>1.089371e+07</td>\n",
              "      <td>1.168237e+07</td>\n",
              "      <td>8286.509164</td>\n",
              "      <td>8274.371300</td>\n",
              "      <td>8297.637788</td>\n",
              "      <td>4.357587</td>\n",
              "      <td>243.485550</td>\n",
              "      <td>5.496357e+04</td>\n",
              "      <td>7.851121</td>\n",
              "      <td>0.797365</td>\n",
              "      <td>1.091598</td>\n",
              "      <td>21.778487</td>\n",
              "      <td>30.357653</td>\n",
              "      <td>4.987526</td>\n",
              "      <td>0.510863</td>\n",
              "      <td>2.067625e+04</td>\n",
              "      <td>23.732628</td>\n",
              "      <td>11.600141</td>\n",
              "      <td>6355.078769</td>\n",
              "      <td>6353.198001</td>\n",
              "      <td>8265.627112</td>\n",
              "      <td>8254.157579</td>\n",
              "      <td>7031.687997</td>\n",
              "      <td>2483.809661</td>\n",
              "      <td>5.265730</td>\n",
              "      <td>552.216084</td>\n",
              "      <td>85.491437</td>\n",
              "      <td>5554.737393</td>\n",
              "      <td>0.108648</td>\n",
              "      <td>21.662591</td>\n",
              "      <td>0.0</td>\n",
              "      <td>0.068637</td>\n",
              "      <td>1.463021e+04</td>\n",
              "      <td>1.521147e+05</td>\n",
              "      <td>3.724713e+04</td>\n",
              "    </tr>\n",
              "    <tr>\n",
              "      <th>min</th>\n",
              "      <td>5.473400e+04</td>\n",
              "      <td>7.047300e+04</td>\n",
              "      <td>500.000000</td>\n",
              "      <td>500.000000</td>\n",
              "      <td>0.000000</td>\n",
              "      <td>5.420000</td>\n",
              "      <td>15.670000</td>\n",
              "      <td>1.896000e+03</td>\n",
              "      <td>0.000000</td>\n",
              "      <td>0.000000</td>\n",
              "      <td>0.000000</td>\n",
              "      <td>0.000000</td>\n",
              "      <td>0.000000</td>\n",
              "      <td>0.000000</td>\n",
              "      <td>0.000000</td>\n",
              "      <td>0.000000e+00</td>\n",
              "      <td>0.000000</td>\n",
              "      <td>1.000000</td>\n",
              "      <td>0.000000</td>\n",
              "      <td>0.000000</td>\n",
              "      <td>0.000000</td>\n",
              "      <td>0.000000</td>\n",
              "      <td>0.000000</td>\n",
              "      <td>0.000000</td>\n",
              "      <td>0.000000</td>\n",
              "      <td>0.000000</td>\n",
              "      <td>0.000000</td>\n",
              "      <td>0.000000</td>\n",
              "      <td>0.000000</td>\n",
              "      <td>0.000000</td>\n",
              "      <td>1.0</td>\n",
              "      <td>0.000000</td>\n",
              "      <td>0.000000e+00</td>\n",
              "      <td>0.000000e+00</td>\n",
              "      <td>0.000000e+00</td>\n",
              "    </tr>\n",
              "    <tr>\n",
              "      <th>25%</th>\n",
              "      <td>3.639987e+06</td>\n",
              "      <td>4.379705e+06</td>\n",
              "      <td>8000.000000</td>\n",
              "      <td>8000.000000</td>\n",
              "      <td>8000.000000</td>\n",
              "      <td>10.990000</td>\n",
              "      <td>256.690000</td>\n",
              "      <td>4.500000e+04</td>\n",
              "      <td>11.360000</td>\n",
              "      <td>0.000000</td>\n",
              "      <td>0.000000</td>\n",
              "      <td>16.000000</td>\n",
              "      <td>53.000000</td>\n",
              "      <td>8.000000</td>\n",
              "      <td>0.000000</td>\n",
              "      <td>6.413000e+03</td>\n",
              "      <td>39.200000</td>\n",
              "      <td>17.000000</td>\n",
              "      <td>0.000000</td>\n",
              "      <td>0.000000</td>\n",
              "      <td>5552.125349</td>\n",
              "      <td>5499.250000</td>\n",
              "      <td>3708.560000</td>\n",
              "      <td>957.280000</td>\n",
              "      <td>0.000000</td>\n",
              "      <td>0.000000</td>\n",
              "      <td>0.000000</td>\n",
              "      <td>312.620000</td>\n",
              "      <td>0.000000</td>\n",
              "      <td>26.000000</td>\n",
              "      <td>1.0</td>\n",
              "      <td>0.000000</td>\n",
              "      <td>0.000000e+00</td>\n",
              "      <td>2.861800e+04</td>\n",
              "      <td>1.350000e+04</td>\n",
              "    </tr>\n",
              "    <tr>\n",
              "      <th>50%</th>\n",
              "      <td>1.010790e+07</td>\n",
              "      <td>1.194108e+07</td>\n",
              "      <td>12000.000000</td>\n",
              "      <td>12000.000000</td>\n",
              "      <td>12000.000000</td>\n",
              "      <td>13.660000</td>\n",
              "      <td>379.890000</td>\n",
              "      <td>6.300000e+04</td>\n",
              "      <td>16.870000</td>\n",
              "      <td>0.000000</td>\n",
              "      <td>0.000000</td>\n",
              "      <td>31.000000</td>\n",
              "      <td>76.000000</td>\n",
              "      <td>10.000000</td>\n",
              "      <td>0.000000</td>\n",
              "      <td>1.176400e+04</td>\n",
              "      <td>57.600000</td>\n",
              "      <td>23.000000</td>\n",
              "      <td>441.470000</td>\n",
              "      <td>441.380000</td>\n",
              "      <td>9419.250943</td>\n",
              "      <td>9355.430000</td>\n",
              "      <td>6817.760000</td>\n",
              "      <td>1818.880000</td>\n",
              "      <td>0.000000</td>\n",
              "      <td>0.000000</td>\n",
              "      <td>0.000000</td>\n",
              "      <td>545.960000</td>\n",
              "      <td>0.000000</td>\n",
              "      <td>42.000000</td>\n",
              "      <td>1.0</td>\n",
              "      <td>0.000000</td>\n",
              "      <td>0.000000e+00</td>\n",
              "      <td>8.153900e+04</td>\n",
              "      <td>2.280000e+04</td>\n",
              "    </tr>\n",
              "    <tr>\n",
              "      <th>75%</th>\n",
              "      <td>2.073121e+07</td>\n",
              "      <td>2.300154e+07</td>\n",
              "      <td>20000.000000</td>\n",
              "      <td>20000.000000</td>\n",
              "      <td>19950.000000</td>\n",
              "      <td>16.490000</td>\n",
              "      <td>566.580000</td>\n",
              "      <td>8.896000e+04</td>\n",
              "      <td>22.780000</td>\n",
              "      <td>0.000000</td>\n",
              "      <td>1.000000</td>\n",
              "      <td>49.000000</td>\n",
              "      <td>102.000000</td>\n",
              "      <td>14.000000</td>\n",
              "      <td>0.000000</td>\n",
              "      <td>2.033300e+04</td>\n",
              "      <td>74.700000</td>\n",
              "      <td>32.000000</td>\n",
              "      <td>7341.650000</td>\n",
              "      <td>7338.390000</td>\n",
              "      <td>15308.158460</td>\n",
              "      <td>15231.310000</td>\n",
              "      <td>12000.000000</td>\n",
              "      <td>3304.530000</td>\n",
              "      <td>0.000000</td>\n",
              "      <td>0.000000</td>\n",
              "      <td>0.000000</td>\n",
              "      <td>3187.510000</td>\n",
              "      <td>0.000000</td>\n",
              "      <td>59.000000</td>\n",
              "      <td>1.0</td>\n",
              "      <td>0.000000</td>\n",
              "      <td>0.000000e+00</td>\n",
              "      <td>2.089530e+05</td>\n",
              "      <td>3.790000e+04</td>\n",
              "    </tr>\n",
              "    <tr>\n",
              "      <th>max</th>\n",
              "      <td>3.809811e+07</td>\n",
              "      <td>4.086083e+07</td>\n",
              "      <td>35000.000000</td>\n",
              "      <td>35000.000000</td>\n",
              "      <td>35000.000000</td>\n",
              "      <td>26.060000</td>\n",
              "      <td>1409.990000</td>\n",
              "      <td>7.500000e+06</td>\n",
              "      <td>39.990000</td>\n",
              "      <td>29.000000</td>\n",
              "      <td>33.000000</td>\n",
              "      <td>188.000000</td>\n",
              "      <td>129.000000</td>\n",
              "      <td>84.000000</td>\n",
              "      <td>63.000000</td>\n",
              "      <td>2.568995e+06</td>\n",
              "      <td>892.300000</td>\n",
              "      <td>156.000000</td>\n",
              "      <td>32160.380000</td>\n",
              "      <td>32160.380000</td>\n",
              "      <td>57777.579870</td>\n",
              "      <td>57777.580000</td>\n",
              "      <td>35000.030000</td>\n",
              "      <td>24205.620000</td>\n",
              "      <td>358.680000</td>\n",
              "      <td>33520.270000</td>\n",
              "      <td>7002.190000</td>\n",
              "      <td>36234.440000</td>\n",
              "      <td>20.000000</td>\n",
              "      <td>188.000000</td>\n",
              "      <td>1.0</td>\n",
              "      <td>5.000000</td>\n",
              "      <td>9.152545e+06</td>\n",
              "      <td>8.000078e+06</td>\n",
              "      <td>9.999999e+06</td>\n",
              "    </tr>\n",
              "  </tbody>\n",
              "</table>\n",
              "</div>\n",
              "      <button class=\"colab-df-convert\" onclick=\"convertToInteractive('df-20eb7d82-6ab9-484f-8498-7194d2677a03')\"\n",
              "              title=\"Convert this dataframe to an interactive table.\"\n",
              "              style=\"display:none;\">\n",
              "        \n",
              "  <svg xmlns=\"http://www.w3.org/2000/svg\" height=\"24px\"viewBox=\"0 0 24 24\"\n",
              "       width=\"24px\">\n",
              "    <path d=\"M0 0h24v24H0V0z\" fill=\"none\"/>\n",
              "    <path d=\"M18.56 5.44l.94 2.06.94-2.06 2.06-.94-2.06-.94-.94-2.06-.94 2.06-2.06.94zm-11 1L8.5 8.5l.94-2.06 2.06-.94-2.06-.94L8.5 2.5l-.94 2.06-2.06.94zm10 10l.94 2.06.94-2.06 2.06-.94-2.06-.94-.94-2.06-.94 2.06-2.06.94z\"/><path d=\"M17.41 7.96l-1.37-1.37c-.4-.4-.92-.59-1.43-.59-.52 0-1.04.2-1.43.59L10.3 9.45l-7.72 7.72c-.78.78-.78 2.05 0 2.83L4 21.41c.39.39.9.59 1.41.59.51 0 1.02-.2 1.41-.59l7.78-7.78 2.81-2.81c.8-.78.8-2.07 0-2.86zM5.41 20L4 18.59l7.72-7.72 1.47 1.35L5.41 20z\"/>\n",
              "  </svg>\n",
              "      </button>\n",
              "      \n",
              "  <style>\n",
              "    .colab-df-container {\n",
              "      display:flex;\n",
              "      flex-wrap:wrap;\n",
              "      gap: 12px;\n",
              "    }\n",
              "\n",
              "    .colab-df-convert {\n",
              "      background-color: #E8F0FE;\n",
              "      border: none;\n",
              "      border-radius: 50%;\n",
              "      cursor: pointer;\n",
              "      display: none;\n",
              "      fill: #1967D2;\n",
              "      height: 32px;\n",
              "      padding: 0 0 0 0;\n",
              "      width: 32px;\n",
              "    }\n",
              "\n",
              "    .colab-df-convert:hover {\n",
              "      background-color: #E2EBFA;\n",
              "      box-shadow: 0px 1px 2px rgba(60, 64, 67, 0.3), 0px 1px 3px 1px rgba(60, 64, 67, 0.15);\n",
              "      fill: #174EA6;\n",
              "    }\n",
              "\n",
              "    [theme=dark] .colab-df-convert {\n",
              "      background-color: #3B4455;\n",
              "      fill: #D2E3FC;\n",
              "    }\n",
              "\n",
              "    [theme=dark] .colab-df-convert:hover {\n",
              "      background-color: #434B5C;\n",
              "      box-shadow: 0px 1px 3px 1px rgba(0, 0, 0, 0.15);\n",
              "      filter: drop-shadow(0px 1px 2px rgba(0, 0, 0, 0.3));\n",
              "      fill: #FFFFFF;\n",
              "    }\n",
              "  </style>\n",
              "\n",
              "      <script>\n",
              "        const buttonEl =\n",
              "          document.querySelector('#df-20eb7d82-6ab9-484f-8498-7194d2677a03 button.colab-df-convert');\n",
              "        buttonEl.style.display =\n",
              "          google.colab.kernel.accessAllowed ? 'block' : 'none';\n",
              "\n",
              "        async function convertToInteractive(key) {\n",
              "          const element = document.querySelector('#df-20eb7d82-6ab9-484f-8498-7194d2677a03');\n",
              "          const dataTable =\n",
              "            await google.colab.kernel.invokeFunction('convertToInteractive',\n",
              "                                                     [key], {});\n",
              "          if (!dataTable) return;\n",
              "\n",
              "          const docLinkHtml = 'Like what you see? Visit the ' +\n",
              "            '<a target=\"_blank\" href=https://colab.research.google.com/notebooks/data_table.ipynb>data table notebook</a>'\n",
              "            + ' to learn more about interactive tables.';\n",
              "          element.innerHTML = '';\n",
              "          dataTable['output_type'] = 'display_data';\n",
              "          await google.colab.output.renderOutput(dataTable, element);\n",
              "          const docLink = document.createElement('div');\n",
              "          docLink.innerHTML = docLinkHtml;\n",
              "          element.appendChild(docLink);\n",
              "        }\n",
              "      </script>\n",
              "    </div>\n",
              "  </div>\n",
              "  "
            ]
          },
          "metadata": {},
          "execution_count": 7
        }
      ]
    },
    {
      "cell_type": "code",
      "source": [
        "raw_loan.describe(include='object')"
      ],
      "metadata": {
        "colab": {
          "base_uri": "https://localhost:8080/",
          "height": 256
        },
        "id": "OtacucmIuKhr",
        "outputId": "bde3e8a4-916e-48e8-b1b9-a74912b60e1d"
      },
      "execution_count": 8,
      "outputs": [
        {
          "output_type": "execute_result",
          "data": {
            "text/plain": [
              "              term   grade sub_grade emp_title emp_length home_ownership  \\\n",
              "count       466285  466285    466285    438697     445277         466285   \n",
              "unique           2       7        35    205475         11              6   \n",
              "top      36 months       B        B3   Teacher  10+ years       MORTGAGE   \n",
              "freq        337953  136929     31686      5399     150049         235875   \n",
              "\n",
              "       verification_status issue_d loan_status pymnt_plan  \\\n",
              "count               466285  466285      466285     466285   \n",
              "unique                   3      91           9          2   \n",
              "top               Verified  Oct-14     Current          n   \n",
              "freq                168055   38782      224226     466276   \n",
              "\n",
              "                                                      url    desc  \\\n",
              "count                                              466285  125983   \n",
              "unique                                             466285  124436   \n",
              "top     https://www.lendingclub.com/browse/loanDetail....           \n",
              "freq                                                    1     234   \n",
              "\n",
              "                   purpose               title zip_code addr_state  \\\n",
              "count               466285              466265   466285     466285   \n",
              "unique                  14               63099      888         50   \n",
              "top     debt_consolidation  Debt consolidation    945xx         CA   \n",
              "freq                274195              164075     5304      71450   \n",
              "\n",
              "       earliest_cr_line initial_list_status last_pymnt_d next_pymnt_d  \\\n",
              "count            466256              466285       465909       239071   \n",
              "unique              664                   2           98          100   \n",
              "top              Oct-00                   f       Jan-16       Feb-16   \n",
              "freq               3674              303005       179620       208393   \n",
              "\n",
              "       last_credit_pull_d application_type  \n",
              "count              466243           466285  \n",
              "unique                103                1  \n",
              "top                Jan-16       INDIVIDUAL  \n",
              "freq               327699           466285  "
            ],
            "text/html": [
              "\n",
              "  <div id=\"df-2dacc692-8aae-42f9-b119-1e04ca0a577d\">\n",
              "    <div class=\"colab-df-container\">\n",
              "      <div>\n",
              "<style scoped>\n",
              "    .dataframe tbody tr th:only-of-type {\n",
              "        vertical-align: middle;\n",
              "    }\n",
              "\n",
              "    .dataframe tbody tr th {\n",
              "        vertical-align: top;\n",
              "    }\n",
              "\n",
              "    .dataframe thead th {\n",
              "        text-align: right;\n",
              "    }\n",
              "</style>\n",
              "<table border=\"1\" class=\"dataframe\">\n",
              "  <thead>\n",
              "    <tr style=\"text-align: right;\">\n",
              "      <th></th>\n",
              "      <th>term</th>\n",
              "      <th>grade</th>\n",
              "      <th>sub_grade</th>\n",
              "      <th>emp_title</th>\n",
              "      <th>emp_length</th>\n",
              "      <th>home_ownership</th>\n",
              "      <th>verification_status</th>\n",
              "      <th>issue_d</th>\n",
              "      <th>loan_status</th>\n",
              "      <th>pymnt_plan</th>\n",
              "      <th>url</th>\n",
              "      <th>desc</th>\n",
              "      <th>purpose</th>\n",
              "      <th>title</th>\n",
              "      <th>zip_code</th>\n",
              "      <th>addr_state</th>\n",
              "      <th>earliest_cr_line</th>\n",
              "      <th>initial_list_status</th>\n",
              "      <th>last_pymnt_d</th>\n",
              "      <th>next_pymnt_d</th>\n",
              "      <th>last_credit_pull_d</th>\n",
              "      <th>application_type</th>\n",
              "    </tr>\n",
              "  </thead>\n",
              "  <tbody>\n",
              "    <tr>\n",
              "      <th>count</th>\n",
              "      <td>466285</td>\n",
              "      <td>466285</td>\n",
              "      <td>466285</td>\n",
              "      <td>438697</td>\n",
              "      <td>445277</td>\n",
              "      <td>466285</td>\n",
              "      <td>466285</td>\n",
              "      <td>466285</td>\n",
              "      <td>466285</td>\n",
              "      <td>466285</td>\n",
              "      <td>466285</td>\n",
              "      <td>125983</td>\n",
              "      <td>466285</td>\n",
              "      <td>466265</td>\n",
              "      <td>466285</td>\n",
              "      <td>466285</td>\n",
              "      <td>466256</td>\n",
              "      <td>466285</td>\n",
              "      <td>465909</td>\n",
              "      <td>239071</td>\n",
              "      <td>466243</td>\n",
              "      <td>466285</td>\n",
              "    </tr>\n",
              "    <tr>\n",
              "      <th>unique</th>\n",
              "      <td>2</td>\n",
              "      <td>7</td>\n",
              "      <td>35</td>\n",
              "      <td>205475</td>\n",
              "      <td>11</td>\n",
              "      <td>6</td>\n",
              "      <td>3</td>\n",
              "      <td>91</td>\n",
              "      <td>9</td>\n",
              "      <td>2</td>\n",
              "      <td>466285</td>\n",
              "      <td>124436</td>\n",
              "      <td>14</td>\n",
              "      <td>63099</td>\n",
              "      <td>888</td>\n",
              "      <td>50</td>\n",
              "      <td>664</td>\n",
              "      <td>2</td>\n",
              "      <td>98</td>\n",
              "      <td>100</td>\n",
              "      <td>103</td>\n",
              "      <td>1</td>\n",
              "    </tr>\n",
              "    <tr>\n",
              "      <th>top</th>\n",
              "      <td>36 months</td>\n",
              "      <td>B</td>\n",
              "      <td>B3</td>\n",
              "      <td>Teacher</td>\n",
              "      <td>10+ years</td>\n",
              "      <td>MORTGAGE</td>\n",
              "      <td>Verified</td>\n",
              "      <td>Oct-14</td>\n",
              "      <td>Current</td>\n",
              "      <td>n</td>\n",
              "      <td>https://www.lendingclub.com/browse/loanDetail....</td>\n",
              "      <td></td>\n",
              "      <td>debt_consolidation</td>\n",
              "      <td>Debt consolidation</td>\n",
              "      <td>945xx</td>\n",
              "      <td>CA</td>\n",
              "      <td>Oct-00</td>\n",
              "      <td>f</td>\n",
              "      <td>Jan-16</td>\n",
              "      <td>Feb-16</td>\n",
              "      <td>Jan-16</td>\n",
              "      <td>INDIVIDUAL</td>\n",
              "    </tr>\n",
              "    <tr>\n",
              "      <th>freq</th>\n",
              "      <td>337953</td>\n",
              "      <td>136929</td>\n",
              "      <td>31686</td>\n",
              "      <td>5399</td>\n",
              "      <td>150049</td>\n",
              "      <td>235875</td>\n",
              "      <td>168055</td>\n",
              "      <td>38782</td>\n",
              "      <td>224226</td>\n",
              "      <td>466276</td>\n",
              "      <td>1</td>\n",
              "      <td>234</td>\n",
              "      <td>274195</td>\n",
              "      <td>164075</td>\n",
              "      <td>5304</td>\n",
              "      <td>71450</td>\n",
              "      <td>3674</td>\n",
              "      <td>303005</td>\n",
              "      <td>179620</td>\n",
              "      <td>208393</td>\n",
              "      <td>327699</td>\n",
              "      <td>466285</td>\n",
              "    </tr>\n",
              "  </tbody>\n",
              "</table>\n",
              "</div>\n",
              "      <button class=\"colab-df-convert\" onclick=\"convertToInteractive('df-2dacc692-8aae-42f9-b119-1e04ca0a577d')\"\n",
              "              title=\"Convert this dataframe to an interactive table.\"\n",
              "              style=\"display:none;\">\n",
              "        \n",
              "  <svg xmlns=\"http://www.w3.org/2000/svg\" height=\"24px\"viewBox=\"0 0 24 24\"\n",
              "       width=\"24px\">\n",
              "    <path d=\"M0 0h24v24H0V0z\" fill=\"none\"/>\n",
              "    <path d=\"M18.56 5.44l.94 2.06.94-2.06 2.06-.94-2.06-.94-.94-2.06-.94 2.06-2.06.94zm-11 1L8.5 8.5l.94-2.06 2.06-.94-2.06-.94L8.5 2.5l-.94 2.06-2.06.94zm10 10l.94 2.06.94-2.06 2.06-.94-2.06-.94-.94-2.06-.94 2.06-2.06.94z\"/><path d=\"M17.41 7.96l-1.37-1.37c-.4-.4-.92-.59-1.43-.59-.52 0-1.04.2-1.43.59L10.3 9.45l-7.72 7.72c-.78.78-.78 2.05 0 2.83L4 21.41c.39.39.9.59 1.41.59.51 0 1.02-.2 1.41-.59l7.78-7.78 2.81-2.81c.8-.78.8-2.07 0-2.86zM5.41 20L4 18.59l7.72-7.72 1.47 1.35L5.41 20z\"/>\n",
              "  </svg>\n",
              "      </button>\n",
              "      \n",
              "  <style>\n",
              "    .colab-df-container {\n",
              "      display:flex;\n",
              "      flex-wrap:wrap;\n",
              "      gap: 12px;\n",
              "    }\n",
              "\n",
              "    .colab-df-convert {\n",
              "      background-color: #E8F0FE;\n",
              "      border: none;\n",
              "      border-radius: 50%;\n",
              "      cursor: pointer;\n",
              "      display: none;\n",
              "      fill: #1967D2;\n",
              "      height: 32px;\n",
              "      padding: 0 0 0 0;\n",
              "      width: 32px;\n",
              "    }\n",
              "\n",
              "    .colab-df-convert:hover {\n",
              "      background-color: #E2EBFA;\n",
              "      box-shadow: 0px 1px 2px rgba(60, 64, 67, 0.3), 0px 1px 3px 1px rgba(60, 64, 67, 0.15);\n",
              "      fill: #174EA6;\n",
              "    }\n",
              "\n",
              "    [theme=dark] .colab-df-convert {\n",
              "      background-color: #3B4455;\n",
              "      fill: #D2E3FC;\n",
              "    }\n",
              "\n",
              "    [theme=dark] .colab-df-convert:hover {\n",
              "      background-color: #434B5C;\n",
              "      box-shadow: 0px 1px 3px 1px rgba(0, 0, 0, 0.15);\n",
              "      filter: drop-shadow(0px 1px 2px rgba(0, 0, 0, 0.3));\n",
              "      fill: #FFFFFF;\n",
              "    }\n",
              "  </style>\n",
              "\n",
              "      <script>\n",
              "        const buttonEl =\n",
              "          document.querySelector('#df-2dacc692-8aae-42f9-b119-1e04ca0a577d button.colab-df-convert');\n",
              "        buttonEl.style.display =\n",
              "          google.colab.kernel.accessAllowed ? 'block' : 'none';\n",
              "\n",
              "        async function convertToInteractive(key) {\n",
              "          const element = document.querySelector('#df-2dacc692-8aae-42f9-b119-1e04ca0a577d');\n",
              "          const dataTable =\n",
              "            await google.colab.kernel.invokeFunction('convertToInteractive',\n",
              "                                                     [key], {});\n",
              "          if (!dataTable) return;\n",
              "\n",
              "          const docLinkHtml = 'Like what you see? Visit the ' +\n",
              "            '<a target=\"_blank\" href=https://colab.research.google.com/notebooks/data_table.ipynb>data table notebook</a>'\n",
              "            + ' to learn more about interactive tables.';\n",
              "          element.innerHTML = '';\n",
              "          dataTable['output_type'] = 'display_data';\n",
              "          await google.colab.output.renderOutput(dataTable, element);\n",
              "          const docLink = document.createElement('div');\n",
              "          docLink.innerHTML = docLinkHtml;\n",
              "          element.appendChild(docLink);\n",
              "        }\n",
              "      </script>\n",
              "    </div>\n",
              "  </div>\n",
              "  "
            ]
          },
          "metadata": {},
          "execution_count": 8
        }
      ]
    },
    {
      "cell_type": "markdown",
      "source": [
        "## Menetukan Target\n",
        "\n",
        "Pada umunnya, target merupakan variabel yang dikehendaki untuk menyelesaikan masalah.\n",
        "Pada kasus saat ini, hendak memprediksi risiko kredit. Risiko kredit adalah suatu risiko akibat kegagalan debitur untuk memenuhi kewajiban membayar kredit pada saat jatuh tempo. Berdasarkan pengertian tersebut, varibel yang dijadikan target adalah loan_status. loan_status merupakan varibel/fitur yang mengidentifikasi bagaimana debitur dalam memenuhi kewajibannya.\n"
      ],
      "metadata": {
        "id": "YYCbcXU7uXdT"
      }
    },
    {
      "cell_type": "code",
      "source": [
        "raw_loan.loan_status.value_counts()"
      ],
      "metadata": {
        "colab": {
          "base_uri": "https://localhost:8080/"
        },
        "id": "5EG6Y1q_jyG-",
        "outputId": "a9448bb4-b1ff-4669-8513-c574af889bba"
      },
      "execution_count": 9,
      "outputs": [
        {
          "output_type": "execute_result",
          "data": {
            "text/plain": [
              "Current                                                224226\n",
              "Fully Paid                                             184739\n",
              "Charged Off                                             42475\n",
              "Late (31-120 days)                                       6900\n",
              "In Grace Period                                          3146\n",
              "Does not meet the credit policy. Status:Fully Paid       1988\n",
              "Late (16-30 days)                                        1218\n",
              "Default                                                   832\n",
              "Does not meet the credit policy. Status:Charged Off       761\n",
              "Name: loan_status, dtype: int64"
            ]
          },
          "metadata": {},
          "execution_count": 9
        }
      ]
    },
    {
      "cell_type": "markdown",
      "source": [
        "Dapat dilihat nilai loan_status berupa:\n",
        "- _Current_ : lancar\n",
        "- _Fully Paid_ : lunas\n",
        "- _Charged Off_ : denda\n",
        "- _In Grace Period_ : dalam waktu tenggang\n",
        "- _Default_ : tidak lancar\n",
        "\n",
        "Untuk mempermudah dalam pemodelan akan dibuat dua kriteria, yaitu `risk` bernilai 1 untuk loan_status yang jelek dan 0 untuk yang baik."
      ],
      "metadata": {
        "id": "uo8Pu_ZwkMoU"
      }
    },
    {
      "cell_type": "code",
      "source": [
        "is_good = ['Current', 'Fully Paid', 'In Grace Period', 'Late (16-30 days)']\n",
        "raw_loan['risk'] = 1\n",
        "raw_loan.loc[raw_loan.loan_status.isin(is_good), 'risk'] = 0"
      ],
      "metadata": {
        "id": "4nEDOVVXlVo8"
      },
      "execution_count": 10,
      "outputs": []
    },
    {
      "cell_type": "code",
      "source": [
        "raw_loan.groupby('loan_status')['risk'].mean()"
      ],
      "metadata": {
        "colab": {
          "base_uri": "https://localhost:8080/"
        },
        "id": "6IzBWcfSl6gE",
        "outputId": "0dd3eba8-77b9-4771-c0e2-f2bbb0f908a0"
      },
      "execution_count": 11,
      "outputs": [
        {
          "output_type": "execute_result",
          "data": {
            "text/plain": [
              "loan_status\n",
              "Charged Off                                            1.0\n",
              "Current                                                0.0\n",
              "Default                                                1.0\n",
              "Does not meet the credit policy. Status:Charged Off    1.0\n",
              "Does not meet the credit policy. Status:Fully Paid     1.0\n",
              "Fully Paid                                             0.0\n",
              "In Grace Period                                        0.0\n",
              "Late (16-30 days)                                      0.0\n",
              "Late (31-120 days)                                     1.0\n",
              "Name: risk, dtype: float64"
            ]
          },
          "metadata": {},
          "execution_count": 11
        }
      ]
    },
    {
      "cell_type": "markdown",
      "source": [
        "## Indentifikasi Data Duplikat"
      ],
      "metadata": {
        "id": "0rSKfkXWvSzt"
      }
    },
    {
      "cell_type": "code",
      "source": [
        "id_nuniq=raw_loan['id'].nunique()\n",
        "print(f'Terdapat {id_nuniq} data dari {len(raw_loan.id)} data di kolom id')"
      ],
      "metadata": {
        "colab": {
          "base_uri": "https://localhost:8080/"
        },
        "id": "FdArl2YZvWj-",
        "outputId": "5a672d9c-5af9-4fb1-f78f-1c0b118b0961"
      },
      "execution_count": 12,
      "outputs": [
        {
          "output_type": "stream",
          "name": "stdout",
          "text": [
            "Terdapat 466285 data dari 466285 data di kolom id\n"
          ]
        }
      ]
    },
    {
      "cell_type": "code",
      "source": [
        "mem_nuniq=raw_loan['member_id'].nunique()\n",
        "print(f'Terdapat {mem_nuniq} data dari {len(raw_loan.member_id)} data di kolom id')"
      ],
      "metadata": {
        "colab": {
          "base_uri": "https://localhost:8080/"
        },
        "id": "Sxw9FgBKvlEM",
        "outputId": "9b6b782d-b3d0-488c-82d5-f55bbb2dd537"
      },
      "execution_count": 13,
      "outputs": [
        {
          "output_type": "stream",
          "name": "stdout",
          "text": [
            "Terdapat 466285 data dari 466285 data di kolom id\n"
          ]
        }
      ]
    },
    {
      "cell_type": "markdown",
      "source": [
        "Terlihat tidak ada data duplikat di dalam dataframe."
      ],
      "metadata": {
        "id": "iJ_tHRKHvwtQ"
      }
    },
    {
      "cell_type": "markdown",
      "source": [
        "# Data Preprocessing\n"
      ],
      "metadata": {
        "id": "vV1CDEaRxfz1"
      }
    },
    {
      "cell_type": "markdown",
      "source": [
        "## Menghilangkan Kolom yang Tidak Relevan\n",
        "Kolom yang dihilangkan berupa data yang unik dan bernilai sama semua.\n",
        "Berikut ini daftar kolom-kolom dengan data yang unik\n",
        "- `id`\n",
        "- `member_id`\n",
        "- `emp_title`\n",
        "- `url`\n",
        "- `desc`\n",
        "- `title`\n",
        "- `zip_code`\n",
        "- `addr_state`\n",
        "\n",
        "Berikut ini daftar kolom-kolom dengan data bernilai sama\n",
        "- `pymnt_plan`\n",
        "- `policy_code`\n",
        "- `application_type`\n",
        "\n",
        "Terdapat pula kolom `sub_grade` yang merupakan percabangan atau klasifikasi lebih sepefik dari `grade`. Kolom `sub_grade` juga dapat dihilangkan kerena sudah terwakili oleh `grade`."
      ],
      "metadata": {
        "id": "gqyR-yiO1PUT"
      }
    },
    {
      "cell_type": "code",
      "source": [
        "raw_loan = raw_loan.drop(['id', 'member_id', 'sub_grade', 'emp_title', 'url', 'desc', 'title', 'zip_code', 'addr_state',\n",
        "                           'pymnt_plan', 'policy_code', 'application_type',\n",
        "                           'sub_grade'], axis=1)\n",
        "raw_loan.shape"
      ],
      "metadata": {
        "colab": {
          "base_uri": "https://localhost:8080/"
        },
        "id": "DQ_9l32Xx28j",
        "outputId": "d17e6afc-2136-42c6-9c78-5a5bf468730d"
      },
      "execution_count": 14,
      "outputs": [
        {
          "output_type": "execute_result",
          "data": {
            "text/plain": [
              "(466285, 46)"
            ]
          },
          "metadata": {},
          "execution_count": 14
        }
      ]
    },
    {
      "cell_type": "markdown",
      "source": [
        "## Menangani Missing Data dan Outlier"
      ],
      "metadata": {
        "id": "nur37fThydnB"
      }
    },
    {
      "cell_type": "code",
      "source": [
        "raw_loan.isna().sum()"
      ],
      "metadata": {
        "colab": {
          "base_uri": "https://localhost:8080/"
        },
        "id": "j_Tj-Q_I1h3L",
        "outputId": "901d4f99-4218-4e3a-ae88-a5157fdf0a7b"
      },
      "execution_count": 15,
      "outputs": [
        {
          "output_type": "execute_result",
          "data": {
            "text/plain": [
              "loan_amnt                           0\n",
              "funded_amnt                         0\n",
              "funded_amnt_inv                     0\n",
              "term                                0\n",
              "int_rate                            0\n",
              "installment                         0\n",
              "grade                               0\n",
              "emp_length                      21008\n",
              "home_ownership                      0\n",
              "annual_inc                          4\n",
              "verification_status                 0\n",
              "issue_d                             0\n",
              "loan_status                         0\n",
              "purpose                             0\n",
              "dti                                 0\n",
              "delinq_2yrs                        29\n",
              "earliest_cr_line                   29\n",
              "inq_last_6mths                     29\n",
              "mths_since_last_delinq         250351\n",
              "mths_since_last_record         403647\n",
              "open_acc                           29\n",
              "pub_rec                            29\n",
              "revol_bal                           0\n",
              "revol_util                        340\n",
              "total_acc                          29\n",
              "initial_list_status                 0\n",
              "out_prncp                           0\n",
              "out_prncp_inv                       0\n",
              "total_pymnt                         0\n",
              "total_pymnt_inv                     0\n",
              "total_rec_prncp                     0\n",
              "total_rec_int                       0\n",
              "total_rec_late_fee                  0\n",
              "recoveries                          0\n",
              "collection_recovery_fee             0\n",
              "last_pymnt_d                      376\n",
              "last_pymnt_amnt                     0\n",
              "next_pymnt_d                   227214\n",
              "last_credit_pull_d                 42\n",
              "collections_12_mths_ex_med        145\n",
              "mths_since_last_major_derog    367311\n",
              "acc_now_delinq                     29\n",
              "tot_coll_amt                    70276\n",
              "tot_cur_bal                     70276\n",
              "total_rev_hi_lim                70276\n",
              "risk                                0\n",
              "dtype: int64"
            ]
          },
          "metadata": {},
          "execution_count": 15
        }
      ]
    },
    {
      "cell_type": "markdown",
      "source": [
        "Terdapat 7 kolom yang memiliki jumlah data null yang sama. Ketujuh kolom tersebut adalah:\n",
        "1. `delinq_2yrs`\n",
        "2. `earliest_cr_line`\n",
        "3. `inq_last_6mths`\n",
        "4. `open_acc`\n",
        "5. `pub_rec`\n",
        "6. `total_acc`\n",
        "7. `acc_now_delinq`\n",
        "\n",
        "Terdapat kemungkinan ketujuh kolom tersebut terletak pada 29 data yang sama."
      ],
      "metadata": {
        "id": "9T0k_cr91-HM"
      }
    },
    {
      "cell_type": "code",
      "source": [
        "len(raw_loan.loc[(raw_loan.delinq_2yrs.isna()) &\n",
        "            (raw_loan.earliest_cr_line.isna()) &\n",
        "            (raw_loan.inq_last_6mths.isna()) &\n",
        "            (raw_loan.open_acc.isna()) &\n",
        "            (raw_loan.pub_rec.isna()) &\n",
        "            (raw_loan.total_acc.isna()) &\n",
        "            (raw_loan.acc_now_delinq.isna())\n",
        "           ])"
      ],
      "metadata": {
        "colab": {
          "base_uri": "https://localhost:8080/"
        },
        "id": "y08TqPU41oZa",
        "outputId": "8a9b7578-6404-4ccc-ce31-9af4e30265e5"
      },
      "execution_count": 16,
      "outputs": [
        {
          "output_type": "execute_result",
          "data": {
            "text/plain": [
              "29"
            ]
          },
          "metadata": {},
          "execution_count": 16
        }
      ]
    },
    {
      "cell_type": "markdown",
      "source": [
        "Terdapat 29 data yang memiliki nilai null di 7 kolom. Hal ini mengindikasikan terdapat hubungan antara ketujuh fitur tersebut. Kemungkinan besar 29 member tersebut belum pernah mengajukan kredit pada perusahaan tersebut (data nul pada ```earliest_cr_line```), sehingga belum pernah ada catatan _delinquency_ dan _inquiry_."
      ],
      "metadata": {
        "id": "rfHJ3K1F2OAM"
      }
    },
    {
      "cell_type": "code",
      "source": [
        "raw_loan.delinq_2yrs.fillna(0, inplace=True) \n",
        "# data null karena member tidak ada catatan 'delinquency'\n",
        "\n",
        "raw_loan.inq_last_6mths.fillna(0, inplace=True)\n",
        "# data null karena member tidak ada catatan 'inquiry'\n",
        "\n",
        "raw_loan.open_acc.fillna(0, inplace=True)\n",
        "# data null kemungkinan besar member tidak memiliki open credit line\n",
        "\n",
        "raw_loan.pub_rec.fillna(0, inplace=True)\n",
        "# data null kemungkinan besar member tidak memiliki public record\n",
        "\n",
        "raw_loan.total_acc.fillna(0, inplace=True)\n",
        "# data null kemungkinan besar member tidak memiliki credit line\n",
        "\n",
        "raw_loan.acc_now_delinq.fillna(0, inplace=True)\n",
        "# data null karena member tidak ada catatan 'delinquency'"
      ],
      "metadata": {
        "id": "djB8lj_x2PYT"
      },
      "execution_count": 17,
      "outputs": []
    },
    {
      "cell_type": "markdown",
      "source": [
        "Data dalam kolom `earliest_cr_line` berupa str dalam format date `%b-%y`. Format `%b` berati nama singkatan bulan (misalnya: Jan) dan format `%y` adalah dua digit terakhir dari tahun (misalnya: 19). Dibuat rekayasa fitur `mnths_after_earliest_cr` yang menandakan berapa bulan setelah kredit pertama. Untuk tanggal reverensinya dapat dilihat dari `last_pymnt_d` dan `next_pymnt_d` pada loan_status = _Current_."
      ],
      "metadata": {
        "id": "5EqWciK54YII"
      }
    },
    {
      "cell_type": "code",
      "source": [
        "raw_loan[['last_pymnt_d', 'next_pymnt_d']].loc[raw_loan.loan_status == 'Current'].value_counts()"
      ],
      "metadata": {
        "colab": {
          "base_uri": "https://localhost:8080/"
        },
        "id": "GnI_PwtVN8Aq",
        "outputId": "671b4f54-1376-49ce-d357-79227ee6346e"
      },
      "execution_count": 18,
      "outputs": [
        {
          "output_type": "execute_result",
          "data": {
            "text/plain": [
              "last_pymnt_d  next_pymnt_d\n",
              "Jan-16        Feb-16          158973\n",
              "Dec-15        Feb-16           38532\n",
              "Jan-16        Jan-16           15672\n",
              "Dec-15        Jan-16           11032\n",
              "Jan-16        Mar-16               9\n",
              "Dec-15        Mar-16               8\n",
              "dtype: int64"
            ]
          },
          "metadata": {},
          "execution_count": 18
        }
      ]
    },
    {
      "cell_type": "markdown",
      "source": [
        "Berdasarkan data tersebut, terlihat terdapat sejumlah data `last_paymnt_d` pada Januari 2016 dan `next_pymnt_d` pada Februari 2016. Namun, ada pula sejumlah data dengan `next_pymnt_d` pada Januari 2016. Jadi kemungkinan besar tanggal referensi pada dataframe tersebut sekitar pertengahan bulan Januari. Di sini akan digunakan tanggal refenrensinya yaitu 16 Januari 2016."
      ],
      "metadata": {
        "id": "ITbD8JWoP63M"
      }
    },
    {
      "cell_type": "code",
      "source": [
        "# Memodifikasi kolom earliest_cr_line\n",
        "raw_loan['earliest_cr_line_date'] = pd.to_datetime(raw_loan['earliest_cr_line'], format='%b-%y')"
      ],
      "metadata": {
        "id": "du_MWx-_4Cgj"
      },
      "execution_count": 19,
      "outputs": []
    },
    {
      "cell_type": "code",
      "source": [
        "raw_loan['earliest_cr_line_date'].sample(5)"
      ],
      "metadata": {
        "colab": {
          "base_uri": "https://localhost:8080/"
        },
        "id": "IpMKNN688JSN",
        "outputId": "ae022854-8a8c-49cb-8309-b70fcd351dc6"
      },
      "execution_count": 20,
      "outputs": [
        {
          "output_type": "execute_result",
          "data": {
            "text/plain": [
              "112735   1990-05-01\n",
              "244400   2002-08-01\n",
              "144343   2000-10-01\n",
              "317425   1999-11-01\n",
              "342689   2002-04-01\n",
              "Name: earliest_cr_line_date, dtype: datetime64[ns]"
            ]
          },
          "metadata": {},
          "execution_count": 20
        }
      ]
    },
    {
      "cell_type": "code",
      "source": [
        "raw_loan['mnths_after_earliest_cr'] = np.floor(pd.to_numeric((pd.to_datetime('2016-01-16') - raw_loan['earliest_cr_line_date']) / np.timedelta64(1, 'M')))"
      ],
      "metadata": {
        "id": "iaM_J-ZZ8hSF"
      },
      "execution_count": 21,
      "outputs": []
    },
    {
      "cell_type": "code",
      "source": [
        "raw_loan['mnths_after_earliest_cr'].describe()"
      ],
      "metadata": {
        "colab": {
          "base_uri": "https://localhost:8080/"
        },
        "id": "OSPuaoM89_ek",
        "outputId": "f1ab42ac-6bda-4448-91ff-ee7f4c2cc745"
      },
      "execution_count": 22,
      "outputs": [
        {
          "output_type": "execute_result",
          "data": {
            "text/plain": [
              "count    466256.000000\n",
              "mean        216.482430\n",
              "std          93.974829\n",
              "min        -635.000000\n",
              "25%         160.000000\n",
              "50%         202.000000\n",
              "75%         262.000000\n",
              "max         564.000000\n",
              "Name: mnths_after_earliest_cr, dtype: float64"
            ]
          },
          "metadata": {},
          "execution_count": 22
        }
      ]
    },
    {
      "cell_type": "markdown",
      "source": [
        "Terdapat anomali dalam data rekayasa fitur `mnths_after_earliest_cr`, yaitu nilai negatif pada nilai minimumnya."
      ],
      "metadata": {
        "id": "TE5koRrQAQKU"
      }
    },
    {
      "cell_type": "code",
      "source": [
        "raw_loan['earliest_cr_line_date'].loc[raw_loan.earliest_cr_line_date >= '2016-01-16']"
      ],
      "metadata": {
        "colab": {
          "base_uri": "https://localhost:8080/"
        },
        "id": "JRs7GKa-AEId",
        "outputId": "3444bcd7-c6e8-40f4-beb3-8bd9b6039caa"
      },
      "execution_count": 23,
      "outputs": [
        {
          "output_type": "execute_result",
          "data": {
            "text/plain": [
              "1580     2062-09-01\n",
              "1770     2068-09-01\n",
              "2799     2064-09-01\n",
              "3282     2067-09-01\n",
              "3359     2065-02-01\n",
              "            ...    \n",
              "464003   2068-01-01\n",
              "464260   2066-07-01\n",
              "465100   2067-10-01\n",
              "465500   2067-09-01\n",
              "465655   2056-01-01\n",
              "Name: earliest_cr_line_date, Length: 1169, dtype: datetime64[ns]"
            ]
          },
          "metadata": {},
          "execution_count": 23
        }
      ]
    },
    {
      "cell_type": "markdown",
      "source": [
        "Ternyata terjadi kesalahan dalam mengkonversi str menjadi date. Tahun-tahun yang harusnya pada abad ke-20 menjadi abad ke-21."
      ],
      "metadata": {
        "id": "c4Y-tijYAxqe"
      }
    },
    {
      "cell_type": "code",
      "source": [
        "raw_loan['earliest_cr_line_date'] = np.where(raw_loan['earliest_cr_line_date'].dt.year > 2016, \n",
        "                                             raw_loan['earliest_cr_line_date'] - pd.offsets.DateOffset(years=100), raw_loan['earliest_cr_line_date'])"
      ],
      "metadata": {
        "id": "TdGnheiyBpNF"
      },
      "execution_count": 24,
      "outputs": []
    },
    {
      "cell_type": "code",
      "source": [
        "raw_loan['mnths_after_earliest_cr'] = np.floor(pd.to_numeric((pd.to_datetime('2016-01-16') - raw_loan['earliest_cr_line_date']) / np.timedelta64(1, 'M')))"
      ],
      "metadata": {
        "id": "UvBkD5kCFIYQ"
      },
      "execution_count": 25,
      "outputs": []
    },
    {
      "cell_type": "code",
      "source": [
        "raw_loan['mnths_after_earliest_cr'].describe()"
      ],
      "metadata": {
        "colab": {
          "base_uri": "https://localhost:8080/"
        },
        "id": "_zwz91sUAuOx",
        "outputId": "ea6141dd-eb68-4504-8569-1fea34c9d261"
      },
      "execution_count": 26,
      "outputs": [
        {
          "output_type": "execute_result",
          "data": {
            "text/plain": [
              "count    466256.000000\n",
              "mean        219.491078\n",
              "std          86.928944\n",
              "min          50.000000\n",
              "25%         161.000000\n",
              "50%         203.000000\n",
              "75%         262.000000\n",
              "max         864.000000\n",
              "Name: mnths_after_earliest_cr, dtype: float64"
            ]
          },
          "metadata": {},
          "execution_count": 26
        }
      ]
    },
    {
      "cell_type": "code",
      "source": [
        "raw_loan.mnths_after_earliest_cr.fillna(0, inplace=True)\n",
        "raw_loan.drop(['earliest_cr_line', 'earliest_cr_line_date'], axis=1, inplace=True)"
      ],
      "metadata": {
        "id": "uHNQLQsFFdjy"
      },
      "execution_count": 27,
      "outputs": []
    },
    {
      "cell_type": "markdown",
      "source": [
        "Pada `issue_d`, `last_pymnt_d`, `next_pymnt_d` dan `last_credit_pull_d` dilakukan sama seperti `earliest_cr_line_date`."
      ],
      "metadata": {
        "id": "D3jdwiePfGXg"
      }
    },
    {
      "cell_type": "code",
      "source": [
        "raw_loan['issue_date'] = pd.to_datetime(raw_loan['issue_d'], format='%b-%y')\n",
        "raw_loan['mnths_after_issue_d'] = np.floor(pd.to_numeric((pd.to_datetime('2016-01-16') - raw_loan['issue_date']) / np.timedelta64(1, 'M')))"
      ],
      "metadata": {
        "id": "Ee8fbLo2f7Dx"
      },
      "execution_count": 28,
      "outputs": []
    },
    {
      "cell_type": "code",
      "source": [
        "raw_loan['mnths_after_issue_d'].describe()"
      ],
      "metadata": {
        "colab": {
          "base_uri": "https://localhost:8080/"
        },
        "id": "F4fp6mH6gFLc",
        "outputId": "861fe3b0-d2ae-4847-f8b3-18de7b0846b7"
      },
      "execution_count": 29,
      "outputs": [
        {
          "output_type": "execute_result",
          "data": {
            "text/plain": [
              "count    466285.000000\n",
              "mean         28.255187\n",
              "std          14.340154\n",
              "min          13.000000\n",
              "25%          18.000000\n",
              "50%          24.000000\n",
              "75%          34.000000\n",
              "max         103.000000\n",
              "Name: mnths_after_issue_d, dtype: float64"
            ]
          },
          "metadata": {},
          "execution_count": 29
        }
      ]
    },
    {
      "cell_type": "code",
      "source": [
        "raw_loan['last_pymnt_date'] = pd.to_datetime(raw_loan['last_pymnt_d'], format='%b-%y')\n",
        "raw_loan['mnths_after_last_pymnt_d'] = np.floor(pd.to_numeric((pd.to_datetime('2016-01-16') - raw_loan['last_pymnt_date']) / np.timedelta64(1, 'M')))"
      ],
      "metadata": {
        "id": "-NPW25X5e1kV"
      },
      "execution_count": 30,
      "outputs": []
    },
    {
      "cell_type": "code",
      "source": [
        "raw_loan['mnths_after_last_pymnt_d'].describe()"
      ],
      "metadata": {
        "colab": {
          "base_uri": "https://localhost:8080/"
        },
        "id": "gv9Hjcboe1bE",
        "outputId": "472c40b8-c091-4b26-b8fc-f9490304c87a"
      },
      "execution_count": 31,
      "outputs": [
        {
          "output_type": "execute_result",
          "data": {
            "text/plain": [
              "count    465909.000000\n",
              "mean          8.294369\n",
              "std          12.809898\n",
              "min           0.000000\n",
              "25%           0.000000\n",
              "50%           1.000000\n",
              "75%          12.000000\n",
              "max          97.000000\n",
              "Name: mnths_after_last_pymnt_d, dtype: float64"
            ]
          },
          "metadata": {},
          "execution_count": 31
        }
      ]
    },
    {
      "cell_type": "code",
      "source": [
        "raw_loan['next_pymnt_date'] = pd.to_datetime(raw_loan['next_pymnt_d'], format='%b-%y')\n",
        "raw_loan['mnths_after_next_pymnt_d'] = np.floor(pd.to_numeric((pd.to_datetime('2016-01-16') - raw_loan['next_pymnt_date']) / np.timedelta64(1, 'M')))"
      ],
      "metadata": {
        "id": "5aJttdrrexIa"
      },
      "execution_count": 32,
      "outputs": []
    },
    {
      "cell_type": "code",
      "source": [
        "raw_loan['mnths_after_next_pymnt_d'].describe()"
      ],
      "metadata": {
        "colab": {
          "base_uri": "https://localhost:8080/"
        },
        "id": "WoBJCoBqgcZE",
        "outputId": "1ca1204f-c18a-4fd8-ec34-d6838ce4cbc8"
      },
      "execution_count": 33,
      "outputs": [
        {
          "output_type": "execute_result",
          "data": {
            "text/plain": [
              "count    239071.000000\n",
              "mean         -0.261864\n",
              "std           6.082298\n",
              "min          -2.000000\n",
              "25%          -1.000000\n",
              "50%          -1.000000\n",
              "75%          -1.000000\n",
              "max          97.000000\n",
              "Name: mnths_after_next_pymnt_d, dtype: float64"
            ]
          },
          "metadata": {},
          "execution_count": 33
        }
      ]
    },
    {
      "cell_type": "markdown",
      "source": [
        "Nilai negatif pada `mnths_after_next_pymnt_d` benar karena pada kolom ini adalah tanggal setelah tanggal referensi. Adapun nilai positif, menunjukkan debitur belum membayar kewajibannya."
      ],
      "metadata": {
        "id": "q9Q8evnyR9-D"
      }
    },
    {
      "cell_type": "code",
      "source": [
        "raw_loan['last_credit_pull_date'] = pd.to_datetime(raw_loan['last_credit_pull_d'], format='%b-%y')\n",
        "raw_loan['mnths_after_last_credit_pull_d'] = np.floor(pd.to_numeric((pd.to_datetime('2016-01-16') - raw_loan['last_credit_pull_date']) / np.timedelta64(1, 'M')))"
      ],
      "metadata": {
        "id": "w6fHfySPgcHy"
      },
      "execution_count": 34,
      "outputs": []
    },
    {
      "cell_type": "code",
      "source": [
        "raw_loan['mnths_after_last_credit_pull_d'].describe()"
      ],
      "metadata": {
        "colab": {
          "base_uri": "https://localhost:8080/"
        },
        "id": "BW1-8ZYUgcA-",
        "outputId": "d677a727-e69b-4daa-94f5-28a5db0bc2ec"
      },
      "execution_count": 35,
      "outputs": [
        {
          "output_type": "execute_result",
          "data": {
            "text/plain": [
              "count    466243.000000\n",
              "mean          4.045588\n",
              "std           9.636423\n",
              "min           0.000000\n",
              "25%           0.000000\n",
              "50%           0.000000\n",
              "75%           2.000000\n",
              "max         104.000000\n",
              "Name: mnths_after_last_credit_pull_d, dtype: float64"
            ]
          },
          "metadata": {},
          "execution_count": 35
        }
      ]
    },
    {
      "cell_type": "code",
      "source": [
        "raw_loan.drop(['issue_d', 'issue_date',\n",
        "               'last_pymnt_d', 'last_pymnt_date',\n",
        "               'next_pymnt_d', 'next_pymnt_date',\n",
        "               'last_credit_pull_d', 'last_credit_pull_date'], axis=1, inplace=True)"
      ],
      "metadata": {
        "id": "tjGkJFV5gb7v"
      },
      "execution_count": 36,
      "outputs": []
    },
    {
      "cell_type": "code",
      "source": [
        "emp_length_mode = pd.Series.mode(raw_loan['emp_length'])\n",
        "raw_loan['emp_length'].fillna(emp_length_mode[0], inplace=True)"
      ],
      "metadata": {
        "id": "xmhWed24PMza"
      },
      "execution_count": 37,
      "outputs": []
    },
    {
      "cell_type": "code",
      "source": [
        "raw_loan['annual_inc'] = raw_loan.groupby('loan_amnt')['annual_inc'].apply(lambda x: x.fillna(x.median()))"
      ],
      "metadata": {
        "id": "ckrp6UJ6JOFp"
      },
      "execution_count": 38,
      "outputs": []
    },
    {
      "cell_type": "markdown",
      "source": [
        "Kolom/fitur ```mths_since_last_delinq``` menunjukkan sudah berapa bulan member terakhir melakukan _delinquency_. \n",
        "Nilai null dari fitur ini kemungkinan besar disebabkan member memang belum pernah melakukan _delinquency_.\n",
        "Mengisi data null pada fitur ini tidak memunkinkan diisi dengan string **'Tidak pernah'** atau **_'Never'_**. Mengingat fitur ini merupakan fitur numerikal. Oleh karena itu dari data fitur ini akan dibuat fitur rekayasa, yaitu ```ever_deliq``` yang merupakan indikasi member pernah melakukan _delinquency_ dengan nilai 1 berarti pernah dan 0 berarti tidak pernah."
      ],
      "metadata": {
        "id": "5wTgBxZMK9zR"
      }
    },
    {
      "cell_type": "code",
      "source": [
        "raw_loan['ever_deliq'] = 0\n",
        "raw_loan.loc[raw_loan.mths_since_last_delinq > 0, 'ever_deliq'] = 1"
      ],
      "metadata": {
        "id": "tBlL83UKK0xr"
      },
      "execution_count": 39,
      "outputs": []
    },
    {
      "cell_type": "code",
      "source": [
        "raw_loan.drop(['mths_since_last_delinq'], axis=1, inplace = True)"
      ],
      "metadata": {
        "id": "I48YEggILCkq"
      },
      "execution_count": 40,
      "outputs": []
    },
    {
      "cell_type": "code",
      "source": [
        "raw_loan.revol_util.value_counts()\n",
        "raw_loan.revol_util.fillna(0, inplace=True)"
      ],
      "metadata": {
        "id": "a7ZEMlPcLR4W"
      },
      "execution_count": 41,
      "outputs": []
    },
    {
      "cell_type": "code",
      "source": [
        "raw_loan.drop(['mths_since_last_record', 'mths_since_last_major_derog'], axis=1, inplace = True)\n",
        "# missing value lebih banyak daripada yang tidak"
      ],
      "metadata": {
        "id": "1VkN9A6_TdZy"
      },
      "execution_count": 42,
      "outputs": []
    },
    {
      "cell_type": "code",
      "source": [
        "raw_loan.isna().sum()"
      ],
      "metadata": {
        "colab": {
          "base_uri": "https://localhost:8080/"
        },
        "id": "n5Ya7ZgAllNx",
        "outputId": "d2c64bb4-8b32-419e-938c-b439a90f9895"
      },
      "execution_count": 43,
      "outputs": [
        {
          "output_type": "execute_result",
          "data": {
            "text/plain": [
              "loan_amnt                              0\n",
              "funded_amnt                            0\n",
              "funded_amnt_inv                        0\n",
              "term                                   0\n",
              "int_rate                               0\n",
              "installment                            0\n",
              "grade                                  0\n",
              "emp_length                             0\n",
              "home_ownership                         0\n",
              "annual_inc                             0\n",
              "verification_status                    0\n",
              "loan_status                            0\n",
              "purpose                                0\n",
              "dti                                    0\n",
              "delinq_2yrs                            0\n",
              "inq_last_6mths                         0\n",
              "open_acc                               0\n",
              "pub_rec                                0\n",
              "revol_bal                              0\n",
              "revol_util                             0\n",
              "total_acc                              0\n",
              "initial_list_status                    0\n",
              "out_prncp                              0\n",
              "out_prncp_inv                          0\n",
              "total_pymnt                            0\n",
              "total_pymnt_inv                        0\n",
              "total_rec_prncp                        0\n",
              "total_rec_int                          0\n",
              "total_rec_late_fee                     0\n",
              "recoveries                             0\n",
              "collection_recovery_fee                0\n",
              "last_pymnt_amnt                        0\n",
              "collections_12_mths_ex_med           145\n",
              "acc_now_delinq                         0\n",
              "tot_coll_amt                       70276\n",
              "tot_cur_bal                        70276\n",
              "total_rev_hi_lim                   70276\n",
              "risk                                   0\n",
              "mnths_after_earliest_cr                0\n",
              "mnths_after_issue_d                    0\n",
              "mnths_after_last_pymnt_d             376\n",
              "mnths_after_next_pymnt_d          227214\n",
              "mnths_after_last_credit_pull_d        42\n",
              "ever_deliq                             0\n",
              "dtype: int64"
            ]
          },
          "metadata": {},
          "execution_count": 43
        }
      ]
    },
    {
      "cell_type": "code",
      "source": [
        "# mnths_after_next_pymnt_d\n",
        "raw_loan.risk.loc[raw_loan.mnths_after_next_pymnt_d.isna()].mean()"
      ],
      "metadata": {
        "colab": {
          "base_uri": "https://localhost:8080/"
        },
        "id": "mmclUaOznri4",
        "outputId": "34c557e8-a908-48b7-e6f2-270cb0447231"
      },
      "execution_count": 44,
      "outputs": [
        {
          "output_type": "execute_result",
          "data": {
            "text/plain": [
              "0.1869383048579753"
            ]
          },
          "metadata": {},
          "execution_count": 44
        }
      ]
    },
    {
      "cell_type": "markdown",
      "source": [
        "Hasil tersebut menunjukan bahwa missing value pada kolom `mnths_after_next_pymnt_d` sering muncul pada risk = 0 dan beberapa dengan risk = 1."
      ],
      "metadata": {
        "id": "2GMMg8BJtkdW"
      }
    },
    {
      "cell_type": "code",
      "source": [
        "raw_loan.loan_status.loc[(raw_loan.mnths_after_next_pymnt_d.isna()) & (raw_loan.risk == 0)].value_counts()"
      ],
      "metadata": {
        "colab": {
          "base_uri": "https://localhost:8080/"
        },
        "id": "HnpkwgC8rKGu",
        "outputId": "fab8af52-59fe-4427-a0a2-5e4f57ab5f64"
      },
      "execution_count": 45,
      "outputs": [
        {
          "output_type": "execute_result",
          "data": {
            "text/plain": [
              "Fully Paid    184739\n",
              "Name: loan_status, dtype: int64"
            ]
          },
          "metadata": {},
          "execution_count": 45
        }
      ]
    },
    {
      "cell_type": "code",
      "source": [
        "raw_loan.mnths_after_next_pymnt_d.loc[(raw_loan.loan_status == 'Fully Paid')].value_counts()"
      ],
      "metadata": {
        "colab": {
          "base_uri": "https://localhost:8080/"
        },
        "id": "e_dc2skeTYPd",
        "outputId": "109311c7-8133-4d4b-f01a-b18e410473eb"
      },
      "execution_count": 46,
      "outputs": [
        {
          "output_type": "execute_result",
          "data": {
            "text/plain": [
              "Series([], Name: mnths_after_next_pymnt_d, dtype: int64)"
            ]
          },
          "metadata": {},
          "execution_count": 46
        }
      ]
    },
    {
      "cell_type": "code",
      "source": [
        "raw_loan.loan_status.loc[(raw_loan.mnths_after_next_pymnt_d.isna()) & (raw_loan.risk == 1)].value_counts()"
      ],
      "metadata": {
        "colab": {
          "base_uri": "https://localhost:8080/"
        },
        "id": "EE05z0CKraFO",
        "outputId": "09bb03b5-9efc-419b-d568-896f73f92698"
      },
      "execution_count": 47,
      "outputs": [
        {
          "output_type": "execute_result",
          "data": {
            "text/plain": [
              "Charged Off    42475\n",
              "Name: loan_status, dtype: int64"
            ]
          },
          "metadata": {},
          "execution_count": 47
        }
      ]
    },
    {
      "cell_type": "code",
      "source": [
        "raw_loan.mnths_after_next_pymnt_d.loc[(raw_loan.loan_status == 'Charged Off')].value_counts()"
      ],
      "metadata": {
        "colab": {
          "base_uri": "https://localhost:8080/"
        },
        "id": "7zrpRQ2DT1fd",
        "outputId": "5dc01a34-85b1-481a-8561-66cc154fdb8e"
      },
      "execution_count": 48,
      "outputs": [
        {
          "output_type": "execute_result",
          "data": {
            "text/plain": [
              "Series([], Name: mnths_after_next_pymnt_d, dtype: int64)"
            ]
          },
          "metadata": {},
          "execution_count": 48
        }
      ]
    },
    {
      "cell_type": "markdown",
      "source": [
        "Dari hasil tersebut, data null pada kolom `mnths_after_next_pymnt_d` disebabkan memang tidak ada nilai valid yang dapat mengisi kolom tersebut. Debitur dengan status sudah lunas (_Fully Paid_) tidak memiliki kewajiban membayar lagi. Sedangkan debitur dengan status denda harus membayar denda & kewajibannya sebelumnya sehingga tidak memiliki tanggal kapan debitur harus melaksanakan kewajibannya kembali. Missing value akan diisi dengan nilai yang sekiranya unik untuk membedakan apakah itu memang data valid `mnths_after_next_pymnt_d` atau untuk menindentifikasi kalau pada tersebut berstatus _Fully Paid_ dan _Charged Off_. Untuk _Fully Paid_ akan diisi -10 dan untuk _Charged Off_ akan disi -5"
      ],
      "metadata": {
        "id": "ZKDNH6Sdt8en"
      }
    },
    {
      "cell_type": "code",
      "source": [
        "raw_loan.loc[((raw_loan.mnths_after_next_pymnt_d.isna()) & (raw_loan.loan_status == 'Fully Paid')), 'mnths_after_next_pymnt_d'] = -10\n",
        "raw_loan.loc[((raw_loan.mnths_after_next_pymnt_d.isna()) & (raw_loan.loan_status == 'Charged Off')), 'mnths_after_next_pymnt_d'] = -5"
      ],
      "metadata": {
        "id": "xGanOeKDi2Bn"
      },
      "execution_count": 49,
      "outputs": []
    },
    {
      "cell_type": "markdown",
      "source": [
        "Nilai null pada `mnths_after_last_pymnt_d` kemungkinan debitur belum pernah membayar sama sekali."
      ],
      "metadata": {
        "id": "wuhbyr8zYMYm"
      }
    },
    {
      "cell_type": "code",
      "source": [
        "raw_loan.loan_status.loc[raw_loan.mnths_after_last_pymnt_d.isna()].value_counts()"
      ],
      "metadata": {
        "colab": {
          "base_uri": "https://localhost:8080/"
        },
        "id": "JUyVQO_QugAg",
        "outputId": "008cf740-d885-4c64-9ad6-d7368e0d13fe"
      },
      "execution_count": 50,
      "outputs": [
        {
          "output_type": "execute_result",
          "data": {
            "text/plain": [
              "Charged Off                                            364\n",
              "Does not meet the credit policy. Status:Charged Off     12\n",
              "Name: loan_status, dtype: int64"
            ]
          },
          "metadata": {},
          "execution_count": 50
        }
      ]
    },
    {
      "cell_type": "markdown",
      "source": [
        "Dari hasil di atas terlihat bahwa benar nilai null pada kolom tersebut, debitur belum pernah membayar sama sekali. Ditandai dengan semua dalam status denda. Hal ini berarti nilai null pada kolom ini memang tidak ada data valid untuk mengisi kolom tersebut. _Missing value_ akan diisi dengan data yang unik sehingga dapat membedakan apakah itu memang data valid `mnths_after_last_pymnt_d` atau untuk menindentifikasi kalau pada tersebut berstatus _Charged Off_ (-1)"
      ],
      "metadata": {
        "id": "Ib64VqlYYqMH"
      }
    },
    {
      "cell_type": "code",
      "source": [
        "raw_loan.loc[(raw_loan.mnths_after_last_pymnt_d.isna()), 'mnths_after_last_pymnt_d'] = -1"
      ],
      "metadata": {
        "id": "qyUBq29ZnFie"
      },
      "execution_count": 51,
      "outputs": []
    },
    {
      "cell_type": "markdown",
      "source": [
        "Hal yang sama juga pada `mnths_after_last_credit_pull_d`. Nilai null karena tidak ada nilai valid yang dapat mengisi data tersebut karena debitur kemungkinan tidak menarik kredit lagi."
      ],
      "metadata": {
        "id": "XkRb5yCtdY27"
      }
    },
    {
      "cell_type": "code",
      "source": [
        "# mnths_after_last_credit_pull_d\n",
        "raw_loan.loc[(raw_loan.mnths_after_last_credit_pull_d.isna()), 'mnths_after_last_credit_pull_d'] = -1"
      ],
      "metadata": {
        "id": "NUu4v8HOuo6u"
      },
      "execution_count": 52,
      "outputs": []
    },
    {
      "cell_type": "code",
      "source": [
        "num = [n for n in raw_loan.columns if raw_loan[n].dtype != 'object']\n",
        "fig, axs = plt.subplots(ncols=3, nrows=13, figsize=(20, 80))\n",
        "\n",
        "for i, num in enumerate(num, 1):\n",
        "    plt.subplot(13, 3, i)\n",
        "    sns.boxplot(x=num, data=raw_loan)\n",
        "    plt.xlabel('{}'.format(num), size=14)\n",
        "    plt.tick_params(axis='x', labelsize=14)\n",
        "    plt.tick_params(axis='y', labelsize=14)\n",
        " \n",
        "plt.tight_layout()\n",
        "plt.show()"
      ],
      "metadata": {
        "colab": {
          "base_uri": "https://localhost:8080/",
          "height": 1000
        },
        "id": "Ht0kIHiDaYi-",
        "outputId": "9c25ba76-33f0-45ef-8848-97508e609514"
      },
      "execution_count": 53,
      "outputs": [
        {
          "output_type": "display_data",
          "data": {
            "text/plain": [
              "<Figure size 1440x5760 with 39 Axes>"
            ],
            "image/png": "[encoded data removed]"
          },
          "metadata": {
            "needs_background": "light"
          }
        }
      ]
    },
    {
      "cell_type": "markdown",
      "source": [
        "Dari grafik di atas, beberapa kolom memiliki outlier yang ekstrim. Pada umumnya penanganan outlier dilakukan dengan menghapus data-data yang termasuk outlier. Namun, pada data terdapat kolom berisi data yang sangat dominan, misalnya ```pub_rec```. Pada kolom tersebut sebagian besar bernilai 0 dan yang bukan 0 merupakan nilai outlier. Karena memang hanya sedikit orang yang miliki catatan publik yang jelek. Data seperti ini biasanya tidak akan memberikan pengaruh yang signifikan pada pemodelan. Oleh karena itu, kolom yang berisi data-data mirip dengan ```pub_rec``` akan dihapus.\n",
        "\n",
        "Berikut ini beberapa kolom/fitur yang terdiri dari data yang mendominasi\n",
        "- pub_rec\n",
        "- total_rec_late_fee\n",
        "- recoveries\n",
        "- collection_recovery_fee\n",
        "- collections_12_mths_ex_med\n",
        "- acc_now_delinq\n",
        "- tot_coll_amt"
      ],
      "metadata": {
        "id": "ehQz-X9hcfdz"
      }
    },
    {
      "cell_type": "code",
      "source": [
        "raw_loan.tot_coll_amt.value_counts()"
      ],
      "metadata": {
        "colab": {
          "base_uri": "https://localhost:8080/"
        },
        "id": "AZlg2dL9Gck7",
        "outputId": "2162f974-de52-48f4-b3fe-10124e04ae34"
      },
      "execution_count": 54,
      "outputs": [
        {
          "output_type": "execute_result",
          "data": {
            "text/plain": [
              "0.0        346259\n",
              "50.0          837\n",
              "100.0         650\n",
              "75.0          515\n",
              "60.0          309\n",
              "            ...  \n",
              "13779.0         1\n",
              "15036.0         1\n",
              "15986.0         1\n",
              "2477.0          1\n",
              "6532.0          1\n",
              "Name: tot_coll_amt, Length: 6321, dtype: int64"
            ]
          },
          "metadata": {},
          "execution_count": 54
        }
      ]
    },
    {
      "cell_type": "code",
      "source": [
        "raw_loan = raw_loan.drop(['delinq_2yrs', 'pub_rec', 'total_rec_late_fee', \n",
        "                        'recoveries', 'collection_recovery_fee', 'acc_now_delinq',\n",
        "                        'collections_12_mths_ex_med', 'tot_coll_amt'\n",
        "                        ],\n",
        "                  axis=1)"
      ],
      "metadata": {
        "id": "nMBevQUecedS"
      },
      "execution_count": 55,
      "outputs": []
    },
    {
      "cell_type": "markdown",
      "source": [
        "Untuk data outlier yang akan dihapus adalah dari kolom/fitur berikut:\n",
        "\n",
        "- annual_inc\n",
        "- revol_bal\n",
        "- revol_util\n",
        "- tot_cur_bal\n",
        "- total_rev_hi_lim"
      ],
      "metadata": {
        "id": "KyKuLM71csHC"
      }
    },
    {
      "cell_type": "code",
      "source": [
        "# mengisi missing value pada kolom/fitur tot_coll_amt, tot_cur_bal, total_rev_hi_lim dengan mediannya\n",
        "raw_loan['tot_cur_bal'].fillna(raw_loan.tot_cur_bal.median(), inplace=True)\n",
        "raw_loan['total_rev_hi_lim'].fillna(raw_loan.total_rev_hi_lim.median(), inplace=True)"
      ],
      "metadata": {
        "id": "prQ7jpiVcu_q"
      },
      "execution_count": 57,
      "outputs": []
    },
    {
      "cell_type": "code",
      "source": [
        "def bool_outlier(col):\n",
        "  q1 = np.quantile(raw_loan[col], 0.25)\n",
        "  q3 = np.quantile(raw_loan[col], 0.75)\n",
        "  IQR = q3 - q1\n",
        "  return ((raw_loan[col]<=q3 + 1.5*IQR) & (raw_loan[col] >= q1 - 1.5*IQR))"
      ],
      "metadata": {
        "id": "jIj231LacxDX"
      },
      "execution_count": 58,
      "outputs": []
    },
    {
      "cell_type": "code",
      "source": [
        "raw_loan = raw_loan.loc[(bool_outlier('annual_inc')) & \n",
        "                      (bool_outlier('revol_bal')) & \n",
        "                      (bool_outlier('revol_util')) & \n",
        "                      (bool_outlier('tot_cur_bal')) &\n",
        "                      (bool_outlier('total_rev_hi_lim'))\n",
        "                      ]"
      ],
      "metadata": {
        "id": "5xD0MB60czNR"
      },
      "execution_count": 59,
      "outputs": []
    },
    {
      "cell_type": "code",
      "source": [
        "raw_loan.isna().sum()"
      ],
      "metadata": {
        "colab": {
          "base_uri": "https://localhost:8080/"
        },
        "id": "YVRVda_UfAJl",
        "outputId": "3d73a981-cf06-4fb2-9f4e-eaceba06ec0b"
      },
      "execution_count": 60,
      "outputs": [
        {
          "output_type": "execute_result",
          "data": {
            "text/plain": [
              "loan_amnt                         0\n",
              "funded_amnt                       0\n",
              "funded_amnt_inv                   0\n",
              "term                              0\n",
              "int_rate                          0\n",
              "installment                       0\n",
              "grade                             0\n",
              "emp_length                        0\n",
              "home_ownership                    0\n",
              "annual_inc                        0\n",
              "verification_status               0\n",
              "loan_status                       0\n",
              "purpose                           0\n",
              "dti                               0\n",
              "inq_last_6mths                    0\n",
              "open_acc                          0\n",
              "revol_bal                         0\n",
              "revol_util                        0\n",
              "total_acc                         0\n",
              "initial_list_status               0\n",
              "out_prncp                         0\n",
              "out_prncp_inv                     0\n",
              "total_pymnt                       0\n",
              "total_pymnt_inv                   0\n",
              "total_rec_prncp                   0\n",
              "total_rec_int                     0\n",
              "last_pymnt_amnt                   0\n",
              "tot_cur_bal                       0\n",
              "total_rev_hi_lim                  0\n",
              "risk                              0\n",
              "mnths_after_earliest_cr           0\n",
              "mnths_after_issue_d               0\n",
              "mnths_after_last_pymnt_d          0\n",
              "mnths_after_next_pymnt_d          0\n",
              "mnths_after_last_credit_pull_d    0\n",
              "ever_deliq                        0\n",
              "dtype: int64"
            ]
          },
          "metadata": {},
          "execution_count": 60
        }
      ]
    },
    {
      "cell_type": "markdown",
      "source": [
        "## Encoding fitur kategori\n",
        "Fitur kategori yang belum diencode menjadi numerik\n",
        "- term (kategorikal)\n",
        "- grade (ordinal)\n",
        "- emp_length (ordinal)\n",
        "- home_ownership (ordinal)\n",
        "- verification_status (ordinal)\n",
        "- loan_status (ordinal)\n",
        "- purpose (kategorikal)\n",
        "- initial_list_status (ordinal)"
      ],
      "metadata": {
        "id": "KZDeHe7QfSrS"
      }
    },
    {
      "cell_type": "code",
      "source": [
        "df_loan_enc = raw_loan.copy()\n",
        "\n",
        "df_loan_enc.loc[df_loan_enc.home_ownership == 'ANY', 'home_ownership'] = 'OTHER'\n",
        "\n",
        "df_loan_enc.drop('loan_status', axis=1, inplace=True)"
      ],
      "metadata": {
        "id": "rbanhYOyfGoE"
      },
      "execution_count": 61,
      "outputs": []
    },
    {
      "cell_type": "code",
      "source": [
        "from sklearn.preprocessing import LabelEncoder, OrdinalEncoder\n",
        "\n",
        "purpose_label = LabelEncoder()\n",
        "df_loan_enc['purpose'] = purpose_label.fit_transform(df_loan_enc.purpose)\n",
        "\n",
        "ord_fea = ['grade', 'emp_length', 'home_ownership', 'verification_status']\n",
        "\n",
        "ord_grade = ['G', 'F', 'E', 'D', 'C', 'B', 'A']\n",
        "ord_emp = ['< 1 year', '1 year', '2 years', '3 years', '4 years', '5 years',\n",
        "           '6 years', '7 years', '8 years', '9 years', '10+ years']\n",
        "ord_home = ['NONE', 'RENT', 'OTHER', 'MORTGAGE', 'OWN']\n",
        "ord_ver = ['Not Verified', 'Source Verified', 'Verified']\n",
        "\n",
        "ordinal_encoder = OrdinalEncoder(\n",
        "    categories=[ord_grade, ord_emp, ord_home, ord_ver]\n",
        ")\n",
        "\n",
        "df_loan_enc[ord_fea] = ordinal_encoder.fit_transform(df_loan_enc[ord_fea])\n",
        "\n",
        "le_term = LabelEncoder()\n",
        "df_loan_enc['term'] = le_term.fit_transform(df_loan_enc.term)\n",
        "le_init = LabelEncoder()\n",
        "df_loan_enc['initial_list_status'] = le_init.fit_transform(df_loan_enc.initial_list_status)\n",
        "# df_loan_enc = pd.get_dummies(df_loan_enc)"
      ],
      "metadata": {
        "id": "ajz5PN1Jfmfy"
      },
      "execution_count": 62,
      "outputs": []
    },
    {
      "cell_type": "code",
      "source": [
        "df_loan_enc.info()"
      ],
      "metadata": {
        "colab": {
          "base_uri": "https://localhost:8080/"
        },
        "id": "2wO4ce03gyDf",
        "outputId": "2be78661-a428-40bf-c176-00bb9c9e9016"
      },
      "execution_count": 63,
      "outputs": [
        {
          "output_type": "stream",
          "name": "stdout",
          "text": [
            "<class 'pandas.core.frame.DataFrame'>\n",
            "Int64Index: 402517 entries, 0 to 466284\n",
            "Data columns (total 35 columns):\n",
            " #   Column                          Non-Null Count   Dtype  \n",
            "---  ------                          --------------   -----  \n",
            " 0   loan_amnt                       402517 non-null  int64  \n",
            " 1   funded_amnt                     402517 non-null  int64  \n",
            " 2   funded_amnt_inv                 402517 non-null  float64\n",
            " 3   term                            402517 non-null  int64  \n",
            " 4   int_rate                        402517 non-null  float64\n",
            " 5   installment                     402517 non-null  float64\n",
            " 6   grade                           402517 non-null  float64\n",
            " 7   emp_length                      402517 non-null  float64\n",
            " 8   home_ownership                  402517 non-null  float64\n",
            " 9   annual_inc                      402517 non-null  float64\n",
            " 10  verification_status             402517 non-null  float64\n",
            " 11  purpose                         402517 non-null  int64  \n",
            " 12  dti                             402517 non-null  float64\n",
            " 13  inq_last_6mths                  402517 non-null  float64\n",
            " 14  open_acc                        402517 non-null  float64\n",
            " 15  revol_bal                       402517 non-null  int64  \n",
            " 16  revol_util                      402517 non-null  float64\n",
            " 17  total_acc                       402517 non-null  float64\n",
            " 18  initial_list_status             402517 non-null  int64  \n",
            " 19  out_prncp                       402517 non-null  float64\n",
            " 20  out_prncp_inv                   402517 non-null  float64\n",
            " 21  total_pymnt                     402517 non-null  float64\n",
            " 22  total_pymnt_inv                 402517 non-null  float64\n",
            " 23  total_rec_prncp                 402517 non-null  float64\n",
            " 24  total_rec_int                   402517 non-null  float64\n",
            " 25  last_pymnt_amnt                 402517 non-null  float64\n",
            " 26  tot_cur_bal                     402517 non-null  float64\n",
            " 27  total_rev_hi_lim                402517 non-null  float64\n",
            " 28  risk                            402517 non-null  int64  \n",
            " 29  mnths_after_earliest_cr         402517 non-null  float64\n",
            " 30  mnths_after_issue_d             402517 non-null  float64\n",
            " 31  mnths_after_last_pymnt_d        402517 non-null  float64\n",
            " 32  mnths_after_next_pymnt_d        402517 non-null  float64\n",
            " 33  mnths_after_last_credit_pull_d  402517 non-null  float64\n",
            " 34  ever_deliq                      402517 non-null  int64  \n",
            "dtypes: float64(27), int64(8)\n",
            "memory usage: 110.6 MB\n"
          ]
        }
      ]
    },
    {
      "cell_type": "markdown",
      "source": [
        "# Pemodelan"
      ],
      "metadata": {
        "id": "H8pIai5ShARx"
      }
    },
    {
      "cell_type": "code",
      "source": [
        "from sklearn.model_selection import train_test_split, RepeatedStratifiedKFold, cross_val_score\n",
        "from sklearn.metrics import accuracy_score\n",
        "from sklearn.ensemble import RandomForestClassifier, GradientBoostingClassifier\n",
        "import joblib"
      ],
      "metadata": {
        "id": "eSr5B9FAg0i3"
      },
      "execution_count": 64,
      "outputs": []
    },
    {
      "cell_type": "code",
      "source": [
        "# memisahkan fitur dengan target\n",
        "y = df_loan_enc['risk']\n",
        "X = df_loan_enc.drop(['risk'], axis=1)\n",
        "X.shape"
      ],
      "metadata": {
        "colab": {
          "base_uri": "https://localhost:8080/"
        },
        "id": "CrvnY8zLhDiv",
        "outputId": "34cf59bd-2769-423a-d172-0c831dcf0b3a"
      },
      "execution_count": 65,
      "outputs": [
        {
          "output_type": "execute_result",
          "data": {
            "text/plain": [
              "(402517, 34)"
            ]
          },
          "metadata": {},
          "execution_count": 65
        }
      ]
    },
    {
      "cell_type": "code",
      "source": [
        "# memisahkan data train dan test\n",
        "# import random\n",
        "# rand_num = random.randint(0, 2**32)\n",
        "# rand_num\n",
        "rand_num = 589126908\n",
        "X_train, X_test, y_train, y_test = train_test_split(X, y, test_size=0.25, random_state=rand_num)"
      ],
      "metadata": {
        "id": "HD4TwfI9hLRW"
      },
      "execution_count": 66,
      "outputs": []
    },
    {
      "cell_type": "code",
      "source": [
        "# Base model\n",
        "rf_clf = RandomForestClassifier(min_samples_split=20, n_jobs=-1, random_state=1)\n",
        "gb_clf = GradientBoostingClassifier(min_samples_split=20, max_leaf_nodes=32, random_state=1)"
      ],
      "metadata": {
        "id": "dAIGQbBThTbq"
      },
      "execution_count": 67,
      "outputs": []
    },
    {
      "cell_type": "code",
      "source": [
        "def evaluate_model (predict):\n",
        "    score = accuracy_score(predict, y_test)\n",
        "    return score"
      ],
      "metadata": {
        "id": "IUUEMZDFheaY"
      },
      "execution_count": 68,
      "outputs": []
    },
    {
      "cell_type": "code",
      "source": [
        "def cv_model(model, X, y):\n",
        "    cv = RepeatedStratifiedKFold(n_splits=5, n_repeats=2, random_state=1)\n",
        "    scores = cross_val_score(model, X, y, scoring='accuracy', cv=cv, n_jobs=-1, error_score='raise')\n",
        "    return scores"
      ],
      "metadata": {
        "id": "WrxUWk1zhgb1"
      },
      "execution_count": 69,
      "outputs": []
    },
    {
      "cell_type": "code",
      "source": [
        "models = dict()\n",
        "models['Random_Forest'] = rf_clf\n",
        "models['Gradien_Boosting'] = gb_clf\n",
        "models"
      ],
      "metadata": {
        "colab": {
          "base_uri": "https://localhost:8080/"
        },
        "id": "wqPKlINyhiGD",
        "outputId": "ff8039ff-f2ee-4060-fda5-3074163b14a2"
      },
      "execution_count": 70,
      "outputs": [
        {
          "output_type": "execute_result",
          "data": {
            "text/plain": [
              "{'Gradien_Boosting': GradientBoostingClassifier(max_leaf_nodes=32, min_samples_split=20,\n",
              "                            random_state=1),\n",
              " 'Random_Forest': RandomForestClassifier(min_samples_split=20, n_jobs=-1, random_state=1)}"
            ]
          },
          "metadata": {},
          "execution_count": 70
        }
      ]
    },
    {
      "cell_type": "code",
      "source": [
        "results, names = list(), list()\n",
        "for name, model in models.items():\n",
        "    scores = cv_model(model, X, y)\n",
        "    results.append(scores)\n",
        "    names.append(name)\n",
        "    print('%s %.3f (%.3f)' % (name, np.mean(scores), np.std(scores)))"
      ],
      "metadata": {
        "colab": {
          "base_uri": "https://localhost:8080/"
        },
        "id": "VilzoMD-wtoG",
        "outputId": "d8b8e867-11ec-46d8-fb64-f791faafa3d2"
      },
      "execution_count": 73,
      "outputs": [
        {
          "output_type": "stream",
          "name": "stdout",
          "text": [
            "Random_Forest 0.997 (0.000)\n",
            "Gradien_Boosting 0.997 (0.000)\n"
          ]
        }
      ]
    },
    {
      "cell_type": "code",
      "source": [
        "# plot model performance for comparison\n",
        "plt.figure(figsize=(12,9))\n",
        "plt.boxplot(results, labels=names, showmeans=True)\n",
        "plt.ylabel('Accuracy', size=14)\n",
        "plt.xlabel('Model', size=14)\n",
        "plt.show()"
      ],
      "metadata": {
        "colab": {
          "base_uri": "https://localhost:8080/",
          "height": 556
        },
        "id": "y0Dc6PBqx7sG",
        "outputId": "d4afec5f-84b4-45c4-d7cf-758b37800df0"
      },
      "execution_count": 74,
      "outputs": [
        {
          "output_type": "display_data",
          "data": {
            "text/plain": [
              "<Figure size 864x648 with 1 Axes>"
            ],
            "image/png": "[encoded data removed]"
          },
          "metadata": {
            "needs_background": "light"
          }
        }
      ]
    },
    {
      "cell_type": "markdown",
      "source": [
        "## Random Forest"
      ],
      "metadata": {
        "id": "b0iP5th_ho2b"
      }
    },
    {
      "cell_type": "code",
      "source": [
        "# # Uncomment di bawah ini untuk fitting data\n",
        "# rf_clf.fit(X_train, y_train)\n",
        "# y_pred_rf = rf_clf.predict(X_test)\n",
        "# print('score %.4f' % evaluate_model(y_pred_rf))"
      ],
      "metadata": {
        "colab": {
          "base_uri": "https://localhost:8080/"
        },
        "id": "sxRf31qshk5W",
        "outputId": "fdbbf2be-9a72-4ec2-a0a3-2903b67bec84"
      },
      "execution_count": 71,
      "outputs": [
        {
          "output_type": "stream",
          "name": "stdout",
          "text": [
            "score 0.9967\n"
          ]
        }
      ]
    },
    {
      "cell_type": "code",
      "source": [
        "# # Uncomment di bawah ini untuk save model\n",
        "# # Save model\n",
        "# joblib.dump(rf_clf, 'random_forest.sav')"
      ],
      "metadata": {
        "colab": {
          "base_uri": "https://localhost:8080/"
        },
        "id": "jvi3tagPelbN",
        "outputId": "94470024-52f8-4d7f-cd5f-6f312b33210f"
      },
      "execution_count": 81,
      "outputs": [
        {
          "output_type": "execute_result",
          "data": {
            "text/plain": [
              "['random_forest.sav']"
            ]
          },
          "metadata": {},
          "execution_count": 81
        }
      ]
    },
    {
      "cell_type": "code",
      "source": [
        "# load_model\n",
        "random_forest = joblib.load('random_forest.sav')\n",
        "result = random_forest.score(X_test, y_test)\n",
        "print('score %.4f' % result)"
      ],
      "metadata": {
        "colab": {
          "base_uri": "https://localhost:8080/"
        },
        "id": "b0PGLly5ekLM",
        "outputId": "8712c2a8-dada-4005-8457-f9f8d01debec"
      },
      "execution_count": 82,
      "outputs": [
        {
          "output_type": "stream",
          "name": "stdout",
          "text": [
            "score 0.9967\n"
          ]
        }
      ]
    },
    {
      "cell_type": "markdown",
      "source": [
        "## Gradient Boosting"
      ],
      "metadata": {
        "id": "1IHXxVPZ_tLQ"
      }
    },
    {
      "cell_type": "code",
      "source": [
        "# # Uncomment di bawah ini untuk fitting data\n",
        "# gb_clf.fit(X_train, y_train)\n",
        "# y_pred_gb = gb_clf.predict(X_test)\n",
        "# print('score %.4f' %  evaluate_model(y_pred_gb))"
      ],
      "metadata": {
        "id": "rpklcQN0_oXG",
        "colab": {
          "base_uri": "https://localhost:8080/"
        },
        "outputId": "d6c5fcf0-5020-404f-df1a-2208769acec6"
      },
      "execution_count": 72,
      "outputs": [
        {
          "output_type": "stream",
          "name": "stdout",
          "text": [
            "score 0.9967\n"
          ]
        }
      ]
    },
    {
      "cell_type": "code",
      "source": [
        "# # Uncomment di bawah ini untuk save model\n",
        "# # Save model\n",
        "# joblib.dump(gb_clf, 'gradient_boosting.sav')"
      ],
      "metadata": {
        "colab": {
          "base_uri": "https://localhost:8080/"
        },
        "id": "6WNHTiejehHJ",
        "outputId": "b0c9d9e6-befe-4a3c-ddf9-8254eaac6fff"
      },
      "execution_count": 83,
      "outputs": [
        {
          "output_type": "execute_result",
          "data": {
            "text/plain": [
              "['gradient_boosting.sav']"
            ]
          },
          "metadata": {},
          "execution_count": 83
        }
      ]
    },
    {
      "cell_type": "code",
      "source": [
        "# load_model\n",
        "gradient_boosting = joblib.load('gradient_boosting.sav')\n",
        "result = gradient_boosting.score(X_test, y_test)\n",
        "print('score %.4f' % result)"
      ],
      "metadata": {
        "colab": {
          "base_uri": "https://localhost:8080/"
        },
        "id": "OJxRWSE6eqSs",
        "outputId": "826b64a8-79b7-4f55-de0a-37ce70d418a4"
      },
      "execution_count": 84,
      "outputs": [
        {
          "output_type": "stream",
          "name": "stdout",
          "text": [
            "score 0.9967\n"
          ]
        }
      ]
    },
    {
      "cell_type": "markdown",
      "source": [
        "Dari kedua model tersebut, Random Forest dan Gradient Boosting terlihat memiliki akurasi yang sangat baik dalam mengklasifikasi risiko kredit."
      ],
      "metadata": {
        "id": "Lgfg3Zo1fLN6"
      }
    },
    {
      "cell_type": "code",
      "source": [
        "rf_importances = rf_clf.feature_importances_\n",
        "gb_importances = gb_clf.feature_importances_\n",
        "arr_feature_names = X_train.columns.values\n",
        "    \n",
        "df_feature_importance = pd.DataFrame(index=range(len(arr_feature_names)), columns=['feature', 'rf_importance', 'gb_importance'])\n",
        "df_feature_importance['feature'] = arr_feature_names\n",
        "df_feature_importance['rf_importance'] = rf_importances\n",
        "df_feature_importance['gb_importance'] = gb_importances\n",
        "df_all_features = df_feature_importance.sort_values(by='rf_importance', ascending=False)\n",
        "df_all_features"
      ],
      "metadata": {
        "colab": {
          "base_uri": "https://localhost:8080/",
          "height": 1000
        },
        "id": "ACcLQAIy5CYF",
        "outputId": "298e1590-937d-4c86-e743-3fe52592bb22"
      },
      "execution_count": 80,
      "outputs": [
        {
          "output_type": "execute_result",
          "data": {
            "text/plain": [
              "                           feature  rf_importance  gb_importance\n",
              "31        mnths_after_next_pymnt_d       0.303352   6.688245e-01\n",
              "30        mnths_after_last_pymnt_d       0.187182   1.913517e-01\n",
              "23                 total_rec_prncp       0.109811   1.345266e-01\n",
              "20                   out_prncp_inv       0.068934   1.183399e-03\n",
              "19                       out_prncp       0.060235   8.413188e-04\n",
              "25                 last_pymnt_amnt       0.051569   2.988626e-03\n",
              "22                 total_pymnt_inv       0.036797   4.337150e-06\n",
              "2                  funded_amnt_inv       0.027069   0.000000e+00\n",
              "21                     total_pymnt       0.024172   9.211025e-07\n",
              "0                        loan_amnt       0.024024   5.723390e-07\n",
              "5                      installment       0.020897   2.359321e-05\n",
              "1                      funded_amnt       0.019471   2.268563e-12\n",
              "29             mnths_after_issue_d       0.015321   2.359306e-05\n",
              "32  mnths_after_last_credit_pull_d       0.011209   0.000000e+00\n",
              "24                   total_rec_int       0.010258   4.608722e-05\n",
              "4                         int_rate       0.007960   9.509533e-05\n",
              "6                            grade       0.006010   1.690273e-05\n",
              "13                  inq_last_6mths       0.002835   7.519031e-06\n",
              "3                             term       0.002200   3.330405e-06\n",
              "26                     tot_cur_bal       0.001792   8.996481e-06\n",
              "27                total_rev_hi_lim       0.001508   4.965899e-06\n",
              "12                             dti       0.001224   2.120609e-05\n",
              "15                       revol_bal       0.001051   0.000000e+00\n",
              "16                      revol_util       0.001002   1.626814e-05\n",
              "9                       annual_inc       0.000912   5.471214e-06\n",
              "28         mnths_after_earliest_cr       0.000803   0.000000e+00\n",
              "17                       total_acc       0.000617   4.970497e-06\n",
              "14                        open_acc       0.000504   0.000000e+00\n",
              "18             initial_list_status       0.000344   0.000000e+00\n",
              "10             verification_status       0.000331   0.000000e+00\n",
              "11                         purpose       0.000280   0.000000e+00\n",
              "7                       emp_length       0.000200   0.000000e+00\n",
              "8                   home_ownership       0.000091   0.000000e+00\n",
              "33                      ever_deliq       0.000035   0.000000e+00"
            ],
            "text/html": [
              "\n",
              "  <div id=\"df-45824b2e-f8a7-49a0-b17f-d3cf0ddfdfb4\">\n",
              "    <div class=\"colab-df-container\">\n",
              "      <div>\n",
              "<style scoped>\n",
              "    .dataframe tbody tr th:only-of-type {\n",
              "        vertical-align: middle;\n",
              "    }\n",
              "\n",
              "    .dataframe tbody tr th {\n",
              "        vertical-align: top;\n",
              "    }\n",
              "\n",
              "    .dataframe thead th {\n",
              "        text-align: right;\n",
              "    }\n",
              "</style>\n",
              "<table border=\"1\" class=\"dataframe\">\n",
              "  <thead>\n",
              "    <tr style=\"text-align: right;\">\n",
              "      <th></th>\n",
              "      <th>feature</th>\n",
              "      <th>rf_importance</th>\n",
              "      <th>gb_importance</th>\n",
              "    </tr>\n",
              "  </thead>\n",
              "  <tbody>\n",
              "    <tr>\n",
              "      <th>31</th>\n",
              "      <td>mnths_after_next_pymnt_d</td>\n",
              "      <td>0.303352</td>\n",
              "      <td>6.688245e-01</td>\n",
              "    </tr>\n",
              "    <tr>\n",
              "      <th>30</th>\n",
              "      <td>mnths_after_last_pymnt_d</td>\n",
              "      <td>0.187182</td>\n",
              "      <td>1.913517e-01</td>\n",
              "    </tr>\n",
              "    <tr>\n",
              "      <th>23</th>\n",
              "      <td>total_rec_prncp</td>\n",
              "      <td>0.109811</td>\n",
              "      <td>1.345266e-01</td>\n",
              "    </tr>\n",
              "    <tr>\n",
              "      <th>20</th>\n",
              "      <td>out_prncp_inv</td>\n",
              "      <td>0.068934</td>\n",
              "      <td>1.183399e-03</td>\n",
              "    </tr>\n",
              "    <tr>\n",
              "      <th>19</th>\n",
              "      <td>out_prncp</td>\n",
              "      <td>0.060235</td>\n",
              "      <td>8.413188e-04</td>\n",
              "    </tr>\n",
              "    <tr>\n",
              "      <th>25</th>\n",
              "      <td>last_pymnt_amnt</td>\n",
              "      <td>0.051569</td>\n",
              "      <td>2.988626e-03</td>\n",
              "    </tr>\n",
              "    <tr>\n",
              "      <th>22</th>\n",
              "      <td>total_pymnt_inv</td>\n",
              "      <td>0.036797</td>\n",
              "      <td>4.337150e-06</td>\n",
              "    </tr>\n",
              "    <tr>\n",
              "      <th>2</th>\n",
              "      <td>funded_amnt_inv</td>\n",
              "      <td>0.027069</td>\n",
              "      <td>0.000000e+00</td>\n",
              "    </tr>\n",
              "    <tr>\n",
              "      <th>21</th>\n",
              "      <td>total_pymnt</td>\n",
              "      <td>0.024172</td>\n",
              "      <td>9.211025e-07</td>\n",
              "    </tr>\n",
              "    <tr>\n",
              "      <th>0</th>\n",
              "      <td>loan_amnt</td>\n",
              "      <td>0.024024</td>\n",
              "      <td>5.723390e-07</td>\n",
              "    </tr>\n",
              "    <tr>\n",
              "      <th>5</th>\n",
              "      <td>installment</td>\n",
              "      <td>0.020897</td>\n",
              "      <td>2.359321e-05</td>\n",
              "    </tr>\n",
              "    <tr>\n",
              "      <th>1</th>\n",
              "      <td>funded_amnt</td>\n",
              "      <td>0.019471</td>\n",
              "      <td>2.268563e-12</td>\n",
              "    </tr>\n",
              "    <tr>\n",
              "      <th>29</th>\n",
              "      <td>mnths_after_issue_d</td>\n",
              "      <td>0.015321</td>\n",
              "      <td>2.359306e-05</td>\n",
              "    </tr>\n",
              "    <tr>\n",
              "      <th>32</th>\n",
              "      <td>mnths_after_last_credit_pull_d</td>\n",
              "      <td>0.011209</td>\n",
              "      <td>0.000000e+00</td>\n",
              "    </tr>\n",
              "    <tr>\n",
              "      <th>24</th>\n",
              "      <td>total_rec_int</td>\n",
              "      <td>0.010258</td>\n",
              "      <td>4.608722e-05</td>\n",
              "    </tr>\n",
              "    <tr>\n",
              "      <th>4</th>\n",
              "      <td>int_rate</td>\n",
              "      <td>0.007960</td>\n",
              "      <td>9.509533e-05</td>\n",
              "    </tr>\n",
              "    <tr>\n",
              "      <th>6</th>\n",
              "      <td>grade</td>\n",
              "      <td>0.006010</td>\n",
              "      <td>1.690273e-05</td>\n",
              "    </tr>\n",
              "    <tr>\n",
              "      <th>13</th>\n",
              "      <td>inq_last_6mths</td>\n",
              "      <td>0.002835</td>\n",
              "      <td>7.519031e-06</td>\n",
              "    </tr>\n",
              "    <tr>\n",
              "      <th>3</th>\n",
              "      <td>term</td>\n",
              "      <td>0.002200</td>\n",
              "      <td>3.330405e-06</td>\n",
              "    </tr>\n",
              "    <tr>\n",
              "      <th>26</th>\n",
              "      <td>tot_cur_bal</td>\n",
              "      <td>0.001792</td>\n",
              "      <td>8.996481e-06</td>\n",
              "    </tr>\n",
              "    <tr>\n",
              "      <th>27</th>\n",
              "      <td>total_rev_hi_lim</td>\n",
              "      <td>0.001508</td>\n",
              "      <td>4.965899e-06</td>\n",
              "    </tr>\n",
              "    <tr>\n",
              "      <th>12</th>\n",
              "      <td>dti</td>\n",
              "      <td>0.001224</td>\n",
              "      <td>2.120609e-05</td>\n",
              "    </tr>\n",
              "    <tr>\n",
              "      <th>15</th>\n",
              "      <td>revol_bal</td>\n",
              "      <td>0.001051</td>\n",
              "      <td>0.000000e+00</td>\n",
              "    </tr>\n",
              "    <tr>\n",
              "      <th>16</th>\n",
              "      <td>revol_util</td>\n",
              "      <td>0.001002</td>\n",
              "      <td>1.626814e-05</td>\n",
              "    </tr>\n",
              "    <tr>\n",
              "      <th>9</th>\n",
              "      <td>annual_inc</td>\n",
              "      <td>0.000912</td>\n",
              "      <td>5.471214e-06</td>\n",
              "    </tr>\n",
              "    <tr>\n",
              "      <th>28</th>\n",
              "      <td>mnths_after_earliest_cr</td>\n",
              "      <td>0.000803</td>\n",
              "      <td>0.000000e+00</td>\n",
              "    </tr>\n",
              "    <tr>\n",
              "      <th>17</th>\n",
              "      <td>total_acc</td>\n",
              "      <td>0.000617</td>\n",
              "      <td>4.970497e-06</td>\n",
              "    </tr>\n",
              "    <tr>\n",
              "      <th>14</th>\n",
              "      <td>open_acc</td>\n",
              "      <td>0.000504</td>\n",
              "      <td>0.000000e+00</td>\n",
              "    </tr>\n",
              "    <tr>\n",
              "      <th>18</th>\n",
              "      <td>initial_list_status</td>\n",
              "      <td>0.000344</td>\n",
              "      <td>0.000000e+00</td>\n",
              "    </tr>\n",
              "    <tr>\n",
              "      <th>10</th>\n",
              "      <td>verification_status</td>\n",
              "      <td>0.000331</td>\n",
              "      <td>0.000000e+00</td>\n",
              "    </tr>\n",
              "    <tr>\n",
              "      <th>11</th>\n",
              "      <td>purpose</td>\n",
              "      <td>0.000280</td>\n",
              "      <td>0.000000e+00</td>\n",
              "    </tr>\n",
              "    <tr>\n",
              "      <th>7</th>\n",
              "      <td>emp_length</td>\n",
              "      <td>0.000200</td>\n",
              "      <td>0.000000e+00</td>\n",
              "    </tr>\n",
              "    <tr>\n",
              "      <th>8</th>\n",
              "      <td>home_ownership</td>\n",
              "      <td>0.000091</td>\n",
              "      <td>0.000000e+00</td>\n",
              "    </tr>\n",
              "    <tr>\n",
              "      <th>33</th>\n",
              "      <td>ever_deliq</td>\n",
              "      <td>0.000035</td>\n",
              "      <td>0.000000e+00</td>\n",
              "    </tr>\n",
              "  </tbody>\n",
              "</table>\n",
              "</div>\n",
              "      <button class=\"colab-df-convert\" onclick=\"convertToInteractive('df-45824b2e-f8a7-49a0-b17f-d3cf0ddfdfb4')\"\n",
              "              title=\"Convert this dataframe to an interactive table.\"\n",
              "              style=\"display:none;\">\n",
              "        \n",
              "  <svg xmlns=\"http://www.w3.org/2000/svg\" height=\"24px\"viewBox=\"0 0 24 24\"\n",
              "       width=\"24px\">\n",
              "    <path d=\"M0 0h24v24H0V0z\" fill=\"none\"/>\n",
              "    <path d=\"M18.56 5.44l.94 2.06.94-2.06 2.06-.94-2.06-.94-.94-2.06-.94 2.06-2.06.94zm-11 1L8.5 8.5l.94-2.06 2.06-.94-2.06-.94L8.5 2.5l-.94 2.06-2.06.94zm10 10l.94 2.06.94-2.06 2.06-.94-2.06-.94-.94-2.06-.94 2.06-2.06.94z\"/><path d=\"M17.41 7.96l-1.37-1.37c-.4-.4-.92-.59-1.43-.59-.52 0-1.04.2-1.43.59L10.3 9.45l-7.72 7.72c-.78.78-.78 2.05 0 2.83L4 21.41c.39.39.9.59 1.41.59.51 0 1.02-.2 1.41-.59l7.78-7.78 2.81-2.81c.8-.78.8-2.07 0-2.86zM5.41 20L4 18.59l7.72-7.72 1.47 1.35L5.41 20z\"/>\n",
              "  </svg>\n",
              "      </button>\n",
              "      \n",
              "  <style>\n",
              "    .colab-df-container {\n",
              "      display:flex;\n",
              "      flex-wrap:wrap;\n",
              "      gap: 12px;\n",
              "    }\n",
              "\n",
              "    .colab-df-convert {\n",
              "      background-color: #E8F0FE;\n",
              "      border: none;\n",
              "      border-radius: 50%;\n",
              "      cursor: pointer;\n",
              "      display: none;\n",
              "      fill: #1967D2;\n",
              "      height: 32px;\n",
              "      padding: 0 0 0 0;\n",
              "      width: 32px;\n",
              "    }\n",
              "\n",
              "    .colab-df-convert:hover {\n",
              "      background-color: #E2EBFA;\n",
              "      box-shadow: 0px 1px 2px rgba(60, 64, 67, 0.3), 0px 1px 3px 1px rgba(60, 64, 67, 0.15);\n",
              "      fill: #174EA6;\n",
              "    }\n",
              "\n",
              "    [theme=dark] .colab-df-convert {\n",
              "      background-color: #3B4455;\n",
              "      fill: #D2E3FC;\n",
              "    }\n",
              "\n",
              "    [theme=dark] .colab-df-convert:hover {\n",
              "      background-color: #434B5C;\n",
              "      box-shadow: 0px 1px 3px 1px rgba(0, 0, 0, 0.15);\n",
              "      filter: drop-shadow(0px 1px 2px rgba(0, 0, 0, 0.3));\n",
              "      fill: #FFFFFF;\n",
              "    }\n",
              "  </style>\n",
              "\n",
              "      <script>\n",
              "        const buttonEl =\n",
              "          document.querySelector('#df-45824b2e-f8a7-49a0-b17f-d3cf0ddfdfb4 button.colab-df-convert');\n",
              "        buttonEl.style.display =\n",
              "          google.colab.kernel.accessAllowed ? 'block' : 'none';\n",
              "\n",
              "        async function convertToInteractive(key) {\n",
              "          const element = document.querySelector('#df-45824b2e-f8a7-49a0-b17f-d3cf0ddfdfb4');\n",
              "          const dataTable =\n",
              "            await google.colab.kernel.invokeFunction('convertToInteractive',\n",
              "                                                     [key], {});\n",
              "          if (!dataTable) return;\n",
              "\n",
              "          const docLinkHtml = 'Like what you see? Visit the ' +\n",
              "            '<a target=\"_blank\" href=https://colab.research.google.com/notebooks/data_table.ipynb>data table notebook</a>'\n",
              "            + ' to learn more about interactive tables.';\n",
              "          element.innerHTML = '';\n",
              "          dataTable['output_type'] = 'display_data';\n",
              "          await google.colab.output.renderOutput(dataTable, element);\n",
              "          const docLink = document.createElement('div');\n",
              "          docLink.innerHTML = docLinkHtml;\n",
              "          element.appendChild(docLink);\n",
              "        }\n",
              "      </script>\n",
              "    </div>\n",
              "  </div>\n",
              "  "
            ]
          },
          "metadata": {},
          "execution_count": 80
        }
      ]
    },
    {
      "cell_type": "markdown",
      "source": [
        "Setelah dilihat _features importances_ dalam kedua pemodelan tersebut, ternyata fitur `mnths_after_next_pymnt_d` menjadi fitur paling penting di dalam klasifikasi risiko model. Kemudian diikuti `mnths_after_last_pymnt_d` dan `total_rec_prncp` "
      ],
      "metadata": {
        "id": "4kIy_zYweNr8"
      }
    }
  ]
}