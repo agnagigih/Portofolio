{
 "cells": [
  {
   "cell_type": "markdown",
   "id": "366f213f",
   "metadata": {
    "id": "366f213f"
   },
   "source": [
    "# Pemodelan untuk Memprediksi Risiko Kredit\n",
    "\n",
    "Risiko kredit adalah suatu risiko akibat kegagalan debitur untuk memenuhi kewajiban membayar kredit pada saat jatuh tempo.\n"
   ]
  },
  {
   "cell_type": "code",
   "execution_count": 1,
   "id": "hEx7Z47zxfst",
   "metadata": {
    "colab": {
     "base_uri": "https://localhost:8080/"
    },
    "id": "hEx7Z47zxfst",
    "outputId": "cec610e1-ee5d-4a3a-c4b1-5749df284fb2"
   },
   "outputs": [
    {
     "name": "stdout",
     "output_type": "stream",
     "text": [
      "Drive already mounted at /content/drive; to attempt to forcibly remount, call drive.mount(\"/content/drive\", force_remount=True).\n"
     ]
    }
   ],
   "source": [
    "from google.colab import drive\n",
    "drive.mount('/content/drive')"
   ]
  },
  {
   "cell_type": "code",
   "execution_count": 2,
   "id": "f31e6a37",
   "metadata": {
    "id": "f31e6a37"
   },
   "outputs": [],
   "source": [
    "import pandas as pd\n",
    "import numpy as np\n",
    "import matplotlib.pyplot as plt\n",
    "import seaborn as sns\n",
    "\n",
    "pd.set_option('display.max_columns', None)\n",
    "# pd.set_option('display.max_rows', None)"
   ]
  },
  {
   "cell_type": "markdown",
   "id": "45e95204",
   "metadata": {
    "id": "45e95204"
   },
   "source": [
    "# Eksplorasi data"
   ]
  },
  {
   "cell_type": "code",
   "execution_count": 3,
   "id": "c503ac78",
   "metadata": {
    "colab": {
     "base_uri": "https://localhost:8080/"
    },
    "id": "c503ac78",
    "outputId": "c7b82ab7-06ee-4800-aaf3-88f39a1f1620"
   },
   "outputs": [
    {
     "data": {
      "text/plain": [
       "Index(['id', 'member_id', 'loan_amnt', 'funded_amnt', 'funded_amnt_inv',\n",
       "       'term', 'int_rate', 'installment', 'grade', 'sub_grade', 'emp_title',\n",
       "       'emp_length', 'home_ownership', 'annual_inc', 'verification_status',\n",
       "       'issue_d', 'loan_status', 'pymnt_plan', 'url', 'desc', 'purpose',\n",
       "       'title', 'zip_code', 'addr_state', 'dti', 'delinq_2yrs',\n",
       "       'earliest_cr_line', 'inq_last_6mths', 'mths_since_last_delinq',\n",
       "       'mths_since_last_record', 'open_acc', 'pub_rec', 'revol_bal',\n",
       "       'revol_util', 'total_acc', 'initial_list_status', 'out_prncp',\n",
       "       'out_prncp_inv', 'total_pymnt', 'total_pymnt_inv', 'total_rec_prncp',\n",
       "       'total_rec_int', 'total_rec_late_fee', 'recoveries',\n",
       "       'collection_recovery_fee', 'last_pymnt_d', 'last_pymnt_amnt',\n",
       "       'next_pymnt_d', 'last_credit_pull_d', 'collections_12_mths_ex_med',\n",
       "       'mths_since_last_major_derog', 'policy_code', 'application_type',\n",
       "       'annual_inc_joint', 'dti_joint', 'verification_status_joint',\n",
       "       'acc_now_delinq', 'tot_coll_amt', 'tot_cur_bal', 'open_acc_6m',\n",
       "       'open_il_6m', 'open_il_12m', 'open_il_24m', 'mths_since_rcnt_il',\n",
       "       'total_bal_il', 'il_util', 'open_rv_12m', 'open_rv_24m', 'max_bal_bc',\n",
       "       'all_util', 'total_rev_hi_lim', 'inq_fi', 'total_cu_tl',\n",
       "       'inq_last_12m'],\n",
       "      dtype='object')"
      ]
     },
     "execution_count": 3,
     "metadata": {},
     "output_type": "execute_result"
    }
   ],
   "source": [
    "# load data set\n",
    "df_loan = pd.read_csv('drive/MyDrive/Dataset/loan_data_2007_2014.csv', index_col=['Unnamed: 0'], low_memory=False)\n",
    "\n",
    "# Melihat kolom-kolom pada dataframe\n",
    "df_loan.columns"
   ]
  },
  {
   "cell_type": "code",
   "execution_count": 4,
   "id": "86af9158",
   "metadata": {
    "colab": {
     "base_uri": "https://localhost:8080/"
    },
    "id": "86af9158",
    "outputId": "b2689728-07e1-4bdf-d6ce-a7350d9c3604",
    "scrolled": false
   },
   "outputs": [
    {
     "name": "stdout",
     "output_type": "stream",
     "text": [
      "<class 'pandas.core.frame.DataFrame'>\n",
      "Int64Index: 466285 entries, 0 to 466284\n",
      "Data columns (total 74 columns):\n",
      " #   Column                       Non-Null Count   Dtype  \n",
      "---  ------                       --------------   -----  \n",
      " 0   id                           466285 non-null  int64  \n",
      " 1   member_id                    466285 non-null  int64  \n",
      " 2   loan_amnt                    466285 non-null  int64  \n",
      " 3   funded_amnt                  466285 non-null  int64  \n",
      " 4   funded_amnt_inv              466285 non-null  float64\n",
      " 5   term                         466285 non-null  object \n",
      " 6   int_rate                     466285 non-null  float64\n",
      " 7   installment                  466285 non-null  float64\n",
      " 8   grade                        466285 non-null  object \n",
      " 9   sub_grade                    466285 non-null  object \n",
      " 10  emp_title                    438697 non-null  object \n",
      " 11  emp_length                   445277 non-null  object \n",
      " 12  home_ownership               466285 non-null  object \n",
      " 13  annual_inc                   466281 non-null  float64\n",
      " 14  verification_status          466285 non-null  object \n",
      " 15  issue_d                      466285 non-null  object \n",
      " 16  loan_status                  466285 non-null  object \n",
      " 17  pymnt_plan                   466285 non-null  object \n",
      " 18  url                          466285 non-null  object \n",
      " 19  desc                         125983 non-null  object \n",
      " 20  purpose                      466285 non-null  object \n",
      " 21  title                        466265 non-null  object \n",
      " 22  zip_code                     466285 non-null  object \n",
      " 23  addr_state                   466285 non-null  object \n",
      " 24  dti                          466285 non-null  float64\n",
      " 25  delinq_2yrs                  466256 non-null  float64\n",
      " 26  earliest_cr_line             466256 non-null  object \n",
      " 27  inq_last_6mths               466256 non-null  float64\n",
      " 28  mths_since_last_delinq       215934 non-null  float64\n",
      " 29  mths_since_last_record       62638 non-null   float64\n",
      " 30  open_acc                     466256 non-null  float64\n",
      " 31  pub_rec                      466256 non-null  float64\n",
      " 32  revol_bal                    466285 non-null  int64  \n",
      " 33  revol_util                   465945 non-null  float64\n",
      " 34  total_acc                    466256 non-null  float64\n",
      " 35  initial_list_status          466285 non-null  object \n",
      " 36  out_prncp                    466285 non-null  float64\n",
      " 37  out_prncp_inv                466285 non-null  float64\n",
      " 38  total_pymnt                  466285 non-null  float64\n",
      " 39  total_pymnt_inv              466285 non-null  float64\n",
      " 40  total_rec_prncp              466285 non-null  float64\n",
      " 41  total_rec_int                466285 non-null  float64\n",
      " 42  total_rec_late_fee           466285 non-null  float64\n",
      " 43  recoveries                   466285 non-null  float64\n",
      " 44  collection_recovery_fee      466285 non-null  float64\n",
      " 45  last_pymnt_d                 465909 non-null  object \n",
      " 46  last_pymnt_amnt              466285 non-null  float64\n",
      " 47  next_pymnt_d                 239071 non-null  object \n",
      " 48  last_credit_pull_d           466243 non-null  object \n",
      " 49  collections_12_mths_ex_med   466140 non-null  float64\n",
      " 50  mths_since_last_major_derog  98974 non-null   float64\n",
      " 51  policy_code                  466285 non-null  int64  \n",
      " 52  application_type             466285 non-null  object \n",
      " 53  annual_inc_joint             0 non-null       float64\n",
      " 54  dti_joint                    0 non-null       float64\n",
      " 55  verification_status_joint    0 non-null       float64\n",
      " 56  acc_now_delinq               466256 non-null  float64\n",
      " 57  tot_coll_amt                 396009 non-null  float64\n",
      " 58  tot_cur_bal                  396009 non-null  float64\n",
      " 59  open_acc_6m                  0 non-null       float64\n",
      " 60  open_il_6m                   0 non-null       float64\n",
      " 61  open_il_12m                  0 non-null       float64\n",
      " 62  open_il_24m                  0 non-null       float64\n",
      " 63  mths_since_rcnt_il           0 non-null       float64\n",
      " 64  total_bal_il                 0 non-null       float64\n",
      " 65  il_util                      0 non-null       float64\n",
      " 66  open_rv_12m                  0 non-null       float64\n",
      " 67  open_rv_24m                  0 non-null       float64\n",
      " 68  max_bal_bc                   0 non-null       float64\n",
      " 69  all_util                     0 non-null       float64\n",
      " 70  total_rev_hi_lim             396009 non-null  float64\n",
      " 71  inq_fi                       0 non-null       float64\n",
      " 72  total_cu_tl                  0 non-null       float64\n",
      " 73  inq_last_12m                 0 non-null       float64\n",
      "dtypes: float64(46), int64(6), object(22)\n",
      "memory usage: 266.8+ MB\n"
     ]
    }
   ],
   "source": [
    "df_loan.info()"
   ]
  },
  {
   "cell_type": "markdown",
   "id": "9f64ce19",
   "metadata": {
    "id": "9f64ce19"
   },
   "source": [
    "Berdasarkan informasi tersebut, terdapat banyak kolom yang tidak berisi data. Karena kolom tersebut tidak memberikan informasi, maka kolom-kolom tersebut dihapus dari dataframe."
   ]
  },
  {
   "cell_type": "code",
   "execution_count": 5,
   "id": "93acfa6b",
   "metadata": {
    "id": "93acfa6b"
   },
   "outputs": [],
   "source": [
    "# drop kolom yang seluruh kolom teresebut hanya berisi 'null' atau kosong\n",
    "df_loan.dropna(axis=1, how='all', inplace=True)"
   ]
  },
  {
   "cell_type": "code",
   "execution_count": 6,
   "id": "zOh8bm6jSI9V",
   "metadata": {
    "colab": {
     "base_uri": "https://localhost:8080/"
    },
    "id": "zOh8bm6jSI9V",
    "outputId": "cfa338d5-ccca-431b-f16a-80c28a14d6b4"
   },
   "outputs": [
    {
     "data": {
      "text/plain": [
       "(466285, 57)"
      ]
     },
     "execution_count": 6,
     "metadata": {},
     "output_type": "execute_result"
    }
   ],
   "source": [
    "df_loan.shape"
   ]
  },
  {
   "cell_type": "code",
   "execution_count": 7,
   "id": "8b3ae80e",
   "metadata": {
    "colab": {
     "base_uri": "https://localhost:8080/",
     "height": 364
    },
    "id": "8b3ae80e",
    "outputId": "416a7305-f3c4-4197-b49f-fb1c647b967c",
    "scrolled": true
   },
   "outputs": [
    {
     "data": {
      "text/html": [
       "\n",
       "  <div id=\"df-f5165bfd-27cd-46a3-98aa-c7c8474c0086\">\n",
       "    <div class=\"colab-df-container\">\n",
       "      <div>\n",
       "<style scoped>\n",
       "    .dataframe tbody tr th:only-of-type {\n",
       "        vertical-align: middle;\n",
       "    }\n",
       "\n",
       "    .dataframe tbody tr th {\n",
       "        vertical-align: top;\n",
       "    }\n",
       "\n",
       "    .dataframe thead th {\n",
       "        text-align: right;\n",
       "    }\n",
       "</style>\n",
       "<table border=\"1\" class=\"dataframe\">\n",
       "  <thead>\n",
       "    <tr style=\"text-align: right;\">\n",
       "      <th></th>\n",
       "      <th>id</th>\n",
       "      <th>member_id</th>\n",
       "      <th>loan_amnt</th>\n",
       "      <th>funded_amnt</th>\n",
       "      <th>funded_amnt_inv</th>\n",
       "      <th>int_rate</th>\n",
       "      <th>installment</th>\n",
       "      <th>annual_inc</th>\n",
       "      <th>dti</th>\n",
       "      <th>delinq_2yrs</th>\n",
       "      <th>inq_last_6mths</th>\n",
       "      <th>mths_since_last_delinq</th>\n",
       "      <th>mths_since_last_record</th>\n",
       "      <th>open_acc</th>\n",
       "      <th>pub_rec</th>\n",
       "      <th>revol_bal</th>\n",
       "      <th>revol_util</th>\n",
       "      <th>total_acc</th>\n",
       "      <th>out_prncp</th>\n",
       "      <th>out_prncp_inv</th>\n",
       "      <th>total_pymnt</th>\n",
       "      <th>total_pymnt_inv</th>\n",
       "      <th>total_rec_prncp</th>\n",
       "      <th>total_rec_int</th>\n",
       "      <th>total_rec_late_fee</th>\n",
       "      <th>recoveries</th>\n",
       "      <th>collection_recovery_fee</th>\n",
       "      <th>last_pymnt_amnt</th>\n",
       "      <th>collections_12_mths_ex_med</th>\n",
       "      <th>mths_since_last_major_derog</th>\n",
       "      <th>policy_code</th>\n",
       "      <th>acc_now_delinq</th>\n",
       "      <th>tot_coll_amt</th>\n",
       "      <th>tot_cur_bal</th>\n",
       "      <th>total_rev_hi_lim</th>\n",
       "    </tr>\n",
       "  </thead>\n",
       "  <tbody>\n",
       "    <tr>\n",
       "      <th>count</th>\n",
       "      <td>4.662850e+05</td>\n",
       "      <td>4.662850e+05</td>\n",
       "      <td>466285.000000</td>\n",
       "      <td>466285.000000</td>\n",
       "      <td>466285.000000</td>\n",
       "      <td>466285.000000</td>\n",
       "      <td>466285.000000</td>\n",
       "      <td>4.662810e+05</td>\n",
       "      <td>466285.000000</td>\n",
       "      <td>466256.000000</td>\n",
       "      <td>466256.000000</td>\n",
       "      <td>215934.000000</td>\n",
       "      <td>62638.000000</td>\n",
       "      <td>466256.000000</td>\n",
       "      <td>466256.000000</td>\n",
       "      <td>4.662850e+05</td>\n",
       "      <td>465945.000000</td>\n",
       "      <td>466256.000000</td>\n",
       "      <td>466285.000000</td>\n",
       "      <td>466285.000000</td>\n",
       "      <td>466285.000000</td>\n",
       "      <td>466285.000000</td>\n",
       "      <td>466285.000000</td>\n",
       "      <td>466285.000000</td>\n",
       "      <td>466285.000000</td>\n",
       "      <td>466285.000000</td>\n",
       "      <td>466285.000000</td>\n",
       "      <td>466285.000000</td>\n",
       "      <td>466140.000000</td>\n",
       "      <td>98974.000000</td>\n",
       "      <td>466285.0</td>\n",
       "      <td>466256.000000</td>\n",
       "      <td>3.960090e+05</td>\n",
       "      <td>3.960090e+05</td>\n",
       "      <td>3.960090e+05</td>\n",
       "    </tr>\n",
       "    <tr>\n",
       "      <th>mean</th>\n",
       "      <td>1.307973e+07</td>\n",
       "      <td>1.459766e+07</td>\n",
       "      <td>14317.277577</td>\n",
       "      <td>14291.801044</td>\n",
       "      <td>14222.329888</td>\n",
       "      <td>13.829236</td>\n",
       "      <td>432.061201</td>\n",
       "      <td>7.327738e+04</td>\n",
       "      <td>17.218758</td>\n",
       "      <td>0.284678</td>\n",
       "      <td>0.804745</td>\n",
       "      <td>34.104430</td>\n",
       "      <td>74.306012</td>\n",
       "      <td>11.187069</td>\n",
       "      <td>0.160564</td>\n",
       "      <td>1.623020e+04</td>\n",
       "      <td>56.176947</td>\n",
       "      <td>25.064430</td>\n",
       "      <td>4410.062342</td>\n",
       "      <td>4408.452258</td>\n",
       "      <td>11540.686220</td>\n",
       "      <td>11469.892747</td>\n",
       "      <td>8866.014657</td>\n",
       "      <td>2588.677225</td>\n",
       "      <td>0.650129</td>\n",
       "      <td>85.344211</td>\n",
       "      <td>8.961534</td>\n",
       "      <td>3123.913796</td>\n",
       "      <td>0.009085</td>\n",
       "      <td>42.852547</td>\n",
       "      <td>1.0</td>\n",
       "      <td>0.004002</td>\n",
       "      <td>1.919135e+02</td>\n",
       "      <td>1.388017e+05</td>\n",
       "      <td>3.037909e+04</td>\n",
       "    </tr>\n",
       "    <tr>\n",
       "      <th>std</th>\n",
       "      <td>1.089371e+07</td>\n",
       "      <td>1.168237e+07</td>\n",
       "      <td>8286.509164</td>\n",
       "      <td>8274.371300</td>\n",
       "      <td>8297.637788</td>\n",
       "      <td>4.357587</td>\n",
       "      <td>243.485550</td>\n",
       "      <td>5.496357e+04</td>\n",
       "      <td>7.851121</td>\n",
       "      <td>0.797365</td>\n",
       "      <td>1.091598</td>\n",
       "      <td>21.778487</td>\n",
       "      <td>30.357653</td>\n",
       "      <td>4.987526</td>\n",
       "      <td>0.510863</td>\n",
       "      <td>2.067625e+04</td>\n",
       "      <td>23.732628</td>\n",
       "      <td>11.600141</td>\n",
       "      <td>6355.078769</td>\n",
       "      <td>6353.198001</td>\n",
       "      <td>8265.627112</td>\n",
       "      <td>8254.157579</td>\n",
       "      <td>7031.687997</td>\n",
       "      <td>2483.809661</td>\n",
       "      <td>5.265730</td>\n",
       "      <td>552.216084</td>\n",
       "      <td>85.491437</td>\n",
       "      <td>5554.737393</td>\n",
       "      <td>0.108648</td>\n",
       "      <td>21.662591</td>\n",
       "      <td>0.0</td>\n",
       "      <td>0.068637</td>\n",
       "      <td>1.463021e+04</td>\n",
       "      <td>1.521147e+05</td>\n",
       "      <td>3.724713e+04</td>\n",
       "    </tr>\n",
       "    <tr>\n",
       "      <th>min</th>\n",
       "      <td>5.473400e+04</td>\n",
       "      <td>7.047300e+04</td>\n",
       "      <td>500.000000</td>\n",
       "      <td>500.000000</td>\n",
       "      <td>0.000000</td>\n",
       "      <td>5.420000</td>\n",
       "      <td>15.670000</td>\n",
       "      <td>1.896000e+03</td>\n",
       "      <td>0.000000</td>\n",
       "      <td>0.000000</td>\n",
       "      <td>0.000000</td>\n",
       "      <td>0.000000</td>\n",
       "      <td>0.000000</td>\n",
       "      <td>0.000000</td>\n",
       "      <td>0.000000</td>\n",
       "      <td>0.000000e+00</td>\n",
       "      <td>0.000000</td>\n",
       "      <td>1.000000</td>\n",
       "      <td>0.000000</td>\n",
       "      <td>0.000000</td>\n",
       "      <td>0.000000</td>\n",
       "      <td>0.000000</td>\n",
       "      <td>0.000000</td>\n",
       "      <td>0.000000</td>\n",
       "      <td>0.000000</td>\n",
       "      <td>0.000000</td>\n",
       "      <td>0.000000</td>\n",
       "      <td>0.000000</td>\n",
       "      <td>0.000000</td>\n",
       "      <td>0.000000</td>\n",
       "      <td>1.0</td>\n",
       "      <td>0.000000</td>\n",
       "      <td>0.000000e+00</td>\n",
       "      <td>0.000000e+00</td>\n",
       "      <td>0.000000e+00</td>\n",
       "    </tr>\n",
       "    <tr>\n",
       "      <th>25%</th>\n",
       "      <td>3.639987e+06</td>\n",
       "      <td>4.379705e+06</td>\n",
       "      <td>8000.000000</td>\n",
       "      <td>8000.000000</td>\n",
       "      <td>8000.000000</td>\n",
       "      <td>10.990000</td>\n",
       "      <td>256.690000</td>\n",
       "      <td>4.500000e+04</td>\n",
       "      <td>11.360000</td>\n",
       "      <td>0.000000</td>\n",
       "      <td>0.000000</td>\n",
       "      <td>16.000000</td>\n",
       "      <td>53.000000</td>\n",
       "      <td>8.000000</td>\n",
       "      <td>0.000000</td>\n",
       "      <td>6.413000e+03</td>\n",
       "      <td>39.200000</td>\n",
       "      <td>17.000000</td>\n",
       "      <td>0.000000</td>\n",
       "      <td>0.000000</td>\n",
       "      <td>5552.125349</td>\n",
       "      <td>5499.250000</td>\n",
       "      <td>3708.560000</td>\n",
       "      <td>957.280000</td>\n",
       "      <td>0.000000</td>\n",
       "      <td>0.000000</td>\n",
       "      <td>0.000000</td>\n",
       "      <td>312.620000</td>\n",
       "      <td>0.000000</td>\n",
       "      <td>26.000000</td>\n",
       "      <td>1.0</td>\n",
       "      <td>0.000000</td>\n",
       "      <td>0.000000e+00</td>\n",
       "      <td>2.861800e+04</td>\n",
       "      <td>1.350000e+04</td>\n",
       "    </tr>\n",
       "    <tr>\n",
       "      <th>50%</th>\n",
       "      <td>1.010790e+07</td>\n",
       "      <td>1.194108e+07</td>\n",
       "      <td>12000.000000</td>\n",
       "      <td>12000.000000</td>\n",
       "      <td>12000.000000</td>\n",
       "      <td>13.660000</td>\n",
       "      <td>379.890000</td>\n",
       "      <td>6.300000e+04</td>\n",
       "      <td>16.870000</td>\n",
       "      <td>0.000000</td>\n",
       "      <td>0.000000</td>\n",
       "      <td>31.000000</td>\n",
       "      <td>76.000000</td>\n",
       "      <td>10.000000</td>\n",
       "      <td>0.000000</td>\n",
       "      <td>1.176400e+04</td>\n",
       "      <td>57.600000</td>\n",
       "      <td>23.000000</td>\n",
       "      <td>441.470000</td>\n",
       "      <td>441.380000</td>\n",
       "      <td>9419.250943</td>\n",
       "      <td>9355.430000</td>\n",
       "      <td>6817.760000</td>\n",
       "      <td>1818.880000</td>\n",
       "      <td>0.000000</td>\n",
       "      <td>0.000000</td>\n",
       "      <td>0.000000</td>\n",
       "      <td>545.960000</td>\n",
       "      <td>0.000000</td>\n",
       "      <td>42.000000</td>\n",
       "      <td>1.0</td>\n",
       "      <td>0.000000</td>\n",
       "      <td>0.000000e+00</td>\n",
       "      <td>8.153900e+04</td>\n",
       "      <td>2.280000e+04</td>\n",
       "    </tr>\n",
       "    <tr>\n",
       "      <th>75%</th>\n",
       "      <td>2.073121e+07</td>\n",
       "      <td>2.300154e+07</td>\n",
       "      <td>20000.000000</td>\n",
       "      <td>20000.000000</td>\n",
       "      <td>19950.000000</td>\n",
       "      <td>16.490000</td>\n",
       "      <td>566.580000</td>\n",
       "      <td>8.896000e+04</td>\n",
       "      <td>22.780000</td>\n",
       "      <td>0.000000</td>\n",
       "      <td>1.000000</td>\n",
       "      <td>49.000000</td>\n",
       "      <td>102.000000</td>\n",
       "      <td>14.000000</td>\n",
       "      <td>0.000000</td>\n",
       "      <td>2.033300e+04</td>\n",
       "      <td>74.700000</td>\n",
       "      <td>32.000000</td>\n",
       "      <td>7341.650000</td>\n",
       "      <td>7338.390000</td>\n",
       "      <td>15308.158460</td>\n",
       "      <td>15231.310000</td>\n",
       "      <td>12000.000000</td>\n",
       "      <td>3304.530000</td>\n",
       "      <td>0.000000</td>\n",
       "      <td>0.000000</td>\n",
       "      <td>0.000000</td>\n",
       "      <td>3187.510000</td>\n",
       "      <td>0.000000</td>\n",
       "      <td>59.000000</td>\n",
       "      <td>1.0</td>\n",
       "      <td>0.000000</td>\n",
       "      <td>0.000000e+00</td>\n",
       "      <td>2.089530e+05</td>\n",
       "      <td>3.790000e+04</td>\n",
       "    </tr>\n",
       "    <tr>\n",
       "      <th>max</th>\n",
       "      <td>3.809811e+07</td>\n",
       "      <td>4.086083e+07</td>\n",
       "      <td>35000.000000</td>\n",
       "      <td>35000.000000</td>\n",
       "      <td>35000.000000</td>\n",
       "      <td>26.060000</td>\n",
       "      <td>1409.990000</td>\n",
       "      <td>7.500000e+06</td>\n",
       "      <td>39.990000</td>\n",
       "      <td>29.000000</td>\n",
       "      <td>33.000000</td>\n",
       "      <td>188.000000</td>\n",
       "      <td>129.000000</td>\n",
       "      <td>84.000000</td>\n",
       "      <td>63.000000</td>\n",
       "      <td>2.568995e+06</td>\n",
       "      <td>892.300000</td>\n",
       "      <td>156.000000</td>\n",
       "      <td>32160.380000</td>\n",
       "      <td>32160.380000</td>\n",
       "      <td>57777.579870</td>\n",
       "      <td>57777.580000</td>\n",
       "      <td>35000.030000</td>\n",
       "      <td>24205.620000</td>\n",
       "      <td>358.680000</td>\n",
       "      <td>33520.270000</td>\n",
       "      <td>7002.190000</td>\n",
       "      <td>36234.440000</td>\n",
       "      <td>20.000000</td>\n",
       "      <td>188.000000</td>\n",
       "      <td>1.0</td>\n",
       "      <td>5.000000</td>\n",
       "      <td>9.152545e+06</td>\n",
       "      <td>8.000078e+06</td>\n",
       "      <td>9.999999e+06</td>\n",
       "    </tr>\n",
       "  </tbody>\n",
       "</table>\n",
       "</div>\n",
       "      <button class=\"colab-df-convert\" onclick=\"convertToInteractive('df-f5165bfd-27cd-46a3-98aa-c7c8474c0086')\"\n",
       "              title=\"Convert this dataframe to an interactive table.\"\n",
       "              style=\"display:none;\">\n",
       "        \n",
       "  <svg xmlns=\"http://www.w3.org/2000/svg\" height=\"24px\"viewBox=\"0 0 24 24\"\n",
       "       width=\"24px\">\n",
       "    <path d=\"M0 0h24v24H0V0z\" fill=\"none\"/>\n",
       "    <path d=\"M18.56 5.44l.94 2.06.94-2.06 2.06-.94-2.06-.94-.94-2.06-.94 2.06-2.06.94zm-11 1L8.5 8.5l.94-2.06 2.06-.94-2.06-.94L8.5 2.5l-.94 2.06-2.06.94zm10 10l.94 2.06.94-2.06 2.06-.94-2.06-.94-.94-2.06-.94 2.06-2.06.94z\"/><path d=\"M17.41 7.96l-1.37-1.37c-.4-.4-.92-.59-1.43-.59-.52 0-1.04.2-1.43.59L10.3 9.45l-7.72 7.72c-.78.78-.78 2.05 0 2.83L4 21.41c.39.39.9.59 1.41.59.51 0 1.02-.2 1.41-.59l7.78-7.78 2.81-2.81c.8-.78.8-2.07 0-2.86zM5.41 20L4 18.59l7.72-7.72 1.47 1.35L5.41 20z\"/>\n",
       "  </svg>\n",
       "      </button>\n",
       "      \n",
       "  <style>\n",
       "    .colab-df-container {\n",
       "      display:flex;\n",
       "      flex-wrap:wrap;\n",
       "      gap: 12px;\n",
       "    }\n",
       "\n",
       "    .colab-df-convert {\n",
       "      background-color: #E8F0FE;\n",
       "      border: none;\n",
       "      border-radius: 50%;\n",
       "      cursor: pointer;\n",
       "      display: none;\n",
       "      fill: #1967D2;\n",
       "      height: 32px;\n",
       "      padding: 0 0 0 0;\n",
       "      width: 32px;\n",
       "    }\n",
       "\n",
       "    .colab-df-convert:hover {\n",
       "      background-color: #E2EBFA;\n",
       "      box-shadow: 0px 1px 2px rgba(60, 64, 67, 0.3), 0px 1px 3px 1px rgba(60, 64, 67, 0.15);\n",
       "      fill: #174EA6;\n",
       "    }\n",
       "\n",
       "    [theme=dark] .colab-df-convert {\n",
       "      background-color: #3B4455;\n",
       "      fill: #D2E3FC;\n",
       "    }\n",
       "\n",
       "    [theme=dark] .colab-df-convert:hover {\n",
       "      background-color: #434B5C;\n",
       "      box-shadow: 0px 1px 3px 1px rgba(0, 0, 0, 0.15);\n",
       "      filter: drop-shadow(0px 1px 2px rgba(0, 0, 0, 0.3));\n",
       "      fill: #FFFFFF;\n",
       "    }\n",
       "  </style>\n",
       "\n",
       "      <script>\n",
       "        const buttonEl =\n",
       "          document.querySelector('#df-f5165bfd-27cd-46a3-98aa-c7c8474c0086 button.colab-df-convert');\n",
       "        buttonEl.style.display =\n",
       "          google.colab.kernel.accessAllowed ? 'block' : 'none';\n",
       "\n",
       "        async function convertToInteractive(key) {\n",
       "          const element = document.querySelector('#df-f5165bfd-27cd-46a3-98aa-c7c8474c0086');\n",
       "          const dataTable =\n",
       "            await google.colab.kernel.invokeFunction('convertToInteractive',\n",
       "                                                     [key], {});\n",
       "          if (!dataTable) return;\n",
       "\n",
       "          const docLinkHtml = 'Like what you see? Visit the ' +\n",
       "            '<a target=\"_blank\" href=https://colab.research.google.com/notebooks/data_table.ipynb>data table notebook</a>'\n",
       "            + ' to learn more about interactive tables.';\n",
       "          element.innerHTML = '';\n",
       "          dataTable['output_type'] = 'display_data';\n",
       "          await google.colab.output.renderOutput(dataTable, element);\n",
       "          const docLink = document.createElement('div');\n",
       "          docLink.innerHTML = docLinkHtml;\n",
       "          element.appendChild(docLink);\n",
       "        }\n",
       "      </script>\n",
       "    </div>\n",
       "  </div>\n",
       "  "
      ],
      "text/plain": [
       "                 id     member_id      loan_amnt    funded_amnt  \\\n",
       "count  4.662850e+05  4.662850e+05  466285.000000  466285.000000   \n",
       "mean   1.307973e+07  1.459766e+07   14317.277577   14291.801044   \n",
       "std    1.089371e+07  1.168237e+07    8286.509164    8274.371300   \n",
       "min    5.473400e+04  7.047300e+04     500.000000     500.000000   \n",
       "25%    3.639987e+06  4.379705e+06    8000.000000    8000.000000   \n",
       "50%    1.010790e+07  1.194108e+07   12000.000000   12000.000000   \n",
       "75%    2.073121e+07  2.300154e+07   20000.000000   20000.000000   \n",
       "max    3.809811e+07  4.086083e+07   35000.000000   35000.000000   \n",
       "\n",
       "       funded_amnt_inv       int_rate    installment    annual_inc  \\\n",
       "count    466285.000000  466285.000000  466285.000000  4.662810e+05   \n",
       "mean      14222.329888      13.829236     432.061201  7.327738e+04   \n",
       "std        8297.637788       4.357587     243.485550  5.496357e+04   \n",
       "min           0.000000       5.420000      15.670000  1.896000e+03   \n",
       "25%        8000.000000      10.990000     256.690000  4.500000e+04   \n",
       "50%       12000.000000      13.660000     379.890000  6.300000e+04   \n",
       "75%       19950.000000      16.490000     566.580000  8.896000e+04   \n",
       "max       35000.000000      26.060000    1409.990000  7.500000e+06   \n",
       "\n",
       "                 dti    delinq_2yrs  inq_last_6mths  mths_since_last_delinq  \\\n",
       "count  466285.000000  466256.000000   466256.000000           215934.000000   \n",
       "mean       17.218758       0.284678        0.804745               34.104430   \n",
       "std         7.851121       0.797365        1.091598               21.778487   \n",
       "min         0.000000       0.000000        0.000000                0.000000   \n",
       "25%        11.360000       0.000000        0.000000               16.000000   \n",
       "50%        16.870000       0.000000        0.000000               31.000000   \n",
       "75%        22.780000       0.000000        1.000000               49.000000   \n",
       "max        39.990000      29.000000       33.000000              188.000000   \n",
       "\n",
       "       mths_since_last_record       open_acc        pub_rec     revol_bal  \\\n",
       "count            62638.000000  466256.000000  466256.000000  4.662850e+05   \n",
       "mean                74.306012      11.187069       0.160564  1.623020e+04   \n",
       "std                 30.357653       4.987526       0.510863  2.067625e+04   \n",
       "min                  0.000000       0.000000       0.000000  0.000000e+00   \n",
       "25%                 53.000000       8.000000       0.000000  6.413000e+03   \n",
       "50%                 76.000000      10.000000       0.000000  1.176400e+04   \n",
       "75%                102.000000      14.000000       0.000000  2.033300e+04   \n",
       "max                129.000000      84.000000      63.000000  2.568995e+06   \n",
       "\n",
       "          revol_util      total_acc      out_prncp  out_prncp_inv  \\\n",
       "count  465945.000000  466256.000000  466285.000000  466285.000000   \n",
       "mean       56.176947      25.064430    4410.062342    4408.452258   \n",
       "std        23.732628      11.600141    6355.078769    6353.198001   \n",
       "min         0.000000       1.000000       0.000000       0.000000   \n",
       "25%        39.200000      17.000000       0.000000       0.000000   \n",
       "50%        57.600000      23.000000     441.470000     441.380000   \n",
       "75%        74.700000      32.000000    7341.650000    7338.390000   \n",
       "max       892.300000     156.000000   32160.380000   32160.380000   \n",
       "\n",
       "         total_pymnt  total_pymnt_inv  total_rec_prncp  total_rec_int  \\\n",
       "count  466285.000000    466285.000000    466285.000000  466285.000000   \n",
       "mean    11540.686220     11469.892747      8866.014657    2588.677225   \n",
       "std      8265.627112      8254.157579      7031.687997    2483.809661   \n",
       "min         0.000000         0.000000         0.000000       0.000000   \n",
       "25%      5552.125349      5499.250000      3708.560000     957.280000   \n",
       "50%      9419.250943      9355.430000      6817.760000    1818.880000   \n",
       "75%     15308.158460     15231.310000     12000.000000    3304.530000   \n",
       "max     57777.579870     57777.580000     35000.030000   24205.620000   \n",
       "\n",
       "       total_rec_late_fee     recoveries  collection_recovery_fee  \\\n",
       "count       466285.000000  466285.000000            466285.000000   \n",
       "mean             0.650129      85.344211                 8.961534   \n",
       "std              5.265730     552.216084                85.491437   \n",
       "min              0.000000       0.000000                 0.000000   \n",
       "25%              0.000000       0.000000                 0.000000   \n",
       "50%              0.000000       0.000000                 0.000000   \n",
       "75%              0.000000       0.000000                 0.000000   \n",
       "max            358.680000   33520.270000              7002.190000   \n",
       "\n",
       "       last_pymnt_amnt  collections_12_mths_ex_med  \\\n",
       "count    466285.000000               466140.000000   \n",
       "mean       3123.913796                    0.009085   \n",
       "std        5554.737393                    0.108648   \n",
       "min           0.000000                    0.000000   \n",
       "25%         312.620000                    0.000000   \n",
       "50%         545.960000                    0.000000   \n",
       "75%        3187.510000                    0.000000   \n",
       "max       36234.440000                   20.000000   \n",
       "\n",
       "       mths_since_last_major_derog  policy_code  acc_now_delinq  tot_coll_amt  \\\n",
       "count                 98974.000000     466285.0   466256.000000  3.960090e+05   \n",
       "mean                     42.852547          1.0        0.004002  1.919135e+02   \n",
       "std                      21.662591          0.0        0.068637  1.463021e+04   \n",
       "min                       0.000000          1.0        0.000000  0.000000e+00   \n",
       "25%                      26.000000          1.0        0.000000  0.000000e+00   \n",
       "50%                      42.000000          1.0        0.000000  0.000000e+00   \n",
       "75%                      59.000000          1.0        0.000000  0.000000e+00   \n",
       "max                     188.000000          1.0        5.000000  9.152545e+06   \n",
       "\n",
       "        tot_cur_bal  total_rev_hi_lim  \n",
       "count  3.960090e+05      3.960090e+05  \n",
       "mean   1.388017e+05      3.037909e+04  \n",
       "std    1.521147e+05      3.724713e+04  \n",
       "min    0.000000e+00      0.000000e+00  \n",
       "25%    2.861800e+04      1.350000e+04  \n",
       "50%    8.153900e+04      2.280000e+04  \n",
       "75%    2.089530e+05      3.790000e+04  \n",
       "max    8.000078e+06      9.999999e+06  "
      ]
     },
     "execution_count": 7,
     "metadata": {},
     "output_type": "execute_result"
    }
   ],
   "source": [
    "df_loan.describe()"
   ]
  },
  {
   "cell_type": "code",
   "execution_count": 8,
   "id": "daaa43e3",
   "metadata": {
    "colab": {
     "base_uri": "https://localhost:8080/",
     "height": 256
    },
    "id": "daaa43e3",
    "outputId": "be2d36a0-603b-4527-a33d-9e5311782c75",
    "scrolled": true
   },
   "outputs": [
    {
     "data": {
      "text/html": [
       "\n",
       "  <div id=\"df-fe02921a-1d55-4f52-8a7f-ec49c84e83ec\">\n",
       "    <div class=\"colab-df-container\">\n",
       "      <div>\n",
       "<style scoped>\n",
       "    .dataframe tbody tr th:only-of-type {\n",
       "        vertical-align: middle;\n",
       "    }\n",
       "\n",
       "    .dataframe tbody tr th {\n",
       "        vertical-align: top;\n",
       "    }\n",
       "\n",
       "    .dataframe thead th {\n",
       "        text-align: right;\n",
       "    }\n",
       "</style>\n",
       "<table border=\"1\" class=\"dataframe\">\n",
       "  <thead>\n",
       "    <tr style=\"text-align: right;\">\n",
       "      <th></th>\n",
       "      <th>term</th>\n",
       "      <th>grade</th>\n",
       "      <th>sub_grade</th>\n",
       "      <th>emp_title</th>\n",
       "      <th>emp_length</th>\n",
       "      <th>home_ownership</th>\n",
       "      <th>verification_status</th>\n",
       "      <th>issue_d</th>\n",
       "      <th>loan_status</th>\n",
       "      <th>pymnt_plan</th>\n",
       "      <th>url</th>\n",
       "      <th>desc</th>\n",
       "      <th>purpose</th>\n",
       "      <th>title</th>\n",
       "      <th>zip_code</th>\n",
       "      <th>addr_state</th>\n",
       "      <th>earliest_cr_line</th>\n",
       "      <th>initial_list_status</th>\n",
       "      <th>last_pymnt_d</th>\n",
       "      <th>next_pymnt_d</th>\n",
       "      <th>last_credit_pull_d</th>\n",
       "      <th>application_type</th>\n",
       "    </tr>\n",
       "  </thead>\n",
       "  <tbody>\n",
       "    <tr>\n",
       "      <th>count</th>\n",
       "      <td>466285</td>\n",
       "      <td>466285</td>\n",
       "      <td>466285</td>\n",
       "      <td>438697</td>\n",
       "      <td>445277</td>\n",
       "      <td>466285</td>\n",
       "      <td>466285</td>\n",
       "      <td>466285</td>\n",
       "      <td>466285</td>\n",
       "      <td>466285</td>\n",
       "      <td>466285</td>\n",
       "      <td>125983</td>\n",
       "      <td>466285</td>\n",
       "      <td>466265</td>\n",
       "      <td>466285</td>\n",
       "      <td>466285</td>\n",
       "      <td>466256</td>\n",
       "      <td>466285</td>\n",
       "      <td>465909</td>\n",
       "      <td>239071</td>\n",
       "      <td>466243</td>\n",
       "      <td>466285</td>\n",
       "    </tr>\n",
       "    <tr>\n",
       "      <th>unique</th>\n",
       "      <td>2</td>\n",
       "      <td>7</td>\n",
       "      <td>35</td>\n",
       "      <td>205475</td>\n",
       "      <td>11</td>\n",
       "      <td>6</td>\n",
       "      <td>3</td>\n",
       "      <td>91</td>\n",
       "      <td>9</td>\n",
       "      <td>2</td>\n",
       "      <td>466285</td>\n",
       "      <td>124436</td>\n",
       "      <td>14</td>\n",
       "      <td>63099</td>\n",
       "      <td>888</td>\n",
       "      <td>50</td>\n",
       "      <td>664</td>\n",
       "      <td>2</td>\n",
       "      <td>98</td>\n",
       "      <td>100</td>\n",
       "      <td>103</td>\n",
       "      <td>1</td>\n",
       "    </tr>\n",
       "    <tr>\n",
       "      <th>top</th>\n",
       "      <td>36 months</td>\n",
       "      <td>B</td>\n",
       "      <td>B3</td>\n",
       "      <td>Teacher</td>\n",
       "      <td>10+ years</td>\n",
       "      <td>MORTGAGE</td>\n",
       "      <td>Verified</td>\n",
       "      <td>Oct-14</td>\n",
       "      <td>Current</td>\n",
       "      <td>n</td>\n",
       "      <td>https://www.lendingclub.com/browse/loanDetail....</td>\n",
       "      <td></td>\n",
       "      <td>debt_consolidation</td>\n",
       "      <td>Debt consolidation</td>\n",
       "      <td>945xx</td>\n",
       "      <td>CA</td>\n",
       "      <td>Oct-00</td>\n",
       "      <td>f</td>\n",
       "      <td>Jan-16</td>\n",
       "      <td>Feb-16</td>\n",
       "      <td>Jan-16</td>\n",
       "      <td>INDIVIDUAL</td>\n",
       "    </tr>\n",
       "    <tr>\n",
       "      <th>freq</th>\n",
       "      <td>337953</td>\n",
       "      <td>136929</td>\n",
       "      <td>31686</td>\n",
       "      <td>5399</td>\n",
       "      <td>150049</td>\n",
       "      <td>235875</td>\n",
       "      <td>168055</td>\n",
       "      <td>38782</td>\n",
       "      <td>224226</td>\n",
       "      <td>466276</td>\n",
       "      <td>1</td>\n",
       "      <td>234</td>\n",
       "      <td>274195</td>\n",
       "      <td>164075</td>\n",
       "      <td>5304</td>\n",
       "      <td>71450</td>\n",
       "      <td>3674</td>\n",
       "      <td>303005</td>\n",
       "      <td>179620</td>\n",
       "      <td>208393</td>\n",
       "      <td>327699</td>\n",
       "      <td>466285</td>\n",
       "    </tr>\n",
       "  </tbody>\n",
       "</table>\n",
       "</div>\n",
       "      <button class=\"colab-df-convert\" onclick=\"convertToInteractive('df-fe02921a-1d55-4f52-8a7f-ec49c84e83ec')\"\n",
       "              title=\"Convert this dataframe to an interactive table.\"\n",
       "              style=\"display:none;\">\n",
       "        \n",
       "  <svg xmlns=\"http://www.w3.org/2000/svg\" height=\"24px\"viewBox=\"0 0 24 24\"\n",
       "       width=\"24px\">\n",
       "    <path d=\"M0 0h24v24H0V0z\" fill=\"none\"/>\n",
       "    <path d=\"M18.56 5.44l.94 2.06.94-2.06 2.06-.94-2.06-.94-.94-2.06-.94 2.06-2.06.94zm-11 1L8.5 8.5l.94-2.06 2.06-.94-2.06-.94L8.5 2.5l-.94 2.06-2.06.94zm10 10l.94 2.06.94-2.06 2.06-.94-2.06-.94-.94-2.06-.94 2.06-2.06.94z\"/><path d=\"M17.41 7.96l-1.37-1.37c-.4-.4-.92-.59-1.43-.59-.52 0-1.04.2-1.43.59L10.3 9.45l-7.72 7.72c-.78.78-.78 2.05 0 2.83L4 21.41c.39.39.9.59 1.41.59.51 0 1.02-.2 1.41-.59l7.78-7.78 2.81-2.81c.8-.78.8-2.07 0-2.86zM5.41 20L4 18.59l7.72-7.72 1.47 1.35L5.41 20z\"/>\n",
       "  </svg>\n",
       "      </button>\n",
       "      \n",
       "  <style>\n",
       "    .colab-df-container {\n",
       "      display:flex;\n",
       "      flex-wrap:wrap;\n",
       "      gap: 12px;\n",
       "    }\n",
       "\n",
       "    .colab-df-convert {\n",
       "      background-color: #E8F0FE;\n",
       "      border: none;\n",
       "      border-radius: 50%;\n",
       "      cursor: pointer;\n",
       "      display: none;\n",
       "      fill: #1967D2;\n",
       "      height: 32px;\n",
       "      padding: 0 0 0 0;\n",
       "      width: 32px;\n",
       "    }\n",
       "\n",
       "    .colab-df-convert:hover {\n",
       "      background-color: #E2EBFA;\n",
       "      box-shadow: 0px 1px 2px rgba(60, 64, 67, 0.3), 0px 1px 3px 1px rgba(60, 64, 67, 0.15);\n",
       "      fill: #174EA6;\n",
       "    }\n",
       "\n",
       "    [theme=dark] .colab-df-convert {\n",
       "      background-color: #3B4455;\n",
       "      fill: #D2E3FC;\n",
       "    }\n",
       "\n",
       "    [theme=dark] .colab-df-convert:hover {\n",
       "      background-color: #434B5C;\n",
       "      box-shadow: 0px 1px 3px 1px rgba(0, 0, 0, 0.15);\n",
       "      filter: drop-shadow(0px 1px 2px rgba(0, 0, 0, 0.3));\n",
       "      fill: #FFFFFF;\n",
       "    }\n",
       "  </style>\n",
       "\n",
       "      <script>\n",
       "        const buttonEl =\n",
       "          document.querySelector('#df-fe02921a-1d55-4f52-8a7f-ec49c84e83ec button.colab-df-convert');\n",
       "        buttonEl.style.display =\n",
       "          google.colab.kernel.accessAllowed ? 'block' : 'none';\n",
       "\n",
       "        async function convertToInteractive(key) {\n",
       "          const element = document.querySelector('#df-fe02921a-1d55-4f52-8a7f-ec49c84e83ec');\n",
       "          const dataTable =\n",
       "            await google.colab.kernel.invokeFunction('convertToInteractive',\n",
       "                                                     [key], {});\n",
       "          if (!dataTable) return;\n",
       "\n",
       "          const docLinkHtml = 'Like what you see? Visit the ' +\n",
       "            '<a target=\"_blank\" href=https://colab.research.google.com/notebooks/data_table.ipynb>data table notebook</a>'\n",
       "            + ' to learn more about interactive tables.';\n",
       "          element.innerHTML = '';\n",
       "          dataTable['output_type'] = 'display_data';\n",
       "          await google.colab.output.renderOutput(dataTable, element);\n",
       "          const docLink = document.createElement('div');\n",
       "          docLink.innerHTML = docLinkHtml;\n",
       "          element.appendChild(docLink);\n",
       "        }\n",
       "      </script>\n",
       "    </div>\n",
       "  </div>\n",
       "  "
      ],
      "text/plain": [
       "              term   grade sub_grade emp_title emp_length home_ownership  \\\n",
       "count       466285  466285    466285    438697     445277         466285   \n",
       "unique           2       7        35    205475         11              6   \n",
       "top      36 months       B        B3   Teacher  10+ years       MORTGAGE   \n",
       "freq        337953  136929     31686      5399     150049         235875   \n",
       "\n",
       "       verification_status issue_d loan_status pymnt_plan  \\\n",
       "count               466285  466285      466285     466285   \n",
       "unique                   3      91           9          2   \n",
       "top               Verified  Oct-14     Current          n   \n",
       "freq                168055   38782      224226     466276   \n",
       "\n",
       "                                                      url    desc  \\\n",
       "count                                              466285  125983   \n",
       "unique                                             466285  124436   \n",
       "top     https://www.lendingclub.com/browse/loanDetail....           \n",
       "freq                                                    1     234   \n",
       "\n",
       "                   purpose               title zip_code addr_state  \\\n",
       "count               466285              466265   466285     466285   \n",
       "unique                  14               63099      888         50   \n",
       "top     debt_consolidation  Debt consolidation    945xx         CA   \n",
       "freq                274195              164075     5304      71450   \n",
       "\n",
       "       earliest_cr_line initial_list_status last_pymnt_d next_pymnt_d  \\\n",
       "count            466256              466285       465909       239071   \n",
       "unique              664                   2           98          100   \n",
       "top              Oct-00                   f       Jan-16       Feb-16   \n",
       "freq               3674              303005       179620       208393   \n",
       "\n",
       "       last_credit_pull_d application_type  \n",
       "count              466243           466285  \n",
       "unique                103                1  \n",
       "top                Jan-16       INDIVIDUAL  \n",
       "freq               327699           466285  "
      ]
     },
     "execution_count": 8,
     "metadata": {},
     "output_type": "execute_result"
    }
   ],
   "source": [
    "df_loan.describe(include='object')"
   ]
  },
  {
   "cell_type": "code",
   "execution_count": 9,
   "id": "4f01ca4f",
   "metadata": {
    "colab": {
     "base_uri": "https://localhost:8080/",
     "height": 635
    },
    "id": "4f01ca4f",
    "outputId": "8d95f88e-ef5c-4846-d40e-5aa52e2d0c1f",
    "scrolled": false
   },
   "outputs": [
    {
     "data": {
      "text/html": [
       "\n",
       "  <div id=\"df-12a7f757-5676-4fd5-b404-a792fb9dfc42\">\n",
       "    <div class=\"colab-df-container\">\n",
       "      <div>\n",
       "<style scoped>\n",
       "    .dataframe tbody tr th:only-of-type {\n",
       "        vertical-align: middle;\n",
       "    }\n",
       "\n",
       "    .dataframe tbody tr th {\n",
       "        vertical-align: top;\n",
       "    }\n",
       "\n",
       "    .dataframe thead th {\n",
       "        text-align: right;\n",
       "    }\n",
       "</style>\n",
       "<table border=\"1\" class=\"dataframe\">\n",
       "  <thead>\n",
       "    <tr style=\"text-align: right;\">\n",
       "      <th></th>\n",
       "      <th>id</th>\n",
       "      <th>member_id</th>\n",
       "      <th>loan_amnt</th>\n",
       "      <th>funded_amnt</th>\n",
       "      <th>funded_amnt_inv</th>\n",
       "      <th>term</th>\n",
       "      <th>int_rate</th>\n",
       "      <th>installment</th>\n",
       "      <th>grade</th>\n",
       "      <th>sub_grade</th>\n",
       "      <th>emp_title</th>\n",
       "      <th>emp_length</th>\n",
       "      <th>home_ownership</th>\n",
       "      <th>annual_inc</th>\n",
       "      <th>verification_status</th>\n",
       "      <th>issue_d</th>\n",
       "      <th>loan_status</th>\n",
       "      <th>pymnt_plan</th>\n",
       "      <th>url</th>\n",
       "      <th>desc</th>\n",
       "      <th>purpose</th>\n",
       "      <th>title</th>\n",
       "      <th>zip_code</th>\n",
       "      <th>addr_state</th>\n",
       "      <th>dti</th>\n",
       "      <th>delinq_2yrs</th>\n",
       "      <th>earliest_cr_line</th>\n",
       "      <th>inq_last_6mths</th>\n",
       "      <th>mths_since_last_delinq</th>\n",
       "      <th>mths_since_last_record</th>\n",
       "      <th>open_acc</th>\n",
       "      <th>pub_rec</th>\n",
       "      <th>revol_bal</th>\n",
       "      <th>revol_util</th>\n",
       "      <th>total_acc</th>\n",
       "      <th>initial_list_status</th>\n",
       "      <th>out_prncp</th>\n",
       "      <th>out_prncp_inv</th>\n",
       "      <th>total_pymnt</th>\n",
       "      <th>total_pymnt_inv</th>\n",
       "      <th>total_rec_prncp</th>\n",
       "      <th>total_rec_int</th>\n",
       "      <th>total_rec_late_fee</th>\n",
       "      <th>recoveries</th>\n",
       "      <th>collection_recovery_fee</th>\n",
       "      <th>last_pymnt_d</th>\n",
       "      <th>last_pymnt_amnt</th>\n",
       "      <th>next_pymnt_d</th>\n",
       "      <th>last_credit_pull_d</th>\n",
       "      <th>collections_12_mths_ex_med</th>\n",
       "      <th>mths_since_last_major_derog</th>\n",
       "      <th>policy_code</th>\n",
       "      <th>application_type</th>\n",
       "      <th>acc_now_delinq</th>\n",
       "      <th>tot_coll_amt</th>\n",
       "      <th>tot_cur_bal</th>\n",
       "      <th>total_rev_hi_lim</th>\n",
       "    </tr>\n",
       "  </thead>\n",
       "  <tbody>\n",
       "    <tr>\n",
       "      <th>0</th>\n",
       "      <td>1077501</td>\n",
       "      <td>1296599</td>\n",
       "      <td>5000</td>\n",
       "      <td>5000</td>\n",
       "      <td>4975.0</td>\n",
       "      <td>36 months</td>\n",
       "      <td>10.65</td>\n",
       "      <td>162.87</td>\n",
       "      <td>B</td>\n",
       "      <td>B2</td>\n",
       "      <td>NaN</td>\n",
       "      <td>10+ years</td>\n",
       "      <td>RENT</td>\n",
       "      <td>24000.0</td>\n",
       "      <td>Verified</td>\n",
       "      <td>Dec-11</td>\n",
       "      <td>Fully Paid</td>\n",
       "      <td>n</td>\n",
       "      <td>https://www.lendingclub.com/browse/loanDetail....</td>\n",
       "      <td>Borrower added on 12/22/11 &gt; I need to upgra...</td>\n",
       "      <td>credit_card</td>\n",
       "      <td>Computer</td>\n",
       "      <td>860xx</td>\n",
       "      <td>AZ</td>\n",
       "      <td>27.65</td>\n",
       "      <td>0.0</td>\n",
       "      <td>Jan-85</td>\n",
       "      <td>1.0</td>\n",
       "      <td>NaN</td>\n",
       "      <td>NaN</td>\n",
       "      <td>3.0</td>\n",
       "      <td>0.0</td>\n",
       "      <td>13648</td>\n",
       "      <td>83.7</td>\n",
       "      <td>9.0</td>\n",
       "      <td>f</td>\n",
       "      <td>0.0</td>\n",
       "      <td>0.0</td>\n",
       "      <td>5861.071414</td>\n",
       "      <td>5831.78</td>\n",
       "      <td>5000.00</td>\n",
       "      <td>861.07</td>\n",
       "      <td>0.00</td>\n",
       "      <td>0.00</td>\n",
       "      <td>0.00</td>\n",
       "      <td>Jan-15</td>\n",
       "      <td>171.62</td>\n",
       "      <td>NaN</td>\n",
       "      <td>Jan-16</td>\n",
       "      <td>0.0</td>\n",
       "      <td>NaN</td>\n",
       "      <td>1</td>\n",
       "      <td>INDIVIDUAL</td>\n",
       "      <td>0.0</td>\n",
       "      <td>NaN</td>\n",
       "      <td>NaN</td>\n",
       "      <td>NaN</td>\n",
       "    </tr>\n",
       "    <tr>\n",
       "      <th>1</th>\n",
       "      <td>1077430</td>\n",
       "      <td>1314167</td>\n",
       "      <td>2500</td>\n",
       "      <td>2500</td>\n",
       "      <td>2500.0</td>\n",
       "      <td>60 months</td>\n",
       "      <td>15.27</td>\n",
       "      <td>59.83</td>\n",
       "      <td>C</td>\n",
       "      <td>C4</td>\n",
       "      <td>Ryder</td>\n",
       "      <td>&lt; 1 year</td>\n",
       "      <td>RENT</td>\n",
       "      <td>30000.0</td>\n",
       "      <td>Source Verified</td>\n",
       "      <td>Dec-11</td>\n",
       "      <td>Charged Off</td>\n",
       "      <td>n</td>\n",
       "      <td>https://www.lendingclub.com/browse/loanDetail....</td>\n",
       "      <td>Borrower added on 12/22/11 &gt; I plan to use t...</td>\n",
       "      <td>car</td>\n",
       "      <td>bike</td>\n",
       "      <td>309xx</td>\n",
       "      <td>GA</td>\n",
       "      <td>1.00</td>\n",
       "      <td>0.0</td>\n",
       "      <td>Apr-99</td>\n",
       "      <td>5.0</td>\n",
       "      <td>NaN</td>\n",
       "      <td>NaN</td>\n",
       "      <td>3.0</td>\n",
       "      <td>0.0</td>\n",
       "      <td>1687</td>\n",
       "      <td>9.4</td>\n",
       "      <td>4.0</td>\n",
       "      <td>f</td>\n",
       "      <td>0.0</td>\n",
       "      <td>0.0</td>\n",
       "      <td>1008.710000</td>\n",
       "      <td>1008.71</td>\n",
       "      <td>456.46</td>\n",
       "      <td>435.17</td>\n",
       "      <td>0.00</td>\n",
       "      <td>117.08</td>\n",
       "      <td>1.11</td>\n",
       "      <td>Apr-13</td>\n",
       "      <td>119.66</td>\n",
       "      <td>NaN</td>\n",
       "      <td>Sep-13</td>\n",
       "      <td>0.0</td>\n",
       "      <td>NaN</td>\n",
       "      <td>1</td>\n",
       "      <td>INDIVIDUAL</td>\n",
       "      <td>0.0</td>\n",
       "      <td>NaN</td>\n",
       "      <td>NaN</td>\n",
       "      <td>NaN</td>\n",
       "    </tr>\n",
       "    <tr>\n",
       "      <th>2</th>\n",
       "      <td>1077175</td>\n",
       "      <td>1313524</td>\n",
       "      <td>2400</td>\n",
       "      <td>2400</td>\n",
       "      <td>2400.0</td>\n",
       "      <td>36 months</td>\n",
       "      <td>15.96</td>\n",
       "      <td>84.33</td>\n",
       "      <td>C</td>\n",
       "      <td>C5</td>\n",
       "      <td>NaN</td>\n",
       "      <td>10+ years</td>\n",
       "      <td>RENT</td>\n",
       "      <td>12252.0</td>\n",
       "      <td>Not Verified</td>\n",
       "      <td>Dec-11</td>\n",
       "      <td>Fully Paid</td>\n",
       "      <td>n</td>\n",
       "      <td>https://www.lendingclub.com/browse/loanDetail....</td>\n",
       "      <td>NaN</td>\n",
       "      <td>small_business</td>\n",
       "      <td>real estate business</td>\n",
       "      <td>606xx</td>\n",
       "      <td>IL</td>\n",
       "      <td>8.72</td>\n",
       "      <td>0.0</td>\n",
       "      <td>Nov-01</td>\n",
       "      <td>2.0</td>\n",
       "      <td>NaN</td>\n",
       "      <td>NaN</td>\n",
       "      <td>2.0</td>\n",
       "      <td>0.0</td>\n",
       "      <td>2956</td>\n",
       "      <td>98.5</td>\n",
       "      <td>10.0</td>\n",
       "      <td>f</td>\n",
       "      <td>0.0</td>\n",
       "      <td>0.0</td>\n",
       "      <td>3003.653644</td>\n",
       "      <td>3003.65</td>\n",
       "      <td>2400.00</td>\n",
       "      <td>603.65</td>\n",
       "      <td>0.00</td>\n",
       "      <td>0.00</td>\n",
       "      <td>0.00</td>\n",
       "      <td>Jun-14</td>\n",
       "      <td>649.91</td>\n",
       "      <td>NaN</td>\n",
       "      <td>Jan-16</td>\n",
       "      <td>0.0</td>\n",
       "      <td>NaN</td>\n",
       "      <td>1</td>\n",
       "      <td>INDIVIDUAL</td>\n",
       "      <td>0.0</td>\n",
       "      <td>NaN</td>\n",
       "      <td>NaN</td>\n",
       "      <td>NaN</td>\n",
       "    </tr>\n",
       "    <tr>\n",
       "      <th>3</th>\n",
       "      <td>1076863</td>\n",
       "      <td>1277178</td>\n",
       "      <td>10000</td>\n",
       "      <td>10000</td>\n",
       "      <td>10000.0</td>\n",
       "      <td>36 months</td>\n",
       "      <td>13.49</td>\n",
       "      <td>339.31</td>\n",
       "      <td>C</td>\n",
       "      <td>C1</td>\n",
       "      <td>AIR RESOURCES BOARD</td>\n",
       "      <td>10+ years</td>\n",
       "      <td>RENT</td>\n",
       "      <td>49200.0</td>\n",
       "      <td>Source Verified</td>\n",
       "      <td>Dec-11</td>\n",
       "      <td>Fully Paid</td>\n",
       "      <td>n</td>\n",
       "      <td>https://www.lendingclub.com/browse/loanDetail....</td>\n",
       "      <td>Borrower added on 12/21/11 &gt; to pay for prop...</td>\n",
       "      <td>other</td>\n",
       "      <td>personel</td>\n",
       "      <td>917xx</td>\n",
       "      <td>CA</td>\n",
       "      <td>20.00</td>\n",
       "      <td>0.0</td>\n",
       "      <td>Feb-96</td>\n",
       "      <td>1.0</td>\n",
       "      <td>35.0</td>\n",
       "      <td>NaN</td>\n",
       "      <td>10.0</td>\n",
       "      <td>0.0</td>\n",
       "      <td>5598</td>\n",
       "      <td>21.0</td>\n",
       "      <td>37.0</td>\n",
       "      <td>f</td>\n",
       "      <td>0.0</td>\n",
       "      <td>0.0</td>\n",
       "      <td>12226.302210</td>\n",
       "      <td>12226.30</td>\n",
       "      <td>10000.00</td>\n",
       "      <td>2209.33</td>\n",
       "      <td>16.97</td>\n",
       "      <td>0.00</td>\n",
       "      <td>0.00</td>\n",
       "      <td>Jan-15</td>\n",
       "      <td>357.48</td>\n",
       "      <td>NaN</td>\n",
       "      <td>Jan-15</td>\n",
       "      <td>0.0</td>\n",
       "      <td>NaN</td>\n",
       "      <td>1</td>\n",
       "      <td>INDIVIDUAL</td>\n",
       "      <td>0.0</td>\n",
       "      <td>NaN</td>\n",
       "      <td>NaN</td>\n",
       "      <td>NaN</td>\n",
       "    </tr>\n",
       "    <tr>\n",
       "      <th>4</th>\n",
       "      <td>1075358</td>\n",
       "      <td>1311748</td>\n",
       "      <td>3000</td>\n",
       "      <td>3000</td>\n",
       "      <td>3000.0</td>\n",
       "      <td>60 months</td>\n",
       "      <td>12.69</td>\n",
       "      <td>67.79</td>\n",
       "      <td>B</td>\n",
       "      <td>B5</td>\n",
       "      <td>University Medical Group</td>\n",
       "      <td>1 year</td>\n",
       "      <td>RENT</td>\n",
       "      <td>80000.0</td>\n",
       "      <td>Source Verified</td>\n",
       "      <td>Dec-11</td>\n",
       "      <td>Current</td>\n",
       "      <td>n</td>\n",
       "      <td>https://www.lendingclub.com/browse/loanDetail....</td>\n",
       "      <td>Borrower added on 12/21/11 &gt; I plan on combi...</td>\n",
       "      <td>other</td>\n",
       "      <td>Personal</td>\n",
       "      <td>972xx</td>\n",
       "      <td>OR</td>\n",
       "      <td>17.94</td>\n",
       "      <td>0.0</td>\n",
       "      <td>Jan-96</td>\n",
       "      <td>0.0</td>\n",
       "      <td>38.0</td>\n",
       "      <td>NaN</td>\n",
       "      <td>15.0</td>\n",
       "      <td>0.0</td>\n",
       "      <td>27783</td>\n",
       "      <td>53.9</td>\n",
       "      <td>38.0</td>\n",
       "      <td>f</td>\n",
       "      <td>766.9</td>\n",
       "      <td>766.9</td>\n",
       "      <td>3242.170000</td>\n",
       "      <td>3242.17</td>\n",
       "      <td>2233.10</td>\n",
       "      <td>1009.07</td>\n",
       "      <td>0.00</td>\n",
       "      <td>0.00</td>\n",
       "      <td>0.00</td>\n",
       "      <td>Jan-16</td>\n",
       "      <td>67.79</td>\n",
       "      <td>Feb-16</td>\n",
       "      <td>Jan-16</td>\n",
       "      <td>0.0</td>\n",
       "      <td>NaN</td>\n",
       "      <td>1</td>\n",
       "      <td>INDIVIDUAL</td>\n",
       "      <td>0.0</td>\n",
       "      <td>NaN</td>\n",
       "      <td>NaN</td>\n",
       "      <td>NaN</td>\n",
       "    </tr>\n",
       "  </tbody>\n",
       "</table>\n",
       "</div>\n",
       "      <button class=\"colab-df-convert\" onclick=\"convertToInteractive('df-12a7f757-5676-4fd5-b404-a792fb9dfc42')\"\n",
       "              title=\"Convert this dataframe to an interactive table.\"\n",
       "              style=\"display:none;\">\n",
       "        \n",
       "  <svg xmlns=\"http://www.w3.org/2000/svg\" height=\"24px\"viewBox=\"0 0 24 24\"\n",
       "       width=\"24px\">\n",
       "    <path d=\"M0 0h24v24H0V0z\" fill=\"none\"/>\n",
       "    <path d=\"M18.56 5.44l.94 2.06.94-2.06 2.06-.94-2.06-.94-.94-2.06-.94 2.06-2.06.94zm-11 1L8.5 8.5l.94-2.06 2.06-.94-2.06-.94L8.5 2.5l-.94 2.06-2.06.94zm10 10l.94 2.06.94-2.06 2.06-.94-2.06-.94-.94-2.06-.94 2.06-2.06.94z\"/><path d=\"M17.41 7.96l-1.37-1.37c-.4-.4-.92-.59-1.43-.59-.52 0-1.04.2-1.43.59L10.3 9.45l-7.72 7.72c-.78.78-.78 2.05 0 2.83L4 21.41c.39.39.9.59 1.41.59.51 0 1.02-.2 1.41-.59l7.78-7.78 2.81-2.81c.8-.78.8-2.07 0-2.86zM5.41 20L4 18.59l7.72-7.72 1.47 1.35L5.41 20z\"/>\n",
       "  </svg>\n",
       "      </button>\n",
       "      \n",
       "  <style>\n",
       "    .colab-df-container {\n",
       "      display:flex;\n",
       "      flex-wrap:wrap;\n",
       "      gap: 12px;\n",
       "    }\n",
       "\n",
       "    .colab-df-convert {\n",
       "      background-color: #E8F0FE;\n",
       "      border: none;\n",
       "      border-radius: 50%;\n",
       "      cursor: pointer;\n",
       "      display: none;\n",
       "      fill: #1967D2;\n",
       "      height: 32px;\n",
       "      padding: 0 0 0 0;\n",
       "      width: 32px;\n",
       "    }\n",
       "\n",
       "    .colab-df-convert:hover {\n",
       "      background-color: #E2EBFA;\n",
       "      box-shadow: 0px 1px 2px rgba(60, 64, 67, 0.3), 0px 1px 3px 1px rgba(60, 64, 67, 0.15);\n",
       "      fill: #174EA6;\n",
       "    }\n",
       "\n",
       "    [theme=dark] .colab-df-convert {\n",
       "      background-color: #3B4455;\n",
       "      fill: #D2E3FC;\n",
       "    }\n",
       "\n",
       "    [theme=dark] .colab-df-convert:hover {\n",
       "      background-color: #434B5C;\n",
       "      box-shadow: 0px 1px 3px 1px rgba(0, 0, 0, 0.15);\n",
       "      filter: drop-shadow(0px 1px 2px rgba(0, 0, 0, 0.3));\n",
       "      fill: #FFFFFF;\n",
       "    }\n",
       "  </style>\n",
       "\n",
       "      <script>\n",
       "        const buttonEl =\n",
       "          document.querySelector('#df-12a7f757-5676-4fd5-b404-a792fb9dfc42 button.colab-df-convert');\n",
       "        buttonEl.style.display =\n",
       "          google.colab.kernel.accessAllowed ? 'block' : 'none';\n",
       "\n",
       "        async function convertToInteractive(key) {\n",
       "          const element = document.querySelector('#df-12a7f757-5676-4fd5-b404-a792fb9dfc42');\n",
       "          const dataTable =\n",
       "            await google.colab.kernel.invokeFunction('convertToInteractive',\n",
       "                                                     [key], {});\n",
       "          if (!dataTable) return;\n",
       "\n",
       "          const docLinkHtml = 'Like what you see? Visit the ' +\n",
       "            '<a target=\"_blank\" href=https://colab.research.google.com/notebooks/data_table.ipynb>data table notebook</a>'\n",
       "            + ' to learn more about interactive tables.';\n",
       "          element.innerHTML = '';\n",
       "          dataTable['output_type'] = 'display_data';\n",
       "          await google.colab.output.renderOutput(dataTable, element);\n",
       "          const docLink = document.createElement('div');\n",
       "          docLink.innerHTML = docLinkHtml;\n",
       "          element.appendChild(docLink);\n",
       "        }\n",
       "      </script>\n",
       "    </div>\n",
       "  </div>\n",
       "  "
      ],
      "text/plain": [
       "        id  member_id  loan_amnt  funded_amnt  funded_amnt_inv        term  \\\n",
       "0  1077501    1296599       5000         5000           4975.0   36 months   \n",
       "1  1077430    1314167       2500         2500           2500.0   60 months   \n",
       "2  1077175    1313524       2400         2400           2400.0   36 months   \n",
       "3  1076863    1277178      10000        10000          10000.0   36 months   \n",
       "4  1075358    1311748       3000         3000           3000.0   60 months   \n",
       "\n",
       "   int_rate  installment grade sub_grade                 emp_title emp_length  \\\n",
       "0     10.65       162.87     B        B2                       NaN  10+ years   \n",
       "1     15.27        59.83     C        C4                     Ryder   < 1 year   \n",
       "2     15.96        84.33     C        C5                       NaN  10+ years   \n",
       "3     13.49       339.31     C        C1       AIR RESOURCES BOARD  10+ years   \n",
       "4     12.69        67.79     B        B5  University Medical Group     1 year   \n",
       "\n",
       "  home_ownership  annual_inc verification_status issue_d  loan_status  \\\n",
       "0           RENT     24000.0            Verified  Dec-11   Fully Paid   \n",
       "1           RENT     30000.0     Source Verified  Dec-11  Charged Off   \n",
       "2           RENT     12252.0        Not Verified  Dec-11   Fully Paid   \n",
       "3           RENT     49200.0     Source Verified  Dec-11   Fully Paid   \n",
       "4           RENT     80000.0     Source Verified  Dec-11      Current   \n",
       "\n",
       "  pymnt_plan                                                url  \\\n",
       "0          n  https://www.lendingclub.com/browse/loanDetail....   \n",
       "1          n  https://www.lendingclub.com/browse/loanDetail....   \n",
       "2          n  https://www.lendingclub.com/browse/loanDetail....   \n",
       "3          n  https://www.lendingclub.com/browse/loanDetail....   \n",
       "4          n  https://www.lendingclub.com/browse/loanDetail....   \n",
       "\n",
       "                                                desc         purpose  \\\n",
       "0    Borrower added on 12/22/11 > I need to upgra...     credit_card   \n",
       "1    Borrower added on 12/22/11 > I plan to use t...             car   \n",
       "2                                                NaN  small_business   \n",
       "3    Borrower added on 12/21/11 > to pay for prop...           other   \n",
       "4    Borrower added on 12/21/11 > I plan on combi...           other   \n",
       "\n",
       "                  title zip_code addr_state    dti  delinq_2yrs  \\\n",
       "0              Computer    860xx         AZ  27.65          0.0   \n",
       "1                  bike    309xx         GA   1.00          0.0   \n",
       "2  real estate business    606xx         IL   8.72          0.0   \n",
       "3              personel    917xx         CA  20.00          0.0   \n",
       "4              Personal    972xx         OR  17.94          0.0   \n",
       "\n",
       "  earliest_cr_line  inq_last_6mths  mths_since_last_delinq  \\\n",
       "0           Jan-85             1.0                     NaN   \n",
       "1           Apr-99             5.0                     NaN   \n",
       "2           Nov-01             2.0                     NaN   \n",
       "3           Feb-96             1.0                    35.0   \n",
       "4           Jan-96             0.0                    38.0   \n",
       "\n",
       "   mths_since_last_record  open_acc  pub_rec  revol_bal  revol_util  \\\n",
       "0                     NaN       3.0      0.0      13648        83.7   \n",
       "1                     NaN       3.0      0.0       1687         9.4   \n",
       "2                     NaN       2.0      0.0       2956        98.5   \n",
       "3                     NaN      10.0      0.0       5598        21.0   \n",
       "4                     NaN      15.0      0.0      27783        53.9   \n",
       "\n",
       "   total_acc initial_list_status  out_prncp  out_prncp_inv   total_pymnt  \\\n",
       "0        9.0                   f        0.0            0.0   5861.071414   \n",
       "1        4.0                   f        0.0            0.0   1008.710000   \n",
       "2       10.0                   f        0.0            0.0   3003.653644   \n",
       "3       37.0                   f        0.0            0.0  12226.302210   \n",
       "4       38.0                   f      766.9          766.9   3242.170000   \n",
       "\n",
       "   total_pymnt_inv  total_rec_prncp  total_rec_int  total_rec_late_fee  \\\n",
       "0          5831.78          5000.00         861.07                0.00   \n",
       "1          1008.71           456.46         435.17                0.00   \n",
       "2          3003.65          2400.00         603.65                0.00   \n",
       "3         12226.30         10000.00        2209.33               16.97   \n",
       "4          3242.17          2233.10        1009.07                0.00   \n",
       "\n",
       "   recoveries  collection_recovery_fee last_pymnt_d  last_pymnt_amnt  \\\n",
       "0        0.00                     0.00       Jan-15           171.62   \n",
       "1      117.08                     1.11       Apr-13           119.66   \n",
       "2        0.00                     0.00       Jun-14           649.91   \n",
       "3        0.00                     0.00       Jan-15           357.48   \n",
       "4        0.00                     0.00       Jan-16            67.79   \n",
       "\n",
       "  next_pymnt_d last_credit_pull_d  collections_12_mths_ex_med  \\\n",
       "0          NaN             Jan-16                         0.0   \n",
       "1          NaN             Sep-13                         0.0   \n",
       "2          NaN             Jan-16                         0.0   \n",
       "3          NaN             Jan-15                         0.0   \n",
       "4       Feb-16             Jan-16                         0.0   \n",
       "\n",
       "   mths_since_last_major_derog  policy_code application_type  acc_now_delinq  \\\n",
       "0                          NaN            1       INDIVIDUAL             0.0   \n",
       "1                          NaN            1       INDIVIDUAL             0.0   \n",
       "2                          NaN            1       INDIVIDUAL             0.0   \n",
       "3                          NaN            1       INDIVIDUAL             0.0   \n",
       "4                          NaN            1       INDIVIDUAL             0.0   \n",
       "\n",
       "   tot_coll_amt  tot_cur_bal  total_rev_hi_lim  \n",
       "0           NaN          NaN               NaN  \n",
       "1           NaN          NaN               NaN  \n",
       "2           NaN          NaN               NaN  \n",
       "3           NaN          NaN               NaN  \n",
       "4           NaN          NaN               NaN  "
      ]
     },
     "execution_count": 9,
     "metadata": {},
     "output_type": "execute_result"
    }
   ],
   "source": [
    "df_loan.head()"
   ]
  },
  {
   "cell_type": "markdown",
   "id": "d58653a0",
   "metadata": {
    "id": "d58653a0"
   },
   "source": [
    "### Menentukan target\n",
    "\n",
    "Pada umunnya, target merupakan variabel yang dikehendaki untuk menyelesaikan masalah.\n",
    "Pada kasus saat ini, hendak memprediksi risiko kredit. Terdapat dua pendekatan yang dapat dipakai dalam menyelesaikan kasus ini.\n",
    "\n",
    "Pendekatan pertama dengan Supervised Learning. Dari kolom-kolom dataframe tersebut, terdapat dua kemungkinan yang dapat dijadikan target, yaitu ```grade``` dan ```sub_grade```. Kedua kolom tersebut, cukup dapat menggambarkan dalam bagaimana tingkat risiko kredit dari suatu pengajuan kredit. Kedua kolom tersebut juga relatif lebih baik dibandingkan kolom-kolom yang lain di dalam dataframe. Namun, sub_grade merupakan percabangan dari ```grade``` dan memiliki kategori yang banyak, maka ```grade``` dipilih menjadi target dan ```sub_grade``` akan di-_drop_ atau dihapus dari feature.\n",
    "\n",
    "Pendekatan kedua dengan Unsupervised Learning. Dalam pendekatan ini, data akan dibuat klaster-klaster berdasarkan kemiripan setiap data dalam dataframe. Namun, kekurangan pendekatan ini adalah hasil klaster yang dibuat kemungkinan akan kurang mempresentasikan klaster mana yang memiliki risiko kredit. Oleh karena itu, dipilih pendekatan pertama dengan ```grade``` sebagai target dalam pemodelan machine learning."
   ]
  },
  {
   "cell_type": "markdown",
   "id": "o-3aWzlpkrU7",
   "metadata": {
    "id": "o-3aWzlpkrU7"
   },
   "source": [
    "# Data Preprocessing"
   ]
  },
  {
   "cell_type": "markdown",
   "id": "a47d899b",
   "metadata": {
    "id": "a47d899b"
   },
   "source": [
    "## Data Cleaning"
   ]
  },
  {
   "cell_type": "markdown",
   "id": "QCNmibch9Mqz",
   "metadata": {
    "id": "QCNmibch9Mqz"
   },
   "source": [
    "### Menghilangkan kolom yang kurang relevan\n",
    "Berikut ini daftar kolom-kolom yang sekiranya kurang relevan\n",
    "- ```sub_grade``` karena merupakan percabangan dari ```grade``` atau dapat dikatakan sudah terwakili ```grade```\n",
    "- ```emp_title``` data terlalu banyak kategori sehingga sangat divergen\n",
    "- ```issue_d```\n",
    "- ```pymnt_plan```\n",
    "- ```earliest_cr_line```\n",
    "- ```url```\n",
    "- ```desc```\n",
    "- ```title```\n",
    "- ```zip_code```\n",
    "- ```addr_state```\n",
    "- ```application_type``` karena hanya semua data dalam kolom ini sama, yaitu _'INDIVIDUAL'_. Namun perlu diingat, bahwa model ini hanya berlaku jika data hanya memiliki satu application type tersebut. Jika suatu saat ada data yang menunjukkan data application_type jenis lain, maka model ini perlu evaluasi atau dibuat pemodelan baru.\n",
    "- ```last_pymnt_d```, ```last_pymnt_amnt```, ```next_pymnt_d```, ```last_credit_pull_d``` keempat fitur tersebut merupakan keterangan dari loan_status"
   ]
  },
  {
   "cell_type": "code",
   "execution_count": 10,
   "id": "Ia2SqShL9Fnd",
   "metadata": {
    "id": "Ia2SqShL9Fnd"
   },
   "outputs": [],
   "source": [
    "df_loan.drop(['sub_grade', 'emp_title', 'pymnt_plan', 'issue_d', 'url', 'desc',\n",
    "              'title', 'zip_code', 'addr_state', 'application_type'], \n",
    "             axis=1, inplace=True)"
   ]
  },
  {
   "cell_type": "code",
   "execution_count": 11,
   "id": "LV0emudy9hPa",
   "metadata": {
    "id": "LV0emudy9hPa"
   },
   "outputs": [],
   "source": [
    "df_loan.drop(['last_pymnt_d', 'last_pymnt_amnt', 'next_pymnt_d', 'last_credit_pull_d'], axis=1, inplace=True)\n",
    "# dihapus karena sudah terwakili dengan loan_status dan keempat fitur tersebut merupakan keterangan loan_status"
   ]
  },
  {
   "cell_type": "code",
   "execution_count": 12,
   "id": "WJGB44GSRO0j",
   "metadata": {
    "colab": {
     "base_uri": "https://localhost:8080/"
    },
    "id": "WJGB44GSRO0j",
    "outputId": "7f4a2a9d-c2de-491a-8212-873933ca078f"
   },
   "outputs": [
    {
     "data": {
      "text/plain": [
       "(466285, 43)"
      ]
     },
     "execution_count": 12,
     "metadata": {},
     "output_type": "execute_result"
    }
   ],
   "source": [
    "df_loan.shape"
   ]
  },
  {
   "cell_type": "markdown",
   "id": "a7fa3e9a",
   "metadata": {
    "id": "a7fa3e9a"
   },
   "source": [
    "### Mengatasi Missing Value dan Outlier"
   ]
  },
  {
   "cell_type": "code",
   "execution_count": 13,
   "id": "54a11131",
   "metadata": {
    "id": "54a11131"
   },
   "outputs": [],
   "source": [
    "df_loan.drop(['policy_code'],\n",
    "             axis=1, inplace=True)"
   ]
  },
  {
   "cell_type": "code",
   "execution_count": 14,
   "id": "2efd1686",
   "metadata": {
    "colab": {
     "base_uri": "https://localhost:8080/"
    },
    "id": "2efd1686",
    "outputId": "54bd67b9-a4c5-4bc4-9ff4-03bd07d54ad5",
    "scrolled": false
   },
   "outputs": [
    {
     "data": {
      "text/plain": [
       "id                                  0\n",
       "member_id                           0\n",
       "loan_amnt                           0\n",
       "funded_amnt                         0\n",
       "funded_amnt_inv                     0\n",
       "term                                0\n",
       "int_rate                            0\n",
       "installment                         0\n",
       "grade                               0\n",
       "emp_length                      21008\n",
       "home_ownership                      0\n",
       "annual_inc                          4\n",
       "verification_status                 0\n",
       "loan_status                         0\n",
       "purpose                             0\n",
       "dti                                 0\n",
       "delinq_2yrs                        29\n",
       "earliest_cr_line                   29\n",
       "inq_last_6mths                     29\n",
       "mths_since_last_delinq         250351\n",
       "mths_since_last_record         403647\n",
       "open_acc                           29\n",
       "pub_rec                            29\n",
       "revol_bal                           0\n",
       "revol_util                        340\n",
       "total_acc                          29\n",
       "initial_list_status                 0\n",
       "out_prncp                           0\n",
       "out_prncp_inv                       0\n",
       "total_pymnt                         0\n",
       "total_pymnt_inv                     0\n",
       "total_rec_prncp                     0\n",
       "total_rec_int                       0\n",
       "total_rec_late_fee                  0\n",
       "recoveries                          0\n",
       "collection_recovery_fee             0\n",
       "collections_12_mths_ex_med        145\n",
       "mths_since_last_major_derog    367311\n",
       "acc_now_delinq                     29\n",
       "tot_coll_amt                    70276\n",
       "tot_cur_bal                     70276\n",
       "total_rev_hi_lim                70276\n",
       "dtype: int64"
      ]
     },
     "execution_count": 14,
     "metadata": {},
     "output_type": "execute_result"
    }
   ],
   "source": [
    "df_loan.isna().sum()"
   ]
  },
  {
   "cell_type": "markdown",
   "id": "Jdzj7fbTVPFn",
   "metadata": {
    "id": "Jdzj7fbTVPFn"
   },
   "source": [
    "Terdapat 6 kolom yang memiliki jumlah data null yang sama. Ketujuh kolom tersebut adalah:\n",
    "1. ```delinq_2yrs```\n",
    "2. ```earliest_cr_line``` \n",
    "3. ```inq_last_6mths```\n",
    "4. ```open_acc```\n",
    "5. ```pub_rec```\n",
    "6. ```total_acc```\n",
    "7. ```acc_now_delinq```\n",
    "\n",
    "Terdapat kemungkinan ketujuh kolom tersebut terletak pada 29 data yang sama."
   ]
  },
  {
   "cell_type": "code",
   "execution_count": 15,
   "id": "sRVHnW9_VRBc",
   "metadata": {
    "colab": {
     "base_uri": "https://localhost:8080/"
    },
    "id": "sRVHnW9_VRBc",
    "outputId": "500f58d9-dbe4-4df7-ed24-8398ad9657f1"
   },
   "outputs": [
    {
     "data": {
      "text/plain": [
       "29"
      ]
     },
     "execution_count": 15,
     "metadata": {},
     "output_type": "execute_result"
    }
   ],
   "source": [
    "len(df_loan.loc[(df_loan.delinq_2yrs.isna()) &\n",
    "            (df_loan.earliest_cr_line.isna()) &\n",
    "            (df_loan.inq_last_6mths.isna()) &\n",
    "            (df_loan.open_acc.isna()) &\n",
    "            (df_loan.pub_rec.isna()) &\n",
    "            (df_loan.total_acc.isna()) &\n",
    "            (df_loan.acc_now_delinq.isna())\n",
    "           ])"
   ]
  },
  {
   "cell_type": "markdown",
   "id": "YKOnFHfUWlFM",
   "metadata": {
    "id": "YKOnFHfUWlFM"
   },
   "source": [
    "Terdapat 29 data yang memiliki nilai null di 7 kolom. Hal ini mengindikasikan terdapat hubungan antara ketujuh fitur tersebut. Kemungkinan besar 29 member tersebut belum pernah mengajukan hutang/kredit (data nul pada ```earliest_cr_line```), sehingga belum pernah ada catatan _delinquency_ dan _inquiry_."
   ]
  },
  {
   "cell_type": "code",
   "execution_count": 16,
   "id": "WDXkMR6AWTnw",
   "metadata": {
    "id": "WDXkMR6AWTnw"
   },
   "outputs": [],
   "source": [
    "df_loan.delinq_2yrs.fillna(0, inplace=True) \n",
    "# data null karena member tidak ada catatan 'delinquency'\n",
    "\n",
    "df_loan['first_cr'] = 0\n",
    "df_loan.loc[df_loan.earliest_cr_line.isna(), 'first_cr'] = 1\n",
    "df_loan.earliest_cr_line.fillna('None', inplace=True)\n",
    "df_loan.drop(['earliest_cr_line'], axis=1, inplace=True)\n",
    "# Membuat rekayasa fitur first_cr yang mengindikasikan apakah member pertama kali hutang/kredit(1) atau bukan (0)\n",
    "\n",
    "df_loan.inq_last_6mths.fillna(0, inplace=True)\n",
    "# data null karena member tidak ada catatan 'inquiry'\n",
    "\n",
    "df_loan.open_acc.fillna(0, inplace=True)\n",
    "# data null kemungkinan besar member tidak memiliki open credit line\n",
    "\n",
    "df_loan.pub_rec.fillna(0, inplace=True)\n",
    "# data null kemungkinan besar member tidak memiliki public record\n",
    "\n",
    "df_loan.total_acc.fillna(0, inplace=True)\n",
    "# data null kemungkinan besar member tidak memiliki credit line\n",
    "\n",
    "df_loan.acc_now_delinq.fillna(0, inplace=True)\n",
    "# data null karena member tidak ada catatan 'delinquency'"
   ]
  },
  {
   "cell_type": "code",
   "execution_count": 17,
   "id": "E6syV37dWVaq",
   "metadata": {
    "id": "E6syV37dWVaq"
   },
   "outputs": [],
   "source": [
    "emp_length_mode = pd.Series.mode(df_loan['emp_length'])\n",
    "df_loan['emp_length'].fillna(emp_length_mode[0], inplace=True)"
   ]
  },
  {
   "cell_type": "code",
   "execution_count": 18,
   "id": "EmngI-ewWbAg",
   "metadata": {
    "id": "EmngI-ewWbAg"
   },
   "outputs": [],
   "source": [
    "df_loan['grouped']=pd.qcut(df_loan.loan_amnt, 25)\n",
    "df_loan['annual_inc'] = df_loan.groupby('loan_amnt')['annual_inc'].apply(lambda x: x.fillna(x.median()))\n",
    "df_loan.drop(['grouped'], axis=1, inplace=True)"
   ]
  },
  {
   "cell_type": "markdown",
   "id": "ac56bb50",
   "metadata": {
    "id": "ac56bb50"
   },
   "source": [
    "Kolom/fitur ```mths_since_last_delinq``` menunjukkan sudah berapa bulan member terakhir melakukan _delinquency_. \n",
    "Nilai null dari fitur ini kemungkinan besar disebabkan member memang belum pernah melakukan _delinquency_.\n",
    "Mengisi data null pada fitur ini tidak memunkinkan diisi dengan string **'Tidak pernah'** atau **_'Never'_**. Mengingat fitur ini merupakan fitur numerikal. Oleh karena itu dari data fitur ini akan dibuat fitur rekayasa, yaitu ```ever_deliq``` yang merupakan indikasi member pernah melakukan _delinquency_ dengan nilai 1 berarti pernah dan 0 berarti tidak pernah."
   ]
  },
  {
   "cell_type": "code",
   "execution_count": 19,
   "id": "65ecd811",
   "metadata": {
    "id": "65ecd811"
   },
   "outputs": [],
   "source": [
    "df_loan['ever_deliq'] = 0\n",
    "df_loan.loc[df_loan.mths_since_last_delinq > 0, 'ever_deliq'] = 1"
   ]
  },
  {
   "cell_type": "code",
   "execution_count": 20,
   "id": "pvbPxyEVQ_b6",
   "metadata": {
    "id": "pvbPxyEVQ_b6"
   },
   "outputs": [],
   "source": [
    "df_loan.drop(['mths_since_last_delinq'], axis=1, inplace = True)"
   ]
  },
  {
   "cell_type": "code",
   "execution_count": 21,
   "id": "3d037536",
   "metadata": {
    "colab": {
     "base_uri": "https://localhost:8080/",
     "height": 297
    },
    "id": "3d037536",
    "outputId": "1071db1a-ac17-4619-fb7f-eaf8031c90c5",
    "scrolled": true
   },
   "outputs": [
    {
     "data": {
      "text/plain": [
       "<matplotlib.axes._subplots.AxesSubplot at 0x7f8ec4be6cd0>"
      ]
     },
     "execution_count": 21,
     "metadata": {},
     "output_type": "execute_result"
    },
    {
     "data": {
      "image/png": "[encoded data removed]",
      "text/plain": [
       "<Figure size 432x288 with 1 Axes>"
      ]
     },
     "metadata": {
      "needs_background": "light"
     },
     "output_type": "display_data"
    }
   ],
   "source": [
    "sns.countplot(x='grade', data=df_loan, hue='ever_deliq')"
   ]
  },
  {
   "cell_type": "markdown",
   "id": "fd49e8e8",
   "metadata": {
    "id": "fd49e8e8"
   },
   "source": [
    "Berdasarkan grafik di atas terlihat fitur ```ever_deliq``` bahwa di ```grade``` A, B, dan C member yang tidak pernah _delinquency_ relatif lebih banyak dibandingkan member yang _delinquency_. Keadaann sebaliknya pada ```grade``` D, E, F, dan G, yaitu member yang pernah _delinquency_ relatif lebih banyak dibandingan yang tidak pernah. Hal ini menunjukkan fitur hasil rekayasa fitur ```ever_deliq``` dapat dijadikan salah satu fitur dalam pemodelan.\n"
   ]
  },
  {
   "cell_type": "code",
   "execution_count": 22,
   "id": "7881569a",
   "metadata": {
    "id": "7881569a"
   },
   "outputs": [],
   "source": [
    "df_loan.revol_util.value_counts()\n",
    "df_loan.revol_util.fillna(0, inplace=True)"
   ]
  },
  {
   "cell_type": "code",
   "execution_count": 23,
   "id": "M7A770V9XYNC",
   "metadata": {
    "colab": {
     "base_uri": "https://localhost:8080/"
    },
    "id": "M7A770V9XYNC",
    "outputId": "471180f4-0c1c-44db-bbb8-b54ac9bae2be"
   },
   "outputs": [
    {
     "data": {
      "text/plain": [
       "id                                  0\n",
       "member_id                           0\n",
       "loan_amnt                           0\n",
       "funded_amnt                         0\n",
       "funded_amnt_inv                     0\n",
       "term                                0\n",
       "int_rate                            0\n",
       "installment                         0\n",
       "grade                               0\n",
       "emp_length                          0\n",
       "home_ownership                      0\n",
       "annual_inc                          0\n",
       "verification_status                 0\n",
       "loan_status                         0\n",
       "purpose                             0\n",
       "dti                                 0\n",
       "delinq_2yrs                         0\n",
       "inq_last_6mths                      0\n",
       "mths_since_last_record         403647\n",
       "open_acc                            0\n",
       "pub_rec                             0\n",
       "revol_bal                           0\n",
       "revol_util                          0\n",
       "total_acc                           0\n",
       "initial_list_status                 0\n",
       "out_prncp                           0\n",
       "out_prncp_inv                       0\n",
       "total_pymnt                         0\n",
       "total_pymnt_inv                     0\n",
       "total_rec_prncp                     0\n",
       "total_rec_int                       0\n",
       "total_rec_late_fee                  0\n",
       "recoveries                          0\n",
       "collection_recovery_fee             0\n",
       "collections_12_mths_ex_med        145\n",
       "mths_since_last_major_derog    367311\n",
       "acc_now_delinq                      0\n",
       "tot_coll_amt                    70276\n",
       "tot_cur_bal                     70276\n",
       "total_rev_hi_lim                70276\n",
       "first_cr                            0\n",
       "ever_deliq                          0\n",
       "dtype: int64"
      ]
     },
     "execution_count": 23,
     "metadata": {},
     "output_type": "execute_result"
    }
   ],
   "source": [
    "df_loan.isna().sum()"
   ]
  },
  {
   "cell_type": "code",
   "execution_count": 24,
   "id": "LZg6I74ychCD",
   "metadata": {
    "colab": {
     "base_uri": "https://localhost:8080/",
     "height": 1000
    },
    "id": "LZg6I74ychCD",
    "outputId": "27300cc3-ded7-4aa8-d95b-7cff0ba94aaa"
   },
   "outputs": [
    {
     "data": {
      "image/png": "[encoded data removed]",
      "text/plain": [
       "<Figure size 1440x5760 with 36 Axes>"
      ]
     },
     "metadata": {
      "needs_background": "light"
     },
     "output_type": "display_data"
    }
   ],
   "source": [
    "num = [n for n in df_loan.columns if df_loan[n].dtype != 'object']\n",
    "fig, axs = plt.subplots(ncols=3, nrows=12, figsize=(20, 80))\n",
    "\n",
    "for i, num in enumerate(num, 1):\n",
    "    plt.subplot(12, 3, i)\n",
    "    sns.boxplot(x=num, data=df_loan)\n",
    "    plt.xlabel('{}'.format(num), size=14)\n",
    "    plt.tick_params(axis='x', labelsize=14)\n",
    "    plt.tick_params(axis='y', labelsize=14)\n",
    " \n",
    "plt.tight_layout()\n",
    "plt.show()"
   ]
  },
  {
   "cell_type": "markdown",
   "id": "aEIfz6C086uM",
   "metadata": {
    "id": "aEIfz6C086uM"
   },
   "source": [
    "Dari grafik di atas, beberapa kolom memiliki outlier yang ekstrim. Pada umumnya penanganan outlier dilakukan dengan menghapus data-data yang termasuk outlier. Namun, pada data terdapat kolom berisi data yang sangat dominan, misalnya ```pub_rec```. Pada kolom tersebut sebagian besar bernilai 0 dan yang bukan 0 merupakan nilai outlier. Karena memang hanya sedikit orang yang miliki catatan publik yang jelek. Data seperti ini biasanya tidak akan memberikan pengaruh yang signifikan pada pemodelan. Oleh karena itu, kolom yang berisi data-data mirip dengan ```pub_rec``` akan dihapus.\n",
    "\n",
    "Berikut ini beberapa kolom/fitur yang terdiri dari data yang mendominasi\n",
    "- pub_rec\n",
    "- total_rec_late_fee\n",
    "- recoveries\n",
    "- collection_recovery_fee\n",
    "- collections_12_mths_ex_med\n",
    "- acc_now_delinq\n",
    "- mths_since_last_record\n",
    "- mths_since_last_major_derog"
   ]
  },
  {
   "cell_type": "code",
   "execution_count": 25,
   "id": "T6LFBdTZsoHm",
   "metadata": {
    "id": "T6LFBdTZsoHm"
   },
   "outputs": [],
   "source": [
    "df_loan = df_loan.drop(['delinq_2yrs', 'pub_rec', 'total_rec_late_fee', \n",
    "                        'recoveries', 'collection_recovery_fee', 'acc_now_delinq',\n",
    "                        'mths_since_last_major_derog', 'mths_since_last_record', 'collections_12_mths_ex_med'\n",
    "                        ],\n",
    "                  axis=1)"
   ]
  },
  {
   "cell_type": "markdown",
   "id": "huKPNgCgvWZ3",
   "metadata": {
    "id": "huKPNgCgvWZ3"
   },
   "source": [
    "Untuk data outlier yang akan dihapus adalah dari kolom/fitur berikut:\n",
    "\n",
    "- annual_inc\n",
    "- revol_bal\n",
    "- revol_util\n",
    "- tot_coll_amt\n",
    "- tot_cur_bal\n",
    "- total_rev_hi_lim"
   ]
  },
  {
   "cell_type": "code",
   "execution_count": 26,
   "id": "0ezo3jwxYLsL",
   "metadata": {
    "id": "0ezo3jwxYLsL"
   },
   "outputs": [],
   "source": [
    "# mengisi missing value pada kolom/fitur tot_coll_amt, tot_cur_bal, total_rev_hi_lim dengan mediannya\n",
    "df_loan['tot_coll_amt'].fillna(df_loan.tot_coll_amt.median(), inplace=True)\n",
    "df_loan['tot_cur_bal'].fillna(df_loan.tot_cur_bal.median(), inplace=True)\n",
    "df_loan['total_rev_hi_lim'].fillna(df_loan.total_rev_hi_lim.median(), inplace=True)"
   ]
  },
  {
   "cell_type": "code",
   "execution_count": 27,
   "id": "cydfslO7EpM7",
   "metadata": {
    "id": "cydfslO7EpM7"
   },
   "outputs": [],
   "source": [
    "def bool_outlier(col):\n",
    "  q1 = np.quantile(df_loan[col], 0.25)\n",
    "  q3 = np.quantile(df_loan[col], 0.75)\n",
    "  IQR = q3 - q1\n",
    "  return ((df_loan[col]<=q3 + 1.5*IQR) & (df_loan[col] >= q1 - 1.5*IQR))"
   ]
  },
  {
   "cell_type": "code",
   "execution_count": 28,
   "id": "LfSBaM3MFlnx",
   "metadata": {
    "id": "LfSBaM3MFlnx"
   },
   "outputs": [],
   "source": [
    "df_loan = df_loan.loc[(bool_outlier('annual_inc')) & \n",
    "                      (bool_outlier('revol_bal')) & \n",
    "                      (bool_outlier('revol_util')) & \n",
    "                      (bool_outlier('tot_coll_amt')) &\n",
    "                      (bool_outlier('tot_cur_bal')) &\n",
    "                      (bool_outlier('total_rev_hi_lim'))\n",
    "                      ]"
   ]
  },
  {
   "cell_type": "markdown",
   "id": "fd2685a0",
   "metadata": {
    "id": "fd2685a0"
   },
   "source": [
    "## Encoding fitur kategori\n",
    "Fitur kategori yang belum diencode menjadi numerik\n",
    "- term (kategorikal)\n",
    "- grade (ordinal)\n",
    "- emp_length (ordinal)\n",
    "- home_ownership (ordinal)\n",
    "- verification_status (ordinal)\n",
    "- loan_status (ordinal)\n",
    "- purpose (kategorikal)\n",
    "- initial_list_status (ordinal)"
   ]
  },
  {
   "cell_type": "code",
   "execution_count": 29,
   "id": "e474e6b9",
   "metadata": {
    "id": "e474e6b9"
   },
   "outputs": [],
   "source": [
    "df_loan_enc = df_loan.copy()\n",
    "\n",
    "df_loan_enc.loc[df_loan_enc.home_ownership == 'ANY', 'home_ownership'] = 'OTHER'\n",
    "\n",
    "df_loan_enc.loc[(df_loan_enc.loan_status == 'Late (31-120 days)') | \n",
    "            (df_loan_enc.loan_status =='Late (16-30 days)'), 'loan_status'] = 'Late'\n",
    "\n",
    "df_loan_enc.loc[(df_loan_enc.loan_status == 'Does not meet the credit policy. Status:Fully Paid') | \n",
    "            (df_loan_enc.loan_status == 'Does not meet the credit policy. Status:Charged Off'), \n",
    "            'loan_status'] = 'Does not meet the credit policy'"
   ]
  },
  {
   "cell_type": "code",
   "execution_count": 30,
   "id": "642e8a77",
   "metadata": {
    "id": "642e8a77"
   },
   "outputs": [],
   "source": [
    "from sklearn.preprocessing import LabelEncoder, OrdinalEncoder\n",
    "\n",
    "grade_label = LabelEncoder()\n",
    "df_loan_enc['grade'] = grade_label.fit_transform(df_loan_enc.grade)\n",
    "\n",
    "purpose_label = LabelEncoder()\n",
    "df_loan_enc['purpose'] = purpose_label.fit_transform(df_loan_enc.purpose)\n",
    "\n",
    "ord_fea = ['emp_length', 'home_ownership', 'verification_status', 'loan_status']\n",
    "\n",
    "ord_emp = ['< 1 year', '1 year', '2 years', '3 years', '4 years', '5 years',\n",
    "           '6 years', '7 years', '8 years', '9 years', '10+ years']\n",
    "ord_home = ['NONE', 'RENT', 'OTHER', 'MORTGAGE', 'OWN']\n",
    "ord_ver = ['Not Verified', 'Source Verified', 'Verified']\n",
    "ord_loan = ['Does not meet the credit policy', 'Default', 'Charged Off', 'Late',\n",
    "            'In Grace Period', 'Current', 'Fully Paid']\n",
    "ordinal_encoder = OrdinalEncoder(\n",
    "    categories=[ord_emp, ord_home, ord_ver, ord_loan]\n",
    ")\n",
    "df_loan_enc[ord_fea] = ordinal_encoder.fit_transform(df_loan_enc[ord_fea])\n",
    "\n",
    "df_loan_enc = pd.get_dummies(df_loan_enc)"
   ]
  },
  {
   "cell_type": "code",
   "execution_count": 31,
   "id": "5cc64f12",
   "metadata": {
    "colab": {
     "base_uri": "https://localhost:8080/"
    },
    "id": "5cc64f12",
    "outputId": "4df8a564-2a44-42a7-acab-43f17fe7438d"
   },
   "outputs": [
    {
     "name": "stdout",
     "output_type": "stream",
     "text": [
      "<class 'pandas.core.frame.DataFrame'>\n",
      "Int64Index: 357344 entries, 0 to 466284\n",
      "Data columns (total 35 columns):\n",
      " #   Column                 Non-Null Count   Dtype  \n",
      "---  ------                 --------------   -----  \n",
      " 0   id                     357344 non-null  int64  \n",
      " 1   member_id              357344 non-null  int64  \n",
      " 2   loan_amnt              357344 non-null  int64  \n",
      " 3   funded_amnt            357344 non-null  int64  \n",
      " 4   funded_amnt_inv        357344 non-null  float64\n",
      " 5   int_rate               357344 non-null  float64\n",
      " 6   installment            357344 non-null  float64\n",
      " 7   grade                  357344 non-null  int64  \n",
      " 8   emp_length             357344 non-null  float64\n",
      " 9   home_ownership         357344 non-null  float64\n",
      " 10  annual_inc             357344 non-null  float64\n",
      " 11  verification_status    357344 non-null  float64\n",
      " 12  loan_status            357344 non-null  float64\n",
      " 13  purpose                357344 non-null  int64  \n",
      " 14  dti                    357344 non-null  float64\n",
      " 15  inq_last_6mths         357344 non-null  float64\n",
      " 16  open_acc               357344 non-null  float64\n",
      " 17  revol_bal              357344 non-null  int64  \n",
      " 18  revol_util             357344 non-null  float64\n",
      " 19  total_acc              357344 non-null  float64\n",
      " 20  out_prncp              357344 non-null  float64\n",
      " 21  out_prncp_inv          357344 non-null  float64\n",
      " 22  total_pymnt            357344 non-null  float64\n",
      " 23  total_pymnt_inv        357344 non-null  float64\n",
      " 24  total_rec_prncp        357344 non-null  float64\n",
      " 25  total_rec_int          357344 non-null  float64\n",
      " 26  tot_coll_amt           357344 non-null  float64\n",
      " 27  tot_cur_bal            357344 non-null  float64\n",
      " 28  total_rev_hi_lim       357344 non-null  float64\n",
      " 29  first_cr               357344 non-null  int64  \n",
      " 30  ever_deliq             357344 non-null  int64  \n",
      " 31  term_ 36 months        357344 non-null  uint8  \n",
      " 32  term_ 60 months        357344 non-null  uint8  \n",
      " 33  initial_list_status_f  357344 non-null  uint8  \n",
      " 34  initial_list_status_w  357344 non-null  uint8  \n",
      "dtypes: float64(22), int64(9), uint8(4)\n",
      "memory usage: 88.6 MB\n"
     ]
    }
   ],
   "source": [
    "df_loan_enc.info()"
   ]
  },
  {
   "cell_type": "markdown",
   "id": "5f5e6bd5",
   "metadata": {
    "id": "5f5e6bd5"
   },
   "source": [
    "# Pemodelan"
   ]
  },
  {
   "cell_type": "code",
   "execution_count": 53,
   "id": "9475a537",
   "metadata": {
    "id": "9475a537"
   },
   "outputs": [],
   "source": [
    "from sklearn.model_selection import train_test_split, RepeatedStratifiedKFold, cross_val_score\n",
    "from sklearn.metrics import accuracy_score\n",
    "from sklearn.ensemble import RandomForestClassifier, GradientBoostingClassifier\n",
    "import joblib"
   ]
  },
  {
   "cell_type": "code",
   "execution_count": 33,
   "id": "994a5f5f",
   "metadata": {
    "colab": {
     "base_uri": "https://localhost:8080/"
    },
    "id": "994a5f5f",
    "outputId": "3443f3e5-03c5-4811-fc01-942bbe3f8d02"
   },
   "outputs": [
    {
     "data": {
      "text/plain": [
       "(357344, 32)"
      ]
     },
     "execution_count": 33,
     "metadata": {},
     "output_type": "execute_result"
    }
   ],
   "source": [
    "# memisahkan fitur dengan target\n",
    "y = df_loan_enc['grade']\n",
    "X = df_loan_enc.drop(['grade'], axis=1)\n",
    "loan_id = X['id']\n",
    "member_id = X['member_id']\n",
    "X.drop(['id', 'member_id'], axis=1, inplace=True)\n",
    "X.shape"
   ]
  },
  {
   "cell_type": "code",
   "execution_count": 34,
   "id": "e20cc904",
   "metadata": {
    "id": "e20cc904"
   },
   "outputs": [],
   "source": [
    "# memisahkan data train dan test\n",
    "import random\n",
    "# rand_num = random.randint(0, 2*32)\n",
    "rand_num = 200106949\n",
    "X_train, X_test, y_train, y_test = train_test_split(X, y, test_size=0.25, random_state=rand_num)"
   ]
  },
  {
   "cell_type": "code",
   "execution_count": 35,
   "id": "RFOeC2x8uZCP",
   "metadata": {
    "id": "RFOeC2x8uZCP"
   },
   "outputs": [],
   "source": [
    "# Base model\n",
    "rf_clf = RandomForestClassifier(min_samples_split=20, n_jobs=-1, random_state=1)\n",
    "gb_clf = GradientBoostingClassifier(min_samples_split=20, max_leaf_nodes=32, random_state=1)"
   ]
  },
  {
   "cell_type": "code",
   "execution_count": 36,
   "id": "76896411",
   "metadata": {
    "id": "76896411"
   },
   "outputs": [],
   "source": [
    "def evaluate_model (predict):\n",
    "    score = accuracy_score(predict, y_test)\n",
    "    return score"
   ]
  },
  {
   "cell_type": "code",
   "execution_count": 49,
   "id": "EyPCVRRYURTx",
   "metadata": {
    "id": "EyPCVRRYURTx"
   },
   "outputs": [],
   "source": [
    "def cv_model(model, X, y):\n",
    "    cv = RepeatedStratifiedKFold(n_splits=5, n_repeats=2, random_state=1)\n",
    "    scores = cross_val_score(model, X, y, scoring='accuracy', cv=cv, n_jobs=-1, error_score='raise')\n",
    "    return scores"
   ]
  },
  {
   "cell_type": "code",
   "execution_count": 50,
   "id": "QUPjh4E-VXdD",
   "metadata": {
    "colab": {
     "base_uri": "https://localhost:8080/"
    },
    "id": "QUPjh4E-VXdD",
    "outputId": "84d367b4-227b-4ab9-fa5c-b31a4ccbc6c7"
   },
   "outputs": [
    {
     "data": {
      "text/plain": [
       "{'Gradien_Boosting': GradientBoostingClassifier(max_leaf_nodes=32, min_samples_split=20,\n",
       "                            random_state=1),\n",
       " 'Random_Forest': RandomForestClassifier(min_samples_split=20, n_jobs=-1, random_state=1)}"
      ]
     },
     "execution_count": 50,
     "metadata": {},
     "output_type": "execute_result"
    }
   ],
   "source": [
    "models = dict()\n",
    "models['Random_Forest'] = rf_clf\n",
    "models['Gradien_Boosting'] = gb_clf\n",
    "models"
   ]
  },
  {
   "cell_type": "code",
   "execution_count": 54,
   "id": "VTlAAzcWUxJT",
   "metadata": {
    "colab": {
     "base_uri": "https://localhost:8080/",
     "height": 303
    },
    "id": "VTlAAzcWUxJT",
    "outputId": "46e2e748-3b1c-4211-e47e-8cd64f6686e2",
    "scrolled": false
   },
   "outputs": [
    {
     "name": "stdout",
     "output_type": "stream",
     "text": [
      "Random_Forest 0.935 (0.001)\n",
      "Gradien_Boosting 0.960 (0.001)\n"
     ]
    },
    {
     "data": {
      "image/png": "[encoded data removed]",
      "text/plain": [
       "<Figure size 432x288 with 1 Axes>"
      ]
     },
     "metadata": {
      "needs_background": "light"
     },
     "output_type": "display_data"
    }
   ],
   "source": [
    "results, names = list(), list()\n",
    "for name, model in models.items():\n",
    "    scores = cv_model(model, X, y)\n",
    "    results.append(scores)\n",
    "    names.append(name)\n",
    "    print('%s %.3f (%.3f)' % (name, np.mean(scores), np.std(scores)))\n",
    "# plot model performance for comparison\n",
    "# plt.boxplot(results, labels=names, showmeans=True)\n",
    "# plt.show()"
   ]
  },
  {
   "cell_type": "code",
   "execution_count": 65,
   "id": "SCHmhwcszGce",
   "metadata": {
    "colab": {
     "base_uri": "https://localhost:8080/",
     "height": 556
    },
    "id": "SCHmhwcszGce",
    "outputId": "c0a41017-fbe4-411d-ea80-e7842345e883"
   },
   "outputs": [
    {
     "data": {
      "image/png": "[encoded data removed]",
      "text/plain": [
       "<Figure size 864x648 with 1 Axes>"
      ]
     },
     "metadata": {
      "needs_background": "light"
     },
     "output_type": "display_data"
    }
   ],
   "source": [
    "# plot model performance for comparison\n",
    "plt.figure(figsize=(12,9))\n",
    "plt.boxplot(results, labels=names, showmeans=True)\n",
    "plt.ylabel('Accuracy', size=14)\n",
    "plt.xlabel('Model', size=14)\n",
    "plt.show()"
   ]
  },
  {
   "cell_type": "markdown",
   "id": "drgPU99iIqLM",
   "metadata": {
    "id": "drgPU99iIqLM"
   },
   "source": [
    "## Random Forest"
   ]
  },
  {
   "cell_type": "code",
   "execution_count": 37,
   "id": "vRWuPW-MHfxp",
   "metadata": {
    "colab": {
     "base_uri": "https://localhost:8080/"
    },
    "id": "vRWuPW-MHfxp",
    "outputId": "c329b84d-c538-427b-c890-089525086262"
   },
   "outputs": [
    {
     "name": "stdout",
     "output_type": "stream",
     "text": [
      "score 0.9317408435569088\n"
     ]
    }
   ],
   "source": [
    "# # Uncomment di bawah ini untuk fitting data\n",
    "# rf_clf.fit(X_train, y_train)\n",
    "# y_pred_rf = rf_clf.predict(X_test)\n",
    "# print('score %.4f' % evaluate_model(y_pred_rf))"
   ]
  },
  {
   "cell_type": "code",
   "execution_count": 38,
   "id": "LbBCiVnFIwVV",
   "metadata": {
    "colab": {
     "base_uri": "https://localhost:8080/"
    },
    "id": "LbBCiVnFIwVV",
    "outputId": "feb2aad3-3645-45b2-802c-4f063ef67cdb"
   },
   "outputs": [
    {
     "data": {
      "text/plain": [
       "['random_forest.sav']"
      ]
     },
     "execution_count": 38,
     "metadata": {},
     "output_type": "execute_result"
    }
   ],
   "source": [
    "# # Uncomment di bawah ini untuk save model\n",
    "# # Save model\n",
    "# joblib.dump(rf_clf, 'random_forest.sav')"
   ]
  },
  {
   "cell_type": "code",
   "execution_count": 39,
   "id": "sZOvzb5BI2Pf",
   "metadata": {
    "colab": {
     "base_uri": "https://localhost:8080/"
    },
    "id": "sZOvzb5BI2Pf",
    "outputId": "e74771eb-34af-41ac-cd36-d683c31682e8"
   },
   "outputs": [
    {
     "name": "stdout",
     "output_type": "stream",
     "text": [
      "0.9317408435569088\n"
     ]
    }
   ],
   "source": [
    "# load_model\n",
    "random_forest = joblib.load('random_forest.sav')\n",
    "result = random_forest.score(X_test, y_test)\n",
    "print('score %.4f' % result)"
   ]
  },
  {
   "cell_type": "markdown",
   "id": "5mzZSYaFJUIj",
   "metadata": {
    "id": "5mzZSYaFJUIj"
   },
   "source": [
    "## Gradient Boosting"
   ]
  },
  {
   "cell_type": "code",
   "execution_count": 40,
   "id": "llYE41HTBViu",
   "metadata": {
    "colab": {
     "base_uri": "https://localhost:8080/"
    },
    "id": "llYE41HTBViu",
    "outputId": "ba8d5c6a-268f-4729-b15a-61a9b9a03e1e"
   },
   "outputs": [
    {
     "name": "stdout",
     "output_type": "stream",
     "text": [
      "score 0.9317408435569088\n"
     ]
    }
   ],
   "source": [
    "# # Uncomment di bawah ini untuk fitting data\n",
    "# gb_clf.fit(X_train, y_train)\n",
    "# y_pred_gb = gb_clf.predict(X_test)\n",
    "# print('score %.4f' %  evaluate_model(y_pred_gb))"
   ]
  },
  {
   "cell_type": "code",
   "execution_count": 47,
   "id": "sjr2_u-04MSc",
   "metadata": {
    "colab": {
     "base_uri": "https://localhost:8080/"
    },
    "id": "sjr2_u-04MSc",
    "outputId": "850abea0-a0b0-48be-cfe2-561344b0a231"
   },
   "outputs": [
    {
     "data": {
      "text/plain": [
       "['gradient_boosting.sav']"
      ]
     },
     "execution_count": 47,
     "metadata": {},
     "output_type": "execute_result"
    }
   ],
   "source": [
    "# # Uncomment di bawah ini untuk save model\n",
    "# # Save model\n",
    "# joblib.dump(gb_clf, 'gradient_boosting.sav')"
   ]
  },
  {
   "cell_type": "code",
   "execution_count": 48,
   "id": "vJm5GW0b8AcT",
   "metadata": {
    "colab": {
     "base_uri": "https://localhost:8080/"
    },
    "id": "vJm5GW0b8AcT",
    "outputId": "7c459dbe-dffa-4610-d882-c283d1f263b2"
   },
   "outputs": [
    {
     "name": "stdout",
     "output_type": "stream",
     "text": [
      "0.9610011641443539\n"
     ]
    }
   ],
   "source": [
    "# load_model\n",
    "gradient_boosting = joblib.load('gradient_boosting.sav')\n",
    "result = gradient_boosting.score(X_test, y_test)\n",
    "print('score %.4f' % result)"
   ]
  },
  {
   "cell_type": "markdown",
   "id": "8yzIPHq8KGrq",
   "metadata": {
    "id": "8yzIPHq8KGrq"
   },
   "source": [
    "Dari kedua model tersebut, Gradient Boosting classifier terlihat lebih baik dalam memprediksi credit risk daripada Random Forest Classifier. Gradient Boosting Classifier memiliki tingkat akurasi 96,10%.Sedangkan Random Forest Classifier memiliki tingkat akurasi sebesar 93,17%"
   ]
  }
 ],
 "metadata": {
  "accelerator": "TPU",
  "colab": {
   "collapsed_sections": [],
   "name": "Credit_risk.ipynb",
   "provenance": [],
   "toc_visible": true
  },
  "kernelspec": {
   "display_name": "Python 3 (ipykernel)",
   "language": "python",
   "name": "python3"
  },
  "language_info": {
   "codemirror_mode": {
    "name": "ipython",
    "version": 3
   },
   "file_extension": ".py",
   "mimetype": "text/x-python",
   "name": "python",
   "nbconvert_exporter": "python",
   "pygments_lexer": "ipython3",
   "version": "3.10.5"
  }
 },
 "nbformat": 4,
 "nbformat_minor": 5
}
